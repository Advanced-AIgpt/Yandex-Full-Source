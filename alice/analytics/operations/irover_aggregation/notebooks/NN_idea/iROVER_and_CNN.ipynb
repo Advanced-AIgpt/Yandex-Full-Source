{
 "cells": [
  {
   "cell_type": "code",
   "execution_count": 1,
   "metadata": {},
   "outputs": [],
   "source": [
    "import numpy as np\n",
    "import pandas as pd\n",
    "import matplotlib.pyplot as plt\n",
    "%matplotlib inline"
   ]
  },
  {
   "cell_type": "code",
   "execution_count": 3,
   "metadata": {},
   "outputs": [],
   "source": [
    "import yt.wrapper as yt\n",
    "yt.config.set_proxy(\"hahn\")"
   ]
  },
  {
   "cell_type": "code",
   "execution_count": 280,
   "metadata": {},
   "outputs": [],
   "source": [
    "from tqdm import tqdm_notebook\n",
    "from joblib import Parallel,delayed,effective_n_jobs"
   ]
  },
  {
   "cell_type": "code",
   "execution_count": 281,
   "metadata": {},
   "outputs": [],
   "source": [
    "import pymorphy2\n",
    "import nltk"
   ]
  },
  {
   "cell_type": "code",
   "execution_count": 4,
   "metadata": {},
   "outputs": [
    {
     "data": {
      "text/plain": [
       "dict_keys(['yang_assignments_repeat_1', 'mds_key', 'linguists_sugested_text', 'toloka_text', '_other', 'check_in_yang_results', 'toloka_assignments_repeat_5_with_chorus_and_pitch', 'toloka_assignments_repeat_9_selected_workers_with_chorus_and_pitch', 'date', 'number_of_speakers', 'toloka_assignments_repeat_4_with_bend', 'text', 'raw_text_linguists', 'linguists_comment', 'toloka_assignments_repeat_3_with_pitch', 'toloka_number_of_speakers', 'toloka_assignments_repeat_6_with_chorus', 'toloka_assignments_repeat_1', 'toloka_assignments_repeat_7_with_chorus_and_pitch', 'toloka_assignments_repeat_8_selected_workers_with_chorus_and_pitch', 'speech', 'linguists_worker_id', 'toloka_speech', 'mark', 'toloka_assignments_repeat_11_selected_workers_with_pitch', 'toloka_assignments', 'toloka_assignments_repeat_10', 'toloka_assignments_repeat_2_with_pitch', 'audio', 'url'])"
      ]
     },
     "execution_count": 4,
     "metadata": {},
     "output_type": "execute_result"
    }
   ],
   "source": [
    "assistant_table = yt.read_table(\n",
    "    \"//home/voice/edvls/tickets/VA-442_ideal_testsets/assistant_ideal_annotations_2019-02-16__2019-02-25\"\n",
    ")\n",
    "assistant_table = list(assistant_table)\n",
    "assistant_table[0].keys()"
   ]
  },
  {
   "cell_type": "code",
   "execution_count": 5,
   "metadata": {},
   "outputs": [
    {
     "data": {
      "text/plain": [
       "dict_keys(['mds_key', 'linguists_sugested_text', 'toloka_text', 'toloka_assignments_repeat_2_with_chorus_and_pitch', 'spotter_tail_trim', 'toloka_assignments_repeat_4_selected_workers_with_pitch', '_other', 'check_in_yang_results', 'spotter_mds_key', 'date', 'number_of_speakers', 'text', 'downloadUrl', 'toloka_assignments_repeat_3_selected_workers_with_chorus_and_pitch', 'spotter_max_length', 'raw_text_linguists', 'linguists_comment', 'toloka_number_of_speakers', 'mdsFileName', 'toloka_assignments_repeat_1', 'speech', 'linguists_worker_id', 'toloka_speech', 'mark', 'url_in_first_toloka', 'asr_mds_key', 'toloka_assignments', 'audio', 'url', 'initialFileName'])"
      ]
     },
     "execution_count": 5,
     "metadata": {},
     "output_type": "execute_result"
    }
   ],
   "source": [
    "quasar_table = yt.read_table(\n",
    "    \"//home/voice/edvls/tickets/VA-442_ideal_testsets/quasar-general_with_spotter_ideal_annotations_2019-04-18__2019-04-24\"\n",
    ")\n",
    "quasar_table = list(quasar_table)\n",
    "quasar_table[0].keys()"
   ]
  },
  {
   "cell_type": "markdown",
   "metadata": {},
   "source": [
    "## TODO: протестировать след. подход:\n",
    "y = 1, если все предложение совпало или только одно слово заменено знаком вопроса "
   ]
  },
  {
   "cell_type": "code",
   "execution_count": 327,
   "metadata": {},
   "outputs": [
    {
     "data": {
      "text/html": [
       "<div>\n",
       "<style scoped>\n",
       "    .dataframe tbody tr th:only-of-type {\n",
       "        vertical-align: middle;\n",
       "    }\n",
       "\n",
       "    .dataframe tbody tr th {\n",
       "        vertical-align: top;\n",
       "    }\n",
       "\n",
       "    .dataframe thead th {\n",
       "        text-align: right;\n",
       "    }\n",
       "</style>\n",
       "<table border=\"1\" class=\"dataframe\">\n",
       "  <thead>\n",
       "    <tr style=\"text-align: right;\">\n",
       "      <th></th>\n",
       "      <th>assistant</th>\n",
       "      <th>is_right</th>\n",
       "      <th>mark</th>\n",
       "      <th>number_of_speakers</th>\n",
       "      <th>speech</th>\n",
       "      <th>submit_ts</th>\n",
       "      <th>text</th>\n",
       "      <th>worker_id</th>\n",
       "    </tr>\n",
       "  </thead>\n",
       "  <tbody>\n",
       "    <tr>\n",
       "      <th>30299</th>\n",
       "      <td>1</td>\n",
       "      <td>1</td>\n",
       "      <td>TEST</td>\n",
       "      <td>one</td>\n",
       "      <td>OK_one_speaker</td>\n",
       "      <td>1568947551028</td>\n",
       "      <td>найди мне фотографию шмотова леонида</td>\n",
       "      <td>05616ccdbce241371a9bad9171d9134d</td>\n",
       "    </tr>\n",
       "    <tr>\n",
       "      <th>58365</th>\n",
       "      <td>1</td>\n",
       "      <td>0</td>\n",
       "      <td>TRAIN</td>\n",
       "      <td>one</td>\n",
       "      <td>OK_one_speaker</td>\n",
       "      <td>1568963825288</td>\n",
       "      <td>а ты спать на будешь</td>\n",
       "      <td>a11e4da437787d817a2b5851f068bd95</td>\n",
       "    </tr>\n",
       "    <tr>\n",
       "      <th>65125</th>\n",
       "      <td>1</td>\n",
       "      <td>1</td>\n",
       "      <td>TRAIN</td>\n",
       "      <td>None</td>\n",
       "      <td>BAD</td>\n",
       "      <td>1568958112363</td>\n",
       "      <td></td>\n",
       "      <td>ba1a1e2fa25e12cf624fcd9a020768e9</td>\n",
       "    </tr>\n",
       "    <tr>\n",
       "      <th>82877</th>\n",
       "      <td>0</td>\n",
       "      <td>1</td>\n",
       "      <td>TRAIN</td>\n",
       "      <td>one</td>\n",
       "      <td>OK_one_speaker</td>\n",
       "      <td>1568736572402</td>\n",
       "      <td>алиса погода</td>\n",
       "      <td>4630687e515265b691e57f2d03831a29</td>\n",
       "    </tr>\n",
       "    <tr>\n",
       "      <th>95840</th>\n",
       "      <td>0</td>\n",
       "      <td>1</td>\n",
       "      <td>TEST</td>\n",
       "      <td>one</td>\n",
       "      <td>OK_one_speaker</td>\n",
       "      <td>1568742437498</td>\n",
       "      <td>алиса алиса продолжить слушать</td>\n",
       "      <td>f553952d6837dbd335a3309dbe018924</td>\n",
       "    </tr>\n",
       "  </tbody>\n",
       "</table>\n",
       "</div>"
      ],
      "text/plain": [
       "       assistant  is_right   mark number_of_speakers          speech  \\\n",
       "30299          1         1   TEST                one  OK_one_speaker   \n",
       "58365          1         0  TRAIN                one  OK_one_speaker   \n",
       "65125          1         1  TRAIN               None             BAD   \n",
       "82877          0         1  TRAIN                one  OK_one_speaker   \n",
       "95840          0         1   TEST                one  OK_one_speaker   \n",
       "\n",
       "           submit_ts                                  text  \\\n",
       "30299  1568947551028  найди мне фотографию шмотова леонида   \n",
       "58365  1568963825288                  а ты спать на будешь   \n",
       "65125  1568958112363                                         \n",
       "82877  1568736572402                          алиса погода   \n",
       "95840  1568742437498        алиса алиса продолжить слушать   \n",
       "\n",
       "                              worker_id  \n",
       "30299  05616ccdbce241371a9bad9171d9134d  \n",
       "58365  a11e4da437787d817a2b5851f068bd95  \n",
       "65125  ba1a1e2fa25e12cf624fcd9a020768e9  \n",
       "82877  4630687e515265b691e57f2d03831a29  \n",
       "95840  f553952d6837dbd335a3309dbe018924  "
      ]
     },
     "execution_count": 327,
     "metadata": {},
     "output_type": "execute_result"
    }
   ],
   "source": [
    "data = []\n",
    "data_with_spell_corr = []\n",
    "for row in assistant_table:\n",
    "    for assignment in row['toloka_assignments_repeat_11_selected_workers_with_pitch']:\n",
    "        new_row = dict()\n",
    "        for key in ('speech', 'submit_ts', 'text', 'number_of_speakers', 'worker_id'):\n",
    "            new_row[key] = assignment[key]\n",
    "        new_row['is_right'] = 1 if row['text'] == assignment['text'] else 0\n",
    "        new_row['mark'] = row['mark']\n",
    "        new_row['assistant'] = 1\n",
    "        data.append(new_row)\n",
    "        data_with_spell_corr.append(new_row.copy())\n",
    "for row in quasar_table:\n",
    "    for assignment in row['toloka_assignments_repeat_4_selected_workers_with_pitch']:\n",
    "        new_row = dict()\n",
    "        for key in ('speech', 'submit_ts', 'text', 'number_of_speakers', 'worker_id'):\n",
    "            new_row[key] = assignment[key]\n",
    "        new_row['is_right'] = 1 if row['text'] == assignment['text'] else 0\n",
    "        new_row['mark'] = row['mark']\n",
    "        new_row['assistant'] = 0\n",
    "        data.append(new_row)\n",
    "        data_with_spell_corr.append(new_row.copy())\n",
    "data = pd.DataFrame(data)\n",
    "data_with_spell_corr = pd.DataFrame(data_with_spell_corr)\n",
    "data.sample(5)"
   ]
  },
  {
   "cell_type": "code",
   "execution_count": 88,
   "metadata": {},
   "outputs": [],
   "source": [
    "categorical_columns = ['assistant', 'number_of_speakers', 'speech', 'worker_id']\n",
    "target_column = 'is_right'"
   ]
  },
  {
   "cell_type": "code",
   "execution_count": 194,
   "metadata": {},
   "outputs": [],
   "source": [
    "data[categorical_columns] = data[categorical_columns].fillna('NaN')"
   ]
  },
  {
   "cell_type": "code",
   "execution_count": 282,
   "metadata": {},
   "outputs": [],
   "source": [
    "import requests\n",
    "from requests.adapters import HTTPAdapter\n",
    "from requests.packages.urllib3.util.retry import Retry\n",
    "\n",
    "def fix_misspellings(text):\n",
    "    headers = {\n",
    "        'Connection': 'close'\n",
    "    }\n",
    "    params={\n",
    "        'text':text,\n",
    "        'lang':'ru',\n",
    "        'options':'512',\n",
    "    }\n",
    "    s = requests.Session()\n",
    "    retries = Retry(total=10, backoff_factor=1, status_forcelist=[ 502, 503, 504 ])\n",
    "    s.mount('http://', HTTPAdapter(max_retries=retries))\n",
    "    try:\n",
    "        resp=s.get('https://speller.yandex.net/services/spellservice.json/checkText',params=params,headers=headers)\n",
    "        resp=resp.json()\n",
    "    except ValueError:\n",
    "        print(resp)\n",
    "    if not resp:\n",
    "        return text\n",
    "    first_pos=0\n",
    "    new_text=[]\n",
    "    for fix in resp:\n",
    "        new_text.append(text[first_pos:fix['pos']].strip())\n",
    "        new_text.append(fix['s'][0].strip())\n",
    "        first_pos=fix['pos']+fix['len']\n",
    "    new_text.append(text[first_pos:].strip())\n",
    "    return ' '.join(new_text).strip()"
   ]
  },
  {
   "cell_type": "code",
   "execution_count": 310,
   "metadata": {},
   "outputs": [],
   "source": [
    "def process_entry(entry):\n",
    "    new_entry = entry\n",
    "    new_entry['text']=fix_misspellings(new_entry['text'].lower().replace('ё', 'е'))\n",
    "    return new_entry"
   ]
  },
  {
   "cell_type": "code",
   "execution_count": 315,
   "metadata": {
    "scrolled": true
   },
   "outputs": [],
   "source": [
    "out = [process_entry(row) for i, row in data.iterrows() if i < 10]"
   ]
  },
  {
   "cell_type": "code",
   "execution_count": 330,
   "metadata": {},
   "outputs": [
    {
     "data": {
      "application/vnd.jupyter.widget-view+json": {
       "model_id": "e4c26ea2bf224035b61cfbdb5602cd10",
       "version_major": 2,
       "version_minor": 0
      },
      "text/plain": [
       "HBox(children=(IntProgress(value=1, bar_style='info', max=1), HTML(value='')))"
      ]
     },
     "metadata": {},
     "output_type": "display_data"
    },
    {
     "name": "stdout",
     "output_type": "stream",
     "text": [
      "\n"
     ]
    }
   ],
   "source": [
    "data_with_spell_corr = pd.DataFrame(Parallel(n_jobs=effective_n_jobs(),\n",
    "                                           batch_size=10)(delayed(process_entry)(entry) \n",
    "                                                                             for i, entry in tqdm_notebook(data_with_spell_corr.iterrows())))"
   ]
  },
  {
   "cell_type": "code",
   "execution_count": 332,
   "metadata": {},
   "outputs": [],
   "source": [
    "tokenizer = nltk.tokenize.WordPunctTokenizer()\n",
    "morph = pymorphy2.MorphAnalyzer()\n",
    "\n",
    "data['text'] = data['text'].apply(lambda x: ' '.join(tokenizer.tokenize(x.lower())))\n",
    "data['text'] = data['text'].apply(lambda x: ' '.join([morph.parse(word)[0].normal_form for word in x.split()]))\n",
    "\n",
    "data_with_spell_corr['text'] = data_with_spell_corr['text'].apply(lambda x: ' '.join(tokenizer.tokenize(x.lower())))\n",
    "data_with_spell_corr['text'] = data_with_spell_corr['text'].apply(lambda x: ' '.join([morph.parse(word)[0].normal_form for word in x.split()]))"
   ]
  },
  {
   "cell_type": "code",
   "execution_count": 333,
   "metadata": {},
   "outputs": [
    {
     "name": "stdout",
     "output_type": "stream",
     "text": [
      "Tokenized:\n"
     ]
    },
    {
     "data": {
      "text/plain": [
       "2                                  \n",
       "30002                              \n",
       "60002                   купить слон\n",
       "90002                    алиса стоп\n",
       "120002    алиса выключить будильник\n",
       "Name: text, dtype: object"
      ]
     },
     "execution_count": 333,
     "metadata": {},
     "output_type": "execute_result"
    }
   ],
   "source": [
    "print(\"Tokenized:\")\n",
    "data[\"text\"][2::30000]"
   ]
  },
  {
   "cell_type": "code",
   "execution_count": 334,
   "metadata": {},
   "outputs": [
    {
     "name": "stdout",
     "output_type": "stream",
     "text": [
      "Fixed and tokenized:\n"
     ]
    },
    {
     "data": {
      "text/plain": [
       "3                                  \n",
       "30003                              \n",
       "60003                   купить слон\n",
       "90003                    алиса стоп\n",
       "120003    алиса выключить будильник\n",
       "Name: text, dtype: object"
      ]
     },
     "execution_count": 334,
     "metadata": {},
     "output_type": "execute_result"
    }
   ],
   "source": [
    "print(\"Fixed and tokenized:\")\n",
    "data_with_spell_corr[\"text\"][3::30000]"
   ]
  },
  {
   "cell_type": "code",
   "execution_count": 53,
   "metadata": {},
   "outputs": [],
   "source": [
    "# Count how many times does each token occur in \"title\" in total\n",
    "# build a dictionary { token -> its count }\n",
    "from collections import Counter\n",
    "\n",
    "token_counts = Counter()\n",
    "for row in data.text:\n",
    "    for word in row.split():\n",
    "        token_counts[word] += 1"
   ]
  },
  {
   "cell_type": "code",
   "execution_count": 335,
   "metadata": {},
   "outputs": [],
   "source": [
    "token_counts_with_spell_corr = Counter()\n",
    "for row in data_with_spell_corr.text:\n",
    "    for word in row.split():\n",
    "        token_counts_with_spell_corr[word] += 1"
   ]
  },
  {
   "cell_type": "code",
   "execution_count": 54,
   "metadata": {},
   "outputs": [
    {
     "name": "stdout",
     "output_type": "stream",
     "text": [
      "Total unique tokens : 12754\n",
      "('алиса', 67437)\n",
      "('включить', 15714)\n",
      "('я', 11367)\n",
      "('ты', 10891)\n",
      "('?', 9608)\n",
      "...\n",
      "('семдесить', 1)\n",
      "('влючаять', 1)\n",
      "('профонация', 1)\n"
     ]
    }
   ],
   "source": [
    "print(\"Total unique tokens :\", len(token_counts))\n",
    "print('\\n'.join(map(str, token_counts.most_common(n=5))))\n",
    "print('...')\n",
    "print('\\n'.join(map(str, token_counts.most_common()[-3:])))"
   ]
  },
  {
   "cell_type": "code",
   "execution_count": 336,
   "metadata": {},
   "outputs": [
    {
     "name": "stdout",
     "output_type": "stream",
     "text": [
      "Total unique tokens : 10568\n",
      "('алиса', 67460)\n",
      "('включить', 15741)\n",
      "('я', 11370)\n",
      "('ты', 10892)\n",
      "('?', 9708)\n",
      "...\n",
      "('поддевать', 1)\n",
      "('moove', 1)\n",
      "('gull', 1)\n"
     ]
    }
   ],
   "source": [
    "print(\"Total unique tokens :\", len(token_counts_with_spell_corr))\n",
    "print('\\n'.join(map(str, token_counts_with_spell_corr.most_common(n=5))))\n",
    "print('...')\n",
    "print('\\n'.join(map(str, token_counts_with_spell_corr.most_common()[-3:])))"
   ]
  },
  {
   "cell_type": "code",
   "execution_count": 55,
   "metadata": {},
   "outputs": [
    {
     "data": {
      "image/png": "[encoded data removed]",
      "text/plain": [
       "<Figure size 432x288 with 1 Axes>"
      ]
     },
     "metadata": {
      "needs_background": "light"
     },
     "output_type": "display_data"
    }
   ],
   "source": [
    "# Let's see how many words are there for each count\n",
    "plt.hist(list(token_counts.values()), range=[0, 10**4], bins=50, log=True)\n",
    "plt.xlabel(\"Word counts\");"
   ]
  },
  {
   "cell_type": "code",
   "execution_count": 339,
   "metadata": {},
   "outputs": [],
   "source": [
    "min_count = 2\n",
    "\n",
    "# tokens from token_counts keys that had at least min_count occurrences throughout the dataset\n",
    "tokens = [key for key, value in token_counts.items() if value >= min_count]"
   ]
  },
  {
   "cell_type": "code",
   "execution_count": 340,
   "metadata": {},
   "outputs": [],
   "source": [
    "tokens_with_spell_corr = [key for key, value in token_counts_with_spell_corr.items() if value >= min_count]"
   ]
  },
  {
   "cell_type": "code",
   "execution_count": 65,
   "metadata": {},
   "outputs": [
    {
     "name": "stdout",
     "output_type": "stream",
     "text": [
      "Vocabulary size: 8431\n",
      "Correct!\n"
     ]
    }
   ],
   "source": [
    "# Add a special tokens for unknown and empty words\n",
    "UNK, PAD = \"?\", \"PAD\"\n",
    "tokens = [PAD] + sorted(tokens)\n",
    "print(\"Vocabulary size:\", len(tokens))\n",
    "\n",
    "assert type(tokens) == list\n",
    "assert UNK in tokens\n",
    "print(\"Correct!\")"
   ]
  },
  {
   "cell_type": "code",
   "execution_count": 341,
   "metadata": {},
   "outputs": [
    {
     "name": "stdout",
     "output_type": "stream",
     "text": [
      "Vocabulary size: 8125\n",
      "Correct!\n"
     ]
    }
   ],
   "source": [
    "# Add a special tokens for unknown and empty words\n",
    "UNK, PAD = \"?\", \"PAD\"\n",
    "tokens_with_spell_corr = [PAD] + sorted(tokens_with_spell_corr)\n",
    "print(\"Vocabulary size:\", len(tokens_with_spell_corr))\n",
    "\n",
    "assert type(tokens_with_spell_corr) == list\n",
    "assert UNK in tokens_with_spell_corr\n",
    "print(\"Correct!\")"
   ]
  },
  {
   "cell_type": "code",
   "execution_count": 66,
   "metadata": {},
   "outputs": [
    {
     "name": "stdout",
     "output_type": "stream",
     "text": [
      "Correct!\n"
     ]
    }
   ],
   "source": [
    "token_to_id = {token: index for index, token in enumerate(tokens)}\n",
    "assert isinstance(token_to_id, dict)\n",
    "assert len(token_to_id) == len(tokens)\n",
    "for tok in tokens:\n",
    "    assert tokens[token_to_id[tok]] == tok\n",
    "\n",
    "print(\"Correct!\")"
   ]
  },
  {
   "cell_type": "code",
   "execution_count": 221,
   "metadata": {},
   "outputs": [],
   "source": [
    "UNK_IX, PAD_IX = map(token_to_id.get, [UNK, PAD])\n",
    "\n",
    "def as_matrix(sequences, max_len=None):\n",
    "    \"\"\" Convert a list of tokens into a matrix with padding \"\"\"\n",
    "    if isinstance(sequences[0], str):\n",
    "        sequences = list(map(str.split, sequences))\n",
    "        \n",
    "    max_len = min(max(map(len, sequences)), max_len or float('inf'))\n",
    "#     max_len = 287\n",
    "    \n",
    "    matrix = np.full((len(sequences), max_len), np.int32(PAD_IX))\n",
    "    for i, seq in enumerate(sequences):\n",
    "        row_ix = [token_to_id.get(word, UNK_IX) for word in seq[:max_len]]\n",
    "        matrix[i, :len(row_ix)] = row_ix\n",
    "    \n",
    "    return matrix"
   ]
  },
  {
   "cell_type": "code",
   "execution_count": 197,
   "metadata": {},
   "outputs": [
    {
     "name": "stdout",
     "output_type": "stream",
     "text": [
      "Lines:\n",
      "\n",
      "\n",
      "купить слон\n",
      "алиса стоп\n",
      "алиса выключить будильник\n",
      "\n",
      "Matrix:\n",
      "[[   0    0    0]\n",
      " [   0    0    0]\n",
      " [3786 6802    0]\n",
      " [1074 7082    0]\n",
      " [1074 2035 1572]]\n"
     ]
    }
   ],
   "source": [
    "print(\"Lines:\")\n",
    "print('\\n'.join(data[\"text\"][::30000].values), end='\\n\\n')\n",
    "print(\"Matrix:\")\n",
    "print(as_matrix(data[\"text\"][::30000]))"
   ]
  },
  {
   "cell_type": "code",
   "execution_count": 72,
   "metadata": {},
   "outputs": [
    {
     "name": "stdout",
     "output_type": "stream",
     "text": [
      "Total unique workers : 318\n",
      "('9acb2529197c9c95d4b76dd386162dff', 2704)\n",
      "('4630687e515265b691e57f2d03831a29', 2641)\n",
      "('b8f74c8c902210e525c156bdb768f704', 1976)\n",
      "('576f30216cefc6149e669b5a4bdb5308', 1976)\n",
      "('3929d7c950991930645617d8b6ae7aa6', 1950)\n",
      "...\n",
      "('487be1e67fe75fa65b824f17ccb110e8', 26)\n",
      "('1ffbf3b8d78711e32b8c3472b2089347', 26)\n",
      "('c1049fa91bf8aac42dab3f08407374f5', 26)\n"
     ]
    }
   ],
   "source": [
    "workers_count = Counter()\n",
    "for worker in data['worker_id']:\n",
    "    workers_count[worker] += 1\n",
    "print(\"Total unique workers :\", len(workers_count))\n",
    "print('\\n'.join(map(str, workers_count.most_common(n=5))))\n",
    "print('...')\n",
    "print('\\n'.join(map(str, workers_count.most_common()[-3:])))"
   ]
  },
  {
   "cell_type": "code",
   "execution_count": 198,
   "metadata": {},
   "outputs": [
    {
     "data": {
      "text/plain": [
       "DictVectorizer(dtype=<class 'numpy.float32'>, separator='=', sort=True,\n",
       "        sparse=False)"
      ]
     },
     "execution_count": 198,
     "metadata": {},
     "output_type": "execute_result"
    }
   ],
   "source": [
    "from sklearn.feature_extraction import DictVectorizer\n",
    "\n",
    "# we only consider top-1k most frequent worker to minimize memory usage\n",
    "top_workers, top_counts = zip(*Counter(data['worker_id']).most_common(3000))\n",
    "recognized_workers = set(top_workers)\n",
    "data['worker_id'] = data['worker_id'].apply(lambda comp: comp if comp in recognized_workers else \"other\")\n",
    "\n",
    "categorical_vectorizer = DictVectorizer(dtype=np.float32, sparse=False)\n",
    "categorical_vectorizer.fit(data[categorical_columns].apply(dict, axis=1))"
   ]
  },
  {
   "cell_type": "code",
   "execution_count": 200,
   "metadata": {},
   "outputs": [
    {
     "data": {
      "text/plain": [
       "((71650, 7), (71370, 7))"
      ]
     },
     "execution_count": 200,
     "metadata": {},
     "output_type": "execute_result"
    }
   ],
   "source": [
    "data_train = data[data['mark'] == 'TRAIN']\n",
    "data_val = data[data['mark'] == 'TEST']\n",
    "data_train = data_train.drop(columns=['mark'])\n",
    "data_val = data_val.drop(columns=['mark'])\n",
    "data_train.shape, data_val.shape"
   ]
  },
  {
   "cell_type": "code",
   "execution_count": 199,
   "metadata": {},
   "outputs": [],
   "source": [
    "def make_batch(data, max_len=None, word_dropout=0):\n",
    "    \"\"\"\n",
    "    Creates a keras-friendly dict from the batch data.\n",
    "    :param word_dropout: replaces token index with UNK_IX with this probability\n",
    "    :returns: a dict with {'text' : int64[batch, t_max_len]\n",
    "    \"\"\"\n",
    "    batch = {}\n",
    "    batch[\"text\"] = as_matrix(data[\"text\"].values, max_len)\n",
    "    batch['Categorical'] = categorical_vectorizer.transform(data[categorical_columns].apply(dict, axis=1))\n",
    "    \n",
    "    if word_dropout != 0:\n",
    "        batch[\"text\"] = apply_word_dropout(batch[\"text\"], 1. - word_dropout)\n",
    "    \n",
    "    if target_column in data.columns:\n",
    "        batch[target_column] = data[target_column].values\n",
    "    \n",
    "    return batch\n",
    "\n",
    "def apply_word_dropout(matrix, keep_prop, replace_with=UNK_IX, pad_ix=PAD_IX,):\n",
    "    dropout_mask = np.random.choice(2, np.shape(matrix), p=[keep_prop, 1 - keep_prop])\n",
    "    dropout_mask &= matrix != pad_ix\n",
    "    return np.choose(dropout_mask, [matrix, np.full_like(matrix, replace_with)])"
   ]
  },
  {
   "cell_type": "code",
   "execution_count": 255,
   "metadata": {},
   "outputs": [
    {
     "data": {
      "text/plain": [
       "{'text': array([[ 944, 7913, 8382, ...,    0,    0,    0],\n",
       "        [7913, 8382, 7531, ...,    0,    0,    0],\n",
       "        [7913, 8382, 7531, ...,    0,    0,    0],\n",
       "        ...,\n",
       "        [1074, 3114,    0, ...,    0,    0,    0],\n",
       "        [1074, 3114,    0, ...,    0,    0,    0],\n",
       "        [1074, 3114,    0, ...,    0,    0,    0]], dtype=int32),\n",
       " 'Categorical': array([[1., 0., 0., ..., 0., 0., 0.],\n",
       "        [1., 0., 0., ..., 0., 0., 0.],\n",
       "        [1., 0., 0., ..., 0., 0., 0.],\n",
       "        ...,\n",
       "        [0., 0., 0., ..., 0., 0., 0.],\n",
       "        [0., 0., 0., ..., 0., 0., 0.],\n",
       "        [0., 0., 0., ..., 0., 0., 0.]], dtype=float32),\n",
       " 'is_right': array([0, 1, 1, ..., 1, 1, 1])}"
      ]
     },
     "execution_count": 255,
     "metadata": {},
     "output_type": "execute_result"
    }
   ],
   "source": [
    "make_batch(data_train[:-3], max_len=20)"
   ]
  },
  {
   "cell_type": "code",
   "execution_count": 109,
   "metadata": {},
   "outputs": [],
   "source": [
    "import keras\n",
    "import keras.layers as L\n",
    "import tensorflow as tf\n",
    "from sklearn.metrics import roc_auc_score"
   ]
  },
  {
   "cell_type": "code",
   "execution_count": 264,
   "metadata": {},
   "outputs": [],
   "source": [
    "def reset_tf_session():\n",
    "    curr_session = tf.get_default_session()\n",
    "    if curr_session is not None:\n",
    "        curr_session.close()\n",
    "    K.clear_session()\n",
    "    config = tf.ConfigProto()\n",
    "    config.gpu_options.allow_growth = True\n",
    "    s = tf.InteractiveSession(config=config)\n",
    "    K.set_session(s)\n",
    "    return s"
   ]
  },
  {
   "cell_type": "code",
   "execution_count": 110,
   "metadata": {},
   "outputs": [],
   "source": [
    "def roc_auc(y_true, y_pred):\n",
    "    return tf.py_func(roc_auc_score, (y_true, y_pred), tf.double)"
   ]
  },
  {
   "cell_type": "code",
   "execution_count": 266,
   "metadata": {},
   "outputs": [],
   "source": [
    "def build_model(n_tokens=len(tokens), n_cat_features=len(categorical_vectorizer.vocabulary_)):\n",
    "    \"\"\" Build a model that maps three data sources to a single linear output: predicted is_right\"\"\"\n",
    "    \n",
    "    l_text = L.Input(shape=[None], name=\"text\")\n",
    "    l_categ = L.Input(shape=[n_cat_features], name=\"Categorical\")\n",
    "    \n",
    "    l_text_embedding = L.Embedding(input_dim=len(tokens), output_dim=80, input_length=7)(l_text)\n",
    "    l_text_conv = L.Conv1D(128, 3)(l_text_embedding)\n",
    "    l_text_act = L.Activation(\"relu\")(l_text_conv)\n",
    "    l_text_pool = L.GlobalMaxPool1D()(l_text_act)\n",
    "    l_text_pool_act = L.Activation(\"relu\")(l_text_pool)\n",
    "    \n",
    "    l_text_embedding_2 = L.Embedding(input_dim=len(tokens), output_dim=40,  input_length=10)(l_text)\n",
    "    l_text_conv_2 = L.Conv1D(128, 5)(l_text_embedding_2)\n",
    "    l_text_act_2 = L.Activation(\"relu\")(l_text_conv_2)\n",
    "    l_text_pool_2 = L.GlobalMaxPool1D()(l_text_act_2)\n",
    "    l_text_pool_act_2 = L.Activation(\"relu\")(l_text_pool_2)\n",
    "    \n",
    "    merged = L.Concatenate()([l_text_pool_act, l_text_pool_act_2])\n",
    "    merged_normed = L.BatchNormalization()(merged)\n",
    "    \n",
    "    preout = L.Dense(128)(L.Activation(\"relu\")(merged_normed))\n",
    "    \n",
    "    output_layer = L.Dense(1)(L.Activation(\"softmax\")(L.Dense(128)(L.Activation(\"relu\")(preout))))\n",
    "    \n",
    "    model = keras.models.Model(inputs=[l_text, l_categ], outputs=[output_layer])\n",
    "    model.compile('adam', 'binary_crossentropy', metrics=['binary_crossentropy', 'binary_accuracy', roc_auc])\n",
    "    return model"
   ]
  },
  {
   "cell_type": "code",
   "execution_count": 269,
   "metadata": {},
   "outputs": [
    {
     "name": "stdout",
     "output_type": "stream",
     "text": [
      "__________________________________________________________________________________________________\n",
      "Layer (type)                    Output Shape         Param #     Connected to                     \n",
      "==================================================================================================\n",
      "text (InputLayer)               (None, None)         0                                            \n",
      "__________________________________________________________________________________________________\n",
      "embedding_1 (Embedding)         (None, 7, 80)        674480      text[0][0]                       \n",
      "__________________________________________________________________________________________________\n",
      "embedding_2 (Embedding)         (None, 10, 40)       337240      text[0][0]                       \n",
      "__________________________________________________________________________________________________\n",
      "conv1d_1 (Conv1D)               (None, 5, 128)       30848       embedding_1[0][0]                \n",
      "__________________________________________________________________________________________________\n",
      "conv1d_2 (Conv1D)               (None, 6, 128)       25728       embedding_2[0][0]                \n",
      "__________________________________________________________________________________________________\n",
      "activation_1 (Activation)       (None, 5, 128)       0           conv1d_1[0][0]                   \n",
      "__________________________________________________________________________________________________\n",
      "activation_3 (Activation)       (None, 6, 128)       0           conv1d_2[0][0]                   \n",
      "__________________________________________________________________________________________________\n",
      "global_max_pooling1d_1 (GlobalM (None, 128)          0           activation_1[0][0]               \n",
      "__________________________________________________________________________________________________\n",
      "global_max_pooling1d_2 (GlobalM (None, 128)          0           activation_3[0][0]               \n",
      "__________________________________________________________________________________________________\n",
      "activation_2 (Activation)       (None, 128)          0           global_max_pooling1d_1[0][0]     \n",
      "__________________________________________________________________________________________________\n",
      "activation_4 (Activation)       (None, 128)          0           global_max_pooling1d_2[0][0]     \n",
      "__________________________________________________________________________________________________\n",
      "concatenate_1 (Concatenate)     (None, 256)          0           activation_2[0][0]               \n",
      "                                                                 activation_4[0][0]               \n",
      "__________________________________________________________________________________________________\n",
      "batch_normalization_1 (BatchNor (None, 256)          1024        concatenate_1[0][0]              \n",
      "__________________________________________________________________________________________________\n",
      "activation_5 (Activation)       (None, 256)          0           batch_normalization_1[0][0]      \n",
      "__________________________________________________________________________________________________\n",
      "dense_1 (Dense)                 (None, 128)          32896       activation_5[0][0]               \n",
      "__________________________________________________________________________________________________\n",
      "activation_7 (Activation)       (None, 128)          0           dense_1[0][0]                    \n",
      "__________________________________________________________________________________________________\n",
      "dense_3 (Dense)                 (None, 128)          16512       activation_7[0][0]               \n",
      "__________________________________________________________________________________________________\n",
      "activation_6 (Activation)       (None, 128)          0           dense_3[0][0]                    \n",
      "__________________________________________________________________________________________________\n",
      "dense_2 (Dense)                 (None, 1)            129         activation_6[0][0]               \n",
      "==================================================================================================\n",
      "Total params: 1,118,857\n",
      "Trainable params: 1,118,345\n",
      "Non-trainable params: 512\n",
      "__________________________________________________________________________________________________\n"
     ]
    }
   ],
   "source": [
    "s = reset_tf_session()\n",
    "model = build_model()\n",
    "model.summary()\n",
    "\n",
    "dummy_pred = model.predict(make_batch(data_train[:100]))\n",
    "dummy_loss = model.train_on_batch(make_batch(data_train[:100]), data_train['is_right'][:100])[0]\n",
    "assert dummy_pred.shape == (100, 1)\n",
    "assert len(np.unique(dummy_pred)) > 20, \"model returns suspiciously few unique outputs. Check your initialization\"\n",
    "assert np.ndim(dummy_loss) == 0 and 0. <= dummy_loss <= 250., \"make sure you minimize MSE\""
   ]
  },
  {
   "cell_type": "code",
   "execution_count": 250,
   "metadata": {},
   "outputs": [],
   "source": [
    "def iterate_minibatches(data, batch_size=256, shuffle=True, cycle=False, **kwargs):\n",
    "    \"\"\" iterates minibatches of data in random order \"\"\"\n",
    "    while True:\n",
    "        indices = np.arange(len(data))\n",
    "        if shuffle:\n",
    "            indices = np.random.permutation(indices)\n",
    "\n",
    "        for start in range(0, len(indices), batch_size):\n",
    "            batch = make_batch(data.iloc[indices[start : start + batch_size]], **kwargs)\n",
    "            target = batch.pop(target_column)\n",
    "            yield batch, target\n",
    "        \n",
    "        if not cycle: break"
   ]
  },
  {
   "cell_type": "code",
   "execution_count": 160,
   "metadata": {},
   "outputs": [],
   "source": [
    "from keras.callbacks import TensorBoard\n",
    "\n",
    "tensorboard = TensorBoard(log_dir='./logs', histogram_freq=0,\n",
    "                          write_graph=True, write_images=False)"
   ]
  },
  {
   "cell_type": "code",
   "execution_count": 268,
   "metadata": {},
   "outputs": [],
   "source": [
    "import keras.backend as K\n",
    "K.clear_session()"
   ]
  },
  {
   "cell_type": "code",
   "execution_count": 270,
   "metadata": {},
   "outputs": [
    {
     "name": "stdout",
     "output_type": "stream",
     "text": [
      "Epoch 1/20\n",
      "40/40 [==============================] - 21s 514ms/step - loss: 1.6216 - binary_crossentropy: 1.6216 - binary_accuracy: 0.2859 - roc_auc: 0.4918 - val_loss: 1.0701 - val_binary_crossentropy: 1.0701 - val_binary_accuracy: 0.2870 - val_roc_auc: 0.5625\n",
      "Epoch 2/20\n",
      "40/40 [==============================] - 20s 501ms/step - loss: 1.1093 - binary_crossentropy: 1.1093 - binary_accuracy: 0.2841 - roc_auc: 0.6067 - val_loss: 0.9706 - val_binary_crossentropy: 0.9706 - val_binary_accuracy: 0.2868 - val_roc_auc: 0.5447\n",
      "Epoch 3/20\n",
      "40/40 [==============================] - 20s 502ms/step - loss: 0.9806 - binary_crossentropy: 0.9806 - binary_accuracy: 0.2916 - roc_auc: 0.6311 - val_loss: 0.8493 - val_binary_crossentropy: 0.8493 - val_binary_accuracy: 0.2870 - val_roc_auc: 0.5714\n",
      "Epoch 4/20\n",
      "40/40 [==============================] - 20s 503ms/step - loss: 0.8865 - binary_crossentropy: 0.8865 - binary_accuracy: 0.2928 - roc_auc: 0.6739 - val_loss: 0.7642 - val_binary_crossentropy: 0.7642 - val_binary_accuracy: 0.2867 - val_roc_auc: 0.6279\n",
      "Epoch 5/20\n",
      "40/40 [==============================] - 21s 514ms/step - loss: 0.7969 - binary_crossentropy: 0.7969 - binary_accuracy: 0.2952 - roc_auc: 0.7078 - val_loss: 0.6994 - val_binary_crossentropy: 0.6994 - val_binary_accuracy: 0.2873 - val_roc_auc: 0.6914\n",
      "Epoch 6/20\n",
      "40/40 [==============================] - 20s 509ms/step - loss: 0.7102 - binary_crossentropy: 0.7102 - binary_accuracy: 0.4898 - roc_auc: 0.7508 - val_loss: 0.6374 - val_binary_crossentropy: 0.6374 - val_binary_accuracy: 0.7971 - val_roc_auc: 0.7193\n",
      "Epoch 7/20\n",
      "40/40 [==============================] - 20s 512ms/step - loss: 0.6199 - binary_crossentropy: 0.6199 - binary_accuracy: 0.7433 - roc_auc: 0.7809 - val_loss: 0.5879 - val_binary_crossentropy: 0.5879 - val_binary_accuracy: 0.7978 - val_roc_auc: 0.6932\n",
      "Epoch 8/20\n",
      "40/40 [==============================] - 20s 508ms/step - loss: 0.5465 - binary_crossentropy: 0.5465 - binary_accuracy: 0.8365 - roc_auc: 0.8100 - val_loss: 0.5632 - val_binary_crossentropy: 0.5632 - val_binary_accuracy: 0.7989 - val_roc_auc: 0.6993\n",
      "Epoch 9/20\n",
      "40/40 [==============================] - 20s 512ms/step - loss: 0.5123 - binary_crossentropy: 0.5123 - binary_accuracy: 0.8428 - roc_auc: 0.8102 - val_loss: 0.5416 - val_binary_crossentropy: 0.5416 - val_binary_accuracy: 0.7999 - val_roc_auc: 0.7331\n",
      "Epoch 10/20\n",
      "40/40 [==============================] - 20s 512ms/step - loss: 0.4974 - binary_crossentropy: 0.4974 - binary_accuracy: 0.8419 - roc_auc: 0.8045 - val_loss: 0.5156 - val_binary_crossentropy: 0.5156 - val_binary_accuracy: 0.8021 - val_roc_auc: 0.7181\n",
      "Epoch 11/20\n",
      "40/40 [==============================] - 20s 511ms/step - loss: 0.4607 - binary_crossentropy: 0.4607 - binary_accuracy: 0.8539 - roc_auc: 0.8162 - val_loss: 0.5046 - val_binary_crossentropy: 0.5046 - val_binary_accuracy: 0.8031 - val_roc_auc: 0.7477\n",
      "Epoch 12/20\n",
      "40/40 [==============================] - 20s 511ms/step - loss: 0.4331 - binary_crossentropy: 0.4331 - binary_accuracy: 0.8536 - roc_auc: 0.8300 - val_loss: 0.4958 - val_binary_crossentropy: 0.4958 - val_binary_accuracy: 0.8026 - val_roc_auc: 0.7355\n",
      "Epoch 13/20\n",
      "40/40 [==============================] - 20s 509ms/step - loss: 0.4191 - binary_crossentropy: 0.4191 - binary_accuracy: 0.8577 - roc_auc: 0.8249 - val_loss: 0.5041 - val_binary_crossentropy: 0.5041 - val_binary_accuracy: 0.7984 - val_roc_auc: 0.7573\n"
     ]
    },
    {
     "data": {
      "image/png": "[encoded data removed]",
      "text/plain": [
       "<Figure size 432x288 with 1 Axes>"
      ]
     },
     "metadata": {
      "needs_background": "light"
     },
     "output_type": "display_data"
    }
   ],
   "source": [
    "batch_size = 256\n",
    "epochs = 20\n",
    "steps_per_epoch = 40 #(len(data_train) - 1) // batch_size + 1  #for full pass over data: (len(data_train) - 1) // batch_size + 1\n",
    "\n",
    "model = build_model()\n",
    "\n",
    "history = model.fit_generator(iterate_minibatches(data_train, batch_size, cycle=True, word_dropout=0), \n",
    "                              epochs=epochs, steps_per_epoch=steps_per_epoch,\n",
    "                              validation_data=iterate_minibatches(data_val, batch_size, cycle=True),\n",
    "                              validation_steps=data_val.shape[0] // batch_size,\n",
    "                              callbacks=[tensorboard,\n",
    "                                        keras.callbacks.EarlyStopping(monitor='val_loss', patience=1)])\n",
    "\n",
    "plt.plot(history.history['roc_auc'][1:])\n",
    "plt.plot(history.history['val_roc_auc'][1:])\n",
    "plt.title('roc_auc')\n",
    "plt.ylabel('roc_auc')\n",
    "plt.xlabel('Epoch')\n",
    "plt.legend(['Train', 'Test'], loc='upper left')\n",
    "plt.show()"
   ]
  },
  {
   "cell_type": "code",
   "execution_count": 272,
   "metadata": {},
   "outputs": [
    {
     "data": {
      "image/png": "[encoded data removed]",
      "text/plain": [
       "<Figure size 432x288 with 1 Axes>"
      ]
     },
     "metadata": {
      "needs_background": "light"
     },
     "output_type": "display_data"
    }
   ],
   "source": [
    "plt.plot(history.history['binary_crossentropy'][1:])\n",
    "plt.plot(history.history['val_binary_crossentropy'][1:])\n",
    "plt.title('binary_crossentropy')\n",
    "plt.ylabel('binary_crossentropy')\n",
    "plt.xlabel('Epoch')\n",
    "plt.legend(['Train', 'Test'], loc='upper left')\n",
    "plt.show()"
   ]
  },
  {
   "cell_type": "code",
   "execution_count": 258,
   "metadata": {},
   "outputs": [],
   "source": [
    "def explain(model, sample, col_name='text'):\n",
    "    sample = dict(sample)\n",
    "    sample_col_tokens = [tokens[token_to_id.get(tok, 0)] for tok in sample[col_name].split()]\n",
    "    data_drop_one_token = pd.DataFrame([sample] * (len(sample_col_tokens) + 1))\n",
    "\n",
    "    for drop_i in range(len(sample_col_tokens)):\n",
    "        data_drop_one_token.loc[drop_i, col_name] = ' '.join(UNK if i == drop_i else tok\n",
    "                                                   for i, tok in enumerate(sample_col_tokens))\n",
    "\n",
    "    *predictions_drop_one_token, baseline_pred = model.predict(make_batch(data_drop_one_token, max_len=287))[:, 0]\n",
    "    diffs = baseline_pred - predictions_drop_one_token\n",
    "    return list(zip(sample_col_tokens, diffs))"
   ]
  },
  {
   "cell_type": "code",
   "execution_count": 259,
   "metadata": {},
   "outputs": [],
   "source": [
    "from IPython.display import HTML, display_html\n",
    "\n",
    "def draw_html(tokens_and_weights, cmap=plt.get_cmap(\"bwr\"), display=True,\n",
    "              token_template=\"\"\"<span style=\"background-color: {color_hex}\">{token}</span>\"\"\",\n",
    "              font_style=\"font-size:14px;\"\n",
    "             ):\n",
    "    \n",
    "    def get_color_hex(weight):\n",
    "        rgba = cmap(1. / (1 + np.exp(weight)), bytes=True)\n",
    "        return '#%02X%02X%02X' % rgba[:3]\n",
    "    \n",
    "    tokens_html = [\n",
    "        token_template.format(token=token, color_hex=get_color_hex(weight))\n",
    "        for token, weight in tokens_and_weights\n",
    "    ]\n",
    "    \n",
    "    \n",
    "    raw_html = \"\"\"<p style=\"{}\">{}</p>\"\"\".format(font_style, ' '.join(tokens_html))\n",
    "    if display:\n",
    "        display_html(HTML(raw_html))\n",
    "        \n",
    "    return raw_html\n",
    "    "
   ]
  },
  {
   "cell_type": "code",
   "execution_count": 278,
   "metadata": {},
   "outputs": [
    {
     "data": {
      "text/html": [
       "<p style=\"font-size:20px;\"><span style=\"background-color: #0000FF\">ты</span> <span style=\"background-color: #0000FF\">зависнуть</span></p>"
      ]
     },
     "metadata": {},
     "output_type": "display_data"
    }
   ],
   "source": [
    "i = 96450\n",
    "tokens_and_weights = explain(model, data.loc[i], \"text\")\n",
    "draw_html([(tok, weight * 20) for tok, weight in tokens_and_weights], font_style='font-size:20px;');"
   ]
  },
  {
   "cell_type": "code",
   "execution_count": 261,
   "metadata": {},
   "outputs": [
    {
     "data": {
      "text/html": [
       "<div>\n",
       "<style scoped>\n",
       "    .dataframe tbody tr th:only-of-type {\n",
       "        vertical-align: middle;\n",
       "    }\n",
       "\n",
       "    .dataframe tbody tr th {\n",
       "        vertical-align: top;\n",
       "    }\n",
       "\n",
       "    .dataframe thead th {\n",
       "        text-align: right;\n",
       "    }\n",
       "</style>\n",
       "<table border=\"1\" class=\"dataframe\">\n",
       "  <thead>\n",
       "    <tr style=\"text-align: right;\">\n",
       "      <th></th>\n",
       "      <th>assistant</th>\n",
       "      <th>is_right</th>\n",
       "      <th>mark</th>\n",
       "      <th>number_of_speakers</th>\n",
       "      <th>speech</th>\n",
       "      <th>submit_ts</th>\n",
       "      <th>text</th>\n",
       "      <th>worker_id</th>\n",
       "    </tr>\n",
       "  </thead>\n",
       "  <tbody>\n",
       "    <tr>\n",
       "      <th>122264</th>\n",
       "      <td>0</td>\n",
       "      <td>1</td>\n",
       "      <td>TRAIN</td>\n",
       "      <td>one</td>\n",
       "      <td>OK_one_speaker</td>\n",
       "      <td>1568736488432</td>\n",
       "      <td>стоп</td>\n",
       "      <td>62b6186f8b81aa9c5efbb6495536b3d4</td>\n",
       "    </tr>\n",
       "    <tr>\n",
       "      <th>105442</th>\n",
       "      <td>0</td>\n",
       "      <td>1</td>\n",
       "      <td>TEST</td>\n",
       "      <td>one</td>\n",
       "      <td>OK_one_speaker</td>\n",
       "      <td>1568749076461</td>\n",
       "      <td>алиса сколько в русский язык матный слово</td>\n",
       "      <td>ba1a1e2fa25e12cf624fcd9a020768e9</td>\n",
       "    </tr>\n",
       "    <tr>\n",
       "      <th>126521</th>\n",
       "      <td>0</td>\n",
       "      <td>1</td>\n",
       "      <td>TRAIN</td>\n",
       "      <td>one</td>\n",
       "      <td>OK_one_speaker</td>\n",
       "      <td>1568733690687</td>\n",
       "      <td>это же вредный</td>\n",
       "      <td>4d6284b06f643ce7180a7491edc0f612</td>\n",
       "    </tr>\n",
       "    <tr>\n",
       "      <th>111914</th>\n",
       "      <td>0</td>\n",
       "      <td>1</td>\n",
       "      <td>TEST</td>\n",
       "      <td>one</td>\n",
       "      <td>OK_one_speaker</td>\n",
       "      <td>1568743219686</td>\n",
       "      <td>алиса главный меню</td>\n",
       "      <td>9acb2529197c9c95d4b76dd386162dff</td>\n",
       "    </tr>\n",
       "    <tr>\n",
       "      <th>7351</th>\n",
       "      <td>1</td>\n",
       "      <td>0</td>\n",
       "      <td>TEST</td>\n",
       "      <td>one</td>\n",
       "      <td>OK_one_speaker</td>\n",
       "      <td>1568952417311</td>\n",
       "      <td>алиса сказать к что сниться ворон</td>\n",
       "      <td>622e74d469632e64dda1564fd63d2f67</td>\n",
       "    </tr>\n",
       "    <tr>\n",
       "      <th>96450</th>\n",
       "      <td>0</td>\n",
       "      <td>0</td>\n",
       "      <td>TEST</td>\n",
       "      <td>one</td>\n",
       "      <td>OK_one_speaker</td>\n",
       "      <td>1568748280182</td>\n",
       "      <td>ты зависнуть</td>\n",
       "      <td>78e3f83457bc261aa5a0ecb3b1eb4649</td>\n",
       "    </tr>\n",
       "    <tr>\n",
       "      <th>12857</th>\n",
       "      <td>1</td>\n",
       "      <td>0</td>\n",
       "      <td>TRAIN</td>\n",
       "      <td>one</td>\n",
       "      <td>OK_one_speaker</td>\n",
       "      <td>1568961877350</td>\n",
       "      <td>алиса джуна погода</td>\n",
       "      <td>b7d1dc5248c9445d74209d3c97b0e559</td>\n",
       "    </tr>\n",
       "    <tr>\n",
       "      <th>139261</th>\n",
       "      <td>0</td>\n",
       "      <td>1</td>\n",
       "      <td>TEST</td>\n",
       "      <td>one</td>\n",
       "      <td>OK_one_speaker</td>\n",
       "      <td>1568742444546</td>\n",
       "      <td>алиса включить первое видео</td>\n",
       "      <td>59a6ae65d9c937e1d9e57914fbdb815e</td>\n",
       "    </tr>\n",
       "    <tr>\n",
       "      <th>40645</th>\n",
       "      <td>1</td>\n",
       "      <td>1</td>\n",
       "      <td>TRAIN</td>\n",
       "      <td>one</td>\n",
       "      <td>OK_one_speaker</td>\n",
       "      <td>1568965286704</td>\n",
       "      <td>как быть по казахски мумия</td>\n",
       "      <td>100466fad0d62eeb08de41ce631f3acf</td>\n",
       "    </tr>\n",
       "    <tr>\n",
       "      <th>117382</th>\n",
       "      <td>0</td>\n",
       "      <td>1</td>\n",
       "      <td>TEST</td>\n",
       "      <td>one</td>\n",
       "      <td>OK_one_speaker</td>\n",
       "      <td>1568745877103</td>\n",
       "      <td>алиса погода сегодня</td>\n",
       "      <td>affe421f522f3903817238e73ca74af2</td>\n",
       "    </tr>\n",
       "  </tbody>\n",
       "</table>\n",
       "</div>"
      ],
      "text/plain": [
       "        assistant  is_right   mark number_of_speakers          speech  \\\n",
       "122264          0         1  TRAIN                one  OK_one_speaker   \n",
       "105442          0         1   TEST                one  OK_one_speaker   \n",
       "126521          0         1  TRAIN                one  OK_one_speaker   \n",
       "111914          0         1   TEST                one  OK_one_speaker   \n",
       "7351            1         0   TEST                one  OK_one_speaker   \n",
       "96450           0         0   TEST                one  OK_one_speaker   \n",
       "12857           1         0  TRAIN                one  OK_one_speaker   \n",
       "139261          0         1   TEST                one  OK_one_speaker   \n",
       "40645           1         1  TRAIN                one  OK_one_speaker   \n",
       "117382          0         1   TEST                one  OK_one_speaker   \n",
       "\n",
       "            submit_ts                                       text  \\\n",
       "122264  1568736488432                                       стоп   \n",
       "105442  1568749076461  алиса сколько в русский язык матный слово   \n",
       "126521  1568733690687                             это же вредный   \n",
       "111914  1568743219686                         алиса главный меню   \n",
       "7351    1568952417311          алиса сказать к что сниться ворон   \n",
       "96450   1568748280182                               ты зависнуть   \n",
       "12857   1568961877350                         алиса джуна погода   \n",
       "139261  1568742444546                алиса включить первое видео   \n",
       "40645   1568965286704                 как быть по казахски мумия   \n",
       "117382  1568745877103                       алиса погода сегодня   \n",
       "\n",
       "                               worker_id  \n",
       "122264  62b6186f8b81aa9c5efbb6495536b3d4  \n",
       "105442  ba1a1e2fa25e12cf624fcd9a020768e9  \n",
       "126521  4d6284b06f643ce7180a7491edc0f612  \n",
       "111914  9acb2529197c9c95d4b76dd386162dff  \n",
       "7351    622e74d469632e64dda1564fd63d2f67  \n",
       "96450   78e3f83457bc261aa5a0ecb3b1eb4649  \n",
       "12857   b7d1dc5248c9445d74209d3c97b0e559  \n",
       "139261  59a6ae65d9c937e1d9e57914fbdb815e  \n",
       "40645   100466fad0d62eeb08de41ce631f3acf  \n",
       "117382  affe421f522f3903817238e73ca74af2  "
      ]
     },
     "execution_count": 261,
     "metadata": {},
     "output_type": "execute_result"
    }
   ],
   "source": [
    "data[(data.text != '') & (len(data.text) > 30)].sample(10)"
   ]
  },
  {
   "cell_type": "code",
   "execution_count": null,
   "metadata": {},
   "outputs": [],
   "source": []
  }
 ],
 "metadata": {
  "kernelspec": {
   "display_name": "py_36",
   "language": "python",
   "name": "py_36"
  },
  "language_info": {
   "codemirror_mode": {
    "name": "ipython",
    "version": 3
   },
   "file_extension": ".py",
   "mimetype": "text/x-python",
   "name": "python",
   "nbconvert_exporter": "python",
   "pygments_lexer": "ipython3",
   "version": "3.6.3"
  }
 },
 "nbformat": 4,
 "nbformat_minor": 2
}
