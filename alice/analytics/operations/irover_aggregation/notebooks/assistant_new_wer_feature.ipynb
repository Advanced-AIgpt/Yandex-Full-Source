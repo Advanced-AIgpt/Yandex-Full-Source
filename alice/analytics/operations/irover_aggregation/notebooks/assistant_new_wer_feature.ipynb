{
 "cells": [
  {
   "cell_type": "code",
   "execution_count": 1,
   "metadata": {},
   "outputs": [],
   "source": [
    "import pandas as pd\n",
    "import numpy as np\n",
    "\n",
    "from sklearn.preprocessing import OneHotEncoder\n",
    "from sklearn.model_selection import GridSearchCV\n",
    "from catboost import CatBoostClassifier\n",
    "\n",
    "import sys\n",
    "sys.path.append('..')\n",
    "import utils.word_transition_network as wtn_module\n",
    "from utils.rover import RoverVotingScheme\n",
    "from utils.word_transition_network import *\n",
    "\n",
    "from collections import Counter\n",
    "import collections\n",
    "\n",
    "from irover_application.extract_features import Processor"
   ]
  },
  {
   "cell_type": "code",
   "execution_count": 19,
   "metadata": {},
   "outputs": [],
   "source": [
    "import utils.wtn_calc as calc"
   ]
  },
  {
   "cell_type": "code",
   "execution_count": 2,
   "metadata": {},
   "outputs": [],
   "source": [
    "import utils.metrics as utils_metrics"
   ]
  },
  {
   "cell_type": "code",
   "execution_count": 3,
   "metadata": {},
   "outputs": [],
   "source": [
    "import yt.wrapper as yt\n",
    "yt.config.set_proxy(\"hahn\")"
   ]
  },
  {
   "cell_type": "code",
   "execution_count": 4,
   "metadata": {},
   "outputs": [
    {
     "data": {
      "text/plain": [
       "dict_keys(['yang_assignments_repeat_1', 'mds_key', 'linguists_sugested_text', 'toloka_text', '_other', 'check_in_yang_results', 'toloka_assignments_repeat_5_with_chorus_and_pitch', 'toloka_assignments_repeat_9_selected_workers_with_chorus_and_pitch', 'date', 'number_of_speakers', 'toloka_assignments_repeat_4_with_bend', 'text', 'raw_text_linguists', 'linguists_comment', 'toloka_assignments_repeat_3_with_pitch', 'toloka_number_of_speakers', 'toloka_assignments_repeat_6_with_chorus', 'toloka_assignments_repeat_1', 'toloka_assignments_repeat_7_with_chorus_and_pitch', 'toloka_assignments_repeat_8_selected_workers_with_chorus_and_pitch', 'speech', 'linguists_worker_id', 'toloka_speech', 'mark', 'toloka_assignments_repeat_11_selected_workers_with_pitch', 'toloka_assignments', 'toloka_assignments_repeat_10', 'toloka_assignments_repeat_2_with_pitch', 'audio', 'url'])"
      ]
     },
     "execution_count": 4,
     "metadata": {},
     "output_type": "execute_result"
    }
   ],
   "source": [
    "data_table = yt.read_table(\n",
    "    \"//home/voice/edvls/tickets/VA-442_ideal_testsets/assistant_ideal_annotations_2019-02-16__2019-02-25\"\n",
    ")\n",
    "data_table = list(data_table)\n",
    "data_table[0].keys()"
   ]
  },
  {
   "cell_type": "code",
   "execution_count": 5,
   "metadata": {},
   "outputs": [],
   "source": [
    "train_rows = [row for row in data_table if row[\"mark\"] == \"TRAIN\"]\n",
    "test_rows = [row for row in data_table if row[\"mark\"] == \"TEST\"]\n",
    "for row in test_rows:\n",
    "    if 'text' in row:\n",
    "        del row['text']"
   ]
  },
  {
   "cell_type": "code",
   "execution_count": 6,
   "metadata": {},
   "outputs": [],
   "source": [
    "AggregationResult = collections.namedtuple('AggregationResult', 'text confidence cost')"
   ]
  },
  {
   "cell_type": "code",
   "execution_count": 7,
   "metadata": {},
   "outputs": [
    {
     "data": {
      "text/plain": [
       "Context(max_num_answers=10, for_fitting=True, platform='toloka')"
      ]
     },
     "execution_count": 7,
     "metadata": {},
     "output_type": "execute_result"
    }
   ],
   "source": [
    "Context = collections.namedtuple('Context', 'max_num_answers for_fitting platform')\n",
    "context = Context(10, True, 'toloka')\n",
    "context"
   ]
  },
  {
   "cell_type": "code",
   "execution_count": 8,
   "metadata": {},
   "outputs": [],
   "source": [
    "train_proc = Processor(train_rows, context)\n",
    "test_proc = Processor(test_rows, context)\n",
    "\n",
    "for row in train_rows:\n",
    "    value = {'raw_assesments': row['toloka_assignments_repeat_11_selected_workers_with_pitch'],\n",
    "            'inputValues': {'url': row['url']},\n",
    "            'text': row['text']}\n",
    "    train_proc.rows.append(value)\n",
    "\n",
    "for row in test_rows:\n",
    "    value = {'raw_assesments': row['toloka_assignments_repeat_11_selected_workers_with_pitch'],\n",
    "            'inputValues': {'url': row['url']},}\n",
    "    test_proc.rows.append(value)"
   ]
  },
  {
   "cell_type": "code",
   "execution_count": 9,
   "metadata": {},
   "outputs": [],
   "source": [
    "def convert_to_array(features):\n",
    "    X = list()\n",
    "    Y = list()\n",
    "    for task_id, item0 in features.items():\n",
    "        for cost, item1 in item0.items():\n",
    "            for position, item2 in item1.items():\n",
    "                for word, item3 in item2.items():\n",
    "                    x, y = item3\n",
    "                    X.append(np.array(x))\n",
    "                    Y.append(1 if y else -1)\n",
    "    return np.array(X), np.array(Y)"
   ]
  },
  {
   "cell_type": "code",
   "execution_count": 10,
   "metadata": {},
   "outputs": [],
   "source": [
    "def aggregate_prod(raw_data):\n",
    "    \"\"\"\n",
    "       aggregation from prod\n",
    "    \"\"\"\n",
    "    cost = 2\n",
    "    while cost < 5:\n",
    "        cost += 1\n",
    "        answers = [(x[\"text\"], x[\"speech\"]) for x in raw_data[:cost]]\n",
    "        answers = Counter(answers)\n",
    "        if answers.most_common(1)[0][1] >= 3:\n",
    "            break\n",
    "\n",
    "    texts = Counter()\n",
    "    speechs = Counter()\n",
    "    for text, speech in [(x[\"text\"], x[\"speech\"]) for x in raw_data[:cost]]:\n",
    "        if speech != \"BAD\" and text:\n",
    "            text = text.lower().replace('ё', 'е')\n",
    "        else:\n",
    "            text = \"\"\n",
    "        speechs.update([speech])\n",
    "        texts.update([text])\n",
    "    \n",
    "    \n",
    "    text, text_rate = max(texts.items(), key=lambda x: (x[1], x[0] != \"\", -x[0].count('?')))\n",
    "#     if text != \"\" and text_rate >= 2:\n",
    "    if text_rate >= 2:\n",
    "        conf = text_rate * 1.0 / sum(texts.values())\n",
    "    else:\n",
    "        text = None\n",
    "        conf = 0\n",
    "    common = speechs.most_common(2)\n",
    "    speech, speech_rate = common[0]\n",
    "    if speech == \"BAD\" and len(common) >= 2 and common[1][1] == speech_rate:\n",
    "        speech = common[1][0]\n",
    "\n",
    "    # conf = text_rate / sum(texts.values())\n",
    "    return AggregationResult(text, conf, cost)"
   ]
  },
  {
   "cell_type": "code",
   "execution_count": 11,
   "metadata": {},
   "outputs": [],
   "source": [
    "def evaluate_metrics(data, field, algorithm, treshhold=0, cluster_refernces=None, print_=True):\n",
    "    errors = 0\n",
    "    total_length = 0\n",
    "    total_recall = 0\n",
    "    total_items = 0\n",
    "    correct = 0\n",
    "    cost = 0\n",
    "    for row in data:\n",
    "        if row[\"mark\"] != \"TEST\":\n",
    "            continue\n",
    "        total_items += 1\n",
    "        hyp = algorithm(sorted(row[field], key=lambda x: x[\"submit_ts\"]))\n",
    "        cost += hyp.cost\n",
    "        if (hyp.text is None) or (hyp.confidence < treshhold):\n",
    "            continue\n",
    "        hyp = hyp.text\n",
    "        _, e, l = calc.calculate_wer(row[\"text\"], hyp, cluster_refernces)\n",
    "        errors += e\n",
    "        if e == 0:\n",
    "            correct += 1\n",
    "        recall, _, _ = calc.calculate_word_recall(row[\"text\"], hyp)\n",
    "        total_recall += recall\n",
    "        total_length += l\n",
    "\n",
    "    accuracy = correct / aggregated\n",
    "    wer = errors / total_length\n",
    "    total_recall /= total_items\n",
    "    cost = cost / total_items\n",
    "    if print_:\n",
    "        print(\"Recall: {:.4%}\\nWER: {:.4%}\\nAccuracy: {:.4%}\\nMean overlap: {:.4}\".format(\n",
    "            total_recall, wer, accuracy, cost\n",
    "        ))\n",
    "    return total_recall, wer, accuracy, cost"
   ]
  },
  {
   "cell_type": "code",
   "execution_count": 12,
   "metadata": {},
   "outputs": [],
   "source": [
    "valid_table = yt.read_table(\n",
    "    \"//home/voice/edvls/tickets/VA-442_ideal_testsets/assistant_ideal_annotations_2019-02-16__2019-02-25\"\n",
    ")\n",
    "valid_table = list(valid_table)"
   ]
  },
  {
   "cell_type": "code",
   "execution_count": 13,
   "metadata": {},
   "outputs": [],
   "source": [
    "valid_rows = [row for row in valid_table if row[\"mark\"] == \"TEST\"]"
   ]
  },
  {
   "cell_type": "code",
   "execution_count": 14,
   "metadata": {},
   "outputs": [],
   "source": [
    "def preaggregate_with_clf(features, clf):\n",
    "    matching = dict()\n",
    "    X = list()\n",
    "    for task_id, item0 in features.items():\n",
    "        task_id = '/'.join(task_id.split('/')[-2:])\n",
    "        for cost, item1 in item0.items():\n",
    "            for position, item2 in item1.items():\n",
    "                for word, item3 in item2.items():\n",
    "                    x, y = item3\n",
    "                    X.append(np.array(x))\n",
    "                    matching[(task_id, cost, position, word)] = len(X) - 1\n",
    "    probabilites = clf.predict_proba(X)[:, 1]\n",
    "    results = dict()\n",
    "    for task_id, item0 in features.items():\n",
    "        task_id = '/'.join(task_id.split('/')[-2:])\n",
    "        results[task_id] = dict()\n",
    "        for cost, item1 in sorted(item0.items()):\n",
    "            results[task_id][cost] = list()\n",
    "            for position, item2 in sorted(item1.items()):\n",
    "                words = list(item2.keys())\n",
    "                probs = np.array([probabilites[matching[(task_id, cost, position, word)]] for word in words])\n",
    "                pos = np.argmax(probs)\n",
    "                score = probs[pos]\n",
    "                word = words[pos]\n",
    "                results[task_id][cost].append((word, score))\n",
    "    return results"
   ]
  },
  {
   "cell_type": "code",
   "execution_count": 15,
   "metadata": {},
   "outputs": [],
   "source": [
    "def evaluate_metrics_from_dict(data, aggregation_results, treshhold=0, max_cost=10, cluster_refernces=None, \n",
    "                               print_=True):\n",
    "    errors = 0\n",
    "    total_length = 0\n",
    "    total_recall = 0\n",
    "    total_items = 0\n",
    "    correct = 0\n",
    "    cost = 0\n",
    "    for row in data:\n",
    "        if row[\"mark\"] != \"TEST\":\n",
    "            continue\n",
    "        total_items += 1\n",
    "        hyp = aggregation_results[row[\"mds_key\"]]\n",
    "        cost += hyp.cost\n",
    "        if (hyp.text is None) or hyp.confidence < treshhold:\n",
    "            continue\n",
    "        hyp = hyp.text\n",
    "        _, e, l = calc.calculate_wer(row[\"text\"], hyp, cluster_refernces)\n",
    "        errors += e\n",
    "        if e == 0:\n",
    "            correct += 1\n",
    "        recall, _, _ = calc.calculate_word_recall(row[\"text\"], hyp)\n",
    "        total_recall += recall\n",
    "        total_length += l\n",
    "        total_length += l\n",
    "\n",
    "    accuracy = correct / aggregated\n",
    "    wer = errors / total_length\n",
    "    total_recall /= total_items\n",
    "    cost = cost / total_items\n",
    "    if print_:\n",
    "        print(\"Recall: {:.4%}\\nWER: {:.4%}\\nAccuracy: {:.4%}\\nMean overlap: {:.4}\".format(\n",
    "            total_recall, wer, accuracy, cost\n",
    "        ))\n",
    "    return total_recall, wer, accuracy, cost"
   ]
  },
  {
   "cell_type": "code",
   "execution_count": 16,
   "metadata": {},
   "outputs": [],
   "source": [
    "def aggregate_rover_with_clf_(rows, features, field_name, clf, treshhold=0.51, min_cost=3, max_cost=10, \n",
    "                              cluster_references=None, preaggregated=None):\n",
    "    \"\"\"\n",
    "       aggregation from prod\n",
    "    \"\"\"\n",
    "    clf_results = preaggregated\n",
    "    if not clf_results:\n",
    "        clf_results = preaggregate_with_clf(features, clf)\n",
    "    results = dict()\n",
    "    for task_id, item0 in clf_results.items():\n",
    "        for cost, item1 in sorted(item0.items()):\n",
    "            if cost < min_cost or cost > max_cost: \n",
    "                continue\n",
    "            text = \" \".join(value for value, score in item1 if value != \"\")\n",
    "            score = sum(score for value, score in item1) / len(item1)\n",
    "            if score >= treshhold or cost == max_cost: #MAX_NUM_ANSWERS:\n",
    "#                 if text == \"\":\n",
    "#                     conf = 0\n",
    "#                     text = None\n",
    "#                 elif score < treshhold:\n",
    "                if score < treshhold:\n",
    "                    conf = 0\n",
    "                    text = None\n",
    "                else:\n",
    "                    conf = score\n",
    "                results[task_id] = AggregationResult(text, conf, cost)\n",
    "                break\n",
    "    return results"
   ]
  },
  {
   "cell_type": "code",
   "execution_count": 17,
   "metadata": {},
   "outputs": [],
   "source": [
    "def evaluate_metrics_clf_(data, \n",
    "                          features, \n",
    "                          field_name, \n",
    "                          clf, \n",
    "                          treshhold=0.51, \n",
    "                          min_cost=3, \n",
    "                          max_cost=10, \n",
    "                          cluster_refernces=None, \n",
    "                          print_=True,\n",
    "                          agg_method=aggregate_rover_with_clf_):\n",
    "    aggregation_results = agg_method(data, \n",
    "                                     features, \n",
    "                                     field_name, \n",
    "                                     clf, \n",
    "                                     treshhold=treshhold, \n",
    "                                     min_cost=min_cost, \n",
    "                                     max_cost=max_cost, \n",
    "                                     cluster_references=cluster_refernces)\n",
    "    return utils_metrics.evaluate_metrics_from_dict(data, \n",
    "                                              aggregation_results, \n",
    "                                              treshhold,\n",
    "                                              cluster_refernces, \n",
    "                                              print_)"
   ]
  },
  {
   "cell_type": "code",
   "execution_count": 21,
   "metadata": {},
   "outputs": [],
   "source": [
    "import matplotlib.pyplot as plt"
   ]
  },
  {
   "cell_type": "code",
   "execution_count": 22,
   "metadata": {},
   "outputs": [],
   "source": [
    "train_rows_q = [row for row in data_table if row[\"mark\"] == \"TRAIN\"]\n",
    "test_rows_q = [row for row in data_table if row[\"mark\"] == \"TEST\"]\n",
    "for row in test_rows_q:\n",
    "    if 'text' in row:\n",
    "        del row['text']"
   ]
  },
  {
   "cell_type": "code",
   "execution_count": 23,
   "metadata": {},
   "outputs": [],
   "source": [
    "train_proc_q = Processor(train_rows_q, context)\n",
    "test_proc_q = Processor(test_rows_q, context)\n",
    "\n",
    "for row in train_rows_q:\n",
    "    value = {'raw_assesments': row['toloka_assignments_repeat_11_selected_workers_with_pitch'],\n",
    "            'inputValues': {'url': row['url']},\n",
    "            'text': row['text']}\n",
    "    train_proc_q.rows.append(value)\n",
    "\n",
    "for row in test_rows_q:\n",
    "    value = {'raw_assesments': row['toloka_assignments_repeat_11_selected_workers_with_pitch'],\n",
    "            'inputValues': {'url': row['url']},}\n",
    "    test_proc_q.rows.append(value)"
   ]
  },
  {
   "cell_type": "code",
   "execution_count": null,
   "metadata": {},
   "outputs": [],
   "source": [
    "train_features_q = train_proc_q.extract_features()"
   ]
  },
  {
   "cell_type": "code",
   "execution_count": 51,
   "metadata": {},
   "outputs": [],
   "source": [
    "import dill"
   ]
  },
  {
   "cell_type": "code",
   "execution_count": 52,
   "metadata": {},
   "outputs": [],
   "source": [
    "with open('pickled/train_features_q.dill', 'wb') as file:\n",
    "    dill.dump(train_features_q, file)"
   ]
  },
  {
   "cell_type": "code",
   "execution_count": 53,
   "metadata": {},
   "outputs": [],
   "source": [
    "with open('pickled/test_features_q.dill', 'wb') as file:\n",
    "    dill.dump(test_features_q, file)"
   ]
  },
  {
   "cell_type": "code",
   "execution_count": null,
   "metadata": {},
   "outputs": [],
   "source": [
    "print('test started')\n",
    "test_features_q = test_proc_q.extract_features()"
   ]
  },
  {
   "cell_type": "code",
   "execution_count": null,
   "metadata": {},
   "outputs": [],
   "source": [
    "X_train_q, Y_train_q = convert_to_array(train_features_q)"
   ]
  },
  {
   "cell_type": "code",
   "execution_count": null,
   "metadata": {},
   "outputs": [],
   "source": [
    "clf_q = CatBoostClassifier(iterations=19000, depth=7, thread_count=30, random_seed=42)\n",
    "clf_q.fit(X_train_q, Y_train_q)\n",
    "with open(\"log_assistant.txt\", \"a\") as log:\n",
    "    log.write(\"new wer model is fitted\\n\")"
   ]
  },
  {
   "cell_type": "code",
   "execution_count": 33,
   "metadata": {},
   "outputs": [
    {
     "data": {
      "image/png": "[encoded data removed]",
      "text/plain": [
       "<Figure size 1080x504 with 4 Axes>"
      ]
     },
     "metadata": {
      "needs_background": "light"
     },
     "output_type": "display_data"
    }
   ],
   "source": [
    "plt.figure(figsize=(15,7))\n",
    "plt.suptitle('Зависимость метрик от порога, фича на равенство гипотезы знаку вопроса')\n",
    "plt.subplot(221)\n",
    "# plt.plot(scores_clf_test_new_feature[:, 0], \n",
    "#          scores_clf_test_new_feature[:, 1] * 100, \n",
    "#          \".-\", \n",
    "#          label=\"clf@7, новые ГП\")\n",
    "plt.plot(scores_clf_test_q[:, 0], \n",
    "         scores_clf_test_q[:, 1] * 100, \n",
    "         \".-\", \n",
    "         label=\"clf@7, со знаком вопроса\")\n",
    "plt.axhline(y=prod_agg_metrics[0] * 100, color=u'#1f77b4', linestyle='--', label=\"MV, 1+10\")\n",
    "plt.legend()\n",
    "plt.ylabel('Агрегированая часть (%)')\n",
    "\n",
    "plt.subplot(222)\n",
    "# plt.plot(scores_clf_test_new_feature[:, 0], \n",
    "#          scores_clf_test_new_feature[:, 2] * 100, \n",
    "#          \".-\")\n",
    "plt.plot(scores_clf_test_q[:, 0], \n",
    "         scores_clf_test_q[:, 2] * 100, \n",
    "         \".-\")\n",
    "plt.axhline(y=prod_agg_metrics[1] * 100, color=u'#1f77b4', linestyle='--')\n",
    "plt.ylabel('WER (%)')\n",
    "\n",
    "\n",
    "plt.subplot(223)\n",
    "# plt.plot(scores_clf_test_new_feature[:, 0], \n",
    "#          scores_clf_test_new_feature[:, 3] * 100, \n",
    "#          \".-\")\n",
    "plt.plot(scores_clf_test_q[:, 0], \n",
    "         scores_clf_test_q[:, 3] * 100, \n",
    "         \".-\")\n",
    "plt.axhline(y=prod_agg_metrics[2] * 100, color=u'#1f77b4', linestyle='--')\n",
    "plt.ylabel('Accuracy (%)')\n",
    "\n",
    "plt.xlabel('Порог')\n",
    "\n",
    "plt.subplot(224)\n",
    "# plt.plot(scores_clf_test_new_feature[:, 0], \n",
    "#          scores_clf_test_new_feature[:, 4], \n",
    "#          \".-\")\n",
    "plt.plot(scores_clf_test_q[:, 0], \n",
    "         scores_clf_test_q[:, 4], \n",
    "         \".-\")\n",
    "plt.axhline(y=prod_agg_metrics[3], color=u'#1f77b4', linestyle='--')\n",
    "plt.ylabel('Среднее перекрытие')\n",
    "\n",
    "plt.xlabel('Порог')\n",
    "\n",
    "plt.savefig(\"metrics_question_sign_assistant.png\")\n",
    "plt.show()"
   ]
  },
  {
   "cell_type": "code",
   "execution_count": 34,
   "metadata": {},
   "outputs": [],
   "source": [
    "import pickle"
   ]
  },
  {
   "cell_type": "code",
   "execution_count": 36,
   "metadata": {},
   "outputs": [
    {
     "data": {
      "text/plain": [
       "array([[0.8       , 0.95539608, 0.13177556, 3.04475043],\n",
       "       [0.81      , 0.95559898, 0.13130721, 3.05565118],\n",
       "       [0.82      , 0.9541686 , 0.12982919, 3.07028112],\n",
       "       [0.83      , 0.95453   , 0.12946265, 3.0831899 ],\n",
       "       [0.84      , 0.95452073, 0.12809796, 3.1124498 ],\n",
       "       [0.85      , 0.95218814, 0.1267616 , 3.1394148 ],\n",
       "       [0.86      , 0.95252349, 0.12522939, 3.17441193],\n",
       "       [0.87      , 0.95014641, 0.1234077 , 3.21170396],\n",
       "       [0.88      , 0.94898656, 0.12064264, 3.25645439],\n",
       "       [0.89      , 0.94553584, 0.11641857, 3.32071142],\n",
       "       [0.9       , 0.93799655, 0.11070387, 3.38668962],\n",
       "       [0.91      , 0.93200009, 0.10418717, 3.45926563],\n",
       "       [0.92      , 0.92094274, 0.09641152, 3.55220884],\n",
       "       [0.93      , 0.9015056 , 0.0869153 , 3.67641997],\n",
       "       [0.94      , 0.88315606, 0.07613219, 3.83476764],\n",
       "       [0.95      , 0.85513543, 0.06587186, 4.04905336],\n",
       "       [0.96      , 0.80601457, 0.05400616, 4.34538153],\n",
       "       [0.97      , 0.75627608, 0.04441937, 4.7091222 ],\n",
       "       [0.98      , 0.65282707, 0.02903071, 5.17641997]])"
      ]
     },
     "execution_count": 36,
     "metadata": {},
     "output_type": "execute_result"
    }
   ],
   "source": [
    "with open('new_metrics_solo_assistant.pickle', 'rb') as f:\n",
    "    metrics_loaded = pickle.load(f)\n",
    "metrics_loaded"
   ]
  },
  {
   "cell_type": "code",
   "execution_count": 37,
   "metadata": {},
   "outputs": [],
   "source": [
    "import seaborn as sns\n",
    "sns.set(style=\"whitegrid\")"
   ]
  },
  {
   "cell_type": "code",
   "execution_count": 28,
   "metadata": {},
   "outputs": [],
   "source": [
    "preaggregated = preaggregate_with_clf(test_features_q, clf_q)"
   ]
  },
  {
   "cell_type": "code",
   "execution_count": 29,
   "metadata": {},
   "outputs": [
    {
     "data": {
      "text/plain": [
       "{1: [('', 0.678010134822878)],\n",
       " 2: [('', 0.8812058476980162)],\n",
       " 3: [('', 0.9304909564468234)],\n",
       " 4: [('', 0.9520213571597353)],\n",
       " 5: [('', 0.9666642123647229)],\n",
       " 6: [('', 0.9879260899568811)],\n",
       " 7: [('', 0.9867620990253291)],\n",
       " 8: [('', 0.9829812412150699)],\n",
       " 9: [('', 0.9879957352825978)],\n",
       " 10: [('', 0.9895018590776006)]}"
      ]
     },
     "execution_count": 29,
     "metadata": {},
     "output_type": "execute_result"
    }
   ],
   "source": [
    "preaggregated['1014070/1928ae3a-6351-48cf-bed9-dcb5fa12df6e_f78684d2-2275-4e8b-8839-da3590f59cee_1.opus']"
   ]
  },
  {
   "cell_type": "code",
   "execution_count": 30,
   "metadata": {},
   "outputs": [],
   "source": [
    "from functools import partial"
   ]
  },
  {
   "cell_type": "code",
   "execution_count": 31,
   "metadata": {},
   "outputs": [
    {
     "name": "stdout",
     "output_type": "stream",
     "text": [
      "0.8\n",
      "Recall: 95.4368%\n",
      "WER: 13.1409%\n",
      "Mean overlap: 3.05\n",
      "0.81\n",
      "Recall: 95.4388%\n",
      "WER: 13.1024%\n",
      "Mean overlap: 3.062\n",
      "0.8200000000000001\n",
      "Recall: 95.3983%\n",
      "WER: 13.0970%\n",
      "Mean overlap: 3.075\n",
      "0.8300000000000001\n",
      "Recall: 95.3906%\n",
      "WER: 12.9507%\n",
      "Mean overlap: 3.1\n",
      "0.8400000000000001\n",
      "Recall: 95.3293%\n",
      "WER: 12.8372%\n",
      "Mean overlap: 3.125\n",
      "0.85\n",
      "Recall: 95.2165%\n",
      "WER: 12.7138%\n",
      "Mean overlap: 3.154\n",
      "0.86\n",
      "Recall: 95.2711%\n",
      "WER: 12.5376%\n",
      "Mean overlap: 3.19\n",
      "0.87\n",
      "Recall: 95.1182%\n",
      "WER: 12.2441%\n",
      "Mean overlap: 3.225\n",
      "0.88\n",
      "Recall: 94.9746%\n",
      "WER: 11.9761%\n",
      "Mean overlap: 3.267\n",
      "0.89\n",
      "Recall: 94.3865%\n",
      "WER: 11.5590%\n",
      "Mean overlap: 3.338\n",
      "0.9\n",
      "Recall: 93.9334%\n",
      "WER: 11.0272%\n",
      "Mean overlap: 3.397\n",
      "0.91\n",
      "Recall: 93.0286%\n",
      "WER: 10.2697%\n",
      "Mean overlap: 3.485\n",
      "0.92\n",
      "Recall: 91.6530%\n",
      "WER: 9.4598%\n",
      "Mean overlap: 3.581\n",
      "0.9299999999999999\n",
      "Recall: 90.1837%\n",
      "WER: 8.6288%\n",
      "Mean overlap: 3.706\n",
      "0.94\n",
      "Recall: 88.1111%\n",
      "WER: 7.6148%\n",
      "Mean overlap: 3.849\n",
      "0.95\n",
      "Recall: 85.2225%\n",
      "WER: 6.5242%\n",
      "Mean overlap: 4.078\n",
      "0.96\n",
      "Recall: 80.5344%\n",
      "WER: 5.4183%\n",
      "Mean overlap: 4.37\n",
      "0.97\n",
      "Recall: 74.9650%\n",
      "WER: 4.2672%\n",
      "Mean overlap: 4.746\n",
      "0.98\n",
      "Recall: 65.7731%\n",
      "WER: 2.8347%\n",
      "Mean overlap: 5.19\n"
     ]
    },
    {
     "ename": "NameError",
     "evalue": "name 'scores_clf_test_q' is not defined",
     "output_type": "error",
     "traceback": [
      "\u001b[0;31m---------------------------------------------------------------------------\u001b[0m",
      "\u001b[0;31mNameError\u001b[0m                                 Traceback (most recent call last)",
      "\u001b[0;32m<ipython-input-31-d18d70952940>\u001b[0m in \u001b[0;36m<module>\u001b[0;34m\u001b[0m\n\u001b[1;32m     13\u001b[0m                                                        preaggregated=preaggregated))\n\u001b[1;32m     14\u001b[0m     \u001b[0mscores_clf_test_q_\u001b[0m\u001b[0;34m.\u001b[0m\u001b[0mappend\u001b[0m\u001b[0;34m(\u001b[0m\u001b[0;34m(\u001b[0m\u001b[0mtreshhold\u001b[0m\u001b[0;34m,\u001b[0m \u001b[0;34m*\u001b[0m\u001b[0mmetrics\u001b[0m\u001b[0;34m)\u001b[0m\u001b[0;34m)\u001b[0m\u001b[0;34m\u001b[0m\u001b[0m\n\u001b[0;32m---> 15\u001b[0;31m \u001b[0mscores_clf_test_q_\u001b[0m \u001b[0;34m=\u001b[0m \u001b[0mnp\u001b[0m\u001b[0;34m.\u001b[0m\u001b[0marray\u001b[0m\u001b[0;34m(\u001b[0m\u001b[0mscores_clf_test_q\u001b[0m\u001b[0;34m)\u001b[0m\u001b[0;34m\u001b[0m\u001b[0m\n\u001b[0m",
      "\u001b[0;31mNameError\u001b[0m: name 'scores_clf_test_q' is not defined"
     ]
    }
   ],
   "source": [
    "scores_clf_test_q_ = []\n",
    "\n",
    "for treshhold in np.linspace(0.8, 0.98, 19):\n",
    "    print(treshhold)\n",
    "    metrics = evaluate_metrics_clf_(valid_rows, \n",
    "                                    test_features_q, \n",
    "                                    'toloka_assignments_repeat_11_selected_workers_with_pitch', \n",
    "                                    clf_q, \n",
    "                                    treshhold,\n",
    "                                    min_cost=3,\n",
    "                                    max_cost=7,\n",
    "                                    agg_method=partial(aggregate_rover_with_clf_,\n",
    "                                                       preaggregated=preaggregated))\n",
    "    scores_clf_test_q_.append((treshhold, *metrics))\n",
    "scores_clf_test_q_ = np.array(scores_clf_test_q_)"
   ]
  },
  {
   "cell_type": "code",
   "execution_count": 38,
   "metadata": {},
   "outputs": [
    {
     "name": "stdout",
     "output_type": "stream",
     "text": [
      "Recall: 88.0484%\n",
      "WER: 13.3954%\n",
      "Mean overlap: 3.833\n"
     ]
    }
   ],
   "source": [
    "# Prod baseline\n",
    "prod_agg_metrics = utils_metrics.evaluate_metrics_for_algorithm(valid_rows, \n",
    "                                    'toloka_assignments_repeat_11_selected_workers_with_pitch', \n",
    "                                    aggregate_prod)"
   ]
  },
  {
   "cell_type": "code",
   "execution_count": 39,
   "metadata": {},
   "outputs": [
    {
     "data": {
      "text/plain": [
       "array([0.98      , 0.86047811, 0.06822048, 4.00143431])"
      ]
     },
     "execution_count": 39,
     "metadata": {},
     "output_type": "execute_result"
    }
   ],
   "source": [
    "with open('base_line_new_metrics_solo_assistant.pickle', 'rb') as f:\n",
    "    baseline_loaded_new_metrics = pickle.load(f)\n",
    "baseline_loaded_new_metrics"
   ]
  },
  {
   "cell_type": "code",
   "execution_count": 43,
   "metadata": {},
   "outputs": [
    {
     "data": {
      "image/png": "[encoded data removed]",
      "text/plain": [
       "<Figure size 1080x936 with 3 Axes>"
      ]
     },
     "metadata": {},
     "output_type": "display_data"
    }
   ],
   "source": [
    "plt.figure(figsize=(15,13))\n",
    "plt.suptitle('Зависимость метрик от порога, new wer feature')\n",
    "plt.subplot(311)\n",
    "plt.plot(scores_clf_test_q_[:, 0], \n",
    "         scores_clf_test_q_[:, 1] * 100, \n",
    "         \".-\", \n",
    "         label=\"iROVER, new wer feature\")\n",
    "plt.axhline(y=baseline_loaded_new_metrics[1] * 100, color='red', linestyle='--', label=\"iROVER, prod\")\n",
    "plt.axhline(y=prod_agg_metrics[0] * 100, color=u'#1f77b4', linestyle='--', label=\"MV, prod\")\n",
    "plt.legend()\n",
    "plt.ylabel('Recall (%)')\n",
    "\n",
    "plt.subplot(312)\n",
    "plt.plot(scores_clf_test_q_[:, 0], \n",
    "         scores_clf_test_q_[:, 2] * 100, \n",
    "         \".-\")\n",
    "plt.axhline(y=baseline_loaded_new_metrics[2] * 100, color='red', linestyle='--')\n",
    "plt.axhline(y=prod_agg_metrics[1] * 100, color=u'#1f77b4', linestyle='--')\n",
    "plt.ylabel('WER (%)')\n",
    "\n",
    "plt.subplot(313)\n",
    "plt.plot(scores_clf_test_q_[:, 0], \n",
    "         scores_clf_test_q_[:, 3], \n",
    "         \".-\")\n",
    "plt.axhline(y=baseline_loaded_new_metrics[3], color='red', linestyle='--')\n",
    "plt.axhline(y=prod_agg_metrics[2], color=u'#1f77b4', linestyle='--')\n",
    "plt.ylabel('Среднее перекрытие')\n",
    "\n",
    "plt.xlabel('Порог')\n",
    "\n",
    "plt.savefig(\"new_metrics_new_wer_feature.png\")\n",
    "plt.show()"
   ]
  },
  {
   "cell_type": "markdown",
   "metadata": {},
   "source": [
    "**Значимого прироста не дало**"
   ]
  },
  {
   "cell_type": "code",
   "execution_count": null,
   "metadata": {},
   "outputs": [],
   "source": []
  }
 ],
 "metadata": {
  "kernelspec": {
   "display_name": "py_36",
   "language": "python",
   "name": "py_36"
  },
  "language_info": {
   "codemirror_mode": {
    "name": "ipython",
    "version": 3
   },
   "file_extension": ".py",
   "mimetype": "text/x-python",
   "name": "python",
   "nbconvert_exporter": "python",
   "pygments_lexer": "ipython3",
   "version": "3.6.3"
  }
 },
 "nbformat": 4,
 "nbformat_minor": 2
}
