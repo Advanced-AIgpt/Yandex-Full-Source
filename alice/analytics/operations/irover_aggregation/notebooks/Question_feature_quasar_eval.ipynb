{
 "cells": [
  {
   "cell_type": "code",
   "execution_count": 2,
   "metadata": {},
   "outputs": [],
   "source": [
    "import pandas as pd\n",
    "import numpy as np\n",
    "\n",
    "from sklearn.preprocessing import OneHotEncoder\n",
    "from sklearn.model_selection import GridSearchCV\n",
    "from catboost import CatBoostClassifier\n",
    "\n",
    "import sys\n",
    "sys.path.append('..')\n",
    "import utils.word_transition_network as wtn_module\n",
    "from utils.rover import RoverVotingScheme\n",
    "from utils.word_transition_network import *\n",
    "\n",
    "from collections import Counter\n",
    "import collections\n",
    "\n",
    "from irover_application.extract_features import Processor"
   ]
  },
  {
   "cell_type": "code",
   "execution_count": 3,
   "metadata": {},
   "outputs": [],
   "source": [
    "import yt.wrapper as yt\n",
    "yt.config.set_proxy(\"hahn\")"
   ]
  },
  {
   "cell_type": "code",
   "execution_count": 4,
   "metadata": {},
   "outputs": [
    {
     "data": {
      "text/plain": [
       "dict_keys(['mds_key', 'linguists_sugested_text', 'toloka_text', 'toloka_assignments_repeat_2_with_chorus_and_pitch', 'spotter_tail_trim', 'toloka_assignments_repeat_4_selected_workers_with_pitch', '_other', 'check_in_yang_results', 'spotter_mds_key', 'date', 'number_of_speakers', 'text', 'downloadUrl', 'toloka_assignments_repeat_3_selected_workers_with_chorus_and_pitch', 'spotter_max_length', 'raw_text_linguists', 'linguists_comment', 'toloka_number_of_speakers', 'mdsFileName', 'toloka_assignments_repeat_1', 'speech', 'linguists_worker_id', 'toloka_speech', 'mark', 'url_in_first_toloka', 'asr_mds_key', 'toloka_assignments', 'audio', 'url', 'initialFileName'])"
      ]
     },
     "execution_count": 4,
     "metadata": {},
     "output_type": "execute_result"
    }
   ],
   "source": [
    "data_table = yt.read_table(\n",
    "    \"//home/voice/edvls/tickets/VA-442_ideal_testsets/quasar-general_with_spotter_ideal_annotations_2019-04-18__2019-04-24\"\n",
    ")\n",
    "data_table = list(data_table)\n",
    "data_table[0].keys()"
   ]
  },
  {
   "cell_type": "code",
   "execution_count": 6,
   "metadata": {},
   "outputs": [],
   "source": [
    "AggregationResult = collections.namedtuple('AggregationResult', 'text confidence cost')"
   ]
  },
  {
   "cell_type": "code",
   "execution_count": 7,
   "metadata": {},
   "outputs": [
    {
     "data": {
      "text/plain": [
       "Context(max_num_answers=10, for_fitting=True, platform='toloka')"
      ]
     },
     "execution_count": 7,
     "metadata": {},
     "output_type": "execute_result"
    }
   ],
   "source": [
    "Context = collections.namedtuple('Context', 'max_num_answers for_fitting platform')\n",
    "context = Context(10, True, 'toloka')\n",
    "context"
   ]
  },
  {
   "cell_type": "code",
   "execution_count": 9,
   "metadata": {},
   "outputs": [],
   "source": [
    "def convert_to_array(features):\n",
    "    X = list()\n",
    "    Y = list()\n",
    "    for task_id, item0 in features.items():\n",
    "        for cost, item1 in item0.items():\n",
    "            for position, item2 in item1.items():\n",
    "                for word, item3 in item2.items():\n",
    "                    x, y = item3\n",
    "                    X.append(np.array(x))\n",
    "                    Y.append(1 if y else -1)\n",
    "    return np.array(X), np.array(Y)"
   ]
  },
  {
   "cell_type": "code",
   "execution_count": 10,
   "metadata": {},
   "outputs": [],
   "source": [
    "def aggregate_prod(raw_data):\n",
    "    \"\"\"\n",
    "       aggregation from prod\n",
    "    \"\"\"\n",
    "    cost = 2\n",
    "    while cost < 5:\n",
    "        cost += 1\n",
    "        answers = [(x[\"text\"], x[\"speech\"]) for x in raw_data[:cost]]\n",
    "        answers = Counter(answers)\n",
    "        if answers.most_common(1)[0][1] >= 3:\n",
    "            break\n",
    "\n",
    "    texts = Counter()\n",
    "    speechs = Counter()\n",
    "    for text, speech in [(x[\"text\"], x[\"speech\"]) for x in raw_data[:cost]]:\n",
    "        if speech != \"BAD\" and text:\n",
    "            text = text.lower().replace('ё', 'е')\n",
    "        else:\n",
    "            text = \"\"\n",
    "        speechs.update([speech])\n",
    "        texts.update([text])\n",
    "    \n",
    "    \n",
    "    text, text_rate = max(texts.items(), key=lambda x: (x[1], x[0] != \"\"))\n",
    "    if text != \"\" and text_rate >= 2:\n",
    "        conf = text_rate * 1.0 / sum(texts.values())\n",
    "    else:\n",
    "        text = None\n",
    "        conf = 0\n",
    "    common = speechs.most_common(2)\n",
    "    speech, speech_rate = common[0]\n",
    "    if speech == \"BAD\" and len(common) >= 2 and common[1][1] == speech_rate:\n",
    "        speech = common[1][0]\n",
    "\n",
    "    # conf = text_rate / sum(texts.values())\n",
    "    return AggregationResult(text, conf, cost)"
   ]
  },
  {
   "cell_type": "code",
   "execution_count": 11,
   "metadata": {},
   "outputs": [],
   "source": [
    "def evaluate_metrics(data, field, algorithm, treshhold=0, cluster_refernces=None, print_=True):\n",
    "    errors = 0\n",
    "    total_length = 0\n",
    "    aggregated = 0\n",
    "    total_items = 0\n",
    "    correct = 0\n",
    "    cost = 0\n",
    "    for row in data:\n",
    "        if row[\"mark\"] != \"TEST\":\n",
    "            continue\n",
    "        total_items += 1\n",
    "        hyp = algorithm(sorted(row[field], key=lambda x: x[\"submit_ts\"]))\n",
    "        cost += hyp.cost\n",
    "        if (hyp.text is None) or (hyp.confidence < treshhold):\n",
    "            continue\n",
    "        hyp = hyp.text\n",
    "        aggregated += 1\n",
    "        _, e, l = calculate_wer(row[\"text\"], hyp, cluster_refernces)\n",
    "        errors += e\n",
    "        if e == 0:\n",
    "            correct += 1\n",
    "        total_length += l\n",
    "\n",
    "    accuracy = correct / aggregated\n",
    "    wer = errors / total_length\n",
    "    aggregated_part = aggregated / total_items\n",
    "    cost = cost / total_items\n",
    "    if print_:\n",
    "        print(\"Aggregated: {:.4%}\\nWER: {:.4%}\\nAccuracy: {:.4%}\\nMean overlap: {:.4}\".format(\n",
    "            aggregated_part, wer, accuracy, cost\n",
    "        ))\n",
    "    return aggregated_part, wer, accuracy, cost"
   ]
  },
  {
   "cell_type": "code",
   "execution_count": 13,
   "metadata": {},
   "outputs": [],
   "source": [
    "valid_table = yt.read_table(\n",
    "    \"//home/voice/edvls/tickets/VA-442_ideal_testsets/quasar-general_with_spotter_ideal_annotations_2019-04-18__2019-04-24\"\n",
    ")\n",
    "valid_table = list(valid_table)"
   ]
  },
  {
   "cell_type": "code",
   "execution_count": 14,
   "metadata": {},
   "outputs": [],
   "source": [
    "valid_rows = [row for row in valid_table if row[\"mark\"] == \"TEST\"]"
   ]
  },
  {
   "cell_type": "code",
   "execution_count": 15,
   "metadata": {},
   "outputs": [],
   "source": [
    "def preaggregate_with_clf(features, clf):\n",
    "    matching = dict()\n",
    "    X = list()\n",
    "    for task_id, item0 in features.items():\n",
    "        task_id = '/'.join(task_id.split('/')[-2:])\n",
    "        for cost, item1 in item0.items():\n",
    "            for position, item2 in item1.items():\n",
    "                for word, item3 in item2.items():\n",
    "                    x, y = item3\n",
    "                    X.append(np.array(x))\n",
    "                    matching[(task_id, cost, position, word)] = len(X) - 1\n",
    "    probabilites = clf.predict_proba(X)[:, 1]\n",
    "    results = dict()\n",
    "    for task_id, item0 in features.items():\n",
    "        task_id = '/'.join(task_id.split('/')[-2:])\n",
    "        results[task_id] = dict()\n",
    "        for cost, item1 in sorted(item0.items()):\n",
    "            results[task_id][cost] = list()\n",
    "            for position, item2 in sorted(item1.items()):\n",
    "                words = list(item2.keys())\n",
    "                probs = np.array([probabilites[matching[(task_id, cost, position, word)]] for word in words])\n",
    "                pos = np.argmax(probs)\n",
    "                score = probs[pos]\n",
    "                word = words[pos]\n",
    "                results[task_id][cost].append((word, score))\n",
    "    return results"
   ]
  },
  {
   "cell_type": "code",
   "execution_count": 37,
   "metadata": {},
   "outputs": [],
   "source": [
    "def evaluate_metrics_from_dict(data, aggregation_results, treshhold=0, max_cost=10, cluster_refernces=None, print_=True, add_threshold=0.0):\n",
    "    errors = 0\n",
    "    total_length = 0\n",
    "    aggregated = 0\n",
    "    total_items = 0\n",
    "    correct = 0\n",
    "    cost = 0\n",
    "    for row in data:\n",
    "        if row[\"mark\"] != \"TEST\":\n",
    "            continue\n",
    "        total_items += 1\n",
    "        hyp = aggregation_results['/'.join(row['url'].split('/')[-2:])]\n",
    "        cost += hyp.cost\n",
    "        if (hyp.text is None) or (hyp.cost != max_cost and hyp.confidence < treshhold + add_threshold) or hyp.confidence < treshhold:\n",
    "            continue\n",
    "        hyp = hyp.text\n",
    "        aggregated += 1\n",
    "        _, e, l = calculate_wer(row[\"text\"], hyp, cluster_refernces)\n",
    "        errors += e\n",
    "        if e == 0:\n",
    "            correct += 1\n",
    "        total_length += l\n",
    "\n",
    "    accuracy = correct / aggregated\n",
    "    wer = errors / total_length\n",
    "    aggregated_part = aggregated / total_items\n",
    "    cost = cost / total_items\n",
    "    if print_:\n",
    "        print(\"Aggregated: {:.4%}\\nWER: {:.4%}\\nAccuracy: {:.4%}\\nMean overlap: {:.4}\".format(\n",
    "            aggregated_part, wer, accuracy, cost\n",
    "        ))\n",
    "    return aggregated_part, wer, accuracy, cost"
   ]
  },
  {
   "cell_type": "code",
   "execution_count": 17,
   "metadata": {},
   "outputs": [],
   "source": [
    "def aggregate_rover_with_clf_(rows, features, field_name, clf, treshhold=0.51, min_cost=3, max_cost=10, cluster_references=None):\n",
    "    \"\"\"\n",
    "       aggregation from prod\n",
    "    \"\"\"\n",
    "    clf_results = preaggregate_with_clf(features, clf)\n",
    "    results = dict()\n",
    "    for task_id, item0 in clf_results.items():\n",
    "        for cost, item1 in sorted(item0.items()):\n",
    "            if cost < min_cost or cost > max_cost: \n",
    "                continue\n",
    "            text = \" \".join(value for value, score in item1 if value != \"\")\n",
    "            score = sum(score for value, score in item1) / len(item1)\n",
    "            if score >= treshhold or cost == max_cost: #MAX_NUM_ANSWERS:\n",
    "                if text == \"\":\n",
    "                    conf = 0\n",
    "                    text = None\n",
    "                elif score < treshhold:\n",
    "                    conf = 0\n",
    "                    text = None\n",
    "                else:\n",
    "                    conf = score\n",
    "                results[task_id] = AggregationResult(text, conf, cost)\n",
    "                break\n",
    "    return results"
   ]
  },
  {
   "cell_type": "code",
   "execution_count": 18,
   "metadata": {},
   "outputs": [],
   "source": [
    "def evaluate_metrics_clf_(data, \n",
    "                          features, \n",
    "                          field_name, \n",
    "                          clf, \n",
    "                          treshhold=0.51, \n",
    "                          min_cost=3, \n",
    "                          max_cost=10, \n",
    "                          cluster_refernces=None, \n",
    "                          print_=True,\n",
    "                          add_threshold=0.0):\n",
    "    aggregation_results = aggregate_rover_with_clf_(data, \n",
    "                                                    features, \n",
    "                                                    field_name, \n",
    "                                                    clf, \n",
    "                                                    treshhold, \n",
    "                                                    min_cost, \n",
    "                                                    max_cost, \n",
    "                                                    cluster_refernces)\n",
    "    return evaluate_metrics_from_dict(data, \n",
    "                                      aggregation_results, \n",
    "                                      treshhold, \n",
    "                                      max_cost, \n",
    "                                      cluster_refernces, \n",
    "                                      print_, \n",
    "                                      add_threshold)"
   ]
  },
  {
   "cell_type": "code",
   "execution_count": 19,
   "metadata": {},
   "outputs": [
    {
     "name": "stdout",
     "output_type": "stream",
     "text": [
      "Aggregated: 86.5242%\n",
      "WER: 6.5530%\n",
      "Accuracy: 86.6730%\n",
      "Mean overlap: 3.722\n"
     ]
    }
   ],
   "source": [
    "prod_agg_metrics = evaluate_metrics(valid_rows, \n",
    "                                    'toloka_assignments_repeat_4_selected_workers_with_pitch', \n",
    "                                    aggregate_prod) "
   ]
  },
  {
   "cell_type": "code",
   "execution_count": 20,
   "metadata": {},
   "outputs": [],
   "source": [
    "import matplotlib.pyplot as plt"
   ]
  },
  {
   "cell_type": "code",
   "execution_count": 21,
   "metadata": {},
   "outputs": [],
   "source": [
    "train_rows_q = [row for row in data_table if row[\"mark\"] == \"TRAIN\"]\n",
    "test_rows_q = [row for row in data_table if row[\"mark\"] == \"TEST\"]\n",
    "for row in test_rows_q:\n",
    "    if 'text' in row:\n",
    "        del row['text']"
   ]
  },
  {
   "cell_type": "code",
   "execution_count": 22,
   "metadata": {},
   "outputs": [],
   "source": [
    "train_proc_q = Processor(train_rows_q, context)\n",
    "test_proc_q = Processor(test_rows_q, context)\n",
    "\n",
    "for row in train_rows_q:\n",
    "    value = {'raw_assesments': row['toloka_assignments_repeat_4_selected_workers_with_pitch'],\n",
    "            'inputValues': {'url': row['url']},\n",
    "            'text': row['text']}\n",
    "    train_proc_q.rows.append(value)\n",
    "\n",
    "for row in test_rows_q:\n",
    "    value = {'raw_assesments': row['toloka_assignments_repeat_4_selected_workers_with_pitch'],\n",
    "            'inputValues': {'url': row['url']},}\n",
    "    test_proc_q.rows.append(value)"
   ]
  },
  {
   "cell_type": "code",
   "execution_count": 23,
   "metadata": {},
   "outputs": [],
   "source": [
    "test_features_q = test_proc_q.extract_features()"
   ]
  },
  {
   "cell_type": "code",
   "execution_count": 24,
   "metadata": {},
   "outputs": [
    {
     "data": {
      "text/plain": [
       "<catboost.core.CatBoostClassifier at 0x7f5a04477ef0>"
      ]
     },
     "execution_count": 24,
     "metadata": {},
     "output_type": "execute_result"
    }
   ],
   "source": [
    "clf_q = CatBoostClassifier()\n",
    "clf_q.load_model('assistant_2019-09-30_questions_prototype.clf')"
   ]
  },
  {
   "cell_type": "code",
   "execution_count": 33,
   "metadata": {},
   "outputs": [],
   "source": [
    "test_features_q_url = {}\n",
    "for row in valid_rows:\n",
    "    test_features_q_url['/'.join(row['url'].split('/')[-2:])] = test_features_q[row['url']]"
   ]
  },
  {
   "cell_type": "code",
   "execution_count": 38,
   "metadata": {},
   "outputs": [
    {
     "name": "stdout",
     "output_type": "stream",
     "text": [
      "0.8\n",
      "Aggregated: 90.5505%\n",
      "WER: 9.5238%\n",
      "Accuracy: 81.8512%\n",
      "Mean overlap: 3.055\n",
      "0.81\n",
      "Aggregated: 90.6327%\n",
      "WER: 9.6532%\n",
      "Accuracy: 81.8374%\n",
      "Mean overlap: 3.065\n",
      "0.8200000000000001\n",
      "Aggregated: 90.4958%\n",
      "WER: 9.4957%\n",
      "Accuracy: 81.9310%\n",
      "Mean overlap: 3.08\n",
      "0.8300000000000001\n",
      "Aggregated: 90.2492%\n",
      "WER: 9.2113%\n",
      "Accuracy: 82.2458%\n",
      "Mean overlap: 3.103\n",
      "0.8400000000000001\n",
      "Aggregated: 90.0849%\n",
      "WER: 9.0332%\n",
      "Accuracy: 82.5479%\n",
      "Mean overlap: 3.122\n",
      "0.85\n",
      "Aggregated: 89.8658%\n",
      "WER: 8.6224%\n",
      "Accuracy: 82.9016%\n",
      "Mean overlap: 3.151\n",
      "0.86\n",
      "Aggregated: 89.3728%\n",
      "WER: 8.1940%\n",
      "Accuracy: 83.4508%\n",
      "Mean overlap: 3.187\n",
      "0.87\n",
      "Aggregated: 88.8798%\n",
      "WER: 7.7968%\n",
      "Accuracy: 83.9445%\n",
      "Mean overlap: 3.219\n",
      "0.88\n",
      "Aggregated: 88.3594%\n",
      "WER: 7.4108%\n",
      "Accuracy: 84.5009%\n",
      "Mean overlap: 3.258\n",
      "0.89\n",
      "Aggregated: 87.6472%\n",
      "WER: 6.8826%\n",
      "Accuracy: 85.3438%\n",
      "Mean overlap: 3.309\n",
      "0.9\n",
      "Aggregated: 86.8803%\n",
      "WER: 6.4395%\n",
      "Accuracy: 86.0971%\n",
      "Mean overlap: 3.374\n",
      "0.91\n",
      "Aggregated: 86.0038%\n",
      "WER: 6.1001%\n",
      "Accuracy: 86.6242%\n",
      "Mean overlap: 3.433\n",
      "0.92\n",
      "Aggregated: 84.7987%\n",
      "WER: 5.4375%\n",
      "Accuracy: 87.6938%\n",
      "Mean overlap: 3.502\n",
      "0.9299999999999999\n",
      "Aggregated: 83.7031%\n",
      "WER: 4.9214%\n",
      "Accuracy: 88.6126%\n",
      "Mean overlap: 3.589\n",
      "0.94\n",
      "Aggregated: 81.7310%\n",
      "WER: 4.2166%\n",
      "Accuracy: 89.9129%\n",
      "Mean overlap: 3.696\n",
      "0.95\n",
      "Aggregated: 79.5399%\n",
      "WER: 3.7861%\n",
      "Accuracy: 90.8058%\n",
      "Mean overlap: 3.828\n",
      "0.96\n",
      "Aggregated: 77.3213%\n",
      "WER: 3.3386%\n",
      "Accuracy: 91.8526%\n",
      "Mean overlap: 4.007\n",
      "0.97\n",
      "Aggregated: 74.3084%\n",
      "WER: 2.6514%\n",
      "Accuracy: 93.2547%\n",
      "Mean overlap: 4.247\n",
      "0.98\n",
      "Aggregated: 69.2139%\n",
      "WER: 1.7686%\n",
      "Accuracy: 95.3700%\n",
      "Mean overlap: 4.634\n"
     ]
    }
   ],
   "source": [
    "scores_clf_test_q = []\n",
    "\n",
    "for treshhold in np.linspace(0.8, 0.98, 19):\n",
    "    print(treshhold)\n",
    "    metrics = evaluate_metrics_clf_(valid_rows, \n",
    "                                    test_features_q_url, \n",
    "                                    'toloka_assignments_repeat_4_selected_workers_with_pitch', \n",
    "                                    clf_q, \n",
    "                                    treshhold,\n",
    "                                    min_cost=3,\n",
    "                                    max_cost=7)\n",
    "    scores_clf_test_q.append((treshhold, *metrics))\n",
    "scores_clf_test_q = np.array(scores_clf_test_q)"
   ]
  },
  {
   "cell_type": "code",
   "execution_count": 39,
   "metadata": {},
   "outputs": [
    {
     "data": {
      "image/png": "[encoded data removed]",
      "text/plain": [
       "<Figure size 1080x504 with 4 Axes>"
      ]
     },
     "metadata": {
      "needs_background": "light"
     },
     "output_type": "display_data"
    }
   ],
   "source": [
    "plt.figure(figsize=(15,7))\n",
    "plt.suptitle('Зависимость метрик от порога, обучено на ассистенте, применено на станции')\n",
    "plt.subplot(221)\n",
    "plt.plot(scores_clf_test_q[:, 0], \n",
    "         scores_clf_test_q[:, 1] * 100, \n",
    "         \".-\", \n",
    "         label=\"clf, макс. пер. 7\")\n",
    "plt.axhline(y=prod_agg_metrics[0] * 100, color=u'#1f77b4', linestyle='--', label=\"MV\")\n",
    "plt.legend()\n",
    "plt.ylabel('Агрегированая часть (%)')\n",
    "\n",
    "plt.subplot(222)\n",
    "plt.plot(scores_clf_test_q[:, 0], \n",
    "         scores_clf_test_q[:, 2] * 100, \n",
    "         \".-\")\n",
    "plt.axhline(y=prod_agg_metrics[1] * 100, color=u'#1f77b4', linestyle='--', label=\"MV\")\n",
    "plt.ylabel('WER (%)')\n",
    "\n",
    "\n",
    "plt.subplot(223)\n",
    "plt.plot(scores_clf_test_q[:, 0], \n",
    "         scores_clf_test_q[:, 3] * 100, \n",
    "         \".-\")\n",
    "plt.axhline(y=prod_agg_metrics[2] * 100, color=u'#1f77b4', linestyle='--', label=\"MV\")\n",
    "plt.ylabel('Accuracy (%)')\n",
    "\n",
    "plt.xlabel('Порог')\n",
    "\n",
    "plt.subplot(224)\n",
    "plt.plot(scores_clf_test_q[:, 0], \n",
    "         scores_clf_test_q[:, 4], \n",
    "         \".-\")\n",
    "plt.axhline(y=prod_agg_metrics[3], color=u'#1f77b4', linestyle='--', label=\"MV\")\n",
    "plt.ylabel('Среднее перекрытие')\n",
    "\n",
    "plt.xlabel('Порог')\n",
    "\n",
    "plt.savefig(\"assistant_clf_for_quasar.png\")\n",
    "plt.show()"
   ]
  },
  {
   "cell_type": "code",
   "execution_count": 41,
   "metadata": {},
   "outputs": [
    {
     "name": "stdout",
     "output_type": "stream",
     "text": [
      "Aggregated: 80.0876%\n",
      "WER: 3.8429%\n",
      "Accuracy: 90.6977%\n",
      "Mean overlap: 3.8\n"
     ]
    }
   ],
   "source": [
    "metrics = evaluate_metrics_clf_(valid_rows, \n",
    "                                test_features_q_url, \n",
    "                                'toloka_assignments_repeat_4_selected_workers_with_pitch', \n",
    "                                clf_q, \n",
    "                                0.948,\n",
    "                                min_cost=3,\n",
    "                                max_cost=7)"
   ]
  },
  {
   "cell_type": "code",
   "execution_count": null,
   "metadata": {},
   "outputs": [],
   "source": []
  }
 ],
 "metadata": {
  "kernelspec": {
   "display_name": "py_36",
   "language": "python",
   "name": "py_36"
  },
  "language_info": {
   "codemirror_mode": {
    "name": "ipython",
    "version": 3
   },
   "file_extension": ".py",
   "mimetype": "text/x-python",
   "name": "python",
   "nbconvert_exporter": "python",
   "pygments_lexer": "ipython3",
   "version": "3.6.3"
  }
 },
 "nbformat": 4,
 "nbformat_minor": 2
}
