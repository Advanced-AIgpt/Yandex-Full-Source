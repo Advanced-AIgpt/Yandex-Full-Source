{
 "cells": [
  {
   "cell_type": "markdown",
   "metadata": {},
   "source": [
    "## Считать данные с YT"
   ]
  },
  {
   "cell_type": "code",
   "execution_count": 30,
   "metadata": {},
   "outputs": [],
   "source": [
    "yt_table = '//tmp/nerevar/36f1b80e-40fcf61a-b79d4595-f1ebaff6'\n",
    "test_path = 'test_general/01_testname.in.json'"
   ]
  },
  {
   "cell_type": "code",
   "execution_count": 31,
   "metadata": {},
   "outputs": [
    {
     "name": "stdout",
     "output_type": "stream",
     "text": [
      "                                                                                                            \r"
     ]
    }
   ],
   "source": [
    "!ya tool yt read $yt_table --format '<encode_utf8=false>json' | jq -s '.' > $test_path\\.full"
   ]
  },
  {
   "cell_type": "markdown",
   "metadata": {},
   "source": [
    "## Удалить лишнее"
   ]
  },
  {
   "cell_type": "code",
   "execution_count": 32,
   "metadata": {},
   "outputs": [],
   "source": [
    "def remove_path_from_data(data, path):\n",
    "    try:\n",
    "        for item in path[:-1]:\n",
    "            data = data[item]\n",
    "        del data[path[-1]]\n",
    "        return True\n",
    "    except (KeyError, TypeError, IndexError):\n",
    "        return False\n",
    "\n",
    "\n",
    "EXCESS = [\n",
    "    ['analytics_info', 'scenario_timings'],\n",
    "    ['analytics_info', 'service_source_timings'],\n",
    "    ['analytics_info', 'analytics_info', 'Vins', 'frame_actions'],\n",
    "    ['analytics_info', 'analytics_info', 'Weather', 'frame_actions'],\n",
    "    ['vins_response', 'megamind_analytics_info'],\n",
    "    ['vins_response', 'sessions'],\n",
    "    ['vins_response', 'response', 'suggest'],\n",
    "    ['vins_response', 'response', 'experiments'],\n",
    "    ['vins_response', 'response', 'quality_storage'],\n",
    "#     ['device_state'],\n",
    "\n",
    "#     ['analytics_info'],\n",
    "]\n",
    "\n",
    "def reduce_query_data(item):\n",
    "    for excess_path in EXCESS:\n",
    "        remove_path_from_data(item, excess_path)"
   ]
  },
  {
   "cell_type": "code",
   "execution_count": 41,
   "metadata": {},
   "outputs": [],
   "source": [
    "import sys\n",
    "import json\n",
    "\n",
    "with open(test_path + '.full') as f:\n",
    "    data = json.load(f)\n",
    "    for item in data:\n",
    "        reduce_query_data(item)\n",
    "\n",
    "TESTS_COUNT = 10000\n",
    "\n",
    "with open(test_path, 'w', encoding='utf-8') as f:\n",
    "    json.dump(data[:TESTS_COUNT], f, indent=4, ensure_ascii=False)"
   ]
  },
  {
   "cell_type": "markdown",
   "metadata": {},
   "source": [
    "## Посмотреть содержимое тестов"
   ]
  },
  {
   "cell_type": "code",
   "execution_count": 35,
   "metadata": {
    "scrolled": false
   },
   "outputs": [
    {
     "name": "stdout",
     "output_type": "stream",
     "text": [
      "\n",
      "\n",
      " generic_scenario\n",
      "[('commands_other', 11),\n",
      " ('find_poi', 4),\n",
      " ('sound_commands', 4),\n",
      " ('nav_url', 3),\n",
      " ('player_commands', 3),\n",
      " ('alarm', 2),\n",
      " ('how_much', 2),\n",
      " ('music', 2),\n",
      " ('serp', 2),\n",
      " ('search', 2),\n",
      " ('taxi', 2),\n",
      " ('translate', 2),\n",
      " ('general_conversation', 1),\n",
      " ('dialogovo', 1),\n",
      " ('music_ambient_sound', 1),\n",
      " ('music_fairy_tale', 1),\n",
      " ('info_request', 1),\n",
      " ('route', 1),\n",
      " ('call', 1),\n",
      " ('radio', 1),\n",
      " ('reminder', 1),\n",
      " ('todo', 1),\n",
      " ('feedback', 1),\n",
      " ('stop', 1),\n",
      " ('timer', 1),\n",
      " ('images_what_is_this', 1),\n",
      " ('music_what_is_playing', 1)]\n",
      "\n",
      "\n",
      " intent\n",
      "[('personal_assistant\\tscenarios\\topen_site_or_app', 3),\n",
      " ('personal_assistant\\tscenarios\\tmusic_play', 2),\n",
      " ('personal_assistant\\tscenarios\\ttranslate', 2),\n",
      " ('personal_assistant\\tscenarios\\tsound_louder', 2),\n",
      " ('personal_assistant\\tgeneral_conversation\\tgeneral_conversation', 1),\n",
      " ('personal_assistant\\tscenarios\\talarm_set', 1),\n",
      " ('personal_assistant\\tstroka\\thibernate', 1),\n",
      " ('personal_assistant\\tstroka\\tclear_history', 1),\n",
      " ('personal_assistant\\tstroka\\tclose_browser', 1),\n",
      " ('personal_assistant\\tstroka\\topen_history', 1),\n",
      " ('personal_assistant\\tstroka\\topen_default_browser', 1),\n",
      " ('external_skill\\tactivate', 1),\n",
      " ('personal_assistant\\tstroka\\topen_folder', 1),\n",
      " ('personal_assistant\\tstroka\\topen_settings', 1),\n",
      " ('personal_assistant\\tscenarios\\thow_much', 1),\n",
      " ('personal_assistant\\tscenarios\\tmusic_ambient_sound', 1),\n",
      " ('personal_assistant\\tscenarios\\tmusic_fairy_tale', 1),\n",
      " ('serp', 1),\n",
      " ('personal_assistant\\tscenarios\\tfind_poi\\tcall', 1),\n",
      " ('personal_assistant\\tscenarios\\tfind_poi\\tdetails', 1),\n",
      " ('personal_assistant\\tscenarios\\tfind_poi\\topen_site', 1),\n",
      " ('personal_assistant\\tscenarios\\tfind_poi\\tshow_on_map', 1),\n",
      " ('personal_assistant\\tscenarios\\tget_my_location\\tdetails', 1),\n",
      " ('personal_assistant\\tscenarios\\tsearch', 1),\n",
      " ('personal_assistant\\tscenarios\\tsearch\\tserp', 1),\n",
      " ('personal_assistant\\tscenarios\\tsearch_anaphoric', 1),\n",
      " ('personal_assistant\\tscenarios\\tshow_route\\tshow_route_on_map', 1),\n",
      " ('personal_assistant\\tscenarios\\tcall', 1),\n",
      " ('personal_assistant\\tscenarios\\tradio_play', 1),\n",
      " ('personal_assistant\\tscenarios\\tlist_reminders', 1),\n",
      " ('personal_assistant\\tscenarios\\ttaxi_new_open_app', 1),\n",
      " ('personal_assistant\\tscenarios\\ttaxi_new_disabled', 1),\n",
      " ('personal_assistant\\tscenarios\\tlist_todo', 1),\n",
      " ('how_much', 1),\n",
      " ('personal_assistant\\tstroka\\topen_ya_browser', 1),\n",
      " ('personal_assistant\\tscenarios\\tplayer_continue', 1),\n",
      " ('personal_assistant\\tscenarios\\tplayer_dislike', 1),\n",
      " ('personal_assistant\\tscenarios\\tplayer_next_track', 1),\n",
      " ('personal_assistant\\tscenarios\\tplayer_pause', 1),\n",
      " ('personal_assistant\\tscenarios\\tplayer_replay', 1),\n",
      " ('personal_assistant\\tstroka\\tpower_off', 1),\n",
      " ('personal_assistant\\tstroka\\trestart_pc', 1),\n",
      " ('personal_assistant\\tstroka\\tsearch_local', 1),\n",
      " ('personal_assistant\\tscenarios\\ttimer_set', 1),\n",
      " ('personal_assistant\\tscenarios\\talarm_cancel', 1),\n",
      " ('personal_assistant\\tscenarios\\tsound_quiter', 1),\n",
      " ('personal_assistant\\tscenarios\\tsound_unmute', 1),\n",
      " ('EMPTY', 1),\n",
      " ('personal_assistant\\tscenarios\\tmusic_what_is_playing', 1)]\n",
      "\n",
      "\n",
      " app\n",
      "[('search_app_prod', 26),\n",
      " ('browser_prod', 13),\n",
      " ('stroka', 13),\n",
      " ('yabro_prod', 2)]\n"
     ]
    }
   ],
   "source": [
    "from collections import Counter\n",
    "from pprint import pprint\n",
    "\n",
    "for key in ['generic_scenario', 'intent', 'app']:\n",
    "    c = Counter()\n",
    "    for item in data:\n",
    "        c[item[key]] += 1\n",
    "    print('\\n\\n', key)\n",
    "    pprint(c.most_common())"
   ]
  },
  {
   "cell_type": "code",
   "execution_count": 43,
   "metadata": {
    "scrolled": false
   },
   "outputs": [
    {
     "data": {
      "text/plain": [
       "['понял',\n",
       " 'алиса включи будильник на шесть утра',\n",
       " 'спящий режим',\n",
       " 'очисти историю запросов',\n",
       " 'закрой все вкладки в браузере',\n",
       " 'расскажи мне историю',\n",
       " 'браузер открой',\n",
       " 'алиса давай поиграем в отгадки',\n",
       " 'папка воронежсинтезкаучук',\n",
       " 'алиса удаление программ',\n",
       " 'антивирус',\n",
       " 'я видел такой телефон как у дениски айфон шестнадцать гигабайт стоит три тысячи девятьсот рублей',\n",
       " 'слушай алиса найди нам собака лает как',\n",
       " 'расскажи сказку',\n",
       " 'ализе певица',\n",
       " 'скачать на телефон русскую музыку',\n",
       " 'помоги зарегистрироваться в контакте',\n",
       " 'сайт бук',\n",
       " 'окружающий мир второй класс вторая часть',\n",
       " 'позвони туда']"
      ]
     },
     "execution_count": 43,
     "metadata": {},
     "output_type": "execute_result"
    }
   ],
   "source": [
    "[x['query'] for x in data][:20]"
   ]
  },
  {
   "cell_type": "code",
   "execution_count": null,
   "metadata": {},
   "outputs": [],
   "source": []
  },
  {
   "cell_type": "code",
   "execution_count": null,
   "metadata": {},
   "outputs": [],
   "source": []
  },
  {
   "cell_type": "code",
   "execution_count": null,
   "metadata": {},
   "outputs": [],
   "source": []
  },
  {
   "cell_type": "markdown",
   "metadata": {},
   "source": [
    "## Срезать данные в конкретном файле"
   ]
  },
  {
   "cell_type": "code",
   "execution_count": 51,
   "metadata": {},
   "outputs": [],
   "source": [
    "test_path = 'test_make_session/02_session_facts_side_speech.in.json'\n",
    "with open(test_path) as f:\n",
    "    data = json.load(f)\n",
    "    for item in data:\n",
    "        reduce_query_data(item)\n",
    "\n",
    "with open(test_path, 'w', encoding='utf-8') as f:\n",
    "    json.dump(data, f, indent=4, ensure_ascii=False)"
   ]
  },
  {
   "cell_type": "code",
   "execution_count": null,
   "metadata": {},
   "outputs": [],
   "source": []
  }
 ],
 "metadata": {
  "kernelspec": {
   "display_name": "Python 3",
   "language": "python",
   "name": "python3"
  },
  "language_info": {
   "codemirror_mode": {
    "name": "ipython",
    "version": 3
   },
   "file_extension": ".py",
   "mimetype": "text/x-python",
   "name": "python",
   "nbconvert_exporter": "python",
   "pygments_lexer": "ipython3",
   "version": "3.8.2"
  }
 },
 "nbformat": 4,
 "nbformat_minor": 2
}