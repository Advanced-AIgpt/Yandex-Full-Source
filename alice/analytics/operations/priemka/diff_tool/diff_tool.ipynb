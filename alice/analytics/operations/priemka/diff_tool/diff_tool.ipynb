{
 "cells": [
  {
   "cell_type": "markdown",
   "id": "aa0f60ad",
   "metadata": {},
   "source": [
    "#  --==>> DIFF TOOL* /multi-basket edition/ <<==--\n",
    " _Как Пульсар, только разноцветный! ( \\* better title welcome )_\n",
    " \n",
    " by [optimus@](https://staff.yandex-team.ru/optimus) and [nerevar@](https://staff.yandex-team.ru/nerevar)"
   ]
  },
  {
   "cell_type": "markdown",
   "id": "cd5b8ed2",
   "metadata": {},
   "source": [
    "# 000. SETUP"
   ]
  },
  {
   "cell_type": "code",
   "execution_count": null,
   "id": "7acb2e33",
   "metadata": {
    "ExecuteTime": {
     "end_time": "2021-06-24T07:46:04.049379Z",
     "start_time": "2021-06-24T07:46:04.045058Z"
    }
   },
   "outputs": [],
   "source": [
    "import json\n",
    "import pandas as pd\n",
    "from IPython.display import display, HTML\n",
    "from ipywidgets import interact\n",
    "\n",
    "from jupytercloud.library import get_secret\n",
    "import jupytercloud.nirvana as jn\n",
    "\n",
    "pd.set_option('display.max_rows', 500, 'display.max_columns', 50, \"display.precision\", 5, \"display.max_colwidth\", 240)\n",
    "pd.set_option('display.expand_frame_repr', False)\n",
    "display(HTML(\"<style>.container { width:100% !important; }</style>\"))\n",
    "display(HTML('<link rel=\"stylesheet\" href=\"https://cdn.jupyter.org/notebook/5.1.0/style/style.min.css\">'))\n",
    "import warnings\n",
    "warnings.filterwarnings('ignore')"
   ]
  },
  {
   "cell_type": "code",
   "execution_count": null,
   "id": "665a2615",
   "metadata": {
    "ExecuteTime": {
     "end_time": "2021-06-24T07:46:04.445334Z",
     "start_time": "2021-06-24T07:46:04.052299Z"
    }
   },
   "outputs": [],
   "source": [
    "# ЗАГРУЗКА ПАРАМЕТРОВ\n",
    "try:\n",
    "    # загрузка параметров при работе в Нирване\n",
    "    with jn.get_named_input('input_tables', local_path='input_tables.json').open() as f:\n",
    "        data = json.load(f)\n",
    "    table_a = data[0]['results_prod']['table']\n",
    "    table_b = data[0]['results_test']['table']\n",
    "    diff_tools_commit = data[0].get('commit') or 'trunk'    \n",
    "    device = data[0].get('device') or None    # indicate device to get json report in output 1\n",
    "    fielddate = data[0].get('fielddate') or None    # indicate fielddate to get json report in output 1\n",
    "    hide_examples = (data[0].get('hide_examples').lower() in ('true', 'yes')) or False    # indicate basket to get json report in output 1\n",
    "    \n",
    "    yt_secret = data[0].get('yt_secret') or None\n",
    "    yt_token = get_secret(yt_secret)['nirvana-secret'] if yt_secret else None\n",
    "\n",
    "except:\n",
    "    # загрузка параметров при самостоятельной работе\n",
    "    fielddate, device = None, None\n",
    "    yt_token = None  # достаточно, чтобы токен лежал в ~/.yt/token на машинке в jupyter.yandex-team.ru\n",
    "    diff_tools_commit = 'trunk'  # сюда можно вставить номер комита для тестирования\n",
    "\n",
    "# Импорт модуля diff_utils\n",
    "alice_endtoend_arcanum_token = get_secret('sec-01f0br6d7z7yzv0nntyt9vmx40')['nirvana-secret']  # robot-alice-ue2e_arcanum_token\n",
    "!curl --silent -o  diff_utils.py -X GET 'https://a.yandex-team.ru/api/v2/repos/arc/downloads?at={diff_tools_commit}&path=alice/analytics/operations/priemka/diff_tool/diff_utils.py' --header \"Authorization: OAuth {alice_endtoend_arcanum_token}\"\n",
    "from diff_utils import DiffTool, MultiDiff, add_previous_table\n",
    "\n",
    "# УКАЖИ ЗДЕСЬ ПУТИ К СРАВНИВАЕМЫМ ТАБЛИЦАМ ПРИ САМОСТОЯТЕЛЬНОЙ РАБОТЕ:\n",
    "if not jn.is_nirvana():\n",
    "    hide_examples = False\n",
    "    table_a = None\n",
    "    table_b = '//home/alice/toloka/accept/ue2e_navi_auto/results/2021-07-17'\n",
    "#     table_a = '//home/alice/robot-alice-priemka/nirvana/3aad79e2-7137-49f1-b1c6-b08bfa111e88/output_table__9kP2ZGzZSiOtgFTwV2UiVA'\n",
    "#     table_b = '//home/alice/robot-alice-priemka/nirvana/79e9a062-b7e5-44c5-86ed-39db41481588/output_table___SP5t2z3RGe-m-HviJBe8A'\n",
    "\n",
    "table_a, table_b = add_previous_table(table_a, table_b)\n",
    "print (f\"Используются таблицы:\\nA: {table_a}\\nB: {table_b}\")"
   ]
  },
  {
   "cell_type": "markdown",
   "id": "1642488b",
   "metadata": {},
   "source": [
    "# СВОДНЫЕ ТАБЛИЦЫ И ПРИМЕРЫ:"
   ]
  },
  {
   "cell_type": "code",
   "execution_count": null,
   "id": "ab3443ff",
   "metadata": {},
   "outputs": [],
   "source": [
    "# Создание объекта multi-diff\n",
    "md = MultiDiff(table_a, table_b, yt_token=yt_token, print_multi_summary=True, hide_examples=hide_examples)\n",
    "if jn.is_nirvana():\n",
    "    md(md.baskets[0]).send_json_report(fielddate=fielddate, device=device)"
   ]
  },
  {
   "cell_type": "code",
   "execution_count": null,
   "id": "529fc30c",
   "metadata": {},
   "outputs": [],
   "source": [
    "# показ отчетов о причинах изменения метрики качества по каждой корзине.\n",
    "for basket in md.baskets:\n",
    "    md(basket).display_diff_tables(with_examples = not hide_examples)"
   ]
  },
  {
   "cell_type": "code",
   "execution_count": null,
   "id": "a4502f5d",
   "metadata": {},
   "outputs": [],
   "source": [
    "# Для дальнейшего анализа возможно выгрузить нотбук в формате .ipynb, указать пути к таблицам и получить отчёты и примеры, используя такие команды:\n",
    "    \n",
    "\n",
    "# basket = 'ue2e_quasar' # указывайте basket при запросах\n",
    "\n",
    "# Примеры ошибок ASR\n",
    "# md(basket).display_asr_examples(n_rows=10, asr_type='asr')  # asr_type values: 'asr_under', 'asr_over', 'asr'\n",
    "\n",
    "# Примеры ошибок внутри сценария\n",
    "# md(basket).display_same_scenario_examples(scenario='music', diff_sign='neg', n_rows=10) # diff_sign values: 'neg', 'pos', 'any'\n",
    "\n",
    "# Показ всех отчётов для корзины (с примерами или без)\n",
    "# md(basket).display_diff_tables (with_examples=True)"
   ]
  },
  {
   "cell_type": "code",
   "execution_count": null,
   "id": "55ce1364",
   "metadata": {},
   "outputs": [],
   "source": []
  }
 ],
 "metadata": {
  "jupytercloud": {
   "share": {
    "history": [
     {
      "link": "https://a.yandex-team.ru/arc/trunk/arcadia/junk/optimus/jupyter/diffs/diff_tool.ipynb",
      "path": "junk/optimus/jupyter/diffs/diff_tool.ipynb",
      "success": true,
      "timestamp": 1622662589453
     },
     {
      "link": "https://a.yandex-team.ru/arc/trunk/arcadia/junk/optimus/jupyter/diffs/diff_tool.ipynb",
      "path": "junk/optimus/jupyter/diffs/diff_tool.ipynb",
      "success": true,
      "timestamp": 1622665514558
     },
     {
      "link": "https://a.yandex-team.ru/arc/trunk/arcadia/junk/optimus/jupyter/diffs/diff_tool.ipynb",
      "path": "junk/optimus/jupyter/diffs/diff_tool.ipynb",
      "success": true,
      "timestamp": 1622666390013
     },
     {
      "link": "https://a.yandex-team.ru/arc/trunk/arcadia/junk/optimus/jupyter/diffs/diff_tool.ipynb",
      "path": "junk/optimus/jupyter/diffs/diff_tool.ipynb",
      "success": true,
      "timestamp": 1622708795630
     },
     {
      "link": "https://a.yandex-team.ru/arc/trunk/arcadia/junk/optimus/jupyter/diffs/diff_tool.ipynb",
      "path": "junk/optimus/jupyter/diffs/diff_tool.ipynb",
      "success": true,
      "timestamp": 1622709672635
     },
     {
      "link": "https://a.yandex-team.ru/arc/trunk/arcadia/junk/optimus/jupyter/diffs/diff_tool.ipynb",
      "path": "junk/optimus/jupyter/diffs/diff_tool.ipynb",
      "success": true,
      "timestamp": 1622710793177
     },
     {
      "link": "https://a.yandex-team.ru/arc/trunk/arcadia/junk/optimus/jupyter/diffs/diff_tool.ipynb",
      "path": "junk/optimus/jupyter/diffs/diff_tool.ipynb",
      "success": true,
      "timestamp": 1622714768692
     },
     {
      "link": "https://a.yandex-team.ru/arc/trunk/arcadia/junk/optimus/jupyter/diffs/diff_tool.ipynb",
      "path": "junk/optimus/jupyter/diffs/diff_tool.ipynb",
      "success": true,
      "timestamp": 1622722986996
     },
     {
      "link": "https://a.yandex-team.ru/arc/trunk/arcadia/junk/optimus/jupyter/diffs/diff_tool.ipynb",
      "path": "junk/optimus/jupyter/diffs/diff_tool.ipynb",
      "success": true,
      "timestamp": 1622723790673
     },
     {
      "link": "https://a.yandex-team.ru/arc/trunk/arcadia/junk/optimus/jupyter/diffs/diff_tool.ipynb",
      "path": "junk/optimus/jupyter/diffs/diff_tool.ipynb",
      "success": true,
      "timestamp": 1622726709108
     },
     {
      "link": "https://a.yandex-team.ru/arc/trunk/arcadia/junk/optimus/jupyter/diffs/diff_tool.ipynb",
      "path": "junk/optimus/jupyter/diffs/diff_tool.ipynb",
      "success": true,
      "timestamp": 1622727108841
     },
     {
      "link": "https://a.yandex-team.ru/arc/trunk/arcadia/junk/optimus/jupyter/diffs/diff_tool.ipynb",
      "path": "junk/optimus/jupyter/diffs/diff_tool.ipynb",
      "success": true,
      "timestamp": 1622727557447
     },
     {
      "link": "https://a.yandex-team.ru/arc/trunk/arcadia/junk/optimus/jupyter/diffs/diff_tool.ipynb",
      "path": "junk/optimus/jupyter/diffs/diff_tool.ipynb",
      "success": true,
      "timestamp": 1622728008136
     },
     {
      "link": "https://a.yandex-team.ru/arc/trunk/arcadia/junk/optimus/jupyter/diffs/diff_tool.ipynb",
      "path": "junk/optimus/jupyter/diffs/diff_tool.ipynb",
      "success": true,
      "timestamp": 1622729956119
     },
     {
      "link": "https://a.yandex-team.ru/arc/trunk/arcadia/junk/optimus/jupyter/diffs/diff_tool.ipynb",
      "path": "junk/optimus/jupyter/diffs/diff_tool.ipynb",
      "success": true,
      "timestamp": 1622736133217
     },
     {
      "link": "https://a.yandex-team.ru/arc/trunk/arcadia/junk/optimus/jupyter/diffs/diff_tool.ipynb",
      "path": "junk/optimus/jupyter/diffs/diff_tool.ipynb",
      "success": true,
      "timestamp": 1622840924954
     },
     {
      "link": "https://a.yandex-team.ru/arc/trunk/arcadia/junk/optimus/jupyter/diffs/diff_tool.ipynb",
      "path": "junk/optimus/jupyter/diffs/diff_tool.ipynb",
      "success": true,
      "timestamp": 1622881643098
     },
     {
      "link": "https://a.yandex-team.ru/arc/trunk/arcadia/junk/optimus/jupyter/diffs/diff_tool.ipynb",
      "path": "junk/optimus/jupyter/diffs/diff_tool.ipynb",
      "success": true,
      "timestamp": 1623054611070
     },
     {
      "link": "https://a.yandex-team.ru/arc/trunk/arcadia/junk/optimus/jupyter/diffs/diff_tool.ipynb",
      "path": "junk/optimus/jupyter/diffs/diff_tool.ipynb",
      "success": true,
      "timestamp": 1623055778536
     },
     {
      "link": "https://a.yandex-team.ru/arc/trunk/arcadia/junk/optimus/jupyter/diffs/diff_tool.ipynb",
      "path": "junk/optimus/jupyter/diffs/diff_tool.ipynb",
      "success": true,
      "timestamp": 1623056245628
     },
     {
      "link": "https://a.yandex-team.ru/arc/trunk/arcadia/junk/optimus/jupyter/diffs/diff_tool.ipynb",
      "path": "junk/optimus/jupyter/diffs/diff_tool.ipynb",
      "success": true,
      "timestamp": 1623060737760
     }
    ]
   },
   "vault": {
    "secrets": [
     {
      "name": "alice_endtoend_arcanum_token",
      "uuid": "sec-01f0br6d7z7yzv0nntyt9vmx40"
     },
     {
      "name": "alice_endtoend_yt_token",
      "uuid": "sec-01ey8e9jpkphjxgk7dc0jkvzn3"
     },
     {
      "name": "robot_voice_qa_yt_token",
      "uuid": "sec-01daxf8dfr50pjk8wjyd4478aa"
     }
    ]
   }
  },
  "kernelspec": {
   "display_name": "Arcadia Python 3 Default",
   "language": "python",
   "name": "arcadia_default_py3"
  },
  "language_info": {
   "codemirror_mode": {
    "name": "ipython",
    "version": 3
   },
   "file_extension": ".py",
   "mimetype": "text/x-python",
   "name": "python",
   "nbconvert_exporter": "python",
   "pygments_lexer": "ipython3",
   "version": "3.9.6"
  }
 },
 "nbformat": 4,
 "nbformat_minor": 5
}
