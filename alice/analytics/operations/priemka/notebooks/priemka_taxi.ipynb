{
 "cells": [
  {
   "cell_type": "code",
   "execution_count": null,
   "metadata": {},
   "outputs": [],
   "source": [
    "# here create tasks for taxi scenario from 2019-10-11 16:00 to 2019-10-13"
   ]
  },
  {
   "cell_type": "code",
   "execution_count": 10,
   "metadata": {
    "ExecuteTime": {
     "end_time": "2019-10-14T16:15:58.937266Z",
     "start_time": "2019-10-14T16:15:58.933939Z"
    }
   },
   "outputs": [],
   "source": [
    "#YQL v0\n",
    "USE hahn;\n",
    "pragma simplecolumns;\n",
    "insert into [//tmp/serggor/new_taxi_vins] with truncate\n",
    "SELECT a.*, Yson::ConvertToString(Yson::SerializePretty(a.request.request_id))  as request_id\n",
    "FROM range([//home/voice/vins/logs/dialogs], [2019-10-17], [2019-10-20]) as a"
   ]
  },
  {
   "cell_type": "code",
   "execution_count": null,
   "metadata": {},
   "outputs": [],
   "source": []
  },
  {
   "cell_type": "code",
   "execution_count": 23,
   "metadata": {
    "ExecuteTime": {
     "end_time": "2019-10-21T09:56:16.923859Z",
     "start_time": "2019-10-21T09:49:56.324936Z"
    }
   },
   "outputs": [
    {
     "name": "stderr",
     "output_type": "stream",
     "text": [
      "NileWarning: Runtime Nile version ('2.24.0') is lower than installed ('2.25.0')\n"
     ]
    },
    {
     "data": {
      "application/vnd.jupyter.widget-view+json": {
       "model_id": "28cf236504e74e258a0865a736734fda",
       "version_major": 2,
       "version_minor": 0
      },
      "text/plain": [
       "VBox()"
      ]
     },
     "metadata": {},
     "output_type": "display_data"
    }
   ],
   "source": [
    "from nile.api.v1 import clusters, Record, filters as nf, aggregators as na\n",
    "\n",
    "def mapper(records):\n",
    "    for rec in records:\n",
    "        if int(rec['session_id'].split(\"_\")[1]) <= 1570798800: continue\n",
    "        for el in rec['session']:\n",
    "            if el['intent'] and \"taxi_new\" in el['intent']:\n",
    "                yield rec\n",
    "                break\n",
    "                \n",
    "                \n",
    "def mapper1(records):\n",
    "    for record in records:\n",
    "        n = len(record['session'])\n",
    "        first, last = -1, n\n",
    "        for el in range(n):\n",
    "            if \"taxi_new\" in record['session'][el]['intent'] or \"taxi_new\" in record['session'][el].get('restored', ''):\n",
    "                if first == -1:\n",
    "                    first = el\n",
    "                last = el\n",
    "        first = max(first-3, 0)\n",
    "        last = min(last+4, n)\n",
    "        yield Record(record, session=record['session'][first:last])\n",
    "            \n",
    "\n",
    "            \n",
    "cluster = clusters.YT(proxy=\"hahn.yt.yandex.net\").env(templates={\"date\": \"{2019-10-17..2019-10-20}\"})\n",
    "job = cluster.job()\n",
    "job.table('//home/voice/dialog/sessions/@date') \\\n",
    "        .map(mapper) \\\n",
    "        .map(mapper1) \\\n",
    "        .put('//tmp/serggor/new_taxi_afted_16_00')\n",
    "\n",
    "job.run()"
   ]
  },
  {
   "cell_type": "code",
   "execution_count": 24,
   "metadata": {
    "ExecuteTime": {
     "end_time": "2019-10-21T09:57:18.465108Z",
     "start_time": "2019-10-21T09:56:16.930309Z"
    }
   },
   "outputs": [
    {
     "name": "stderr",
     "output_type": "stream",
     "text": [
      "NileWarning: Runtime Nile version ('2.24.0') is lower than installed ('2.25.0')\n"
     ]
    },
    {
     "data": {
      "application/vnd.jupyter.widget-view+json": {
       "model_id": "2662bd4004604491b99b789d4734b835",
       "version_major": 2,
       "version_minor": 0
      },
      "text/plain": [
       "VBox()"
      ]
     },
     "metadata": {},
     "output_type": "display_data"
    }
   ],
   "source": [
    "from nile.api.v1 import clusters, Record, filters as nf, aggregators as na\n",
    "\n",
    "def mapper(records):\n",
    "    for rec in records:\n",
    "        for idx, el in enumerate(rec['session']):\n",
    "            yield Record.from_dict({\n",
    "                \"request_id\": el[\"req_id\"],\n",
    "                \"idx\": idx,\n",
    "                \"session_id\": rec[\"session_id\"]\n",
    "            })\n",
    "            \n",
    "cluster = clusters.YT(proxy=\"hahn.yt.yandex.net\")\n",
    "job = cluster.job()\n",
    "job.table('//tmp/serggor/new_taxi_afted_16_00') \\\n",
    "        .map(mapper) \\\n",
    "        .put('//tmp/serggor/new_taxi_afted_16_00_splitted')\n",
    "\n",
    "job.run()"
   ]
  },
  {
   "cell_type": "code",
   "execution_count": null,
   "metadata": {},
   "outputs": [],
   "source": []
  },
  {
   "cell_type": "code",
   "execution_count": 12,
   "metadata": {
    "ExecuteTime": {
     "end_time": "2019-10-14T17:06:00.337874Z",
     "start_time": "2019-10-14T16:35:00.819756Z"
    },
    "collapsed": true
   },
   "outputs": [
    {
     "data": {
      "application/vnd.jupyter.widget-view+json": {
       "model_id": "75055ae0c02b41e6939712c0dd9ac01a",
       "version_major": 2,
       "version_minor": 0
      },
      "text/plain": [
       "VBox()"
      ]
     },
     "metadata": {},
     "output_type": "display_data"
    }
   ],
   "source": [
    "USE hahn; \n",
    "PRAGMA yt.InferSchema;\n",
    "PRAGMA SimpleColumns;\n",
    "PRAGMA yt.Pool = \"voice\";\n",
    "insert into [//tmp/serggor/new_taxi_req_with_audio]\n",
    "WITH TRUNCATE \n",
    "SELECT some(mds_key) as mds_key, idx, request_id, session_id\n",
    "FROM (\n",
    "    SELECT a.*, b.mds_key as mds_key\n",
    "    FROM [//tmp/serggor/new_taxi_afted_16_00_splitted] as a\n",
    "    LEFT JOIN range([//home/voice-speechbase/uniproxy/logs_unified_qloud], [2019-10-17], [2019-10-20]) as b\n",
    "    ON a.request_id == b.vins_request_id\n",
    ")as a\n",
    "GROUP BY idx, request_id, session_id"
   ]
  },
  {
   "cell_type": "code",
   "execution_count": null,
   "metadata": {},
   "outputs": [],
   "source": [
    "USE hahn; \n",
    "PRAGMA yt.InferSchema;\n",
    "PRAGMA SimpleColumns;\n",
    "PRAGMA yt.Pool = \"voice\";\n",
    "insert into [//tmp/serggor/new_taxi_with_response]\n",
    "WITH TRUNCATE \n",
    "SELECT some(response) as response, idx, request_id, session_id\n",
    "FROM (\n",
    "    SELECT a.idx as idx, a.request_id as request_id, a.session_id as session_id, b.response as response\n",
    "    FROM [//tmp/serggor/new_taxi_afted_16_00_splitted] as a\n",
    "    LEFT JOIN [//tmp/serggor/new_taxi_vins] as b\n",
    "    ON a.request_id == b.request_id\n",
    ") as a\n",
    "GROUP BY idx, request_id, session_id"
   ]
  },
  {
   "cell_type": "code",
   "execution_count": 26,
   "metadata": {
    "ExecuteTime": {
     "end_time": "2019-10-21T11:47:38.001140Z",
     "start_time": "2019-10-21T11:46:31.615109Z"
    }
   },
   "outputs": [
    {
     "name": "stderr",
     "output_type": "stream",
     "text": [
      "NileWarning: Runtime Nile version ('2.24.0') is lower than installed ('2.25.0')\n"
     ]
    },
    {
     "data": {
      "application/vnd.jupyter.widget-view+json": {
       "model_id": "e21a5763c540423d9f959271efd135f3",
       "version_major": 2,
       "version_minor": 0
      },
      "text/plain": [
       "VBox()"
      ]
     },
     "metadata": {},
     "output_type": "display_data"
    }
   ],
   "source": [
    "from nile.api.v1 import clusters, Record, filters as nf, aggregators as na\n",
    "\n",
    "def mapper(records):\n",
    "    for record in records:\n",
    "        rec = record.to_dict()\n",
    "        el = {}\n",
    "        for meta in rec['response']['meta']:\n",
    "            if meta['type'] == \"analytics_info\" and meta.get('form', {}).get('slots'):\n",
    "                for slot in meta['form']['slots']:\n",
    "                    if slot and slot.get('value_type') == \"geo\" and slot['value'] and slot['value'].get('address_line'):\n",
    "                        el[slot['slot']] = slot['value']['address_line']\n",
    "                    if slot and slot.get('value_type') == \"poi\":\n",
    "                        if slot['value'] and slot['value'].get('company_name'):\n",
    "                            el[slot['slot']] = slot['value']['company_name']\n",
    "                        if slot['value'] and slot['value'].get('geo').get('address_line'):\n",
    "                            el[slot['slot']] += \" по адресу: \" + slot['value']['geo']['address_line']\n",
    "        yield Record.from_dict({\n",
    "            \"request_id\": rec['request_id'], \n",
    "            \"idx\": rec[\"idx\"], \n",
    "            \"session_id\": rec[\"session_id\"], \n",
    "            \"geo\":el\n",
    "        })\n",
    "\n",
    "cluster = clusters.YT(proxy=\"hahn.yt.yandex.net\")\n",
    "job = cluster.job()\n",
    "us = job.table('//tmp/serggor/new_taxi_with_response') \\\n",
    "        .map(mapper) \\\n",
    "        .put('//tmp/serggor/new_taxi_with_geo')\n",
    "\n",
    "job.run()"
   ]
  },
  {
   "cell_type": "code",
   "execution_count": null,
   "metadata": {},
   "outputs": [],
   "source": [
    "USE hahn; \n",
    "PRAGMA yt.InferSchema;\n",
    "PRAGMA SimpleColumns;\n",
    "PRAGMA yt.Pool = \"voice\";\n",
    "insert into [//tmp/serggor/new_taxi_with_audio_geo]\n",
    "WITH TRUNCATE \n",
    "SELECT a.mds_key as mds_key, a.idx as idx, a.request_id as request_id, a.session_id as session_id, b.geo as geo\n",
    "FROM [//tmp/serggor/new_taxi_req_with_audio] as a\n",
    "join [//tmp/serggor/new_taxi_with_geo] as b\n",
    "USING (request_id)"
   ]
  },
  {
   "cell_type": "code",
   "execution_count": 34,
   "metadata": {
    "ExecuteTime": {
     "end_time": "2019-10-21T17:26:56.063676Z",
     "start_time": "2019-10-21T17:23:37.231281Z"
    }
   },
   "outputs": [
    {
     "name": "stderr",
     "output_type": "stream",
     "text": [
      "NileWarning: Runtime Nile version ('2.24.0') is lower than installed ('2.25.0')\n"
     ]
    },
    {
     "data": {
      "application/vnd.jupyter.widget-view+json": {
       "model_id": "16bcfacddcfb473a8a17ca8d9aba4887",
       "version_major": 2,
       "version_minor": 0
      },
      "text/plain": [
       "VBox()"
      ]
     },
     "metadata": {},
     "output_type": "display_data"
    }
   ],
   "source": [
    "from nile.api.v1 import clusters, Record, filters as nf, aggregators as na\n",
    "from operator import attrgetter\n",
    "\n",
    "def mapper(records):\n",
    "    for record in records:\n",
    "        rec = record.to_dict()\n",
    "        if '_other' in rec:\n",
    "            del rec['_other']\n",
    "        res = []\n",
    "        for ses, aud in zip(rec['session'], rec['column']):\n",
    "            ses['geo'] = aud['geo']\n",
    "            ses['mds_key'] = aud['mds_key']\n",
    "            res.append(ses)\n",
    "        rec['session'] = res\n",
    "        del rec['column']\n",
    "        yield Record(**rec)\n",
    "        \n",
    "def reducer(sessions):\n",
    "    for _, records in sessions:\n",
    "        \n",
    "        t1 = list(map(lambda x: {\n",
    "            \"idx\": x[\"idx\"],\n",
    "            \"geo\": x[\"geo\"],\n",
    "            \"mds_key\": x[\"mds_key\"],\n",
    "            \"request_id\": x[\"request_id\"],\n",
    "            \"session_id\": x[\"session_id\"]\n",
    "        }, sorted(list(records), key=attrgetter('session_id', 'idx'))))\n",
    "        t2 = [{\"session_id\": \"session_id\"}] + t1 + [{\"session_id\": \"session_id\"}]\n",
    "        ans, cur = [], []\n",
    "        for idx in range(1, len(t2)):\n",
    "            if t2[idx]['session_id'] == t2[idx-1]['session_id']:\n",
    "                cur.append(t2[idx])\n",
    "            else:\n",
    "                if cur:\n",
    "                    yield Record.from_dict({\n",
    "                        \"column\": cur,\n",
    "                        \"session_id\": cur[0][\"session_id\"]\n",
    "                    })\n",
    "                cur = [t2[idx]]\n",
    "        \n",
    "\n",
    "cluster = clusters.YT(proxy=\"hahn.yt.yandex.net\")\n",
    "job = cluster.job()\n",
    "for_join = job.table(\"//tmp/serggor/new_taxi_with_audio_geo\") \\\n",
    "        .groupby('session_id') \\\n",
    "        .reduce(reducer)\n",
    "\n",
    "\n",
    "job.table('//tmp/serggor/new_taxi_afted_16_00') \\\n",
    "        .join(for_join, by='session_id') \\\n",
    "        .map(mapper) \\\n",
    "        .put('//tmp/serggor/new_taxi_with_all')\n",
    "\n",
    "job.run()"
   ]
  },
  {
   "cell_type": "code",
   "execution_count": 31,
   "metadata": {
    "ExecuteTime": {
     "end_time": "2019-10-21T12:19:42.333116Z",
     "start_time": "2019-10-21T12:18:13.341568Z"
    }
   },
   "outputs": [
    {
     "name": "stderr",
     "output_type": "stream",
     "text": [
      "NileWarning: Runtime Nile version ('2.24.0') is lower than installed ('2.25.0')\n"
     ]
    },
    {
     "data": {
      "application/vnd.jupyter.widget-view+json": {
       "model_id": "13929c807881458ca1d514fad92f3ddb",
       "version_major": 2,
       "version_minor": 0
      },
      "text/plain": [
       "VBox()"
      ]
     },
     "metadata": {},
     "output_type": "display_data"
    }
   ],
   "source": [
    "from nile.api.v1 import clusters, Record, filters as nf, aggregators as na\n",
    "\n",
    "def mapper2(records, output1, output2):\n",
    "    for record in records:\n",
    "        flag = True\n",
    "        for el in record['session']:\n",
    "            if el['intent'] and \"taxi_new_order\" in el['intent'] and \"confirm\" in el['intent'] and \"confirmation_no\" not in el['intent']:\n",
    "                output1(record)\n",
    "                flag = False\n",
    "                continue\n",
    "        if flag:\n",
    "            output2(record)\n",
    "            \n",
    "\n",
    "cluster = clusters.YT(proxy=\"hahn.yt.yandex.net\")\n",
    "job = cluster.job()\n",
    "o1, o2 = job.table('//tmp/serggor/new_taxi_with_all') \\\n",
    "        .map(mapper2)\n",
    "o1.put('//tmp/serggor/new_taxi_with_confirm')\n",
    "o2.put('//tmp/serggor/new_taxi_without_confirm')\n",
    "\n",
    "job.run()"
   ]
  },
  {
   "cell_type": "code",
   "execution_count": null,
   "metadata": {},
   "outputs": [],
   "source": [
    "https://nirvana.yandex-team.ru/flow/29d49660-b250-493d-b622-34c611233455/af972b7a-1b9a-400d-ab4f-baba1877978d/graph\n",
    "229163 - created pool in toloka for uploading task suites"
   ]
  },
  {
   "cell_type": "code",
   "execution_count": null,
   "metadata": {},
   "outputs": [],
   "source": [
    "https://nirvana.yandex-team.ru/flow/29d49660-b250-493d-b622-34c611233455/d1eb6c6e-90d3-469f-8d3a-7b2a9784973a/graph\n",
    "229164 - created pool in toloka for uploading task suites"
   ]
  },
  {
   "cell_type": "code",
   "execution_count": null,
   "metadata": {},
   "outputs": [],
   "source": []
  }
 ],
 "metadata": {
  "kernelspec": {
   "display_name": "Python 2",
   "language": "python",
   "name": "python2"
  },
  "language_info": {
   "codemirror_mode": {
    "name": "ipython",
    "version": 2
   },
   "file_extension": ".py",
   "mimetype": "text/x-python",
   "name": "python",
   "nbconvert_exporter": "python",
   "pygments_lexer": "ipython2",
   "version": "2.7.15+"
  }
 },
 "nbformat": 4,
 "nbformat_minor": 2
}
