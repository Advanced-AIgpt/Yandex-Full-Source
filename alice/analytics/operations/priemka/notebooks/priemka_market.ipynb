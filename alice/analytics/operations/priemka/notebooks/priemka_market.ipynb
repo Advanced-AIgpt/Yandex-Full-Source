{
 "cells": [
  {
   "cell_type": "code",
   "execution_count": null,
   "metadata": {},
   "outputs": [],
   "source": [
    "#YQL v0\n",
    "USE hahn;\n",
    "pragma simplecolumns;\n",
    "insert into [//tmp/serggor/new_market_vins] with truncate\n",
    "SELECT a.*, Yson::ConvertToString(Yson::SerializePretty(a.request.request_id)) as request_id\n",
    "FROM range([//home/voice/vins/logs/dialogs], [2019-10-13], [2019-10-20]) as a"
   ]
  },
  {
   "cell_type": "code",
   "execution_count": 117,
   "metadata": {
    "ExecuteTime": {
     "end_time": "2019-10-21T14:59:31.768310Z",
     "start_time": "2019-10-21T14:56:09.487264Z"
    }
   },
   "outputs": [
    {
     "name": "stderr",
     "output_type": "stream",
     "text": [
      "NileWarning: Runtime Nile version ('2.24.0') is lower than installed ('2.25.0')\n"
     ]
    },
    {
     "data": {
      "application/vnd.jupyter.widget-view+json": {
       "model_id": "48ba8bc0ff0140988dc6075b587140cc",
       "version_major": 2,
       "version_minor": 0
      },
      "text/plain": [
       "VBox()"
      ]
     },
     "metadata": {},
     "output_type": "display_data"
    }
   ],
   "source": [
    "from nile.api.v1 import clusters, Record, filters as nf, aggregators as na\n",
    "\n",
    "def mapper(records):\n",
    "    for rec in records:\n",
    "        if \"178278\" in rec['testids']:\n",
    "            for el in rec['session']:\n",
    "                if  el['intent'] and \"market\\tmarket\" in el['intent']:\n",
    "                    yield rec\n",
    "                    break\n",
    "\n",
    "\n",
    "def mapper1(records):\n",
    "    for record in records:\n",
    "        n = len(record['session'])\n",
    "        first, last = -1, n\n",
    "        for el in range(n):\n",
    "            if \"market\\tmarket\" in record['session'][el]['intent'] or \"market\\tmarket\" in record['session'][el].get('restored', ''):\n",
    "                if first == -1:\n",
    "                    first = el\n",
    "                last = el\n",
    "        first = max(first-3, 0)\n",
    "        last = min(last+4, n)\n",
    "        yield Record(record, session=record['session'][first:last])\n",
    "\n",
    "            \n",
    "cluster = clusters.YT(proxy=\"hahn.yt.yandex.net\").env(templates={\"date\": \"{2019-10-13..2019-10-20}\"})\n",
    "job = cluster.job()\n",
    "job.table('//home/voice/dialog/sessions/@date') \\\n",
    "        .map(mapper) \\\n",
    "        .map(mapper1) \\\n",
    "        .random(count=1000) \\\n",
    "        .put('//tmp/serggor/new_market')\n",
    "\n",
    "job.run()"
   ]
  },
  {
   "cell_type": "code",
   "execution_count": 118,
   "metadata": {
    "ExecuteTime": {
     "end_time": "2019-10-21T15:00:31.471915Z",
     "start_time": "2019-10-21T14:59:31.774952Z"
    }
   },
   "outputs": [
    {
     "name": "stderr",
     "output_type": "stream",
     "text": [
      "NileWarning: Runtime Nile version ('2.24.0') is lower than installed ('2.25.0')\n"
     ]
    },
    {
     "data": {
      "application/vnd.jupyter.widget-view+json": {
       "model_id": "a36f483a316843c1a35c3f5fe22d29b4",
       "version_major": 2,
       "version_minor": 0
      },
      "text/plain": [
       "VBox()"
      ]
     },
     "metadata": {},
     "output_type": "display_data"
    }
   ],
   "source": [
    "from nile.api.v1 import clusters, Record, filters as nf, aggregators as na\n",
    "\n",
    "def mapper(records):\n",
    "    for rec in records:\n",
    "        for idx, el in enumerate(rec['session']):\n",
    "            yield Record.from_dict({\n",
    "                \"request_id\": el[\"req_id\"],\n",
    "                \"idx\": idx,\n",
    "                \"session_id\": rec[\"session_id\"]\n",
    "            })\n",
    "            \n",
    "cluster = clusters.YT(proxy=\"hahn.yt.yandex.net\")\n",
    "job = cluster.job()\n",
    "job.table('//tmp/serggor/new_market') \\\n",
    "        .map(mapper) \\\n",
    "        .put('//tmp/serggor/new_market_splitted')\n",
    "\n",
    "job.run()"
   ]
  },
  {
   "cell_type": "code",
   "execution_count": null,
   "metadata": {},
   "outputs": [],
   "source": [
    "USE hahn; \n",
    "PRAGMA yt.InferSchema;\n",
    "PRAGMA SimpleColumns;\n",
    "PRAGMA yt.Pool = \"voice\";\n",
    "\n",
    "INSERT INTO [//tmp/serggor/new_market_for_screenshot]\n",
    "WITH TRUNCATE \n",
    "SELECT request_id, session_id, idx, some(mds_key) as mds_key, some(response) as response, some(utterance_text) as utterance_text\n",
    "FROM (\n",
    "    SELECT c.request_id as request_id, c.session_id as session_id, c.mds_key as mds_key, c.idx as idx, d.response as response, d.utterance_text as utterance_text\n",
    "    FROM (\n",
    "        SELECT some(mds_key) as mds_key, idx, request_id, session_id\n",
    "        FROM (\n",
    "            SELECT a.*, b.mds_key as mds_key\n",
    "            FROM [//tmp/serggor/new_market_splitted] as a\n",
    "            LEFT JOIN range([//home/voice-speechbase/uniproxy/logs_unified_qloud], [2019-10-13], [2019-10-20]) as b\n",
    "            ON a.request_id == b.vins_request_id\n",
    "        )\n",
    "        GROUP BY idx, request_id, session_id\n",
    "    ) AS c\n",
    "    LEFT JOIN [//tmp/serggor/new_market_vins] AS d\n",
    "    USING(request_id)\n",
    ")\n",
    "GROUP BY idx, request_id, session_id"
   ]
  },
  {
   "cell_type": "code",
   "execution_count": null,
   "metadata": {},
   "outputs": [],
   "source": [
    "https://nirvana.yandex-team.ru/flow/29d49660-b250-493d-b622-34c611233455/50ad218e-2301-4f42-bea0-4fda7e0d818e/graph"
   ]
  },
  {
   "cell_type": "code",
   "execution_count": null,
   "metadata": {},
   "outputs": [],
   "source": [
    "PRAGMA yt.InferSchema = '1';\n",
    "PRAGMA SimpleColumns;\n",
    "use hahn;\n",
    "insert into [//tmp/serggor/new_market_screenshots] with truncate \n",
    "select request_id, session_id, idx, some(mds_key) as mds_key, some(screenshot_url) as screenshot_url\n",
    "from (\n",
    "    select a.idx as idx, a.request_id as request_id, a.session_id as session_id, a.mds_key as mds_key, b.downloadUrl as screenshot_url\n",
    "    from [//tmp/serggor/new_market_for_screenshot] as a\n",
    "    left join [//tmp/serggor/market_screenshots] as b\n",
    "    on a.request_id == substring(b.initialFileName, 12, 36)\n",
    ") \n",
    "group by request_id, session_id, idx"
   ]
  },
  {
   "cell_type": "code",
   "execution_count": null,
   "metadata": {},
   "outputs": [],
   "source": []
  },
  {
   "cell_type": "code",
   "execution_count": 123,
   "metadata": {
    "ExecuteTime": {
     "end_time": "2019-10-21T17:39:59.556013Z",
     "start_time": "2019-10-21T17:36:48.962717Z"
    }
   },
   "outputs": [
    {
     "name": "stderr",
     "output_type": "stream",
     "text": [
      "NileWarning: Runtime Nile version ('2.24.0') is lower than installed ('2.25.0')\n"
     ]
    },
    {
     "data": {
      "application/vnd.jupyter.widget-view+json": {
       "model_id": "bcdb60c5b3f8411cb68b43562ceda488",
       "version_major": 2,
       "version_minor": 0
      },
      "text/plain": [
       "VBox()"
      ]
     },
     "metadata": {},
     "output_type": "display_data"
    }
   ],
   "source": [
    "from operator import attrgetter\n",
    "def mapper(records):\n",
    "    for record in records:\n",
    "        rec = record.to_dict()\n",
    "        if '_other' in rec:\n",
    "            del rec['_other']\n",
    "        res = []\n",
    "        for ses, aud in zip(rec['session'], rec['column']):\n",
    "            ses['screenshot_url'] = aud['screenshot_url']\n",
    "            ses['mds_key'] = aud['mds_key']\n",
    "            res.append(ses)\n",
    "        rec['session'] = res\n",
    "        del rec['column']\n",
    "        yield Record(**rec)\n",
    "        \n",
    "        \n",
    "def reducer(sessions):\n",
    "    for _, records in sessions:\n",
    "        t1 = list(map(lambda x: {\n",
    "            \"idx\": x[\"idx\"],\n",
    "            \"screenshot_url\": x[\"screenshot_url\"],\n",
    "            \"mds_key\": x[\"mds_key\"],\n",
    "            \"request_id\": x[\"request_id\"],\n",
    "            \"session_id\": x[\"session_id\"]\n",
    "        }, sorted(list(records), key=attrgetter('session_id', 'idx'))))\n",
    "        t2, cur = [{\"session_id\": \"session_id\"}] + t1 + [{\"session_id\": \"session_id\"}], []\n",
    "        for idx in range(1, len(t2)):\n",
    "            if t2[idx]['session_id'] == t2[idx-1]['session_id']:\n",
    "                cur.append(t2[idx])\n",
    "            else:\n",
    "                if cur:\n",
    "                    yield Record.from_dict({\n",
    "                        \"column\": cur,\n",
    "                        \"session_id\": cur[0][\"session_id\"]\n",
    "                    })\n",
    "                cur = [t2[idx]]\n",
    "\n",
    "\n",
    "cluster = clusters.YT(proxy=\"hahn.yt.yandex.net\")\n",
    "job = cluster.job()\n",
    "for_join = job.table(\"//tmp/serggor/new_market_screenshots\") \\\n",
    "        .groupby('session_id') \\\n",
    "        .reduce(reducer)\n",
    "\n",
    "job.table('//tmp/serggor/new_market') \\\n",
    "        .join(for_join, by='session_id') \\\n",
    "        .map(mapper) \\\n",
    "        .put('//tmp/serggor/new_market_with_all')\n",
    "\n",
    "job.run()"
   ]
  },
  {
   "cell_type": "code",
   "execution_count": null,
   "metadata": {},
   "outputs": [],
   "source": [
    "https://nirvana.yandex-team.ru/flow/29d49660-b250-493d-b622-34c611233455/aa791a3a-b228-4c70-9ed1-7718696ae956/graph"
   ]
  },
  {
   "cell_type": "code",
   "execution_count": null,
   "metadata": {},
   "outputs": [],
   "source": []
  }
 ],
 "metadata": {
  "kernelspec": {
   "display_name": "Python 2",
   "language": "python",
   "name": "python2"
  },
  "language_info": {
   "codemirror_mode": {
    "name": "ipython",
    "version": 2
   },
   "file_extension": ".py",
   "mimetype": "text/x-python",
   "name": "python",
   "nbconvert_exporter": "python",
   "pygments_lexer": "ipython2",
   "version": "2.7.15+"
  }
 },
 "nbformat": 4,
 "nbformat_minor": 2
}
