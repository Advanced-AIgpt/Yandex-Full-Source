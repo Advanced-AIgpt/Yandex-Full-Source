{
 "cells": [
  {
   "cell_type": "code",
   "execution_count": 1,
   "metadata": {
    "ExecuteTime": {
     "end_time": "2019-06-27T23:55:07.519300Z",
     "start_time": "2019-06-27T23:55:05.814019Z"
    }
   },
   "outputs": [],
   "source": [
    "def jobs_manager():\n",
    "    from IPython.lib.backgroundjobs import BackgroundJobManager\n",
    "    from IPython.core.magic import register_line_magic\n",
    "    from IPython import get_ipython\n",
    "\n",
    "    jobs = BackgroundJobManager()\n",
    "\n",
    "    @register_line_magic\n",
    "    def job(line):\n",
    "        ip = get_ipython()\n",
    "        jobs.new(line, ip.user_global_ns)\n",
    "\n",
    "    return jobs\n",
    "import sys\n",
    "import argparse\n",
    "import random\n",
    "from nile.api.v1 import (\n",
    "    clusters,\n",
    "    Record,\n",
    "    filters as nf,\n",
    "    aggregators as na,\n",
    "    grouping as ng,\n",
    "    extractors as ne,\n",
    "    statface as ns\n",
    ")\n",
    "from qb2.api.v1 import (\n",
    "    filters as sf,\n",
    "    extractors as se,\n",
    "    resources as sr\n",
    ")\n",
    "import nile\n",
    "import urlparse\n",
    "import json\n",
    "from itertools import product\n",
    "from nile.api.v1 import datetime as nd\n",
    "import re\n",
    "import pandas as pd\n",
    "import random\n",
    "import string\n",
    "from datetime import datetime\n",
    "import matplotlib.pyplot as plt "
   ]
  },
  {
   "cell_type": "code",
   "execution_count": 2,
   "metadata": {
    "ExecuteTime": {
     "end_time": "2019-06-27T23:55:37.096599Z",
     "start_time": "2019-06-27T23:55:32.396342Z"
    }
   },
   "outputs": [
    {
     "name": "stderr",
     "output_type": "stream",
     "text": [
      "/usr/local/lib/python2.7/dist-packages/cryptography/hazmat/primitives/constant_time.py:26: CryptographyDeprecationWarning: Support for your Python version is deprecated. The next version of cryptography will remove support. Please upgrade to a 2.7.x release that supports hmac.compare_digest as soon as possible.\n",
      "  utils.DeprecatedIn23,\n"
     ]
    }
   ],
   "source": [
    "cluster = clusters.YT(proxy=\"hahn.yt.yandex.net\", pool=\"voice\") \\\n",
    "                .env(templates=dict(\n",
    "                                job_root=('//home/voice/talamable/VA-741'),\n",
    "                                dates='{2019-06-01..2019-06-25}'))"
   ]
  },
  {
   "cell_type": "code",
   "execution_count": 9,
   "metadata": {
    "ExecuteTime": {
     "end_time": "2019-06-28T00:28:28.772835Z",
     "start_time": "2019-06-28T00:28:28.710535Z"
    }
   },
   "outputs": [],
   "source": [
    "def random_part(i):\n",
    "    return ''.join(map(lambda x: random.choice(\"0123456789abcdef\"), range(i)))\n",
    "\n",
    "\n",
    "def generate_id():\n",
    "    return ''.join([''.join(['f']*8), '-', ''.join(['f']*4), '-', ''.join(['f']*4), '-',\n",
    "                    random_part(4), '-', random_part(12)])\n",
    "\n",
    "def map_items(records):\n",
    "    exp_list={\n",
    "        \"activation_search_redirect_experiment\" : \"1\",\n",
    "        \"afisha_poi_events\" : \"1\",\n",
    "        \"ambient_sound\" : \"1\",\n",
    "        \"authorized_personal_playlists\" : \"1\",\n",
    "        \"close_external_skill_on_deactivate\" : \"1\",\n",
    "        \"enable_alarms\" : \"1\",\n",
    "        \"enable_ner_for_skills\" : \"1\",\n",
    "        \"enable_reminders_todos\" : \"1\",\n",
    "        \"enable_s3_tts_cache\" : \"1\",\n",
    "        \"enable_timers\" : \"1\",\n",
    "        \"enable_timers_alarms\" : \"1\",\n",
    "        \"enable_tts_gpu\" : \"1\",\n",
    "        \"external_skills_discovery\" : \"1\",\n",
    "        \"find_poi_gallery\" : \"1\",\n",
    "        \"find_poi_gallery_open_show_route\" : \"1\",\n",
    "        \"find_poi_one\" : \"1\",\n",
    "        \"games_onboarding_monsters_on_vacation\" : \"1\",\n",
    "        \"gc_assessors\" : \"1\",\n",
    "        \"how_much\" : \"1\",\n",
    "        \"image_multi_entity_objects\" : \"1\",\n",
    "        \"image_recognizer\" : \"1\",\n",
    "        \"image_recognizer_similar_people\" : \"1\",\n",
    "        \"iot\" : \"1\",\n",
    "        \"market\" : \"1\",\n",
    "        \"market_ads_url\" : \"1\",\n",
    "        \"market_allow_black_list\" : \"1\",\n",
    "        \"market_beru\" : \"1\",\n",
    "        \"market_beru_details\" : \"1\",\n",
    "        \"market_delivery_intervals\" : \"1\",\n",
    "        \"market_direct_shop\" : \"1\",\n",
    "        \"market_gallery_open_shop\" : \"1\",\n",
    "        \"market_items\" : \"1\",\n",
    "        \"market_native\" : \"1\",\n",
    "        \"market_pvz\" : \"1\",\n",
    "        \"market_rp_items\" : \"1\",\n",
    "        \"market_vp2\" : \"1\",\n",
    "        \"multi_tabs\" : \"1\",\n",
    "        \"music_recognizer\" : \"1\",\n",
    "        \"music_sing_song\" : \"1\",\n",
    "        \"music_use_websearch\" : \"1\",\n",
    "        \"poi_cards_by_foot_first\" : \"1\",\n",
    "        \"pure_general_conversation\" : \"1\",\n",
    "        \"radio_play_in_search\" : \"1\",\n",
    "        \"recurring_purchase\" : \"1\",\n",
    "        \"show_route_gallery\" : \"1\",\n",
    "        \"skill_recommendation_experiment\" : \"1\",\n",
    "        \"skill_recommendation_onboarding_url_experiment\" : \"1\",\n",
    "        \"taxi\" : \"1\",\n",
    "        \"taxi_nlu\" : \"1\",\n",
    "        \"traffic_cards\" : \"1\",\n",
    "        \"traffic_cards_with_text_bubble\" : \"1\",\n",
    "        \"translate\" : \"1\",\n",
    "        \"tv\" : \"1\",\n",
    "        \"weather_precipitation\" : \"1\",\n",
    "        \"weather_precipitation_card\" : \"1\",\n",
    "        \"weather_precipitation_starts_ends\" : \"1\",\n",
    "        \"weather_precipitation_type\" : \"1\"\n",
    "    }\n",
    "    for rec in records:\n",
    "        iid=generate_id()\n",
    "        yield Record(text=rec['text'],\n",
    "                     voice_url=rec['url'].replace('getaudio','getfile'),\n",
    "                     experiments=exp_list,\n",
    "                     app=rec['request']['app_info'],\n",
    "                     request_id=iid,\n",
    "                     topic='dialogeneral+dialog-general-gpu',\n",
    "                     session_id=iid,\n",
    "                     session_sequence=0,\n",
    "                     additional_options={\"oauth_token\":\"AQAAAAAgnpnHAAJ-IdG2yqyfLEB7rH3Od4BfJ78\"},\n",
    "                     toloka_intent='translate',\n",
    "                     vins_intent='translte'\n",
    "                    )"
   ]
  },
  {
   "cell_type": "code",
   "execution_count": 11,
   "metadata": {
    "ExecuteTime": {
     "end_time": "2019-06-28T00:42:09.586744Z",
     "start_time": "2019-06-28T00:41:05.337741Z"
    }
   },
   "outputs": [
    {
     "data": {
      "application/vnd.jupyter.widget-view+json": {
       "model_id": "fd217ef3fcd847d5b0720fcec55cf79d",
       "version_major": 2,
       "version_minor": 0
      },
      "text/plain": [
       "VBox()"
      ]
     },
     "metadata": {},
     "output_type": "display_data"
    }
   ],
   "source": [
    "job = cluster.job()\n",
    "job.table('home/voice/talamable/VA-741/from_ru_with_vins_data') \\\n",
    "    .map(map_items) \\\n",
    "    .put('home/voice/transfer/VA-741/from_ru')\n",
    "job.run()"
   ]
  }
 ],
 "metadata": {
  "kernelspec": {
   "display_name": "Python 2.7",
   "language": "python",
   "name": "python2"
  },
  "language_info": {
   "codemirror_mode": {
    "name": "ipython",
    "version": 2
   },
   "file_extension": ".py",
   "mimetype": "text/x-python",
   "name": "python",
   "nbconvert_exporter": "python",
   "pygments_lexer": "ipython2",
   "version": "2.7.3"
  }
 },
 "nbformat": 4,
 "nbformat_minor": 2
}
