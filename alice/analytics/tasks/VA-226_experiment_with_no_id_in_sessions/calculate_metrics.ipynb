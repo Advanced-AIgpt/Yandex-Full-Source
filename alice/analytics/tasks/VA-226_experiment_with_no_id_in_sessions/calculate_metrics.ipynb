{
 "cells": [
  {
   "cell_type": "code",
   "execution_count": 9,
   "metadata": {
    "ExecuteTime": {
     "end_time": "2018-09-20T14:41:44.054056Z",
     "start_time": "2018-09-20T14:41:44.049606Z"
    }
   },
   "outputs": [],
   "source": [
    "from __future__ import print_function\n",
    "from yql.api.v1.client import YqlClient"
   ]
  },
  {
   "cell_type": "code",
   "execution_count": 10,
   "metadata": {
    "ExecuteTime": {
     "end_time": "2018-09-20T14:41:45.058509Z",
     "start_time": "2018-09-20T14:41:44.632753Z"
    }
   },
   "outputs": [
    {
     "name": "stdout",
     "output_type": "stream",
     "text": [
      "fatal: destination path 'statbox-abt-metrics' already exists and is not an empty directory.\r\n"
     ]
    }
   ],
   "source": [
    "!git clone https://github.yandex-team.ru/edvls/statbox-abt-metrics.git\n",
    "from statbox_abt_metrics.api import run\n",
    "from statbox_abt_metrics.metrics.metrics_group import (\n",
    "    metrics_group, YTMetricsGroup\n",
    ")"
   ]
  },
  {
   "cell_type": "code",
   "execution_count": 11,
   "metadata": {
    "ExecuteTime": {
     "end_time": "2018-09-20T14:41:46.094639Z",
     "start_time": "2018-09-20T14:41:46.090057Z"
    }
   },
   "outputs": [],
   "source": [
    "import statbox_abt_metrics"
   ]
  },
  {
   "cell_type": "code",
   "execution_count": 12,
   "metadata": {
    "ExecuteTime": {
     "end_time": "2018-09-20T14:41:47.081176Z",
     "start_time": "2018-09-20T14:41:47.074828Z"
    }
   },
   "outputs": [],
   "source": [
    "users_table = \"//home/mobilesearch/personal_homes/bobsmirnov/experiments-23328/exp_uuids_full\"\n",
    "start_date = \"2018-09-04\"\n",
    "end_date = \"2018-09-24\"\n",
    "control_id = \"93016\"\n",
    "experiment_id = \"93017\"\n",
    "\n",
    "YQL_TOKEN = \"XXXXX\" # Open https://yql.yandex-team.ru/?settings_mode=token in browser to get your token\n",
    "tmp_sessions_floder = \"tmp/edvls_sessions_copy\" "
   ]
  },
  {
   "cell_type": "code",
   "execution_count": 16,
   "metadata": {
    "ExecuteTime": {
     "end_time": "2018-09-20T14:43:08.753046Z",
     "start_time": "2018-09-20T14:43:08.745195Z"
    }
   },
   "outputs": [],
   "source": [
    "yql_request = '''USE hahn;\n",
    "PRAGMA yt.InferSchema;\n",
    "PRAGMA SimpleColumns;\n",
    "\n",
    "$tasks_folder = \"home/voice/dialog/sessions\";\n",
    "$results_folder = \"{tmp_floder}\";\n",
    "\n",
    "DEFINE ACTION $process_task($input_path) AS\n",
    "    $output_path = String::ReplaceAll($input_path, $tasks_folder, $results_folder);\n",
    "    \n",
    "    INSERT INTO $output_path WITH TRUNCATE\n",
    "    SELECT \n",
    "        YQL::Append(Yson::ConvertToStringList(sessions.testids), CAST(users.test_id AS String)) AS testids,\n",
    "        sessions.* WITHOUT sessions.testids\n",
    "    FROM $input_path AS sessions \n",
    "    JOIN [{users_table}] AS users\n",
    "    ON  String::SplitToList(sessions.uuid, \"/\"){{1}} == users.uuid\n",
    "    WHERE users.exp_start <= sessions.fielddate \n",
    "    ;\n",
    "END DEFINE;\n",
    "\n",
    "$tasks = (\n",
    "    SELECT LIST(Path)\n",
    "    FROM FOLDER($tasks_folder)\n",
    "    WHERE Type == \"table\"\n",
    "    AND Path >= $tasks_folder || \"/{start_date}\"\n",
    "    AND Path <= $tasks_folder || \"/{end_date}\"\n",
    ");\n",
    "\n",
    "EVALUATE FOR $task IN $tasks ?? ListCreate(TypeOf($tasks)) DO $process_task($task);\n",
    "'''.format(tmp_floder=tmp_sessions_floder, start_date=start_date, end_date=end_date, users_table=users_table)"
   ]
  },
  {
   "cell_type": "code",
   "execution_count": null,
   "metadata": {
    "ExecuteTime": {
     "start_time": "2018-09-20T14:43:09.478Z"
    },
    "run_control": {
     "marked": true
    }
   },
   "outputs": [],
   "source": [
    "client = YqlClient(token=YQL_TOKEN)\n",
    "request = client.query(yql_request)\n",
    "request.run()\n",
    "request.get_results()"
   ]
  },
  {
   "cell_type": "code",
   "execution_count": null,
   "metadata": {
    "ExecuteTime": {
     "start_time": "2018-09-20T14:43:34.574Z"
    }
   },
   "outputs": [],
   "source": [
    "SESSION_LOGS = tmp_sessions_floder"
   ]
  },
  {
   "cell_type": "code",
   "execution_count": null,
   "metadata": {
    "ExecuteTime": {
     "start_time": "2018-09-20T14:43:42.783Z"
    },
    "code_folding": []
   },
   "outputs": [],
   "source": [
    "from statbox_abt_metrics.metrics.alice.basic_scenarios_metrics import *\n",
    "\n",
    "@metrics_group\n",
    "class BasicScenariosMetricsModified(YTMetricsGroup):\n",
    "    reducer = IntentMetrics()\n",
    "\n",
    "    name = \"basic_scenarios_metrics\"\n",
    "\n",
    "    ru_name = \"Базовые метрики сценариев\"\n",
    "\n",
    "    en_name = \"Basic scenarios metrics\"\n",
    "\n",
    "    def build_meta(self):\n",
    "        return make_metrics_meta()\n",
    "\n",
    "    def build_stream(self, job):\n",
    "        return job \\\n",
    "            .log(SESSION_LOGS) \\\n",
    "            .project(\n",
    "                qe.all(),\n",
    "                unfold_experiments(self.config.experiments),\n",
    "                user_id='uuid'\n",
    "            ) \\\n",
    "            .call(\n",
    "                unfold_datetime,\n",
    "                self.config,\n",
    "                qe.log_field('fielddate')\n",
    "            ) \\\n",
    "            .groupby('datetime', 'user_id', 'exp_id') \\\n",
    "            .reduce(self.reducer)"
   ]
  },
  {
   "cell_type": "code",
   "execution_count": null,
   "metadata": {
    "ExecuteTime": {
     "start_time": "2018-09-20T14:43:44.373Z"
    }
   },
   "outputs": [],
   "source": [
    "from statbox_abt_metrics.metrics.alice.basic_metrics import *\n",
    "\n",
    "@metrics_group\n",
    "class BasicMetricsModified(YTMetricsGroup):\n",
    "    name = \"basic_metrics\"\n",
    "    ru_name = \"Базовые метрики\"\n",
    "    en_name = \"Basic metrics\"\n",
    "\n",
    "    reducer = None\n",
    "\n",
    "    def init(self):\n",
    "        self.reducer = BasicMetricsCounter()\n",
    "\n",
    "    def build_meta(self):\n",
    "        return self.reducer.meta\n",
    "\n",
    "    def build_stream(self, job):\n",
    "        return job \\\n",
    "            .log(SESSION_LOGS) \\\n",
    "            .project(\n",
    "                qe.all(),\n",
    "                unfold_experiments(self.config.experiments),\n",
    "                user_id='uuid'\n",
    "            ) \\\n",
    "            .call(\n",
    "                unfold_datetime,\n",
    "                self.config,\n",
    "                qe.log_field('fielddate')\n",
    "            ) \\\n",
    "            .groupby('datetime', 'user_id', 'exp_id') \\\n",
    "            .reduce(self.reducer)"
   ]
  },
  {
   "cell_type": "code",
   "execution_count": null,
   "metadata": {
    "ExecuteTime": {
     "start_time": "2018-09-20T14:43:45.974Z"
    }
   },
   "outputs": [],
   "source": [
    "from statbox_abt_metrics.metrics.alice.session_metrics import *\n",
    "\n",
    "@metrics_group\n",
    "class SessionMetricsModified(YTMetricsGroup):\n",
    "    name = \"session_metrics\"\n",
    "    ru_name = \"Сессионные метрики\"\n",
    "    en_name = \"Sessions metrics\"\n",
    "\n",
    "    reducer = None\n",
    "\n",
    "    def init(self):\n",
    "        self.reducer = AliceSessionsCounterReduce()\n",
    "\n",
    "    def build_meta(self):\n",
    "        return self.reducer.meta\n",
    "\n",
    "    def build_stream(self, job):\n",
    "        return job.log(\n",
    "            SESSION_LOGS\n",
    "        ).project(\n",
    "            qe.all(),\n",
    "            unfold_experiments(self.config.experiments),\n",
    "            user_id='uuid',\n",
    "        ).groupby(\n",
    "            'fielddate', 'user_id', 'exp_id',\n",
    "        ).sort(\n",
    "            'session_id',\n",
    "        ).reduce(\n",
    "            unfold_sessions,\n",
    "        ).call(\n",
    "            unfold_datetime,\n",
    "            self.config,\n",
    "            qe.log_field('fielddate'),\n",
    "        ).groupby(\n",
    "            'datetime', 'user_id', 'exp_id',\n",
    "        ).sort(\n",
    "            'timestamp',\n",
    "        ).reduce(\n",
    "            self.reducer,\n",
    "        )"
   ]
  },
  {
   "cell_type": "code",
   "execution_count": null,
   "metadata": {
    "ExecuteTime": {
     "start_time": "2018-09-20T14:44:18.904Z"
    }
   },
   "outputs": [],
   "source": [
    "from statbox_abt_metrics.metrics.alice.retention_metrics import *\n",
    "\n",
    "@metrics_group\n",
    "class RetentionMetricsModified(AliceMetricsGroup):\n",
    "    name = \"retention_metrics\"\n",
    "    ru_name = \"Метрики возвращаемость\"\n",
    "    en_name = \"Retention metrics\"\n",
    "\n",
    "    reducer = None\n",
    "\n",
    "    def init(self):\n",
    "        self.reducer = RetentionMetricsCounter(\n",
    "            self.config.start_date,\n",
    "            self.config.end_date\n",
    "        )\n",
    "\n",
    "    def build_meta(self):\n",
    "        return self.reducer.meta\n",
    "\n",
    "    def build_stream(self, job):\n",
    "        return job.log(\n",
    "            SESSION_LOGS\n",
    "        ).project(\n",
    "            qe.all(),\n",
    "            self.unfold_experiments(),\n",
    "            user_id='uuid'\n",
    "        ).call(\n",
    "            unfold_datetime,\n",
    "            self.config,\n",
    "            qe.log_field('fielddate')\n",
    "        ).groupby(\n",
    "            'user_id', 'exp_id'\n",
    "        ).reduce(self.reducer)\n"
   ]
  },
  {
   "cell_type": "code",
   "execution_count": null,
   "metadata": {
    "ExecuteTime": {
     "start_time": "2018-09-20T14:44:51.487Z"
    }
   },
   "outputs": [],
   "source": [
    "result = run(\n",
    "    service='transport',\n",
    "    metric_groups=[BasicMetricsModified, SessionMetricsModified, BasicScenariosMetricsModified, RetentionMetricsModified],\n",
    "    experiments=[control_id, experiment_id],\n",
    "    start_date=start_date,\n",
    "    end_date=end_date\n",
    ")"
   ]
  },
  {
   "cell_type": "code",
   "execution_count": null,
   "metadata": {
    "ExecuteTime": {
     "start_time": "2018-09-20T14:45:33.014Z"
    }
   },
   "outputs": [],
   "source": [
    "result"
   ]
  },
  {
   "cell_type": "code",
   "execution_count": null,
   "metadata": {},
   "outputs": [],
   "source": []
  }
 ],
 "metadata": {
  "kernelspec": {
   "display_name": "Python 2.7",
   "language": "python",
   "name": "python2"
  },
  "language_info": {
   "codemirror_mode": {
    "name": "ipython",
    "version": 2
   },
   "file_extension": ".py",
   "mimetype": "text/x-python",
   "name": "python",
   "nbconvert_exporter": "python",
   "pygments_lexer": "ipython2",
   "version": "2.7.3"
  }
 },
 "nbformat": 4,
 "nbformat_minor": 2
}
