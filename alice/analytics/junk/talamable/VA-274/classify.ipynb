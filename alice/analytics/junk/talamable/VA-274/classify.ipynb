{
 "cells": [
  {
   "cell_type": "code",
   "execution_count": 1,
   "metadata": {
    "ExecuteTime": {
     "end_time": "2018-09-03T11:17:19.299511Z",
     "start_time": "2018-09-03T11:17:18.766171Z"
    }
   },
   "outputs": [],
   "source": [
    "def jobs_manager():\n",
    "    from IPython.lib.backgroundjobs import BackgroundJobManager\n",
    "    from IPython.core.magic import register_line_magic\n",
    "    from IPython import get_ipython\n",
    "\n",
    "    jobs = BackgroundJobManager()\n",
    "\n",
    "    @register_line_magic\n",
    "    def job(line):\n",
    "        ip = get_ipython()\n",
    "        jobs.new(line, ip.user_global_ns)\n",
    "\n",
    "    return jobs\n",
    "import sys\n",
    "import argparse\n",
    "import random\n",
    "from nile.api.v1 import (\n",
    "    clusters,\n",
    "    Record,\n",
    "    filters as nf,\n",
    "    aggregators as na,\n",
    "    grouping as ng,\n",
    "    extractors as ne,\n",
    "    statface as ns\n",
    ")\n",
    "from qb2.api.v1 import (\n",
    "    filters as sf,\n",
    "    extractors as se,\n",
    "    resources as sr\n",
    ")\n",
    "import nile\n",
    "from urlparse import urlparse\n",
    "import json\n",
    "from itertools import product\n",
    "from nile.api.v1 import datetime as nd\n",
    "import re\n",
    "import pandas as pd\n",
    "import random\n",
    "import string\n",
    "from datetime import datetime"
   ]
  },
  {
   "cell_type": "code",
   "execution_count": 2,
   "metadata": {
    "ExecuteTime": {
     "end_time": "2018-09-03T11:17:29.103729Z",
     "start_time": "2018-09-03T11:17:26.289261Z"
    }
   },
   "outputs": [],
   "source": [
    "cluster = clusters.YT(proxy=\"hahn.yt.yandex.net\", pool=\"voice\") \\\n",
    "                .env(templates=dict(\n",
    "                                job_root=('home/voice/talamable/VA-274'),\n",
    "                                dates='{2018-08-16..2018-08-29}'))"
   ]
  },
  {
   "cell_type": "code",
   "execution_count": 14,
   "metadata": {
    "ExecuteTime": {
     "end_time": "2018-09-05T00:27:37.721302Z",
     "start_time": "2018-09-05T00:15:39.459278Z"
    }
   },
   "outputs": [
    {
     "data": {
      "application/vnd.jupyter.widget-view+json": {
       "model_id": "438938af18a34a4e826a3b9d4c5df432",
       "version_major": 2,
       "version_minor": 0
      },
      "text/plain": [
       "VBox()"
      ]
     },
     "metadata": {},
     "output_type": "display_data"
    }
   ],
   "source": [
    "job = cluster.job()\n",
    "hosts = job.table('//home/voice/talamable/VA-274/commercial_week_hosts')\n",
    "classify = job.table('home/search-research/hosts-markup')\n",
    "hosts.join(classify, by='host') \\\n",
    "        .put('$job_root/commercial_week_classification')\n",
    "job.run()\n",
    "    "
   ]
  },
  {
   "cell_type": "code",
   "execution_count": 15,
   "metadata": {
    "ExecuteTime": {
     "end_time": "2018-09-05T00:43:09.482413Z",
     "start_time": "2018-09-05T00:31:37.636186Z"
    }
   },
   "outputs": [
    {
     "data": {
      "application/vnd.jupyter.widget-view+json": {
       "model_id": "aa526a59149b4451997c3c74888ab5f7",
       "version_major": 2,
       "version_minor": 0
      },
      "text/plain": [
       "VBox()"
      ]
     },
     "metadata": {},
     "output_type": "display_data"
    }
   ],
   "source": [
    "from operator import itemgetter\n",
    "def find_topic(records):\n",
    "    for rec in records:\n",
    "        topics = eval(rec['suggestions'])\n",
    "        topics.pop('unknown', None)\n",
    "        if len(topics) == 0:\n",
    "            continue\n",
    "        else:\n",
    "            top = sorted(topics.items(), key=itemgetter(1))[-1]\n",
    "            yield Record(cm=rec['cm'],\n",
    "                         query=rec['query'],\n",
    "                         host=rec['host'],\n",
    "                         clicks=rec['clicks'],\n",
    "                         topic=top[0],\n",
    "                         weight=top[1]\n",
    "                        )\n",
    "from collections import defaultdict\n",
    "def determine_query_topic(groups):\n",
    "    for key, records in groups:\n",
    "        query_weights_clicked = defaultdict(float)\n",
    "        query_counts_clicked = defaultdict(int)\n",
    "        query_weights = defaultdict(float)\n",
    "        query_counts = defaultdict(int)\n",
    "        for rec in records:\n",
    "            if rec['clicks']>0:\n",
    "                query_weights_clicked[rec['topic']] += rec['weight']*rec['clicks']\n",
    "                query_counts_clicked[rec['topic']] += rec['clicks']\n",
    "            query_weights[rec['topic']] += rec['weight']\n",
    "            query_counts[rec['topic']] += 1\n",
    "        if query_weights_clicked:\n",
    "            top_w_c = sorted(query_weights_clicked.items(), key=itemgetter(1))[-1][0]\n",
    "            top_c_c = sorted(query_counts_clicked.items(), key=itemgetter(1))[-1][0]\n",
    "        else:\n",
    "            top_w_c = '-'\n",
    "            top_c_c = '-'\n",
    "        yield Record(query=key.query,\n",
    "                     weights=json.dumps(query_weights),\n",
    "                     counts=json.dumps(query_counts),\n",
    "                     click_weights=json.dumps(query_weights_clicked),\n",
    "                     click_counts=json.dumps(query_counts_clicked),\n",
    "                     top_w = sorted(query_weights.items(), key=itemgetter(1))[-1][0],\n",
    "                     top_c = sorted(query_counts.items(), key=itemgetter(1))[-1][0],\n",
    "                     top_w_c = top_w_c,\n",
    "                     top_c_c = top_c_c\n",
    "                    )\n",
    "job = cluster.job()\n",
    "classify = job.table('$job_root/commercial_week_classification') \\\n",
    "              .map(find_topic) \\\n",
    "              .groupby('query') \\\n",
    "              .reduce(determine_query_topic) \\\n",
    "              .put('$job_root/commercial_week_queries_with_topics')\n",
    "job.run()"
   ]
  },
  {
   "cell_type": "code",
   "execution_count": 16,
   "metadata": {
    "ExecuteTime": {
     "end_time": "2018-09-05T00:52:22.103426Z",
     "start_time": "2018-09-05T00:43:35.836059Z"
    }
   },
   "outputs": [
    {
     "data": {
      "application/vnd.jupyter.widget-view+json": {
       "model_id": "461ba56ae2ef4b3a8f5320055f0d3221",
       "version_major": 2,
       "version_minor": 0
      },
      "text/plain": [
       "VBox()"
      ]
     },
     "metadata": {},
     "output_type": "display_data"
    }
   ],
   "source": [
    "def choose_topic_euristic(records):\n",
    "    for rec in records:\n",
    "        if sum(json.loads(rec['click_counts']).values()) >= 2:\n",
    "            topic = rec['top_w_c']\n",
    "        else:\n",
    "            topic = rec['top_w']\n",
    "        yield Record(query=rec['query'],\n",
    "                     cat = topic\n",
    "                    )\n",
    "job = cluster.job()\n",
    "classified = job.table('$job_root/commercial_week_queries_with_topics') \\\n",
    "                .map(choose_topic_euristic)\n",
    "all_q = job.table('$job_root/commercial_week')\n",
    "all_q.join(classified, by='query', type='left') \\\n",
    "     .put('$job_root/commercial_week_cats')\n",
    "job.run()"
   ]
  }
 ],
 "metadata": {
  "kernelspec": {
   "display_name": "Python 2.7",
   "language": "python",
   "name": "python2"
  },
  "language_info": {
   "codemirror_mode": {
    "name": "ipython",
    "version": 2
   },
   "file_extension": ".py",
   "mimetype": "text/x-python",
   "name": "python",
   "nbconvert_exporter": "python",
   "pygments_lexer": "ipython2",
   "version": "2.7.3"
  }
 },
 "nbformat": 4,
 "nbformat_minor": 2
}
