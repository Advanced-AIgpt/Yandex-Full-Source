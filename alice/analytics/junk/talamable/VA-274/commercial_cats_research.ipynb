{
 "cells": [
  {
   "cell_type": "code",
   "execution_count": 18,
   "metadata": {
    "ExecuteTime": {
     "end_time": "2018-08-29T18:57:32.997284Z",
     "start_time": "2018-08-29T18:57:32.978536Z"
    }
   },
   "outputs": [],
   "source": [
    "def jobs_manager():\n",
    "    from IPython.lib.backgroundjobs import BackgroundJobManager\n",
    "    from IPython.core.magic import register_line_magic\n",
    "    from IPython import get_ipython\n",
    "\n",
    "    jobs = BackgroundJobManager()\n",
    "\n",
    "    @register_line_magic\n",
    "    def job(line):\n",
    "        ip = get_ipython()\n",
    "        jobs.new(line, ip.user_global_ns)\n",
    "\n",
    "    return jobs\n",
    "import sys\n",
    "import argparse\n",
    "import random\n",
    "from nile.api.v1 import (\n",
    "    clusters,\n",
    "    Record,\n",
    "    filters as nf,\n",
    "    aggregators as na,\n",
    "    grouping as ng,\n",
    "    extractors as ne,\n",
    "    statface as ns\n",
    ")\n",
    "from qb2.api.v1 import (\n",
    "    filters as sf,\n",
    "    extractors as se,\n",
    "    resources as sr\n",
    ")\n",
    "import nile\n",
    "from urlparse import urlparse\n",
    "import json\n",
    "from itertools import product\n",
    "from nile.api.v1 import datetime as nd\n",
    "import re\n",
    "import pandas as pd\n",
    "import random\n",
    "import string\n",
    "from datetime import datetime"
   ]
  },
  {
   "cell_type": "code",
   "execution_count": 37,
   "metadata": {
    "ExecuteTime": {
     "end_time": "2018-09-03T13:25:26.231055Z",
     "start_time": "2018-09-03T13:25:24.089336Z"
    }
   },
   "outputs": [],
   "source": [
    "cluster = clusters.YT(proxy=\"hahn.yt.yandex.net\", pool=\"voice\") \\\n",
    "                .env(templates=dict(\n",
    "                                job_root=('home/voice/talamable/VA-274'),\n",
    "                                dates='{2018-08-20..2018-08-26}'))"
   ]
  },
  {
   "cell_type": "code",
   "execution_count": 40,
   "metadata": {
    "ExecuteTime": {
     "end_time": "2018-09-03T17:16:38.450695Z",
     "start_time": "2018-09-03T17:16:38.432840Z"
    }
   },
   "outputs": [],
   "source": [
    "def parse_us(groups):\n",
    "    import libra\n",
    "    for key, records in groups:\n",
    "        uuid = key.key\n",
    "        if not uuid.startswith('uu/'):\n",
    "            continue\n",
    "        try:\n",
    "            session = libra.ParseSession(records, 'blockstat.dict')\n",
    "        except:\n",
    "            continue\n",
    "        for r in session:\n",
    "            urls = {}\n",
    "            if not r.IsA('TMobileAppYandexWebRequest'):\n",
    "                continue\n",
    "            if not ('query_source=dialog' in r.FullRequest):\n",
    "                continue\n",
    "            commercial = float(r.RelevValues.get('cm2', -1))\n",
    "            if commercial < 0.2:\n",
    "                continue\n",
    "            results = r.GetMainBlocks()\n",
    "            for block in results:\n",
    "                res = block.GetMainResult()\n",
    "                if res.IsA('TWebResult'):\n",
    "                    url = urlparse(res.Url).netloc\n",
    "                    if url.startswith('www.'):\n",
    "                        url = '.'.join(url.split('.')[1:])\n",
    "                    urls[url] = urls.get(url,0) + len(block.GetClicks())\n",
    "            yield Record(query=r.Query,\n",
    "                         cm=commercial,\n",
    "                         urls=json.dumps(urls)\n",
    "                        )"
   ]
  },
  {
   "cell_type": "code",
   "execution_count": 41,
   "metadata": {
    "ExecuteTime": {
     "end_time": "2018-09-03T22:10:26.090552Z",
     "start_time": "2018-09-03T17:16:40.878575Z"
    }
   },
   "outputs": [
    {
     "data": {
      "application/vnd.jupyter.widget-view+json": {
       "model_id": "e5bca69ac6454b7380bb1ba894dfc01b",
       "version_major": 2,
       "version_minor": 0
      },
      "text/plain": [
       "VBox()"
      ]
     },
     "metadata": {},
     "output_type": "display_data"
    },
    {
     "name": "stderr",
     "output_type": "stream",
     "text": [
      "IOPub message rate exceeded.\n",
      "The notebook server will temporarily stop sending output\n",
      "to the client in order to avoid crashing it.\n",
      "To change this limit, set the config variable\n",
      "`--NotebookApp.iopub_msg_rate_limit`.\n",
      "\n",
      "Current values:\n",
      "NotebookApp.iopub_msg_rate_limit=1000.0 (msgs/sec)\n",
      "NotebookApp.rate_limit_window=3.0 (secs)\n",
      "\n"
     ]
    }
   ],
   "source": [
    "job = cluster.job()\n",
    "us = job.table('//user_sessions/pub/search/daily/@dates/clean')\n",
    "reqs = us.groupby('key').sort('subkey').reduce(parse_us,\n",
    "                                                   files=[nile.files.RemoteFile('statbox/statbox-dict-last/blockstat.dict'),\n",
    "                                                          nile.files.RemoteFile('statbox/resources/libra.so')\n",
    "                                                         ],\n",
    "                                                   memory_limit=4000\n",
    "                                                  ) \\\n",
    "\n",
    "            .put('$job_root/commercial_week')\n",
    "job.run()"
   ]
  },
  {
   "cell_type": "code",
   "execution_count": 42,
   "metadata": {
    "ExecuteTime": {
     "end_time": "2018-09-04T21:40:25.099406Z",
     "start_time": "2018-09-04T21:14:24.978035Z"
    }
   },
   "outputs": [
    {
     "data": {
      "application/vnd.jupyter.widget-view+json": {
       "model_id": "e55f767c188949d79418f4a43fbe5bc0",
       "version_major": 2,
       "version_minor": 0
      },
      "text/plain": [
       "VBox()"
      ]
     },
     "metadata": {},
     "output_type": "display_data"
    }
   ],
   "source": [
    "def unfold_hosts(records):\n",
    "    for rec in records:\n",
    "        for host, clicks in json.loads(rec['urls']).iteritems():\n",
    "            yield Record(query=rec['query'],\n",
    "                         cm=rec['cm'],\n",
    "                         host=host, clicks=clicks\n",
    "                        )\n",
    "job = cluster.job()\n",
    "hosts = job.table('$job_root/commercial_week') \\\n",
    "            .filter(nf.custom(lambda x: x>0.2, 'cm')) \\\n",
    "            .map(unfold_hosts) \\\n",
    "            .groupby('query','host') \\\n",
    "            .aggregate(cm=na.median('cm'),\n",
    "                       clicks=na.sum('clicks')\n",
    "                      ) \\\n",
    "            .put('$job_root/commercial_week_hosts')\n",
    "job.run()"
   ]
  }
 ],
 "metadata": {
  "kernelspec": {
   "display_name": "Python 2.7",
   "language": "python",
   "name": "python2"
  },
  "language_info": {
   "codemirror_mode": {
    "name": "ipython",
    "version": 2
   },
   "file_extension": ".py",
   "mimetype": "text/x-python",
   "name": "python",
   "nbconvert_exporter": "python",
   "pygments_lexer": "ipython2",
   "version": "2.7.3"
  }
 },
 "nbformat": 4,
 "nbformat_minor": 2
}
