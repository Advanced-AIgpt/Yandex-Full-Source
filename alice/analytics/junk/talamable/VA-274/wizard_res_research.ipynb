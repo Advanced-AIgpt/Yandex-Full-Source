{
 "cells": [
  {
   "cell_type": "code",
   "execution_count": 16,
   "metadata": {
    "ExecuteTime": {
     "end_time": "2018-10-26T12:46:58.902670Z",
     "start_time": "2018-10-26T12:46:58.877433Z"
    }
   },
   "outputs": [],
   "source": [
    "def jobs_manager():\n",
    "    from IPython.lib.backgroundjobs import BackgroundJobManager\n",
    "    from IPython.core.magic import register_line_magic\n",
    "    from IPython import get_ipython\n",
    "\n",
    "    jobs = BackgroundJobManager()\n",
    "\n",
    "    @register_line_magic\n",
    "    def job(line):\n",
    "        ip = get_ipython()\n",
    "        jobs.new(line, ip.user_global_ns)\n",
    "\n",
    "    return jobs\n",
    "import sys\n",
    "import argparse\n",
    "import random\n",
    "from nile.api.v1 import (\n",
    "    clusters,\n",
    "    Record,\n",
    "    filters as nf,\n",
    "    aggregators as na,\n",
    "    grouping as ng,\n",
    "    extractors as ne,\n",
    "    statface as ns\n",
    ")\n",
    "from qb2.api.v1 import (\n",
    "    filters as sf,\n",
    "    extractors as se,\n",
    "    resources as sr\n",
    ")\n",
    "import nile\n",
    "from urlparse import urlparse\n",
    "import json\n",
    "from itertools import product\n",
    "from nile.api.v1 import datetime as nd\n",
    "import re\n",
    "import pandas as pd\n",
    "import random\n",
    "import string\n",
    "from datetime import datetime\n",
    "import numpy as np"
   ]
  },
  {
   "cell_type": "code",
   "execution_count": 2,
   "metadata": {
    "ExecuteTime": {
     "end_time": "2018-10-22T11:21:29.073071Z",
     "start_time": "2018-10-22T11:21:26.164968Z"
    }
   },
   "outputs": [],
   "source": [
    "cluster = clusters.YT(proxy=\"hahn.yt.yandex.net\", pool=\"voice\") \\\n",
    "                .env(templates=dict(\n",
    "                                job_root=('home/voice/talamable/VA-274'),\n",
    "                                dates='{2018-08-20..2018-08-26}'))"
   ]
  },
  {
   "cell_type": "code",
   "execution_count": 4,
   "metadata": {
    "ExecuteTime": {
     "end_time": "2018-10-22T12:10:30.638348Z",
     "start_time": "2018-10-22T12:10:30.613898Z"
    }
   },
   "outputs": [],
   "source": [
    "def parse_us(groups):\n",
    "    import libra\n",
    "    for key, records in groups:\n",
    "        uuid = key.key\n",
    "        if not uuid.startswith('uu/'):\n",
    "            continue\n",
    "        try:\n",
    "            session = libra.ParseSession(records, 'blockstat.dict')\n",
    "        except:\n",
    "            continue\n",
    "        for r in session:\n",
    "            urls = {}\n",
    "            if not r.IsA('TMobileAppYandexWebRequest'):\n",
    "                continue\n",
    "            if not ('query_source=dialog' in r.FullRequest):\n",
    "                continue\n",
    "            commercial = float(r.RelevValues.get('cm2', -1))\n",
    "            results = r.GetMainBlocks()\n",
    "            direct_results = 0\n",
    "            direct_clicks = 0\n",
    "            click_cost = 0\n",
    "            wizard_results = {}\n",
    "            for block in results:\n",
    "                res = block.GetMainResult()\n",
    "                if res.IsA('TDirectResult'):\n",
    "                    if int(res.FraudBits) != 0:\n",
    "                        continue\n",
    "                    direct_results += 1\n",
    "                    for click in block.GetClicks():\n",
    "                        if not click.IsDynamic:\n",
    "                            direct_clicks += 1\n",
    "                            if click.GetProperties('TDirectClickProperties').EventCost is not None:\n",
    "                                click_cost += click.GetProperties('TDirectClickProperties').EventCost\n",
    "                elif res.IsA('TWizardResult') or res.IsA('TBlenderWizardResult'):\n",
    "                    wizard_results[res.Name] = wizard_results.get(res.Name, 0) + \\\n",
    "                            sum([not x.IsDynamic for x in block.GetClicks()])\n",
    "            yield Record(query=r.Query,\n",
    "                         cm=commercial,\n",
    "                         direct_results=direct_results,\n",
    "                         direct_clicks=direct_clicks,\n",
    "                         click_cost=click_cost,\n",
    "                         wizard_results=json.dumps(wizard_results)\n",
    "                        )"
   ]
  },
  {
   "cell_type": "code",
   "execution_count": 7,
   "metadata": {
    "ExecuteTime": {
     "end_time": "2018-10-22T15:49:33.815771Z",
     "start_time": "2018-10-22T12:33:20.905804Z"
    }
   },
   "outputs": [
    {
     "data": {
      "application/vnd.jupyter.widget-view+json": {
       "model_id": "f76a0e4fb9de4ea59cd6039e2b1e1aa6",
       "version_major": 2,
       "version_minor": 0
      },
      "text/plain": [
       "VBox()"
      ]
     },
     "metadata": {},
     "output_type": "display_data"
    }
   ],
   "source": [
    "job = cluster.job()\n",
    "us = job.table('//user_sessions/pub/search/daily/@dates/clean')\n",
    "reqs = us.groupby('key').sort('subkey').reduce(parse_us,\n",
    "                                                   files=[nile.files.RemoteFile('statbox/statbox-dict-last/blockstat.dict'),\n",
    "                                                          nile.files.RemoteFile('statbox/resources/libra.so')\n",
    "                                                         ],\n",
    "                                                   memory_limit=4000\n",
    "                                                  ) \\\n",
    "            .put('$job_root/wizard_direct_all_alice_week')\n",
    "job.run()"
   ]
  },
  {
   "cell_type": "code",
   "execution_count": 13,
   "metadata": {
    "ExecuteTime": {
     "end_time": "2018-10-25T12:37:05.519231Z",
     "start_time": "2018-10-25T12:31:40.544669Z"
    }
   },
   "outputs": [
    {
     "name": "stderr",
     "output_type": "stream",
     "text": [
      "NileWarning: Runtime Nile version ('1.56.3') is lower than installed ('2.0.0')\n"
     ]
    },
    {
     "data": {
      "application/vnd.jupyter.widget-view+json": {
       "model_id": "ece0956cded74b0ab4569c380a4e87ef",
       "version_major": 2,
       "version_minor": 0
      },
      "text/plain": [
       "VBox()"
      ]
     },
     "metadata": {},
     "output_type": "display_data"
    }
   ],
   "source": [
    "def all_wizards_names(records):\n",
    "    for rec in records:\n",
    "        wiz = json.loads(rec['wizard_results'])\n",
    "        for w in wiz:\n",
    "            yield Record(wiz=w, clicks=1 * (wiz[w] > 0))\n",
    "job = cluster.job()\n",
    "wn = job.table('$job_root/wizard_direct_all_alice_week') \\\n",
    "        .map(all_wizards_names) \\\n",
    "        .groupby('wiz') \\\n",
    "        .aggregate(num_req=na.count(),\n",
    "                   clicks=na.sum('clicks')\n",
    "                  ) \\\n",
    "        .sort('num_req') \\\n",
    "        .put('$job_root/wizard_names')\n",
    "job.run()"
   ]
  },
  {
   "cell_type": "code",
   "execution_count": 20,
   "metadata": {
    "ExecuteTime": {
     "end_time": "2018-10-26T13:58:01.641031Z",
     "start_time": "2018-10-26T13:48:23.200435Z"
    }
   },
   "outputs": [
    {
     "name": "stderr",
     "output_type": "stream",
     "text": [
      "NileWarning: Runtime Nile version ('1.56.3') is lower than installed ('2.0.0')\n"
     ]
    },
    {
     "data": {
      "application/vnd.jupyter.widget-view+json": {
       "model_id": "76eb24a226754b0aad37def49a0b19b5",
       "version_major": 2,
       "version_minor": 0
      },
      "text/plain": [
       "VBox()"
      ]
     },
     "metadata": {},
     "output_type": "display_data"
    }
   ],
   "source": [
    "def prepare_results(groups):\n",
    "    for key, records in groups:\n",
    "        direct_clicks = 0.\n",
    "        direct_cost = 0.\n",
    "        direct_results = 0.\n",
    "        direct_serps = 0.\n",
    "        wizards = {}\n",
    "        cm = []\n",
    "        for rec in records:\n",
    "            direct_clicks +=  rec['direct_clicks']\n",
    "            direct_results += rec['direct_results']\n",
    "            direct_cost += rec['click_cost']\n",
    "            if rec['direct_results'] > 0:\n",
    "                direct_serps += 1\n",
    "            for w, cl in json.loads(rec['wizard_results']).iteritems():\n",
    "                if w not in wizards:\n",
    "                    wizards[w] = {'shows': 0., 'clicks': 0.}\n",
    "                wizards[w]['shows'] += 1\n",
    "                wizards[w]['clicks'] += (cl>0) * 1\n",
    "            cm.append(rec['cm'])\n",
    "        yield Record(query=key.query,\n",
    "                     direct_clicks=direct_clicks,\n",
    "                     direct_cost=direct_cost,\n",
    "                     direct_results=direct_results,\n",
    "                     direct_serps=direct_serps,\n",
    "                     wizards=json.dumps(wizards),\n",
    "                     cm=np.median(cm),\n",
    "                     cnt=len(cm)\n",
    "                    )\n",
    "        \n",
    "\n",
    "job = cluster.job()\n",
    "wn = job.table('$job_root/wizard_direct_all_alice_week') \\\n",
    "        .groupby('query') \\\n",
    "        .reduce(prepare_results) \\\n",
    "        .put('$job_root/wizard_direct_aggregated_all_alice_week')\n",
    "job.run()"
   ]
  }
 ],
 "metadata": {
  "kernelspec": {
   "display_name": "Python 2.7",
   "language": "python",
   "name": "python2"
  },
  "language_info": {
   "codemirror_mode": {
    "name": "ipython",
    "version": 2
   },
   "file_extension": ".py",
   "mimetype": "text/x-python",
   "name": "python",
   "nbconvert_exporter": "python",
   "pygments_lexer": "ipython2",
   "version": "2.7.3"
  }
 },
 "nbformat": 4,
 "nbformat_minor": 2
}
