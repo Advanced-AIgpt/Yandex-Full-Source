{
 "cells": [
  {
   "cell_type": "code",
   "execution_count": 25,
   "metadata": {
    "ExecuteTime": {
     "end_time": "2018-07-23T15:09:47.631790Z",
     "start_time": "2018-07-23T15:09:47.392475Z"
    }
   },
   "outputs": [],
   "source": [
    "from __future__ import print_function\n",
    "from yql.api.v1.client import YqlClient"
   ]
  },
  {
   "cell_type": "code",
   "execution_count": null,
   "metadata": {},
   "outputs": [],
   "source": [
    "!git clone https://github.yandex-team.ru/edvls/statbox-abt-metrics.git\n",
    "from statbox_abt_metrics.api import run\n",
    "from statbox_abt_metrics.metrics.metrics_group import (\n",
    "    metrics_group, YTMetricsGroup\n",
    ")"
   ]
  },
  {
   "cell_type": "code",
   "execution_count": null,
   "metadata": {},
   "outputs": [],
   "source": [
    "import statbox_abt_metrics"
   ]
  },
  {
   "cell_type": "code",
   "execution_count": 36,
   "metadata": {
    "ExecuteTime": {
     "end_time": "2018-07-23T15:30:59.505268Z",
     "start_time": "2018-07-23T15:30:59.500858Z"
    }
   },
   "outputs": [],
   "source": [
    "users_table = \"//home/mobilesearch/personal_homes/bobsmirnov/experiments-21378/glued\"\n",
    "start_date = \"2018-06-14\"\n",
    "end_date = \"2018-07-09\"\n",
    "control_id = \"control\"\n",
    "experiment_id = \"take-over\"\n",
    "\n",
    "YQL_TOKEN = \"XXXXX\" # Open https://yql.yandex-team.ru/?settings_mode=token in browser to get your token\n",
    "tmp_sessions_floder = \"tmp/edvls_sessions_copy\" "
   ]
  },
  {
   "cell_type": "code",
   "execution_count": 32,
   "metadata": {
    "ExecuteTime": {
     "end_time": "2018-07-23T15:29:45.891898Z",
     "start_time": "2018-07-23T15:29:45.884301Z"
    }
   },
   "outputs": [],
   "source": [
    "yql_request = '''USE hahn;\n",
    "PRAGMA yt.InferSchema;\n",
    "PRAGMA SimpleColumns;\n",
    "\n",
    "$tasks_folder = \"home/voice/dialog/sessions\";\n",
    "$results_folder = \"{tmp_floder}\";\n",
    "\n",
    "DEFINE ACTION $process_task($input_path) AS\n",
    "    $output_path = String::ReplaceAll($input_path, $tasks_folder, $results_folder);\n",
    "    \n",
    "    INSERT INTO $output_path WITH TRUNCATE\n",
    "    SELECT \n",
    "        YQL::Append(Yson::ConvertToStringList(sessions.testids), users.exp) AS testids,\n",
    "        sessions.* WITHOUT sessions.testids\n",
    "    FROM $input_path AS sessions \n",
    "    JOIN [{users_table}] AS users\n",
    "    ON  String::SplitToList(sessions.uuid, \"/\"){{1}} == users.uuid\n",
    "    --WHERE users.exp_start <= sessions.fielddate \n",
    "    ;\n",
    "END DEFINE;\n",
    "\n",
    "$tasks = (\n",
    "    SELECT LIST(Path)\n",
    "    FROM FOLDER($tasks_folder)\n",
    "    WHERE Type == \"table\"\n",
    "    AND Path >= $tasks_folder || \"/{start_date}\"\n",
    "    AND Path <= $tasks_folder || \"/{end_date}\"\n",
    ");\n",
    "\n",
    "EVALUATE FOR $task IN $tasks ?? ListCreate(TypeOf($tasks)) DO $process_task($task);\n",
    "'''.format(tmp_floder=tmp_sessions_floder, start_date=start_date, end_date=end_date, users_table=users_table)"
   ]
  },
  {
   "cell_type": "code",
   "execution_count": 33,
   "metadata": {
    "ExecuteTime": {
     "end_time": "2018-07-23T15:29:48.029622Z",
     "start_time": "2018-07-23T15:29:48.011955Z"
    }
   },
   "outputs": [
    {
     "data": {
      "text/plain": [
       "{'__builtins__': {'ArithmeticError': ArithmeticError,\n",
       "  'AssertionError': AssertionError,\n",
       "  'AttributeError': AttributeError,\n",
       "  'BaseException': BaseException,\n",
       "  'BufferError': BufferError,\n",
       "  'BytesWarning': BytesWarning,\n",
       "  'DeprecationWarning': DeprecationWarning,\n",
       "  'EOFError': EOFError,\n",
       "  'Ellipsis': Ellipsis,\n",
       "  'EnvironmentError': EnvironmentError,\n",
       "  'Exception': Exception,\n",
       "  'False': False,\n",
       "  'FloatingPointError': FloatingPointError,\n",
       "  'FutureWarning': FutureWarning,\n",
       "  'GeneratorExit': GeneratorExit,\n",
       "  'IOError': IOError,\n",
       "  'ImportError': ImportError,\n",
       "  'ImportWarning': ImportWarning,\n",
       "  'IndentationError': IndentationError,\n",
       "  'IndexError': IndexError,\n",
       "  'KeyError': KeyError,\n",
       "  'KeyboardInterrupt': KeyboardInterrupt,\n",
       "  'LookupError': LookupError,\n",
       "  'MemoryError': MemoryError,\n",
       "  'NameError': NameError,\n",
       "  'None': None,\n",
       "  'NotImplemented': NotImplemented,\n",
       "  'NotImplementedError': NotImplementedError,\n",
       "  'OSError': OSError,\n",
       "  'OverflowError': OverflowError,\n",
       "  'PendingDeprecationWarning': PendingDeprecationWarning,\n",
       "  'ReferenceError': ReferenceError,\n",
       "  'RuntimeError': RuntimeError,\n",
       "  'RuntimeWarning': RuntimeWarning,\n",
       "  'StandardError': StandardError,\n",
       "  'StopIteration': StopIteration,\n",
       "  'SyntaxError': SyntaxError,\n",
       "  'SyntaxWarning': SyntaxWarning,\n",
       "  'SystemError': SystemError,\n",
       "  'SystemExit': SystemExit,\n",
       "  'TabError': TabError,\n",
       "  'True': True,\n",
       "  'TypeError': TypeError,\n",
       "  'UnboundLocalError': UnboundLocalError,\n",
       "  'UnicodeDecodeError': UnicodeDecodeError,\n",
       "  'UnicodeEncodeError': UnicodeEncodeError,\n",
       "  'UnicodeError': UnicodeError,\n",
       "  'UnicodeTranslateError': UnicodeTranslateError,\n",
       "  'UnicodeWarning': UnicodeWarning,\n",
       "  'UserWarning': UserWarning,\n",
       "  'ValueError': ValueError,\n",
       "  'Warning': Warning,\n",
       "  'ZeroDivisionError': ZeroDivisionError,\n",
       "  '__IPYTHON__': True,\n",
       "  '__debug__': True,\n",
       "  '__doc__': \"Built-in functions, exceptions, and other objects.\\n\\nNoteworthy: None is the `nil' object; Ellipsis represents `...' in slices.\",\n",
       "  '__import__': <function __import__>,\n",
       "  '__name__': '__builtin__',\n",
       "  '__package__': None,\n",
       "  'abs': <function abs>,\n",
       "  'all': <function all>,\n",
       "  'any': <function any>,\n",
       "  'apply': <function apply>,\n",
       "  'basestring': basestring,\n",
       "  'bin': <function bin>,\n",
       "  'bool': bool,\n",
       "  'buffer': buffer,\n",
       "  'bytearray': bytearray,\n",
       "  'bytes': str,\n",
       "  'callable': <function callable>,\n",
       "  'chr': <function chr>,\n",
       "  'classmethod': classmethod,\n",
       "  'cmp': <function cmp>,\n",
       "  'coerce': <function coerce>,\n",
       "  'compile': <function compile>,\n",
       "  'complex': complex,\n",
       "  'copyright': Copyright (c) 2001-2012 Python Software Foundation.\n",
       "  All Rights Reserved.\n",
       "  \n",
       "  Copyright (c) 2000 BeOpen.com.\n",
       "  All Rights Reserved.\n",
       "  \n",
       "  Copyright (c) 1995-2001 Corporation for National Research Initiatives.\n",
       "  All Rights Reserved.\n",
       "  \n",
       "  Copyright (c) 1991-1995 Stichting Mathematisch Centrum, Amsterdam.\n",
       "  All Rights Reserved.,\n",
       "  'credits':     Thanks to CWI, CNRI, BeOpen.com, Zope Corporation and a cast of thousands\n",
       "      for supporting Python development.  See www.python.org for more information.,\n",
       "  'delattr': <function delattr>,\n",
       "  'dict': dict,\n",
       "  'dir': <function dir>,\n",
       "  'display': <function IPython.core.display.display>,\n",
       "  'divmod': <function divmod>,\n",
       "  'dreload': <function IPython.lib.deepreload._dreload>,\n",
       "  'enumerate': enumerate,\n",
       "  'eval': <function eval>,\n",
       "  'execfile': <function execfile>,\n",
       "  'file': file,\n",
       "  'filter': <function filter>,\n",
       "  'float': float,\n",
       "  'format': <function format>,\n",
       "  'frozenset': frozenset,\n",
       "  'get_ipython': <bound method ZMQInteractiveShell.get_ipython of <ipykernel.zmqshell.ZMQInteractiveShell object at 0x34ecf50>>,\n",
       "  'getattr': <function getattr>,\n",
       "  'globals': <function globals>,\n",
       "  'hasattr': <function hasattr>,\n",
       "  'hash': <function hash>,\n",
       "  'help': Type help() for interactive help, or help(object) for help about object.,\n",
       "  'hex': <function hex>,\n",
       "  'id': <function id>,\n",
       "  'input': <function ipykernel.ipkernel.<lambda>>,\n",
       "  'int': int,\n",
       "  'intern': <function intern>,\n",
       "  'isinstance': <function isinstance>,\n",
       "  'issubclass': <function issubclass>,\n",
       "  'iter': <function iter>,\n",
       "  'len': <function len>,\n",
       "  'license': Type license() to see the full license text,\n",
       "  'list': list,\n",
       "  'locals': <function locals>,\n",
       "  'long': long,\n",
       "  'map': <function map>,\n",
       "  'max': <function max>,\n",
       "  'memoryview': memoryview,\n",
       "  'min': <function min>,\n",
       "  'next': <function next>,\n",
       "  'object': object,\n",
       "  'oct': <function oct>,\n",
       "  'open': <function open>,\n",
       "  'ord': <function ord>,\n",
       "  'pow': <function pow>,\n",
       "  'print': <function print>,\n",
       "  'property': property,\n",
       "  'range': <function range>,\n",
       "  'raw_input': <bound method IPythonKernel.raw_input of <ipykernel.ipkernel.IPythonKernel object at 0x34e88d0>>,\n",
       "  'reduce': <function reduce>,\n",
       "  'reload': <function reload>,\n",
       "  'repr': <function repr>,\n",
       "  'reversed': reversed,\n",
       "  'round': <function round>,\n",
       "  'set': set,\n",
       "  'setattr': <function setattr>,\n",
       "  'slice': slice,\n",
       "  'sorted': <function sorted>,\n",
       "  'staticmethod': staticmethod,\n",
       "  'str': str,\n",
       "  'sum': <function sum>,\n",
       "  'super': super,\n",
       "  'tuple': tuple,\n",
       "  'type': type,\n",
       "  'unichr': <function unichr>,\n",
       "  'unicode': unicode,\n",
       "  'vars': <function vars>,\n",
       "  'xrange': xrange,\n",
       "  'zip': <function zip>},\n",
       " '__doc__': None,\n",
       " '__file__': '/usr/local/lib/python2.7/dist-packages/yql/__init__.pyc',\n",
       " '__name__': 'yql',\n",
       " '__package__': None,\n",
       " '__path__': ['/usr/local/lib/python2.7/dist-packages/yql'],\n",
       " 'api': <module 'yql.api' from '/usr/local/lib/python2.7/dist-packages/yql/api/__init__.pyc'>,\n",
       " 'client': <module 'yql.client' from '/usr/local/lib/python2.7/dist-packages/yql/client/__init__.pyc'>,\n",
       " 'config': <module 'yql.config' from '/usr/local/lib/python2.7/dist-packages/yql/config.pyc'>,\n",
       " 'contrib': <module 'yql.contrib' from '/usr/local/lib/python2.7/dist-packages/yql/contrib/__init__.pyc'>,\n",
       " 'language': <module 'yql.language' from '/usr/local/lib/python2.7/dist-packages/yql/language/__init__.pyc'>,\n",
       " 'util': <module 'yql.util' from '/usr/local/lib/python2.7/dist-packages/yql/util/__init__.pyc'>}"
      ]
     },
     "execution_count": 33,
     "metadata": {},
     "output_type": "execute_result"
    }
   ],
   "source": [
    "yql.__dict__"
   ]
  },
  {
   "cell_type": "code",
   "execution_count": null,
   "metadata": {
    "ExecuteTime": {
     "end_time": "2018-07-23T15:30:06.897231Z",
     "start_time": "2018-07-23T15:30:05.188343Z"
    },
    "run_control": {
     "marked": true
    }
   },
   "outputs": [],
   "source": [
    "client = YqlClient(token=YQL_TOKEN)\n",
    "request = client.query(yql_request)\n",
    "request.run()"
   ]
  },
  {
   "cell_type": "code",
   "execution_count": 38,
   "metadata": {
    "ExecuteTime": {
     "end_time": "2018-07-23T15:37:25.548919Z",
     "start_time": "2018-07-23T15:37:25.543944Z"
    }
   },
   "outputs": [],
   "source": [
    "SESSION_LOGS = tmp_sessions_floder"
   ]
  },
  {
   "cell_type": "code",
   "execution_count": 39,
   "metadata": {
    "ExecuteTime": {
     "end_time": "2018-07-23T15:37:27.845845Z",
     "start_time": "2018-07-23T15:37:27.831471Z"
    },
    "code_folding": []
   },
   "outputs": [],
   "source": [
    "from statbox_abt_metrics.metrics.alice.basic_scenarios_metrics import *\n",
    "\n",
    "@metrics_group\n",
    "class BasicScenariosMetricsModified(YTMetricsGroup):\n",
    "    reducer = IntentMetrics()\n",
    "\n",
    "    name = \"basic_scenarios_metrics\"\n",
    "\n",
    "    ru_name = \"Базовые метрики сценариев\"\n",
    "\n",
    "    en_name = \"Basic scenarios metrics\"\n",
    "\n",
    "    def build_meta(self):\n",
    "        return make_metrics_meta()\n",
    "\n",
    "    def build_stream(self, job):\n",
    "        return job \\\n",
    "            .log(SESSION_LOGS) \\\n",
    "            .project(\n",
    "                qe.all(),\n",
    "                unfold_experiments(self.config.experiments),\n",
    "                user_id='uuid'\n",
    "            ) \\\n",
    "            .call(\n",
    "                unfold_datetime,\n",
    "                self.config,\n",
    "                qe.log_field('fielddate')\n",
    "            ) \\\n",
    "            .groupby('datetime', 'user_id', 'exp_id') \\\n",
    "            .reduce(self.reducer)"
   ]
  },
  {
   "cell_type": "code",
   "execution_count": 40,
   "metadata": {
    "ExecuteTime": {
     "end_time": "2018-07-23T15:37:28.314250Z",
     "start_time": "2018-07-23T15:37:28.294956Z"
    }
   },
   "outputs": [],
   "source": [
    "from statbox_abt_metrics.metrics.alice.basic_metrics import *\n",
    "\n",
    "@metrics_group\n",
    "class BasicMetricsModified(YTMetricsGroup):\n",
    "    name = \"basic_metrics\"\n",
    "    ru_name = \"Базовые метрики\"\n",
    "    en_name = \"Basic metrics\"\n",
    "\n",
    "    reducer = None\n",
    "\n",
    "    def init(self):\n",
    "        self.reducer = BasicMetricsCounter()\n",
    "\n",
    "    def build_meta(self):\n",
    "        return self.reducer.meta\n",
    "\n",
    "    def build_stream(self, job):\n",
    "        return job \\\n",
    "            .log(SESSION_LOGS) \\\n",
    "            .project(\n",
    "                qe.all(),\n",
    "                unfold_experiments(self.config.experiments),\n",
    "                user_id='uuid'\n",
    "            ) \\\n",
    "            .call(\n",
    "                unfold_datetime,\n",
    "                self.config,\n",
    "                qe.log_field('fielddate')\n",
    "            ) \\\n",
    "            .groupby('datetime', 'user_id', 'exp_id') \\\n",
    "            .reduce(self.reducer)"
   ]
  },
  {
   "cell_type": "code",
   "execution_count": 41,
   "metadata": {
    "ExecuteTime": {
     "end_time": "2018-07-23T15:37:29.368604Z",
     "start_time": "2018-07-23T15:37:29.351140Z"
    }
   },
   "outputs": [],
   "source": [
    "from statbox_abt_metrics.metrics.alice.session_metrics import *\n",
    "\n",
    "@metrics_group\n",
    "class SessionMetricsModified(YTMetricsGroup):\n",
    "    name = \"session_metrics\"\n",
    "    ru_name = \"Сессионные метрики\"\n",
    "    en_name = \"Sessions metrics\"\n",
    "\n",
    "    reducer = None\n",
    "\n",
    "    def init(self):\n",
    "        self.reducer = AliceSessionsCounterReduce()\n",
    "\n",
    "    def build_meta(self):\n",
    "        return self.reducer.meta\n",
    "\n",
    "    def build_stream(self, job):\n",
    "        return job.log(\n",
    "            SESSION_LOGS\n",
    "        ).project(\n",
    "            qe.all(),\n",
    "            unfold_experiments(self.config.experiments),\n",
    "            user_id='uuid',\n",
    "        ).groupby(\n",
    "            'fielddate', 'user_id', 'exp_id',\n",
    "        ).sort(\n",
    "            'session_id',\n",
    "        ).reduce(\n",
    "            unfold_sessions,\n",
    "        ).call(\n",
    "            unfold_datetime,\n",
    "            self.config,\n",
    "            qe.log_field('fielddate'),\n",
    "        ).groupby(\n",
    "            'datetime', 'user_id', 'exp_id',\n",
    "        ).sort(\n",
    "            'timestamp',\n",
    "        ).reduce(\n",
    "            self.reducer,\n",
    "        )"
   ]
  },
  {
   "cell_type": "code",
   "execution_count": null,
   "metadata": {
    "ExecuteTime": {
     "start_time": "2018-07-23T12:59:00.166Z"
    }
   },
   "outputs": [],
   "source": [
    "result = run(\n",
    "    service='transport',\n",
    "    metric_groups=[BasicMetricsModified, SessionMetricsModified, BasicScenariosMetricsModified],\n",
    "    experiments=[control_id, experiment_id],\n",
    "    start_date=start_date,\n",
    "    end_date=end_date\n",
    ")"
   ]
  },
  {
   "cell_type": "code",
   "execution_count": null,
   "metadata": {
    "ExecuteTime": {
     "start_time": "2018-07-23T12:59:02.489Z"
    }
   },
   "outputs": [],
   "source": [
    "result"
   ]
  }
 ],
 "metadata": {
  "kernelspec": {
   "display_name": "Python 2.7",
   "language": "python",
   "name": "python2"
  },
  "language_info": {
   "codemirror_mode": {
    "name": "ipython",
    "version": 2
   },
   "file_extension": ".py",
   "mimetype": "text/x-python",
   "name": "python",
   "nbconvert_exporter": "python",
   "pygments_lexer": "ipython2",
   "version": "2.7.3"
  }
 },
 "nbformat": 4,
 "nbformat_minor": 2
}
