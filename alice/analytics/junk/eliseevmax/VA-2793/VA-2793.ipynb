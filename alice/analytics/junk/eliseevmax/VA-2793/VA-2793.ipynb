{
 "cells": [
  {
   "cell_type": "code",
   "execution_count": 85,
   "metadata": {
    "ExecuteTime": {
     "end_time": "2022-04-06T12:32:48.463567Z",
     "start_time": "2022-04-06T12:32:48.459760Z"
    }
   },
   "outputs": [],
   "source": [
    "# def read_yt_table(table_path, token=None):\n",
    "#     \"\"\"reads table from hahn, returns DF\"\"\"\n",
    "#     yt.config[\"proxy\"][\"url\"] = 'hahn.yt.yandex.net'\n",
    "#     client = yt.YtClient(proxy='hahn', token=token)\n",
    "#     read_result = client.read_table(table_path, raw=False)\n",
    "\n",
    "#     raw_data = [row for row in read_result.rows]\n",
    "#     return pd.DataFrame(raw_data)"
   ]
  },
  {
   "cell_type": "code",
   "execution_count": 89,
   "metadata": {
    "ExecuteTime": {
     "end_time": "2022-04-06T14:07:52.850175Z",
     "start_time": "2022-04-06T14:07:52.844801Z"
    }
   },
   "outputs": [],
   "source": [
    "import yt.wrapper as yt\n",
    "\n",
    "import pandas as pd\n",
    "import numpy as np\n",
    "import matplotlib.pyplot as plt\n",
    "from scipy.stats import mannwhitneyu, ttest_ind\n",
    "import os\n",
    "\n",
    "from tqdm.auto import tqdm\n",
    "from collections import Counter\n",
    "\n",
    "%matplotlib inline"
   ]
  },
  {
   "cell_type": "code",
   "execution_count": 90,
   "metadata": {
    "ExecuteTime": {
     "end_time": "2022-04-07T13:49:00.369481Z",
     "start_time": "2022-04-07T13:49:00.366438Z"
    }
   },
   "outputs": [],
   "source": [
    "# from scipy.stats import permutation_test"
   ]
  },
  {
   "cell_type": "code",
   "execution_count": 91,
   "metadata": {
    "ExecuteTime": {
     "end_time": "2022-04-06T14:07:52.850175Z",
     "start_time": "2022-04-06T14:07:52.844801Z"
    }
   },
   "outputs": [],
   "source": [
    "yt.config[\"proxy\"][\"url\"] = 'hahn.yt.yandex.net'\n",
    "client = yt.YtClient(proxy='hahn', token=os.environ.get('YT_TOKEN'))"
   ]
  },
  {
   "cell_type": "code",
   "execution_count": 66,
   "metadata": {},
   "outputs": [],
   "source": [
    "def calc_metric_avg(data, part_coef=0.8, test_name=\"test\", portion=None, buckets=100, alpha=0.0, norm_column=\"probability\"):\n",
    "    \n",
    "    flag = (data[\"test_name\"] == test_name) & (data[\"stupid_cnt\"] == 0) \n",
    "    \n",
    "    if portion is not None:\n",
    "        flag = flag & (data[\"portion\"] == portion)\n",
    "    \n",
    "    nes_part = data[flag]\n",
    "    \n",
    "    frequency_norm = nes_part[norm_column].values / nes_part[norm_column].values.sum()\n",
    "    \n",
    "    norm = 1 * (1 - alpha) + alpha * frequency_norm * len(nes_part)\n",
    "    \n",
    "    raw_resulrs = norm * (nes_part[\"part_cnt\"] * part_coef + nes_part[\"good_cnt\"]) / (nes_part[\"part_cnt\"] + nes_part[\"good_cnt\"] + nes_part[\"bad_cnt\"])\n",
    "        \n",
    "    bucket = nes_part[\"uuid\"].apply(lambda x: hash(x) % buckets)\n",
    "    \n",
    "    pd_results = pd.DataFrame({\n",
    "        \"metric\": raw_resulrs.values,\n",
    "        \"bucket\": bucket.values\n",
    "    })\n",
    "    \n",
    "    final_results = pd_results.groupby(by=[\"bucket\"]).mean()[\"metric\"].values\n",
    "    \n",
    "    return final_results\n",
    "\n",
    "def calc_metric_energy(data, part_coef=0.8, test_name=\"test\", portion=None, buckets=100, alpha=0.0, norm_column=\"probability\"):\n",
    "    \n",
    "    flag = (data[\"test_name\"] == test_name) & (data[\"stupid_cnt\"] == 0) \n",
    "    \n",
    "    if portion is not None:\n",
    "        flag = flag & (data[\"portion\"] == portion)\n",
    "    \n",
    "    nes_part = data[flag]\n",
    "    \n",
    "    frequency_norm = nes_part[norm_column].values / nes_part[norm_column].values.sum()\n",
    "    \n",
    "    norm = 1 * (1 - alpha) + alpha * frequency_norm * len(nes_part)\n",
    "    \n",
    "    raw_resulrs = norm * (nes_part[\"part_cnt\"] * part_coef + nes_part[\"good_cnt\"])\n",
    "    \n",
    "    bucket = nes_part[\"uuid\"].apply(lambda x: hash(x) % buckets)\n",
    "    \n",
    "    pd_results = pd.DataFrame({\n",
    "        \"metric\": raw_resulrs.values,\n",
    "        \"bucket\": bucket.values\n",
    "    })\n",
    "    \n",
    "    final_results = pd_results.groupby(by=[\"bucket\"]).mean()[\"metric\"].values\n",
    "    \n",
    "    return final_results\n",
    "\n",
    "def calc_metric_raw_avg(data, part_coef=0.8, test_name=\"test\", portion=None, buckets=100, alpha=0.0, norm_column=\"probability\"):\n",
    "    \n",
    "    flag = (data[\"test_name\"] == test_name)\n",
    "    \n",
    "    if portion is not None:\n",
    "        flag = flag & (data[\"portion\"] == portion)\n",
    "    \n",
    "    nes_part = data[flag]\n",
    "    \n",
    "    bucket = nes_part[\"uuid\"].apply(lambda x: hash(x) % buckets).values\n",
    "    \n",
    "    final_buckets = np.concatenate(\n",
    "        (\n",
    "            np.repeat(bucket, nes_part[\"part_cnt\"].values), \n",
    "            np.repeat(bucket, nes_part[\"good_cnt\"].values), \n",
    "            np.repeat(bucket, nes_part[\"bad_cnt\"].values)\n",
    "        )\n",
    "    )\n",
    "    \n",
    "    raw_resulrs = np.concatenate(\n",
    "        (\n",
    "            np.ones(nes_part[\"part_cnt\"].values.sum()) * part_coef, \n",
    "            np.ones(nes_part[\"good_cnt\"].values.sum()), \n",
    "            np.zeros(nes_part[\"bad_cnt\"].values.sum())\n",
    "        )\n",
    "    )\n",
    "    \n",
    "    \n",
    "    pd_results = pd.DataFrame({\n",
    "        \"metric\": raw_resulrs,\n",
    "        \"bucket\": final_buckets\n",
    "    })\n",
    "    \n",
    "    final_results = pd_results.groupby(by=[\"bucket\"]).mean()[\"metric\"].values\n",
    "    \n",
    "    return final_results\n",
    "\n",
    "\n",
    "\n",
    "# def process_exp(table_name, portion=None, calc_metric=calc_metric_avg, alpha=0.0, plot=True, norm_column=\"probability\"):\n",
    "#     read_result = pd.DataFrame(client.read_table(table_name, raw=False))\n",
    "#     read_result[\"is_part\"] = 1 * (read_result[\"result\"] == \"part\")\n",
    "#     read_result[\"is_stupid\"] = 1 * (read_result[\"result\"] == \"stupid\")\n",
    "#     read_result[\"is_good\"] = 1 * (read_result[\"result\"] == \"good\")\n",
    "#     read_result[\"is_bad\"] = 1 * (read_result[\"result\"] == \"bad\")\n",
    "    \n",
    "    \n",
    "#     parsed_data = read_result.groupby(by=[\"session_id_old\"]).agg(\n",
    "#                                                     part_cnt = pd.NamedAgg(column = 'is_part', aggfunc = 'sum'),\n",
    "#                                                     stupid_cnt = pd.NamedAgg(column = 'is_stupid', aggfunc = 'sum'),\n",
    "#                                                     good_cnt = pd.NamedAgg(column = 'is_good', aggfunc = 'sum'),\n",
    "#                                                     bad_cnt = pd.NamedAgg(column = 'is_bad', aggfunc = 'sum'),\n",
    "#                                                     test_name = pd.NamedAgg(column = 'test_name', aggfunc = 'last'),\n",
    "#                                                     uuid = pd.NamedAgg(column = 'uuid', aggfunc = 'last'),\n",
    "#                                                     portion = pd.NamedAgg(column = 'portion', aggfunc = 'last'),\n",
    "#                                                     frequency = pd.NamedAgg(column = 'frequency', aggfunc = 'mean'),\n",
    "#                                                     session_len = pd.NamedAgg(column = 'session_len', aggfunc = 'last'),\n",
    "#                                                     ).reset_index()\n",
    "    \n",
    "    \n",
    "#     frequency = parsed_data.groupby(by=[\"test_name\", \"session_len\", \"portion\"]).agg(\n",
    "#         frequency = pd.NamedAgg(column = 'frequency', aggfunc = 'last'),\n",
    "#     ).reset_index()\n",
    "\n",
    "#     frequency_norm = frequency.groupby(by=[\"test_name\", \"portion\"])[\"frequency\"].sum().reset_index()\n",
    "\n",
    "#     frequency = frequency.merge(frequency_norm, on=[\"test_name\", \"portion\"], suffixes=(\"\", \"_norm\"))\n",
    "#     frequency[\"probability\"] = frequency[\"frequency\"]/frequency[\"frequency_norm\"]\n",
    "#     frequency.drop(columns=[\"frequency\", \"frequency_norm\"], inplace=True)\n",
    "\n",
    "#     parsed_data = parsed_data.merge(frequency, on=[\"test_name\", \"session_len\", \"portion\"])\n",
    "\n",
    "#     sessions_length = parsed_data.groupby(by=[\"test_name\", \"portion\"])[\"session_len\"].sum().reset_index()\n",
    "#     parsed_data = parsed_data.merge(sessions_length, on=[\"test_name\", \"portion\"],suffixes=(\"\", \"_norm\"))\n",
    "#     parsed_data[\"normalized_len\"] = parsed_data[\"session_len\"]/parsed_data[\"session_len_norm\"]\n",
    "    \n",
    "#     test_raw = calc_metric(parsed_data, part_coef=0.5, test_name=\"test\", portion=portion, alpha=alpha, norm_column=norm_column)\n",
    "#     ctrl_raw = calc_metric(parsed_data, part_coef=0.5, test_name=\"ctrl\", portion=portion, alpha=alpha, norm_column=norm_column)\n",
    "    \n",
    "    \n",
    "#     pvalue=mannwhitneyu(ctrl_raw, test_raw).pvalue\n",
    "#     effect = (test_raw.mean() - ctrl_raw.mean())/ctrl_raw.mean()\n",
    "#     message = f'pvalue={pvalue:.3f}, effect={effect:.3f}, ctrl metric = {ctrl_raw.mean():.3f}, test_metric = {test_raw.mean():.3f}, cnt = {len(ctrl_raw) + len(test_raw)}'\n",
    "#     #, pvalue, effect, ctrl_metric.mean(), test_metric.mean()\n",
    "#     if plot:\n",
    "#         print(message)\n",
    "#         print()\n",
    "    \n",
    "#     res_dict={\"p_value\": pvalue, \"cntr_value\": ctrl_raw.mean(), \"test_value\": test_raw.mean()}\n",
    "    \n",
    "#     coefs = np.linspace(0, 1.0, 50)\n",
    "\n",
    "    \n",
    "#     if plot:\n",
    "#         p_values = []\n",
    "\n",
    "#         for coef in coefs:\n",
    "#             test_raw = calc_metric(parsed_data, part_coef=coef, test_name=\"test\", portion=portion)\n",
    "#             ctrl_raw = calc_metric(parsed_data, part_coef=coef, test_name=\"ctrl\", portion=portion)\n",
    "#             pvalue=mannwhitneyu(ctrl_raw, test_raw).pvalue\n",
    "#             p_values.append(pvalue)\n",
    "\n",
    "#         plt.plot(coefs, p_values)\n",
    "#         plt.show()\n",
    "    \n",
    "#     return res_dict\n",
    "\n",
    "def process_exp(table_name, \n",
    "                portion=None, \n",
    "                calc_metric=calc_metric_avg, \n",
    "                alpha=0.0, \n",
    "                plot=True, \n",
    "                norm_column=\"probability\", \n",
    "                beta=1000.0,\n",
    "                test_name=\"test\",\n",
    "                cntrl_name=\"cntrl\",\n",
    "                probability_threshold=0.\n",
    "            ):\n",
    "    read_result = pd.DataFrame(client.read_table(table_name, raw=False))\n",
    "    read_result[\"is_part\"] = 1 * (read_result[\"result\"] == \"part\")\n",
    "    read_result[\"is_stupid\"] = 1 * (read_result[\"result\"] == \"stupid\")\n",
    "    read_result[\"is_good\"] = 1 * (read_result[\"result\"] == \"good\")\n",
    "    read_result[\"is_bad\"] = 1 * (read_result[\"result\"] == \"bad\")\n",
    "    read_result = read_result[read_result[\"probability\"] >= probability_threshold].reset_index(drop=True)\n",
    "    \n",
    "    \n",
    "    parsed_data = read_result.groupby(by=[\"session_id_old\"]).agg(\n",
    "                                                    part_cnt = pd.NamedAgg(column = 'is_part', aggfunc = 'sum'),\n",
    "                                                    stupid_cnt = pd.NamedAgg(column = 'is_stupid', aggfunc = 'sum'),\n",
    "                                                    good_cnt = pd.NamedAgg(column = 'is_good', aggfunc = 'sum'),\n",
    "                                                    bad_cnt = pd.NamedAgg(column = 'is_bad', aggfunc = 'sum'),\n",
    "                                                    test_name = pd.NamedAgg(column = 'test_name', aggfunc = 'last'),\n",
    "                                                    uuid = pd.NamedAgg(column = 'uuid', aggfunc = 'last'),\n",
    "                                                    portion = pd.NamedAgg(column = 'portion', aggfunc = 'last'),\n",
    "                                                    frequency = pd.NamedAgg(column = 'frequency', aggfunc = 'mean'),\n",
    "                                                    session_len = pd.NamedAgg(column = 'session_len', aggfunc = 'last'),\n",
    "                                                    ).reset_index()\n",
    "    frequency = parsed_data.groupby(by=[\"test_name\", \"session_len\", \"portion\"]).agg(\n",
    "        frequency = pd.NamedAgg(column = 'frequency', aggfunc = 'last'),\n",
    "    ).reset_index()\n",
    "\n",
    "    frequency_norm = frequency.groupby(by=[\"test_name\", \"portion\"])[\"frequency\"].sum().reset_index()\n",
    "\n",
    "    frequency = frequency.merge(frequency_norm, on=[\"test_name\", \"portion\"], suffixes=(\"\", \"_norm\"))\n",
    "    frequency[\"probability\"] = frequency[\"frequency\"]/frequency[\"frequency_norm\"]\n",
    "    frequency.drop(columns=[\"frequency\", \"frequency_norm\"], inplace=True)\n",
    "\n",
    "    parsed_data = parsed_data.merge(frequency, on=[\"test_name\", \"session_len\", \"portion\"])\n",
    "\n",
    "    sessions_length = parsed_data.groupby(by=[\"test_name\", \"portion\"])[\"session_len\"].sum().reset_index()\n",
    "    parsed_data = parsed_data.merge(sessions_length, on=[\"test_name\", \"portion\"],suffixes=(\"\", \"_norm\"))\n",
    "    parsed_data[\"normalized_len\"] = parsed_data[\"session_len\"]/parsed_data[\"session_len_norm\"]\n",
    "    \n",
    "    prob = np.random.uniform(size=len(parsed_data))\n",
    "    \n",
    "    parsed_data = parsed_data[prob < beta * parsed_data[\"probability\"]].reset_index(drop=True)\n",
    "    \n",
    "    \n",
    "    \n",
    "    test_raw = calc_metric(parsed_data, part_coef=0.5, test_name=test_name, portion=portion, alpha=alpha, norm_column=norm_column)\n",
    "    ctrl_raw = calc_metric(parsed_data, part_coef=0.5, test_name=cntrl_name, portion=portion, alpha=alpha, norm_column=norm_column)\n",
    "    \n",
    "    \n",
    "    pvalue=mannwhitneyu(ctrl_raw, test_raw).pvalue\n",
    "    effect = (test_raw.mean() - ctrl_raw.mean())/ctrl_raw.mean()\n",
    "    message = f'pvalue={pvalue:.3f}, effect={effect:.3f}, ctrl metric = {ctrl_raw.mean():.3f}, test_metric = {test_raw.mean():.3f}, cnt = {len(ctrl_raw) + len(test_raw)}'\n",
    "    #, pvalue, effect, ctrl_metric.mean(), test_metric.mean()\n",
    "    if plot:\n",
    "        print(message)\n",
    "        print()\n",
    "    \n",
    "    res_dict={\"p_value\": pvalue, \"cntr_value\": ctrl_raw.mean(), \"test_value\": test_raw.mean()}\n",
    "    \n",
    "    coefs = np.linspace(0, 1.0, 50)\n",
    "\n",
    "    \n",
    "    if plot:\n",
    "        p_values = []\n",
    "\n",
    "        for coef in coefs:\n",
    "            test_raw = calc_metric(parsed_data, part_coef=coef, test_name=test_name, portion=portion)\n",
    "            ctrl_raw = calc_metric(parsed_data, part_coef=coef, test_name=cntrl_name, portion=portion)\n",
    "            pvalue=mannwhitneyu(ctrl_raw, test_raw).pvalue\n",
    "            p_values.append(pvalue)\n",
    "\n",
    "        plt.plot(coefs, p_values)\n",
    "        plt.show()\n",
    "    \n",
    "    return res_dict\n",
    "\n",
    "\n",
    "def make_report_table_for_exp(table, test_name=\"test\",\n",
    "                cntrl_name=\"ctrl\"):\n",
    "    \n",
    "    read_result = pd.DataFrame(client.read_table(table, raw=False))\n",
    "    \n",
    "    agreement = read_result[\"probability\"].values.mean()\n",
    "    \n",
    "    res_metric_avg_without_weights_and_sampling = process_exp(table,\n",
    "                                                            portion=None, \n",
    "                                                            plot=False,\n",
    "                                                            calc_metric=calc_metric_avg,\n",
    "                                                            test_name=test_name,\n",
    "                                                            cntrl_name=cntrl_name \n",
    "                                                             )\n",
    "    \n",
    "    res_metric_avg_with_weights_and_sampling = process_exp( table,\n",
    "                                                            portion=None, \n",
    "                                                            calc_metric=calc_metric_avg, \n",
    "                                                            plot=False,\n",
    "                                                            alpha=1,\n",
    "                                                            test_name=test_name,\n",
    "                                                            cntrl_name=cntrl_name \n",
    "                                                          )\n",
    "    \n",
    "    res_metric_avg_without_weights_and_with_sampling = process_exp(table,\n",
    "                                                                   portion=None, \n",
    "                                                                   calc_metric=calc_metric_avg,\n",
    "                                                                   plot=False,\n",
    "                                                                   beta=6,\n",
    "                                                                   test_name=test_name,\n",
    "                                                            cntrl_name=cntrl_name \n",
    "                                                                  )\n",
    "    \n",
    "    res_metric_raw_avg_without_weights_and_sampling = process_exp(table,\n",
    "                                                                  portion=None, \n",
    "                                                                  plot=False,\n",
    "                                                                  calc_metric=calc_metric_raw_avg,\n",
    "                                                                  test_name=test_name,\n",
    "                                                            cntrl_name=cntrl_name \n",
    "                                                                 )\n",
    "    \n",
    "    \n",
    "    res_metric_raw_avg_without_weights_and_with_sampling = process_exp( table,\n",
    "                                                                        portion=None, \n",
    "                                                                        plot=False,\n",
    "                                                                        calc_metric=calc_metric_raw_avg,\n",
    "                                                                        beta=6,\n",
    "                                                                       test_name=test_name,\n",
    "                                                            cntrl_name=cntrl_name \n",
    "                                                                      )\n",
    "    \n",
    "    res_metric_energy_without_weights_and_sampling = process_exp(table,\n",
    "                                                                 portion=None, \n",
    "                                                                 plot=False,\n",
    "                                                                 calc_metric=calc_metric_energy,\n",
    "                                                                 test_name=test_name,\n",
    "                                                            cntrl_name=cntrl_name \n",
    "                                                                )\n",
    "    \n",
    "    res_metric_energy_with_weights_and_sampling = process_exp(table,\n",
    "                                                              portion=None, \n",
    "                                                              calc_metric=calc_metric_energy, \n",
    "                                                              plot=False,\n",
    "                                                              alpha=1,\n",
    "                                                              test_name=test_name,\n",
    "                                                            cntrl_name=cntrl_name \n",
    "                                                             )\n",
    "    \n",
    "    res_metric_energy_without_weights_and_with_sampling = process_exp(table,\n",
    "                                                                    portion=None, \n",
    "                                                                    calc_metric=calc_metric_energy,\n",
    "                                                                    plot=False,\n",
    "                                                                    beta=6,\n",
    "                                                                      test_name=test_name,\n",
    "                                                            cntrl_name=cntrl_name \n",
    "                                                                     )\n",
    "    \n",
    "    results = pd.DataFrame([\n",
    "        {\n",
    "            \"metric\": \"Усреднеенная метрика по сессиям\",\n",
    "            \"cntrl_value\": res_metric_avg_without_weights_and_sampling[\"cntr_value\"],\n",
    "            \"test_value\": res_metric_avg_without_weights_and_sampling[\"test_value\"],\n",
    "            \"diff\": res_metric_avg_without_weights_and_sampling[\"test_value\"] - res_metric_avg_without_weights_and_sampling[\"cntr_value\"],\n",
    "            \"p_value\": res_metric_avg_without_weights_and_sampling[\"p_value\"],\n",
    "        \n",
    "        },\n",
    "        \n",
    "        {\n",
    "            \"metric\": \"Усреднеенная метрика по сессиям с взвешиванием\",\n",
    "            \"cntrl_value\": res_metric_avg_with_weights_and_sampling[\"cntr_value\"],\n",
    "            \"test_value\": res_metric_avg_with_weights_and_sampling[\"test_value\"],\n",
    "            \"diff\": res_metric_avg_with_weights_and_sampling[\"test_value\"] - res_metric_avg_with_weights_and_sampling[\"cntr_value\"],\n",
    "            \"p_value\": res_metric_avg_with_weights_and_sampling[\"p_value\"],\n",
    "        \n",
    "        },\n",
    "        \n",
    "        {\n",
    "            \"metric\": \"Усреднеенная метрика по сессиям с семплированием\",\n",
    "            \"cntrl_value\": res_metric_avg_without_weights_and_with_sampling[\"cntr_value\"],\n",
    "            \"test_value\": res_metric_avg_without_weights_and_with_sampling[\"test_value\"],\n",
    "            \"diff\": res_metric_avg_without_weights_and_with_sampling[\"test_value\"] - res_metric_avg_without_weights_and_with_sampling[\"cntr_value\"],\n",
    "            \"p_value\": res_metric_avg_without_weights_and_with_sampling[\"p_value\"],\n",
    "        \n",
    "        },\n",
    "        \n",
    "        {\n",
    "            \"metric\": \"Усреднеенная метрика по микро сессиям\",\n",
    "            \"cntrl_value\": res_metric_raw_avg_without_weights_and_sampling[\"cntr_value\"],\n",
    "            \"test_value\": res_metric_raw_avg_without_weights_and_sampling[\"test_value\"],\n",
    "            \"diff\": res_metric_raw_avg_without_weights_and_sampling[\"test_value\"] - res_metric_raw_avg_without_weights_and_sampling[\"cntr_value\"],\n",
    "            \"p_value\": res_metric_raw_avg_without_weights_and_sampling[\"p_value\"],\n",
    "        \n",
    "        },\n",
    "        \n",
    "        {\n",
    "            \"metric\": \"Усреднеенная метрика по микро сессиям с взвешиванием\",\n",
    "            \"cntrl_value\": res_metric_raw_avg_without_weights_and_with_sampling[\"cntr_value\"],\n",
    "            \"test_value\": res_metric_raw_avg_without_weights_and_with_sampling[\"test_value\"],\n",
    "            \"diff\": res_metric_raw_avg_without_weights_and_with_sampling[\"test_value\"] - res_metric_raw_avg_without_weights_and_with_sampling[\"cntr_value\"],\n",
    "            \"p_value\": res_metric_raw_avg_without_weights_and_with_sampling[\"p_value\"],\n",
    "        \n",
    "        },\n",
    "        \n",
    "        {\n",
    "            \"metric\": \"Средняя энергия сессий\",\n",
    "            \"cntrl_value\": res_metric_energy_without_weights_and_sampling[\"cntr_value\"],\n",
    "            \"test_value\": res_metric_energy_without_weights_and_sampling[\"test_value\"],\n",
    "            \"diff\": res_metric_energy_without_weights_and_sampling[\"test_value\"] - res_metric_energy_without_weights_and_sampling[\"cntr_value\"],\n",
    "            \"p_value\": res_metric_energy_without_weights_and_sampling[\"p_value\"],\n",
    "        \n",
    "        },\n",
    "        \n",
    "        {\n",
    "            \"metric\": \"Средняя энергия сессий с взвешиванием\",\n",
    "            \"cntrl_value\": res_metric_energy_with_weights_and_sampling[\"cntr_value\"],\n",
    "            \"test_value\": res_metric_energy_with_weights_and_sampling[\"test_value\"],\n",
    "            \"diff\": res_metric_energy_with_weights_and_sampling[\"test_value\"] - res_metric_energy_with_weights_and_sampling[\"cntr_value\"],\n",
    "            \"p_value\": res_metric_energy_with_weights_and_sampling[\"p_value\"],\n",
    "        \n",
    "        },\n",
    "        \n",
    "        {\n",
    "            \"metric\": \"Средняя энергия сессий с семплированием\",\n",
    "            \"cntrl_value\": res_metric_energy_without_weights_and_with_sampling[\"cntr_value\"],\n",
    "            \"test_value\": res_metric_energy_without_weights_and_with_sampling[\"test_value\"],\n",
    "            \"diff\": res_metric_energy_without_weights_and_with_sampling[\"test_value\"] - res_metric_energy_without_weights_and_with_sampling[\"cntr_value\"],\n",
    "            \"p_value\": res_metric_energy_without_weights_and_with_sampling[\"p_value\"],\n",
    "        \n",
    "        },\n",
    "        {\n",
    "            \"metric\": \"Согласованность\",\n",
    "            \"cntrl_value\": agreement,\n",
    "            \"test_value\": None,\n",
    "            \"diff\": None,\n",
    "            \"p_value\": None,\n",
    "        \n",
    "        },\n",
    "    ])\n",
    "    \n",
    "    return results\n",
    "\n",
    "def make_report_table_for_exp_without_sampl(table, test_name=\"test\",\n",
    "                cntrl_name=\"ctrl\"):\n",
    "    \n",
    "    read_result = pd.DataFrame(client.read_table(table, raw=False))\n",
    "    \n",
    "    agreement = read_result[\"probability\"].values.mean()\n",
    "    \n",
    "    res_metric_avg_without_weights_and_sampling = process_exp(table,\n",
    "                                                            portion=None, \n",
    "                                                            plot=False,\n",
    "                                                            calc_metric=calc_metric_avg,\n",
    "                                                            test_name=test_name,\n",
    "                                                            cntrl_name=cntrl_name \n",
    "                                                             )\n",
    "    \n",
    "    \n",
    "    res_metric_raw_avg_without_weights_and_sampling = process_exp(table,\n",
    "                                                                  portion=None, \n",
    "                                                                  plot=False,\n",
    "                                                                  calc_metric=calc_metric_raw_avg,\n",
    "                                                                  test_name=test_name,\n",
    "                                                            cntrl_name=cntrl_name \n",
    "                                                                 )\n",
    "    \n",
    "    \n",
    "    \n",
    "    res_metric_energy_without_weights_and_sampling = process_exp(table,\n",
    "                                                                 portion=None, \n",
    "                                                                 plot=False,\n",
    "                                                                 calc_metric=calc_metric_energy,\n",
    "                                                                 test_name=test_name,\n",
    "                                                            cntrl_name=cntrl_name \n",
    "                                                                )\n",
    "    \n",
    "\n",
    "    \n",
    "    results = pd.DataFrame([\n",
    "        {\n",
    "            \"metric\": \"Усреднеенная метрика по сессиям\",\n",
    "            \"cntrl_value\": res_metric_avg_without_weights_and_sampling[\"cntr_value\"],\n",
    "            \"test_value\": res_metric_avg_without_weights_and_sampling[\"test_value\"],\n",
    "            \"diff\": res_metric_avg_without_weights_and_sampling[\"test_value\"] - res_metric_avg_without_weights_and_sampling[\"cntr_value\"],\n",
    "            \"p_value\": res_metric_avg_without_weights_and_sampling[\"p_value\"],\n",
    "        \n",
    "        },\n",
    "        \n",
    "        {\n",
    "            \"metric\": \"Усреднеенная метрика по микро сессиям\",\n",
    "            \"cntrl_value\": res_metric_raw_avg_without_weights_and_sampling[\"cntr_value\"],\n",
    "            \"test_value\": res_metric_raw_avg_without_weights_and_sampling[\"test_value\"],\n",
    "            \"diff\": res_metric_raw_avg_without_weights_and_sampling[\"test_value\"] - res_metric_raw_avg_without_weights_and_sampling[\"cntr_value\"],\n",
    "            \"p_value\": res_metric_raw_avg_without_weights_and_sampling[\"p_value\"],\n",
    "        \n",
    "        },\n",
    "        \n",
    "        {\n",
    "            \"metric\": \"Средняя энергия сессий\",\n",
    "            \"cntrl_value\": res_metric_energy_without_weights_and_sampling[\"cntr_value\"],\n",
    "            \"test_value\": res_metric_energy_without_weights_and_sampling[\"test_value\"],\n",
    "            \"diff\": res_metric_energy_without_weights_and_sampling[\"test_value\"] - res_metric_energy_without_weights_and_sampling[\"cntr_value\"],\n",
    "            \"p_value\": res_metric_energy_without_weights_and_sampling[\"p_value\"],\n",
    "        \n",
    "        },\n",
    "        {\n",
    "            \"metric\": \"Согласованность\",\n",
    "            \"cntrl_value\": agreement,\n",
    "            \"test_value\": None,\n",
    "            \"diff\": None,\n",
    "            \"p_value\": None,\n",
    "        \n",
    "        },\n",
    "    ])\n",
    "    \n",
    "    return results"
   ]
  },
  {
   "cell_type": "markdown",
   "metadata": {},
   "source": [
    "# Постклассификатор"
   ]
  },
  {
   "cell_type": "code",
   "execution_count": 90,
   "metadata": {},
   "outputs": [
    {
     "ename": "KeyError",
     "evalue": "'probability'",
     "output_type": "error",
     "traceback": [
      "\u001b[0;31m---------------------------------------------------------------------------\u001b[0m",
      "\u001b[0;31mKeyError\u001b[0m                                  Traceback (most recent call last)",
      "\u001b[0;32m~/opt/anaconda3/lib/python3.8/site-packages/pandas/core/indexes/base.py\u001b[0m in \u001b[0;36mget_loc\u001b[0;34m(self, key, method, tolerance)\u001b[0m\n\u001b[1;32m   3079\u001b[0m             \u001b[0;32mtry\u001b[0m\u001b[0;34m:\u001b[0m\u001b[0;34m\u001b[0m\u001b[0;34m\u001b[0m\u001b[0m\n\u001b[0;32m-> 3080\u001b[0;31m                 \u001b[0;32mreturn\u001b[0m \u001b[0mself\u001b[0m\u001b[0;34m.\u001b[0m\u001b[0m_engine\u001b[0m\u001b[0;34m.\u001b[0m\u001b[0mget_loc\u001b[0m\u001b[0;34m(\u001b[0m\u001b[0mcasted_key\u001b[0m\u001b[0;34m)\u001b[0m\u001b[0;34m\u001b[0m\u001b[0;34m\u001b[0m\u001b[0m\n\u001b[0m\u001b[1;32m   3081\u001b[0m             \u001b[0;32mexcept\u001b[0m \u001b[0mKeyError\u001b[0m \u001b[0;32mas\u001b[0m \u001b[0merr\u001b[0m\u001b[0;34m:\u001b[0m\u001b[0;34m\u001b[0m\u001b[0;34m\u001b[0m\u001b[0m\n",
      "\u001b[0;32mpandas/_libs/index.pyx\u001b[0m in \u001b[0;36mpandas._libs.index.IndexEngine.get_loc\u001b[0;34m()\u001b[0m\n",
      "\u001b[0;32mpandas/_libs/index.pyx\u001b[0m in \u001b[0;36mpandas._libs.index.IndexEngine.get_loc\u001b[0;34m()\u001b[0m\n",
      "\u001b[0;32mpandas/_libs/hashtable_class_helper.pxi\u001b[0m in \u001b[0;36mpandas._libs.hashtable.PyObjectHashTable.get_item\u001b[0;34m()\u001b[0m\n",
      "\u001b[0;32mpandas/_libs/hashtable_class_helper.pxi\u001b[0m in \u001b[0;36mpandas._libs.hashtable.PyObjectHashTable.get_item\u001b[0;34m()\u001b[0m\n",
      "\u001b[0;31mKeyError\u001b[0m: 'probability'",
      "\nThe above exception was the direct cause of the following exception:\n",
      "\u001b[0;31mKeyError\u001b[0m                                  Traceback (most recent call last)",
      "\u001b[0;32m<ipython-input-90-0cf286ed9213>\u001b[0m in \u001b[0;36m<module>\u001b[0;34m\u001b[0m\n\u001b[0;32m----> 1\u001b[0;31m process_exp('//home/voice/ilnur/tasks/EXPERIMENTS-75877/assessor_output_3-15_mv_with_test_name_4_portions',\n\u001b[0m\u001b[1;32m      2\u001b[0m             \u001b[0mportion\u001b[0m\u001b[0;34m=\u001b[0m\u001b[0;32mNone\u001b[0m\u001b[0;34m,\u001b[0m\u001b[0;34m\u001b[0m\u001b[0;34m\u001b[0m\u001b[0m\n\u001b[1;32m      3\u001b[0m             calc_metric=calc_metric_avg);\n",
      "\u001b[0;32m<ipython-input-89-71c239262487>\u001b[0m in \u001b[0;36mprocess_exp\u001b[0;34m(table_name, portion, calc_metric, alpha, plot, norm_column, beta, test_name, cntrl_name, probability_threshold)\u001b[0m\n\u001b[1;32m    174\u001b[0m     \u001b[0mread_result\u001b[0m\u001b[0;34m[\u001b[0m\u001b[0;34m\"is_good\"\u001b[0m\u001b[0;34m]\u001b[0m \u001b[0;34m=\u001b[0m \u001b[0;36m1\u001b[0m \u001b[0;34m*\u001b[0m \u001b[0;34m(\u001b[0m\u001b[0mread_result\u001b[0m\u001b[0;34m[\u001b[0m\u001b[0;34m\"result\"\u001b[0m\u001b[0;34m]\u001b[0m \u001b[0;34m==\u001b[0m \u001b[0;34m\"good\"\u001b[0m\u001b[0;34m)\u001b[0m\u001b[0;34m\u001b[0m\u001b[0;34m\u001b[0m\u001b[0m\n\u001b[1;32m    175\u001b[0m     \u001b[0mread_result\u001b[0m\u001b[0;34m[\u001b[0m\u001b[0;34m\"is_bad\"\u001b[0m\u001b[0;34m]\u001b[0m \u001b[0;34m=\u001b[0m \u001b[0;36m1\u001b[0m \u001b[0;34m*\u001b[0m \u001b[0;34m(\u001b[0m\u001b[0mread_result\u001b[0m\u001b[0;34m[\u001b[0m\u001b[0;34m\"result\"\u001b[0m\u001b[0;34m]\u001b[0m \u001b[0;34m==\u001b[0m \u001b[0;34m\"bad\"\u001b[0m\u001b[0;34m)\u001b[0m\u001b[0;34m\u001b[0m\u001b[0;34m\u001b[0m\u001b[0m\n\u001b[0;32m--> 176\u001b[0;31m     \u001b[0mread_result\u001b[0m \u001b[0;34m=\u001b[0m \u001b[0mread_result\u001b[0m\u001b[0;34m[\u001b[0m\u001b[0mread_result\u001b[0m\u001b[0;34m[\u001b[0m\u001b[0;34m\"probability\"\u001b[0m\u001b[0;34m]\u001b[0m \u001b[0;34m>=\u001b[0m \u001b[0mprobability_threshold\u001b[0m\u001b[0;34m]\u001b[0m\u001b[0;34m.\u001b[0m\u001b[0mreset_index\u001b[0m\u001b[0;34m(\u001b[0m\u001b[0mdrop\u001b[0m\u001b[0;34m=\u001b[0m\u001b[0;32mTrue\u001b[0m\u001b[0;34m)\u001b[0m\u001b[0;34m\u001b[0m\u001b[0;34m\u001b[0m\u001b[0m\n\u001b[0m\u001b[1;32m    177\u001b[0m \u001b[0;34m\u001b[0m\u001b[0m\n\u001b[1;32m    178\u001b[0m \u001b[0;34m\u001b[0m\u001b[0m\n",
      "\u001b[0;32m~/opt/anaconda3/lib/python3.8/site-packages/pandas/core/frame.py\u001b[0m in \u001b[0;36m__getitem__\u001b[0;34m(self, key)\u001b[0m\n\u001b[1;32m   3022\u001b[0m             \u001b[0;32mif\u001b[0m \u001b[0mself\u001b[0m\u001b[0;34m.\u001b[0m\u001b[0mcolumns\u001b[0m\u001b[0;34m.\u001b[0m\u001b[0mnlevels\u001b[0m \u001b[0;34m>\u001b[0m \u001b[0;36m1\u001b[0m\u001b[0;34m:\u001b[0m\u001b[0;34m\u001b[0m\u001b[0;34m\u001b[0m\u001b[0m\n\u001b[1;32m   3023\u001b[0m                 \u001b[0;32mreturn\u001b[0m \u001b[0mself\u001b[0m\u001b[0;34m.\u001b[0m\u001b[0m_getitem_multilevel\u001b[0m\u001b[0;34m(\u001b[0m\u001b[0mkey\u001b[0m\u001b[0;34m)\u001b[0m\u001b[0;34m\u001b[0m\u001b[0;34m\u001b[0m\u001b[0m\n\u001b[0;32m-> 3024\u001b[0;31m             \u001b[0mindexer\u001b[0m \u001b[0;34m=\u001b[0m \u001b[0mself\u001b[0m\u001b[0;34m.\u001b[0m\u001b[0mcolumns\u001b[0m\u001b[0;34m.\u001b[0m\u001b[0mget_loc\u001b[0m\u001b[0;34m(\u001b[0m\u001b[0mkey\u001b[0m\u001b[0;34m)\u001b[0m\u001b[0;34m\u001b[0m\u001b[0;34m\u001b[0m\u001b[0m\n\u001b[0m\u001b[1;32m   3025\u001b[0m             \u001b[0;32mif\u001b[0m \u001b[0mis_integer\u001b[0m\u001b[0;34m(\u001b[0m\u001b[0mindexer\u001b[0m\u001b[0;34m)\u001b[0m\u001b[0;34m:\u001b[0m\u001b[0;34m\u001b[0m\u001b[0;34m\u001b[0m\u001b[0m\n\u001b[1;32m   3026\u001b[0m                 \u001b[0mindexer\u001b[0m \u001b[0;34m=\u001b[0m \u001b[0;34m[\u001b[0m\u001b[0mindexer\u001b[0m\u001b[0;34m]\u001b[0m\u001b[0;34m\u001b[0m\u001b[0;34m\u001b[0m\u001b[0m\n",
      "\u001b[0;32m~/opt/anaconda3/lib/python3.8/site-packages/pandas/core/indexes/base.py\u001b[0m in \u001b[0;36mget_loc\u001b[0;34m(self, key, method, tolerance)\u001b[0m\n\u001b[1;32m   3080\u001b[0m                 \u001b[0;32mreturn\u001b[0m \u001b[0mself\u001b[0m\u001b[0;34m.\u001b[0m\u001b[0m_engine\u001b[0m\u001b[0;34m.\u001b[0m\u001b[0mget_loc\u001b[0m\u001b[0;34m(\u001b[0m\u001b[0mcasted_key\u001b[0m\u001b[0;34m)\u001b[0m\u001b[0;34m\u001b[0m\u001b[0;34m\u001b[0m\u001b[0m\n\u001b[1;32m   3081\u001b[0m             \u001b[0;32mexcept\u001b[0m \u001b[0mKeyError\u001b[0m \u001b[0;32mas\u001b[0m \u001b[0merr\u001b[0m\u001b[0;34m:\u001b[0m\u001b[0;34m\u001b[0m\u001b[0;34m\u001b[0m\u001b[0m\n\u001b[0;32m-> 3082\u001b[0;31m                 \u001b[0;32mraise\u001b[0m \u001b[0mKeyError\u001b[0m\u001b[0;34m(\u001b[0m\u001b[0mkey\u001b[0m\u001b[0;34m)\u001b[0m \u001b[0;32mfrom\u001b[0m \u001b[0merr\u001b[0m\u001b[0;34m\u001b[0m\u001b[0;34m\u001b[0m\u001b[0m\n\u001b[0m\u001b[1;32m   3083\u001b[0m \u001b[0;34m\u001b[0m\u001b[0m\n\u001b[1;32m   3084\u001b[0m         \u001b[0;32mif\u001b[0m \u001b[0mtolerance\u001b[0m \u001b[0;32mis\u001b[0m \u001b[0;32mnot\u001b[0m \u001b[0;32mNone\u001b[0m\u001b[0;34m:\u001b[0m\u001b[0;34m\u001b[0m\u001b[0;34m\u001b[0m\u001b[0m\n",
      "\u001b[0;31mKeyError\u001b[0m: 'probability'"
     ]
    }
   ],
   "source": [
    "process_exp('//home/voice/ilnur/tasks/EXPERIMENTS-75877/assessor_output_3-15_mv_with_test_name_4_portions',\n",
    "            portion=None, \n",
    "            calc_metric=calc_metric_avg);"
   ]
  },
  {
   "cell_type": "code",
   "execution_count": 260,
   "metadata": {},
   "outputs": [
    {
     "name": "stdout",
     "output_type": "stream",
     "text": [
      "pvalue=0.995, effect=0.011, ctrl metric = 0.643, test_metric = 0.650, cnt = 66\n",
      "\n"
     ]
    },
    {
     "data": {
      "image/png": "[encoded data removed]",
      "text/plain": [
       "<Figure size 432x288 with 1 Axes>"
      ]
     },
     "metadata": {
      "needs_background": "light"
     },
     "output_type": "display_data"
    }
   ],
   "source": [
    "process_exp('//home/voice/ilnur/tasks/EXPERIMENTS-75877/assessor_output_3-15_mv_with_test_name_4_portions',\n",
    "            portion=None, \n",
    "            calc_metric=calc_metric_avg, beta=1);"
   ]
  },
  {
   "cell_type": "code",
   "execution_count": 261,
   "metadata": {},
   "outputs": [
    {
     "data": {
      "application/vnd.jupyter.widget-view+json": {
       "model_id": "96645dd6cf91434fa222fa7601830384",
       "version_major": 2,
       "version_minor": 0
      },
      "text/plain": [
       "  0%|          | 0/20 [00:00<?, ?it/s]"
      ]
     },
     "metadata": {},
     "output_type": "display_data"
    },
    {
     "data": {
      "image/png": "[encoded data removed]",
      "text/plain": [
       "<Figure size 432x288 with 1 Axes>"
      ]
     },
     "metadata": {
      "needs_background": "light"
     },
     "output_type": "display_data"
    },
    {
     "data": {
      "image/png": "[encoded data removed]",
      "text/plain": [
       "<Figure size 432x288 with 1 Axes>"
      ]
     },
     "metadata": {
      "needs_background": "light"
     },
     "output_type": "display_data"
    }
   ],
   "source": [
    "betas = np.logspace(0, 4, 20)\n",
    "p_values = []\n",
    "cntrl_metric = []\n",
    "test_metric = []\n",
    "\n",
    "for beta in tqdm(betas):\n",
    "    res = process_exp('//home/voice/ilnur/tasks/EXPERIMENTS-75877/assessor_output_3-15_mv_with_test_name_4_portions', \n",
    "                      portion=None, calc_metric=calc_metric_avg, alpha=0, plot=False, beta=beta)\n",
    "    \n",
    "    p_values.append(res[\"p_value\"])\n",
    "    cntrl_metric.append(res[\"cntr_value\"])\n",
    "    test_metric.append(res[\"test_value\"])\n",
    "    \n",
    "plt.plot(betas, p_values)\n",
    "plt.xscale(\"log\")\n",
    "plt.show()\n",
    "\n",
    "plt.plot(betas, cntrl_metric, label=\"cntrl\")\n",
    "plt.plot(betas, test_metric, label=\"test\")\n",
    "plt.xscale(\"log\")\n",
    "plt.legend()\n",
    "plt.show()"
   ]
  },
  {
   "cell_type": "code",
   "execution_count": 216,
   "metadata": {},
   "outputs": [
    {
     "name": "stdout",
     "output_type": "stream",
     "text": [
      "pvalue=0.976, effect=-0.013, ctrl metric = 0.633, test_metric = 0.625, cnt = 200\n",
      "\n"
     ]
    },
    {
     "data": {
      "image/png": "[encoded data removed]",
      "text/plain": [
       "<Figure size 432x288 with 1 Axes>"
      ]
     },
     "metadata": {
      "needs_background": "light"
     },
     "output_type": "display_data"
    }
   ],
   "source": [
    "process_exp('//home/voice/ilnur/tasks/EXPERIMENTS-75877/assessor_output_3-15_mv_with_test_name_4_portions', \n",
    "            portion=None, \n",
    "            calc_metric=calc_metric_avg, \n",
    "            alpha=1.0);"
   ]
  },
  {
   "cell_type": "code",
   "execution_count": 217,
   "metadata": {},
   "outputs": [
    {
     "data": {
      "image/png": "[encoded data removed]",
      "text/plain": [
       "<Figure size 432x288 with 1 Axes>"
      ]
     },
     "metadata": {
      "needs_background": "light"
     },
     "output_type": "display_data"
    },
    {
     "data": {
      "image/png": "[encoded data removed]",
      "text/plain": [
       "<Figure size 432x288 with 1 Axes>"
      ]
     },
     "metadata": {
      "needs_background": "light"
     },
     "output_type": "display_data"
    }
   ],
   "source": [
    "alphas = np.linspace(0, 1.0, 20)\n",
    "p_values = []\n",
    "cntrl_metric = []\n",
    "test_metric = []\n",
    "\n",
    "for alpha in alphas:\n",
    "    res = process_exp('//home/voice/ilnur/tasks/EXPERIMENTS-75877/assessor_output_3-15_mv_with_test_name_4_portions', portion=None, calc_metric=calc_metric_avg, alpha=alpha, plot=False)\n",
    "    \n",
    "    p_values.append(res[\"p_value\"])\n",
    "    cntrl_metric.append(res[\"cntr_value\"])\n",
    "    test_metric.append(res[\"test_value\"])\n",
    "    \n",
    "plt.plot(alphas, p_values)\n",
    "plt.show()\n",
    "\n",
    "plt.plot(alphas, cntrl_metric, label=\"cntrl\")\n",
    "plt.plot(alphas, test_metric, label=\"test\")\n",
    "plt.legend()\n",
    "plt.show()"
   ]
  },
  {
   "cell_type": "code",
   "execution_count": 218,
   "metadata": {},
   "outputs": [
    {
     "data": {
      "image/png": "[encoded data removed]",
      "text/plain": [
       "<Figure size 432x288 with 1 Axes>"
      ]
     },
     "metadata": {
      "needs_background": "light"
     },
     "output_type": "display_data"
    },
    {
     "data": {
      "image/png": "[encoded data removed]",
      "text/plain": [
       "<Figure size 432x288 with 1 Axes>"
      ]
     },
     "metadata": {
      "needs_background": "light"
     },
     "output_type": "display_data"
    }
   ],
   "source": [
    "alphas = np.linspace(0, 1.0, 20)\n",
    "p_values = []\n",
    "cntrl_metric = []\n",
    "test_metric = []\n",
    "\n",
    "for alpha in alphas:\n",
    "    res = process_exp('//home/voice/ilnur/tasks/EXPERIMENTS-75877/assessor_output_3-15_mv_with_test_name_4_portions', portion=None, calc_metric=calc_metric_avg, alpha=alpha, plot=False, norm_column=\"normalized_len\")\n",
    "    \n",
    "    p_values.append(res[\"p_value\"])\n",
    "    cntrl_metric.append(res[\"cntr_value\"])\n",
    "    test_metric.append(res[\"test_value\"])\n",
    "    \n",
    "plt.plot(alphas, p_values)\n",
    "plt.show()\n",
    "\n",
    "plt.plot(alphas, cntrl_metric, label=\"cntrl\")\n",
    "plt.plot(alphas, test_metric, label=\"test\")\n",
    "plt.legend()\n",
    "plt.show()"
   ]
  },
  {
   "cell_type": "code",
   "execution_count": 219,
   "metadata": {},
   "outputs": [
    {
     "name": "stdout",
     "output_type": "stream",
     "text": [
      "pvalue=0.859, effect=-0.000, ctrl metric = 0.594, test_metric = 0.594, cnt = 200\n",
      "\n"
     ]
    },
    {
     "data": {
      "image/png": "[encoded data removed]",
      "text/plain": [
       "<Figure size 432x288 with 1 Axes>"
      ]
     },
     "metadata": {
      "needs_background": "light"
     },
     "output_type": "display_data"
    },
    {
     "data": {
      "text/plain": [
       "{'p_value': 0.859392854796376,\n",
       " 'cntr_value': 0.5943020775451328,\n",
       " 'test_value': 0.5941675662656759}"
      ]
     },
     "execution_count": 219,
     "metadata": {},
     "output_type": "execute_result"
    }
   ],
   "source": [
    "process_exp('//home/voice/ilnur/tasks/EXPERIMENTS-75877/assessor_output_3-15_mv_with_test_name_4_portions', \n",
    "            portion=None, calc_metric=calc_metric_raw_avg)"
   ]
  },
  {
   "cell_type": "code",
   "execution_count": 220,
   "metadata": {},
   "outputs": [
    {
     "name": "stdout",
     "output_type": "stream",
     "text": [
      "pvalue=0.004, effect=-0.044, ctrl metric = 1.020, test_metric = 0.975, cnt = 200\n",
      "\n"
     ]
    },
    {
     "data": {
      "image/png": "[encoded data removed]",
      "text/plain": [
       "<Figure size 432x288 with 1 Axes>"
      ]
     },
     "metadata": {
      "needs_background": "light"
     },
     "output_type": "display_data"
    },
    {
     "data": {
      "text/plain": [
       "{'p_value': 0.0036257218201340416,\n",
       " 'cntr_value': 1.0202040212147654,\n",
       " 'test_value': 0.9753184893960705}"
      ]
     },
     "execution_count": 220,
     "metadata": {},
     "output_type": "execute_result"
    }
   ],
   "source": [
    "process_exp('//home/voice/ilnur/tasks/EXPERIMENTS-75877/assessor_output_3-15_mv_with_test_name_4_portions', \n",
    "            portion=None, calc_metric=calc_metric_energy\n",
    "           )"
   ]
  },
  {
   "cell_type": "code",
   "execution_count": 159,
   "metadata": {},
   "outputs": [
    {
     "data": {
      "image/png": "[encoded data removed]",
      "text/plain": [
       "<Figure size 432x288 with 1 Axes>"
      ]
     },
     "metadata": {
      "needs_background": "light"
     },
     "output_type": "display_data"
    },
    {
     "data": {
      "image/png": "[encoded data removed]",
      "text/plain": [
       "<Figure size 432x288 with 1 Axes>"
      ]
     },
     "metadata": {
      "needs_background": "light"
     },
     "output_type": "display_data"
    }
   ],
   "source": [
    "alphas = np.linspace(0, 1.0, 20)\n",
    "p_values = []\n",
    "cntrl_metric = []\n",
    "test_metric = []\n",
    "\n",
    "for alpha in alphas:\n",
    "    res = process_exp('//home/voice/ilnur/tasks/EXPERIMENTS-75877/assessor_output_3-15_mv_with_test_name_4_portions', portion=None, calc_metric=calc_metric_energy, alpha=alpha, plot=False)\n",
    "    \n",
    "    p_values.append(res[\"p_value\"])\n",
    "    cntrl_metric.append(res[\"cntr_value\"])\n",
    "    test_metric.append(res[\"test_value\"])\n",
    "    \n",
    "plt.plot(alphas, p_values)\n",
    "plt.show()\n",
    "\n",
    "plt.plot(alphas, cntrl_metric, label=\"cntrl\")\n",
    "plt.plot(alphas, test_metric, label=\"test\")\n",
    "plt.legend()\n",
    "plt.show()"
   ]
  },
  {
   "cell_type": "code",
   "execution_count": 221,
   "metadata": {},
   "outputs": [
    {
     "data": {
      "image/png": "[encoded data removed]",
      "text/plain": [
       "<Figure size 432x288 with 1 Axes>"
      ]
     },
     "metadata": {
      "needs_background": "light"
     },
     "output_type": "display_data"
    },
    {
     "data": {
      "image/png": "[encoded data removed]",
      "text/plain": [
       "<Figure size 432x288 with 1 Axes>"
      ]
     },
     "metadata": {
      "needs_background": "light"
     },
     "output_type": "display_data"
    }
   ],
   "source": [
    "alphas = np.linspace(0, 1.0, 20)\n",
    "p_values = []\n",
    "cntrl_metric = []\n",
    "test_metric = []\n",
    "\n",
    "for alpha in alphas:\n",
    "    res = process_exp('//home/voice/ilnur/tasks/EXPERIMENTS-75877/assessor_output_3-15_mv_with_test_name_4_portions', portion=None, calc_metric=calc_metric_energy, alpha=alpha, plot=False, norm_column=\"normalized_len\")\n",
    "    \n",
    "    p_values.append(res[\"p_value\"])\n",
    "    cntrl_metric.append(res[\"cntr_value\"])\n",
    "    test_metric.append(res[\"test_value\"])\n",
    "    \n",
    "plt.plot(alphas, p_values)\n",
    "plt.show()\n",
    "\n",
    "plt.plot(alphas, cntrl_metric, label=\"cntrl\")\n",
    "plt.plot(alphas, test_metric, label=\"test\")\n",
    "plt.legend()\n",
    "plt.show()"
   ]
  },
  {
   "cell_type": "code",
   "execution_count": 275,
   "metadata": {},
   "outputs": [
    {
     "data": {
      "text/html": [
       "<div>\n",
       "<style scoped>\n",
       "    .dataframe tbody tr th:only-of-type {\n",
       "        vertical-align: middle;\n",
       "    }\n",
       "\n",
       "    .dataframe tbody tr th {\n",
       "        vertical-align: top;\n",
       "    }\n",
       "\n",
       "    .dataframe thead th {\n",
       "        text-align: right;\n",
       "    }\n",
       "</style>\n",
       "<table border=\"1\" class=\"dataframe\">\n",
       "  <thead>\n",
       "    <tr style=\"text-align: right;\">\n",
       "      <th></th>\n",
       "      <th>metric</th>\n",
       "      <th>cntrl_value</th>\n",
       "      <th>test_value</th>\n",
       "      <th>diff</th>\n",
       "      <th>p_value</th>\n",
       "    </tr>\n",
       "  </thead>\n",
       "  <tbody>\n",
       "    <tr>\n",
       "      <th>0</th>\n",
       "      <td>Усреднеенная метрика по сессиям</td>\n",
       "      <td>0.598388</td>\n",
       "      <td>0.604757</td>\n",
       "      <td>0.006370</td>\n",
       "      <td>0.199141</td>\n",
       "    </tr>\n",
       "    <tr>\n",
       "      <th>1</th>\n",
       "      <td>Усреднеенная метрика по сессиям с взвешиванием</td>\n",
       "      <td>0.633228</td>\n",
       "      <td>0.624941</td>\n",
       "      <td>-0.008287</td>\n",
       "      <td>0.975635</td>\n",
       "    </tr>\n",
       "    <tr>\n",
       "      <th>2</th>\n",
       "      <td>Усреднеенная метрика по сессиям с семплированием</td>\n",
       "      <td>0.634931</td>\n",
       "      <td>0.639570</td>\n",
       "      <td>0.004639</td>\n",
       "      <td>0.983773</td>\n",
       "    </tr>\n",
       "    <tr>\n",
       "      <th>3</th>\n",
       "      <td>Усреднеенная метрика по микро сессиям</td>\n",
       "      <td>0.594302</td>\n",
       "      <td>0.594168</td>\n",
       "      <td>-0.000135</td>\n",
       "      <td>0.859393</td>\n",
       "    </tr>\n",
       "    <tr>\n",
       "      <th>4</th>\n",
       "      <td>Усреднеенная метрика по микро сессиям с взвеши...</td>\n",
       "      <td>0.610169</td>\n",
       "      <td>0.629798</td>\n",
       "      <td>0.019628</td>\n",
       "      <td>0.425836</td>\n",
       "    </tr>\n",
       "    <tr>\n",
       "      <th>5</th>\n",
       "      <td>Средняя энергия сессий</td>\n",
       "      <td>1.020204</td>\n",
       "      <td>0.975318</td>\n",
       "      <td>-0.044886</td>\n",
       "      <td>0.003626</td>\n",
       "    </tr>\n",
       "    <tr>\n",
       "      <th>6</th>\n",
       "      <td>Средняя энергия сессий с взвешиванием</td>\n",
       "      <td>1.024300</td>\n",
       "      <td>0.959758</td>\n",
       "      <td>-0.064542</td>\n",
       "      <td>0.036370</td>\n",
       "    </tr>\n",
       "    <tr>\n",
       "      <th>7</th>\n",
       "      <td>Средняя энергия сессий с семплированием</td>\n",
       "      <td>1.036919</td>\n",
       "      <td>0.990900</td>\n",
       "      <td>-0.046019</td>\n",
       "      <td>0.139004</td>\n",
       "    </tr>\n",
       "  </tbody>\n",
       "</table>\n",
       "</div>"
      ],
      "text/plain": [
       "                                              metric  cntrl_value  test_value  \\\n",
       "0                    Усреднеенная метрика по сессиям     0.598388    0.604757   \n",
       "1     Усреднеенная метрика по сессиям с взвешиванием     0.633228    0.624941   \n",
       "2   Усреднеенная метрика по сессиям с семплированием     0.634931    0.639570   \n",
       "3              Усреднеенная метрика по микро сессиям     0.594302    0.594168   \n",
       "4  Усреднеенная метрика по микро сессиям с взвеши...     0.610169    0.629798   \n",
       "5                             Средняя энергия сессий     1.020204    0.975318   \n",
       "6              Средняя энергия сессий с взвешиванием     1.024300    0.959758   \n",
       "7            Средняя энергия сессий с семплированием     1.036919    0.990900   \n",
       "\n",
       "       diff   p_value  \n",
       "0  0.006370  0.199141  \n",
       "1 -0.008287  0.975635  \n",
       "2  0.004639  0.983773  \n",
       "3 -0.000135  0.859393  \n",
       "4  0.019628  0.425836  \n",
       "5 -0.044886  0.003626  \n",
       "6 -0.064542  0.036370  \n",
       "7 -0.046019  0.139004  "
      ]
     },
     "execution_count": 275,
     "metadata": {},
     "output_type": "execute_result"
    }
   ],
   "source": [
    "res = make_report_table_for_exp('//home/voice/ilnur/tasks/EXPERIMENTS-75877/assessor_output_3-15_mv_with_test_name_4_portions')\n",
    "res.to_csv(\"Постклассификатор\")\n",
    "res"
   ]
  },
  {
   "cell_type": "markdown",
   "metadata": {},
   "source": [
    "# Отключение BERT"
   ]
  },
  {
   "cell_type": "code",
   "execution_count": 114,
   "metadata": {},
   "outputs": [],
   "source": [
    "# //home/voice/ilnur/tasks/EXPERIMENTS-73207/extract_result_2_portions"
   ]
  },
  {
   "cell_type": "code",
   "execution_count": 222,
   "metadata": {},
   "outputs": [
    {
     "name": "stdout",
     "output_type": "stream",
     "text": [
      "pvalue=0.072, effect=0.038, ctrl metric = 0.506, test_metric = 0.525, cnt = 200\n",
      "\n"
     ]
    },
    {
     "data": {
      "image/png": "[encoded data removed]",
      "text/plain": [
       "<Figure size 432x288 with 1 Axes>"
      ]
     },
     "metadata": {
      "needs_background": "light"
     },
     "output_type": "display_data"
    }
   ],
   "source": [
    "process_exp('//home/voice/ilnur/tasks/EXPERIMENTS-73207/extract_result_2_portions', portion=None, calc_metric=calc_metric_avg, alpha=0.0);"
   ]
  },
  {
   "cell_type": "code",
   "execution_count": 263,
   "metadata": {},
   "outputs": [
    {
     "name": "stdout",
     "output_type": "stream",
     "text": [
      "pvalue=0.363, effect=0.175, ctrl metric = 0.433, test_metric = 0.509, cnt = 32\n",
      "\n"
     ]
    },
    {
     "data": {
      "image/png": "[encoded data removed]",
      "text/plain": [
       "<Figure size 432x288 with 1 Axes>"
      ]
     },
     "metadata": {
      "needs_background": "light"
     },
     "output_type": "display_data"
    },
    {
     "data": {
      "text/plain": [
       "{'p_value': 0.3634619762558722,\n",
       " 'cntr_value': 0.4333333333333333,\n",
       " 'test_value': 0.5092105263157894}"
      ]
     },
     "execution_count": 263,
     "metadata": {},
     "output_type": "execute_result"
    }
   ],
   "source": [
    "process_exp('//home/voice/ilnur/tasks/EXPERIMENTS-73207/extract_result_2_portions', \n",
    "                      portion=None, calc_metric=calc_metric_avg, alpha=0, beta=1)"
   ]
  },
  {
   "cell_type": "code",
   "execution_count": 264,
   "metadata": {},
   "outputs": [
    {
     "data": {
      "application/vnd.jupyter.widget-view+json": {
       "model_id": "a4a1d99f33f24c6e8b7255e5b469582f",
       "version_major": 2,
       "version_minor": 0
      },
      "text/plain": [
       "  0%|          | 0/20 [00:00<?, ?it/s]"
      ]
     },
     "metadata": {},
     "output_type": "display_data"
    },
    {
     "data": {
      "image/png": "[encoded data removed]",
      "text/plain": [
       "<Figure size 432x288 with 1 Axes>"
      ]
     },
     "metadata": {
      "needs_background": "light"
     },
     "output_type": "display_data"
    },
    {
     "data": {
      "image/png": "[encoded data removed]",
      "text/plain": [
       "<Figure size 432x288 with 1 Axes>"
      ]
     },
     "metadata": {
      "needs_background": "light"
     },
     "output_type": "display_data"
    }
   ],
   "source": [
    "betas = np.logspace(0, 4, 20)\n",
    "p_values = []\n",
    "cntrl_metric = []\n",
    "test_metric = []\n",
    "\n",
    "for beta in tqdm(betas):\n",
    "    res = process_exp('//home/voice/ilnur/tasks/EXPERIMENTS-73207/extract_result_2_portions', \n",
    "                      portion=None, calc_metric=calc_metric_avg, alpha=0, plot=False, beta=beta)\n",
    "    \n",
    "    p_values.append(res[\"p_value\"])\n",
    "    cntrl_metric.append(res[\"cntr_value\"])\n",
    "    test_metric.append(res[\"test_value\"])\n",
    "    \n",
    "plt.plot(betas, p_values)\n",
    "plt.xscale(\"log\")\n",
    "plt.show()\n",
    "\n",
    "plt.plot(betas, cntrl_metric, label=\"cntrl\")\n",
    "plt.plot(betas, test_metric, label=\"test\")\n",
    "plt.xscale(\"log\")\n",
    "plt.legend()\n",
    "plt.show()"
   ]
  },
  {
   "cell_type": "code",
   "execution_count": 223,
   "metadata": {},
   "outputs": [
    {
     "name": "stdout",
     "output_type": "stream",
     "text": [
      "pvalue=0.329, effect=0.044, ctrl metric = 0.482, test_metric = 0.503, cnt = 200\n",
      "\n"
     ]
    },
    {
     "data": {
      "image/png": "[encoded data removed]",
      "text/plain": [
       "<Figure size 432x288 with 1 Axes>"
      ]
     },
     "metadata": {
      "needs_background": "light"
     },
     "output_type": "display_data"
    }
   ],
   "source": [
    "process_exp('//home/voice/ilnur/tasks/EXPERIMENTS-73207/extract_result_2_portions', portion=None, calc_metric=calc_metric_avg, alpha=1.0);"
   ]
  },
  {
   "cell_type": "code",
   "execution_count": 224,
   "metadata": {},
   "outputs": [
    {
     "data": {
      "image/png": "[encoded data removed]",
      "text/plain": [
       "<Figure size 432x288 with 1 Axes>"
      ]
     },
     "metadata": {
      "needs_background": "light"
     },
     "output_type": "display_data"
    },
    {
     "data": {
      "image/png": "[encoded data removed]",
      "text/plain": [
       "<Figure size 432x288 with 1 Axes>"
      ]
     },
     "metadata": {
      "needs_background": "light"
     },
     "output_type": "display_data"
    }
   ],
   "source": [
    "alphas = np.linspace(0, 1.0, 20)\n",
    "p_values = []\n",
    "cntrl_metric = []\n",
    "test_metric = []\n",
    "\n",
    "for alpha in alphas:\n",
    "    res = process_exp('//home/voice/ilnur/tasks/EXPERIMENTS-73207/extract_result_2_portions', portion=None, calc_metric=calc_metric_avg, alpha=alpha, plot=False)\n",
    "    \n",
    "    p_values.append(res[\"p_value\"])\n",
    "    cntrl_metric.append(res[\"cntr_value\"])\n",
    "    test_metric.append(res[\"test_value\"])\n",
    "    \n",
    "plt.plot(alphas, p_values)\n",
    "plt.show()\n",
    "\n",
    "plt.plot(alphas, cntrl_metric, label=\"cntrl\")\n",
    "plt.plot(alphas, test_metric, label=\"test\")\n",
    "plt.legend()\n",
    "plt.show()"
   ]
  },
  {
   "cell_type": "code",
   "execution_count": 225,
   "metadata": {},
   "outputs": [
    {
     "name": "stdout",
     "output_type": "stream",
     "text": [
      "pvalue=0.046, effect=0.035, ctrl metric = 0.498, test_metric = 0.516, cnt = 200\n",
      "\n"
     ]
    },
    {
     "data": {
      "image/png": "[encoded data removed]",
      "text/plain": [
       "<Figure size 432x288 with 1 Axes>"
      ]
     },
     "metadata": {
      "needs_background": "light"
     },
     "output_type": "display_data"
    },
    {
     "data": {
      "text/plain": [
       "{'p_value': 0.04569136147196698,\n",
       " 'cntr_value': 0.49847614073696733,\n",
       " 'test_value': 0.5159803855520557}"
      ]
     },
     "execution_count": 225,
     "metadata": {},
     "output_type": "execute_result"
    }
   ],
   "source": [
    "process_exp('//home/voice/ilnur/tasks/EXPERIMENTS-73207/extract_result_2_portions', portion=None, calc_metric=calc_metric_raw_avg)"
   ]
  },
  {
   "cell_type": "code",
   "execution_count": 226,
   "metadata": {},
   "outputs": [
    {
     "name": "stdout",
     "output_type": "stream",
     "text": [
      "pvalue=0.092, effect=0.036, ctrl metric = 0.720, test_metric = 0.746, cnt = 200\n",
      "\n"
     ]
    },
    {
     "data": {
      "image/png": "[encoded data removed]",
      "text/plain": [
       "<Figure size 432x288 with 1 Axes>"
      ]
     },
     "metadata": {
      "needs_background": "light"
     },
     "output_type": "display_data"
    },
    {
     "data": {
      "text/plain": [
       "{'p_value': 0.09226246568814511,\n",
       " 'cntr_value': 0.720154576086394,\n",
       " 'test_value': 0.7459426048760908}"
      ]
     },
     "execution_count": 226,
     "metadata": {},
     "output_type": "execute_result"
    }
   ],
   "source": [
    "process_exp('//home/voice/ilnur/tasks/EXPERIMENTS-73207/extract_result_2_portions', portion=None, calc_metric=calc_metric_energy)"
   ]
  },
  {
   "cell_type": "code",
   "execution_count": 227,
   "metadata": {},
   "outputs": [
    {
     "data": {
      "image/png": "[encoded data removed]",
      "text/plain": [
       "<Figure size 432x288 with 1 Axes>"
      ]
     },
     "metadata": {
      "needs_background": "light"
     },
     "output_type": "display_data"
    },
    {
     "data": {
      "image/png": "[encoded data removed]",
      "text/plain": [
       "<Figure size 432x288 with 1 Axes>"
      ]
     },
     "metadata": {
      "needs_background": "light"
     },
     "output_type": "display_data"
    }
   ],
   "source": [
    "alphas = np.linspace(0, 1.0, 20)\n",
    "p_values = []\n",
    "cntrl_metric = []\n",
    "test_metric = []\n",
    "\n",
    "for alpha in alphas:\n",
    "    res = process_exp('//home/voice/ilnur/tasks/EXPERIMENTS-73207/extract_result_2_portions', portion=None, calc_metric=calc_metric_energy, alpha=alpha, plot=False)\n",
    "    \n",
    "    p_values.append(res[\"p_value\"])\n",
    "    cntrl_metric.append(res[\"cntr_value\"])\n",
    "    test_metric.append(res[\"test_value\"])\n",
    "    \n",
    "plt.plot(alphas, p_values)\n",
    "plt.show()\n",
    "\n",
    "plt.plot(alphas, cntrl_metric, label=\"cntrl\")\n",
    "plt.plot(alphas, test_metric, label=\"test\")\n",
    "plt.legend()\n",
    "plt.show()"
   ]
  },
  {
   "cell_type": "code",
   "execution_count": 279,
   "metadata": {},
   "outputs": [
    {
     "data": {
      "text/html": [
       "<div>\n",
       "<style scoped>\n",
       "    .dataframe tbody tr th:only-of-type {\n",
       "        vertical-align: middle;\n",
       "    }\n",
       "\n",
       "    .dataframe tbody tr th {\n",
       "        vertical-align: top;\n",
       "    }\n",
       "\n",
       "    .dataframe thead th {\n",
       "        text-align: right;\n",
       "    }\n",
       "</style>\n",
       "<table border=\"1\" class=\"dataframe\">\n",
       "  <thead>\n",
       "    <tr style=\"text-align: right;\">\n",
       "      <th></th>\n",
       "      <th>metric</th>\n",
       "      <th>cntrl_value</th>\n",
       "      <th>test_value</th>\n",
       "      <th>diff</th>\n",
       "      <th>p_value</th>\n",
       "    </tr>\n",
       "  </thead>\n",
       "  <tbody>\n",
       "    <tr>\n",
       "      <th>0</th>\n",
       "      <td>Усреднеенная метрика по сессиям</td>\n",
       "      <td>0.506094</td>\n",
       "      <td>0.525378</td>\n",
       "      <td>0.019283</td>\n",
       "      <td>0.072121</td>\n",
       "    </tr>\n",
       "    <tr>\n",
       "      <th>1</th>\n",
       "      <td>Усреднеенная метрика по сессиям с взвешиванием</td>\n",
       "      <td>0.481541</td>\n",
       "      <td>0.502665</td>\n",
       "      <td>0.021124</td>\n",
       "      <td>0.328998</td>\n",
       "    </tr>\n",
       "    <tr>\n",
       "      <th>2</th>\n",
       "      <td>Усреднеенная метрика по сессиям с семплированием</td>\n",
       "      <td>0.451365</td>\n",
       "      <td>0.449755</td>\n",
       "      <td>-0.001610</td>\n",
       "      <td>0.823840</td>\n",
       "    </tr>\n",
       "    <tr>\n",
       "      <th>3</th>\n",
       "      <td>Усреднеенная метрика по микро сессиям</td>\n",
       "      <td>0.498476</td>\n",
       "      <td>0.515980</td>\n",
       "      <td>0.017504</td>\n",
       "      <td>0.045691</td>\n",
       "    </tr>\n",
       "    <tr>\n",
       "      <th>4</th>\n",
       "      <td>Усреднеенная метрика по микро сессиям с взвеши...</td>\n",
       "      <td>0.458416</td>\n",
       "      <td>0.478877</td>\n",
       "      <td>0.020461</td>\n",
       "      <td>0.551279</td>\n",
       "    </tr>\n",
       "    <tr>\n",
       "      <th>5</th>\n",
       "      <td>Средняя энергия сессий</td>\n",
       "      <td>0.720155</td>\n",
       "      <td>0.745943</td>\n",
       "      <td>0.025788</td>\n",
       "      <td>0.092262</td>\n",
       "    </tr>\n",
       "    <tr>\n",
       "      <th>6</th>\n",
       "      <td>Средняя энергия сессий с взвешиванием</td>\n",
       "      <td>1.087939</td>\n",
       "      <td>1.155715</td>\n",
       "      <td>0.067776</td>\n",
       "      <td>0.415147</td>\n",
       "    </tr>\n",
       "    <tr>\n",
       "      <th>7</th>\n",
       "      <td>Средняя энергия сессий с семплированием</td>\n",
       "      <td>0.995056</td>\n",
       "      <td>1.015957</td>\n",
       "      <td>0.020901</td>\n",
       "      <td>0.577400</td>\n",
       "    </tr>\n",
       "  </tbody>\n",
       "</table>\n",
       "</div>"
      ],
      "text/plain": [
       "                                              metric  cntrl_value  test_value  \\\n",
       "0                    Усреднеенная метрика по сессиям     0.506094    0.525378   \n",
       "1     Усреднеенная метрика по сессиям с взвешиванием     0.481541    0.502665   \n",
       "2   Усреднеенная метрика по сессиям с семплированием     0.451365    0.449755   \n",
       "3              Усреднеенная метрика по микро сессиям     0.498476    0.515980   \n",
       "4  Усреднеенная метрика по микро сессиям с взвеши...     0.458416    0.478877   \n",
       "5                             Средняя энергия сессий     0.720155    0.745943   \n",
       "6              Средняя энергия сессий с взвешиванием     1.087939    1.155715   \n",
       "7            Средняя энергия сессий с семплированием     0.995056    1.015957   \n",
       "\n",
       "       diff   p_value  \n",
       "0  0.019283  0.072121  \n",
       "1  0.021124  0.328998  \n",
       "2 -0.001610  0.823840  \n",
       "3  0.017504  0.045691  \n",
       "4  0.020461  0.551279  \n",
       "5  0.025788  0.092262  \n",
       "6  0.067776  0.415147  \n",
       "7  0.020901  0.577400  "
      ]
     },
     "execution_count": 279,
     "metadata": {},
     "output_type": "execute_result"
    }
   ],
   "source": [
    "res = make_report_table_for_exp('//home/voice/ilnur/tasks/EXPERIMENTS-73207/extract_result_2_portions')\n",
    "res.to_csv(\"Отключение BERT\")\n",
    "res"
   ]
  },
  {
   "cell_type": "code",
   "execution_count": null,
   "metadata": {},
   "outputs": [],
   "source": []
  },
  {
   "cell_type": "markdown",
   "metadata": {},
   "source": [
    "### External_skill_gc"
   ]
  },
  {
   "cell_type": "code",
   "execution_count": 83,
   "metadata": {},
   "outputs": [
    {
     "data": {
      "text/html": [
       "<div>\n",
       "<style scoped>\n",
       "    .dataframe tbody tr th:only-of-type {\n",
       "        vertical-align: middle;\n",
       "    }\n",
       "\n",
       "    .dataframe tbody tr th {\n",
       "        vertical-align: top;\n",
       "    }\n",
       "\n",
       "    .dataframe thead th {\n",
       "        text-align: right;\n",
       "    }\n",
       "</style>\n",
       "<table border=\"1\" class=\"dataframe\">\n",
       "  <thead>\n",
       "    <tr style=\"text-align: right;\">\n",
       "      <th></th>\n",
       "      <th>metric</th>\n",
       "      <th>cntrl_value</th>\n",
       "      <th>test_value</th>\n",
       "      <th>diff</th>\n",
       "      <th>p_value</th>\n",
       "    </tr>\n",
       "  </thead>\n",
       "  <tbody>\n",
       "    <tr>\n",
       "      <th>0</th>\n",
       "      <td>Усреднеенная метрика по сессиям</td>\n",
       "      <td>0.438179</td>\n",
       "      <td>0.441718</td>\n",
       "      <td>0.003539</td>\n",
       "      <td>0.435681</td>\n",
       "    </tr>\n",
       "    <tr>\n",
       "      <th>1</th>\n",
       "      <td>Усреднеенная метрика по микро сессиям</td>\n",
       "      <td>0.437186</td>\n",
       "      <td>0.437685</td>\n",
       "      <td>0.000499</td>\n",
       "      <td>0.847852</td>\n",
       "    </tr>\n",
       "    <tr>\n",
       "      <th>2</th>\n",
       "      <td>Средняя энергия сессий</td>\n",
       "      <td>0.939492</td>\n",
       "      <td>0.880480</td>\n",
       "      <td>-0.059012</td>\n",
       "      <td>0.628320</td>\n",
       "    </tr>\n",
       "    <tr>\n",
       "      <th>3</th>\n",
       "      <td>Согласованность</td>\n",
       "      <td>0.678574</td>\n",
       "      <td>NaN</td>\n",
       "      <td>NaN</td>\n",
       "      <td>NaN</td>\n",
       "    </tr>\n",
       "  </tbody>\n",
       "</table>\n",
       "</div>"
      ],
      "text/plain": [
       "                                  metric  cntrl_value  test_value      diff  \\\n",
       "0        Усреднеенная метрика по сессиям     0.438179    0.441718  0.003539   \n",
       "1  Усреднеенная метрика по микро сессиям     0.437186    0.437685  0.000499   \n",
       "2                 Средняя энергия сессий     0.939492    0.880480 -0.059012   \n",
       "3                        Согласованность     0.678574         NaN       NaN   \n",
       "\n",
       "    p_value  \n",
       "0  0.435681  \n",
       "1  0.847852  \n",
       "2  0.628320  \n",
       "3       NaN  "
      ]
     },
     "execution_count": 83,
     "metadata": {},
     "output_type": "execute_result"
    }
   ],
   "source": [
    "res = make_report_table_for_exp_without_sampl('//home/voice/eliseevmax/tasks/EXPERIMENTS-73207/external_skill_gc_3/small_smart_speakers-quasar/joined_results',\n",
    "                               test_name = \"test_378112\",\n",
    "                               cntrl_name= \"cntrl_378111\"\n",
    "                               )\n",
    "res"
   ]
  },
  {
   "cell_type": "code",
   "execution_count": 84,
   "metadata": {},
   "outputs": [
    {
     "data": {
      "text/html": [
       "<div>\n",
       "<style scoped>\n",
       "    .dataframe tbody tr th:only-of-type {\n",
       "        vertical-align: middle;\n",
       "    }\n",
       "\n",
       "    .dataframe tbody tr th {\n",
       "        vertical-align: top;\n",
       "    }\n",
       "\n",
       "    .dataframe thead th {\n",
       "        text-align: right;\n",
       "    }\n",
       "</style>\n",
       "<table border=\"1\" class=\"dataframe\">\n",
       "  <thead>\n",
       "    <tr style=\"text-align: right;\">\n",
       "      <th></th>\n",
       "      <th>metric</th>\n",
       "      <th>cntrl_value</th>\n",
       "      <th>test_value</th>\n",
       "      <th>diff</th>\n",
       "      <th>p_value</th>\n",
       "    </tr>\n",
       "  </thead>\n",
       "  <tbody>\n",
       "    <tr>\n",
       "      <th>0</th>\n",
       "      <td>Усреднеенная метрика по сессиям</td>\n",
       "      <td>0.428214</td>\n",
       "      <td>0.425035</td>\n",
       "      <td>-0.003179</td>\n",
       "      <td>0.838315</td>\n",
       "    </tr>\n",
       "    <tr>\n",
       "      <th>1</th>\n",
       "      <td>Усреднеенная метрика по микро сессиям</td>\n",
       "      <td>0.427593</td>\n",
       "      <td>0.420741</td>\n",
       "      <td>-0.006852</td>\n",
       "      <td>0.619770</td>\n",
       "    </tr>\n",
       "    <tr>\n",
       "      <th>2</th>\n",
       "      <td>Средняя энергия сессий</td>\n",
       "      <td>0.969494</td>\n",
       "      <td>0.884609</td>\n",
       "      <td>-0.084885</td>\n",
       "      <td>0.114559</td>\n",
       "    </tr>\n",
       "    <tr>\n",
       "      <th>3</th>\n",
       "      <td>Согласованность</td>\n",
       "      <td>0.748782</td>\n",
       "      <td>NaN</td>\n",
       "      <td>NaN</td>\n",
       "      <td>NaN</td>\n",
       "    </tr>\n",
       "  </tbody>\n",
       "</table>\n",
       "</div>"
      ],
      "text/plain": [
       "                                  metric  cntrl_value  test_value      diff  \\\n",
       "0        Усреднеенная метрика по сессиям     0.428214    0.425035 -0.003179   \n",
       "1  Усреднеенная метрика по микро сессиям     0.427593    0.420741 -0.006852   \n",
       "2                 Средняя энергия сессий     0.969494    0.884609 -0.084885   \n",
       "3                        Согласованность     0.748782         NaN       NaN   \n",
       "\n",
       "    p_value  \n",
       "0  0.838315  \n",
       "1  0.619770  \n",
       "2  0.114559  \n",
       "3       NaN  "
      ]
     },
     "execution_count": 84,
     "metadata": {},
     "output_type": "execute_result"
    }
   ],
   "source": [
    "res = make_report_table_for_exp_without_sampl('//home/voice/eliseevmax/tasks/EXPERIMENTS-73207/external_skill_gc_3/small_smart_speakers-quasar/joined_results_dawid_skene',\n",
    "                               test_name = \"test_378112\",\n",
    "                               cntrl_name= \"cntrl_378111\"\n",
    "                               )\n",
    "res"
   ]
  },
  {
   "cell_type": "markdown",
   "metadata": {},
   "source": [
    "### Случайный семпл длинн "
   ]
  },
  {
   "cell_type": "code",
   "execution_count": 67,
   "metadata": {},
   "outputs": [
    {
     "data": {
      "text/html": [
       "<div>\n",
       "<style scoped>\n",
       "    .dataframe tbody tr th:only-of-type {\n",
       "        vertical-align: middle;\n",
       "    }\n",
       "\n",
       "    .dataframe tbody tr th {\n",
       "        vertical-align: top;\n",
       "    }\n",
       "\n",
       "    .dataframe thead th {\n",
       "        text-align: right;\n",
       "    }\n",
       "</style>\n",
       "<table border=\"1\" class=\"dataframe\">\n",
       "  <thead>\n",
       "    <tr style=\"text-align: right;\">\n",
       "      <th></th>\n",
       "      <th>metric</th>\n",
       "      <th>cntrl_value</th>\n",
       "      <th>test_value</th>\n",
       "      <th>diff</th>\n",
       "      <th>p_value</th>\n",
       "    </tr>\n",
       "  </thead>\n",
       "  <tbody>\n",
       "    <tr>\n",
       "      <th>0</th>\n",
       "      <td>Усреднеенная метрика по сессиям</td>\n",
       "      <td>0.556183</td>\n",
       "      <td>0.557967</td>\n",
       "      <td>0.001784</td>\n",
       "      <td>0.788009</td>\n",
       "    </tr>\n",
       "    <tr>\n",
       "      <th>1</th>\n",
       "      <td>Усреднеенная метрика по микро сессиям</td>\n",
       "      <td>0.546818</td>\n",
       "      <td>0.551155</td>\n",
       "      <td>0.004337</td>\n",
       "      <td>0.631399</td>\n",
       "    </tr>\n",
       "    <tr>\n",
       "      <th>2</th>\n",
       "      <td>Средняя энергия сессий</td>\n",
       "      <td>0.714702</td>\n",
       "      <td>0.747469</td>\n",
       "      <td>0.032767</td>\n",
       "      <td>0.683857</td>\n",
       "    </tr>\n",
       "    <tr>\n",
       "      <th>3</th>\n",
       "      <td>Согласованность</td>\n",
       "      <td>0.678584</td>\n",
       "      <td>NaN</td>\n",
       "      <td>NaN</td>\n",
       "      <td>NaN</td>\n",
       "    </tr>\n",
       "  </tbody>\n",
       "</table>\n",
       "</div>"
      ],
      "text/plain": [
       "                                  metric  cntrl_value  test_value      diff  \\\n",
       "0        Усреднеенная метрика по сессиям     0.556183    0.557967  0.001784   \n",
       "1  Усреднеенная метрика по микро сессиям     0.546818    0.551155  0.004337   \n",
       "2                 Средняя энергия сессий     0.714702    0.747469  0.032767   \n",
       "3                        Согласованность     0.678584         NaN       NaN   \n",
       "\n",
       "    p_value  \n",
       "0  0.788009  \n",
       "1  0.631399  \n",
       "2  0.683857  \n",
       "3       NaN  "
      ]
     },
     "execution_count": 67,
     "metadata": {},
     "output_type": "execute_result"
    }
   ],
   "source": [
    "res = make_report_table_for_exp_without_sampl('//home/voice/eliseevmax/tasks/EXPERIMENTS-73207/results_with_random_len_general_3',\n",
    "                               test_name = \"test_378112\",\n",
    "                               cntrl_name= \"cntrl_378111\"\n",
    "                               )\n",
    "res.to_csv(\"Отключение BERT\")\n",
    "res"
   ]
  },
  {
   "cell_type": "code",
   "execution_count": 92,
   "metadata": {},
   "outputs": [
    {
     "data": {
      "text/html": [
       "<div>\n",
       "<style scoped>\n",
       "    .dataframe tbody tr th:only-of-type {\n",
       "        vertical-align: middle;\n",
       "    }\n",
       "\n",
       "    .dataframe tbody tr th {\n",
       "        vertical-align: top;\n",
       "    }\n",
       "\n",
       "    .dataframe thead th {\n",
       "        text-align: right;\n",
       "    }\n",
       "</style>\n",
       "<table border=\"1\" class=\"dataframe\">\n",
       "  <thead>\n",
       "    <tr style=\"text-align: right;\">\n",
       "      <th></th>\n",
       "      <th>metric</th>\n",
       "      <th>cntrl_value</th>\n",
       "      <th>test_value</th>\n",
       "      <th>diff</th>\n",
       "      <th>p_value</th>\n",
       "    </tr>\n",
       "  </thead>\n",
       "  <tbody>\n",
       "    <tr>\n",
       "      <th>0</th>\n",
       "      <td>Усреднеенная метрика по сессиям</td>\n",
       "      <td>0.460462</td>\n",
       "      <td>0.456144</td>\n",
       "      <td>-0.004318</td>\n",
       "      <td>0.929898</td>\n",
       "    </tr>\n",
       "    <tr>\n",
       "      <th>1</th>\n",
       "      <td>Усреднеенная метрика по микро сессиям</td>\n",
       "      <td>0.458172</td>\n",
       "      <td>0.459757</td>\n",
       "      <td>0.001585</td>\n",
       "      <td>0.750471</td>\n",
       "    </tr>\n",
       "    <tr>\n",
       "      <th>2</th>\n",
       "      <td>Средняя энергия сессий</td>\n",
       "      <td>1.048964</td>\n",
       "      <td>0.992613</td>\n",
       "      <td>-0.056351</td>\n",
       "      <td>0.305762</td>\n",
       "    </tr>\n",
       "    <tr>\n",
       "      <th>3</th>\n",
       "      <td>Согласованность</td>\n",
       "      <td>0.686143</td>\n",
       "      <td>NaN</td>\n",
       "      <td>NaN</td>\n",
       "      <td>NaN</td>\n",
       "    </tr>\n",
       "  </tbody>\n",
       "</table>\n",
       "</div>"
      ],
      "text/plain": [
       "                                  metric  cntrl_value  test_value      diff  \\\n",
       "0        Усреднеенная метрика по сессиям     0.460462    0.456144 -0.004318   \n",
       "1  Усреднеенная метрика по микро сессиям     0.458172    0.459757  0.001585   \n",
       "2                 Средняя энергия сессий     1.048964    0.992613 -0.056351   \n",
       "3                        Согласованность     0.686143         NaN       NaN   \n",
       "\n",
       "    p_value  \n",
       "0  0.929898  \n",
       "1  0.750471  \n",
       "2  0.305762  \n",
       "3       NaN  "
      ]
     },
     "execution_count": 92,
     "metadata": {},
     "output_type": "execute_result"
    }
   ],
   "source": [
    "res = make_report_table_for_exp_without_sampl('//home/voice/eliseevmax/tasks/EXPERIMENTS-73207/external_skill_gc_5/small_smart_speakers-quasar/joined_results',\n",
    "                               test_name = \"test_378112\",\n",
    "                               cntrl_name= \"cntrl_378111\"\n",
    "                               )\n",
    "res"
   ]
  },
  {
   "cell_type": "markdown",
   "metadata": {},
   "source": [
    "### Dawid-Skene"
   ]
  },
  {
   "cell_type": "code",
   "execution_count": 68,
   "metadata": {},
   "outputs": [
    {
     "data": {
      "text/html": [
       "<div>\n",
       "<style scoped>\n",
       "    .dataframe tbody tr th:only-of-type {\n",
       "        vertical-align: middle;\n",
       "    }\n",
       "\n",
       "    .dataframe tbody tr th {\n",
       "        vertical-align: top;\n",
       "    }\n",
       "\n",
       "    .dataframe thead th {\n",
       "        text-align: right;\n",
       "    }\n",
       "</style>\n",
       "<table border=\"1\" class=\"dataframe\">\n",
       "  <thead>\n",
       "    <tr style=\"text-align: right;\">\n",
       "      <th></th>\n",
       "      <th>metric</th>\n",
       "      <th>cntrl_value</th>\n",
       "      <th>test_value</th>\n",
       "      <th>diff</th>\n",
       "      <th>p_value</th>\n",
       "    </tr>\n",
       "  </thead>\n",
       "  <tbody>\n",
       "    <tr>\n",
       "      <th>0</th>\n",
       "      <td>Усреднеенная метрика по сессиям</td>\n",
       "      <td>0.573561</td>\n",
       "      <td>0.563371</td>\n",
       "      <td>-0.010190</td>\n",
       "      <td>0.879411</td>\n",
       "    </tr>\n",
       "    <tr>\n",
       "      <th>1</th>\n",
       "      <td>Усреднеенная метрика по микро сессиям</td>\n",
       "      <td>0.561882</td>\n",
       "      <td>0.551209</td>\n",
       "      <td>-0.010673</td>\n",
       "      <td>0.931555</td>\n",
       "    </tr>\n",
       "    <tr>\n",
       "      <th>2</th>\n",
       "      <td>Средняя энергия сессий</td>\n",
       "      <td>0.750187</td>\n",
       "      <td>0.763796</td>\n",
       "      <td>0.013608</td>\n",
       "      <td>0.890121</td>\n",
       "    </tr>\n",
       "    <tr>\n",
       "      <th>3</th>\n",
       "      <td>Согласованность</td>\n",
       "      <td>0.785110</td>\n",
       "      <td>NaN</td>\n",
       "      <td>NaN</td>\n",
       "      <td>NaN</td>\n",
       "    </tr>\n",
       "  </tbody>\n",
       "</table>\n",
       "</div>"
      ],
      "text/plain": [
       "                                  metric  cntrl_value  test_value      diff  \\\n",
       "0        Усреднеенная метрика по сессиям     0.573561    0.563371 -0.010190   \n",
       "1  Усреднеенная метрика по микро сессиям     0.561882    0.551209 -0.010673   \n",
       "2                 Средняя энергия сессий     0.750187    0.763796  0.013608   \n",
       "3                        Согласованность     0.785110         NaN       NaN   \n",
       "\n",
       "    p_value  \n",
       "0  0.879411  \n",
       "1  0.931555  \n",
       "2  0.890121  \n",
       "3       NaN  "
      ]
     },
     "execution_count": 68,
     "metadata": {},
     "output_type": "execute_result"
    }
   ],
   "source": [
    "res = make_report_table_for_exp_without_sampl('//home/voice/eliseevmax/tasks/EXPERIMENTS-73207/results_with_random_len_general_3_dawid_skene',\n",
    "                               test_name = \"test_378112\",\n",
    "                               cntrl_name= \"cntrl_378111\"\n",
    "                               )\n",
    "res.to_csv(\"Отключение BERT\")\n",
    "res"
   ]
  },
  {
   "cell_type": "code",
   "execution_count": 37,
   "metadata": {},
   "outputs": [],
   "source": [
    "dawid_skene = pd.DataFrame(\n",
    "    client.read_table('//home/voice/eliseevmax/tasks/EXPERIMENTS-73207/results_with_random_len_general_3_dawid_skene', raw=False)\n",
    ")\n",
    "\n",
    "mv = pd.DataFrame(\n",
    "    client.read_table('//home/voice/eliseevmax/tasks/EXPERIMENTS-73207/results_with_random_len_general_3', raw=False)\n",
    ")\n",
    "\n",
    "pair_of_answers = dawid_skene.merge(\n",
    "    mv, on=\"session_id\", suffixes=[\"_david_skene\", \"_mv\"]\n",
    ")[[\"result_david_skene\", \"result_mv\"]]"
   ]
  },
  {
   "cell_type": "code",
   "execution_count": 75,
   "metadata": {},
   "outputs": [
    {
     "data": {
      "application/vnd.plotly.v1+json": {
       "config": {
        "plotlyServerURL": "https://plot.ly"
       },
       "data": [
        {
         "marker": {
          "size": [
           37.4,
           7.3,
           17.9,
           6.2,
           2.8,
           29.6,
           26.4,
           3.3,
           5.9,
           8.7,
           144.8,
           16.8,
           4.2,
           3.1,
           27.6,
           44.9
          ]
         },
         "mode": "markers",
         "text": [
          354,
          53,
          159,
          42,
          8,
          276,
          244,
          13,
          39,
          67,
          1428,
          148,
          22,
          11,
          256,
          429
         ],
         "type": "scatter",
         "x": [
          "stupid",
          "stupid",
          "stupid",
          "stupid",
          "bad",
          "bad",
          "bad",
          "bad",
          "part",
          "part",
          "part",
          "part",
          "good",
          "good",
          "good",
          "good"
         ],
         "y": [
          "stupid",
          "bad",
          "part",
          "good",
          "stupid",
          "bad",
          "part",
          "good",
          "stupid",
          "bad",
          "part",
          "good",
          "stupid",
          "bad",
          "part",
          "good"
         ]
        }
       ],
       "layout": {
        "template": {
         "data": {
          "bar": [
           {
            "error_x": {
             "color": "#2a3f5f"
            },
            "error_y": {
             "color": "#2a3f5f"
            },
            "marker": {
             "line": {
              "color": "#E5ECF6",
              "width": 0.5
             }
            },
            "type": "bar"
           }
          ],
          "barpolar": [
           {
            "marker": {
             "line": {
              "color": "#E5ECF6",
              "width": 0.5
             }
            },
            "type": "barpolar"
           }
          ],
          "carpet": [
           {
            "aaxis": {
             "endlinecolor": "#2a3f5f",
             "gridcolor": "white",
             "linecolor": "white",
             "minorgridcolor": "white",
             "startlinecolor": "#2a3f5f"
            },
            "baxis": {
             "endlinecolor": "#2a3f5f",
             "gridcolor": "white",
             "linecolor": "white",
             "minorgridcolor": "white",
             "startlinecolor": "#2a3f5f"
            },
            "type": "carpet"
           }
          ],
          "choropleth": [
           {
            "colorbar": {
             "outlinewidth": 0,
             "ticks": ""
            },
            "type": "choropleth"
           }
          ],
          "contour": [
           {
            "colorbar": {
             "outlinewidth": 0,
             "ticks": ""
            },
            "colorscale": [
             [
              0,
              "#0d0887"
             ],
             [
              0.1111111111111111,
              "#46039f"
             ],
             [
              0.2222222222222222,
              "#7201a8"
             ],
             [
              0.3333333333333333,
              "#9c179e"
             ],
             [
              0.4444444444444444,
              "#bd3786"
             ],
             [
              0.5555555555555556,
              "#d8576b"
             ],
             [
              0.6666666666666666,
              "#ed7953"
             ],
             [
              0.7777777777777778,
              "#fb9f3a"
             ],
             [
              0.8888888888888888,
              "#fdca26"
             ],
             [
              1,
              "#f0f921"
             ]
            ],
            "type": "contour"
           }
          ],
          "contourcarpet": [
           {
            "colorbar": {
             "outlinewidth": 0,
             "ticks": ""
            },
            "type": "contourcarpet"
           }
          ],
          "heatmap": [
           {
            "colorbar": {
             "outlinewidth": 0,
             "ticks": ""
            },
            "colorscale": [
             [
              0,
              "#0d0887"
             ],
             [
              0.1111111111111111,
              "#46039f"
             ],
             [
              0.2222222222222222,
              "#7201a8"
             ],
             [
              0.3333333333333333,
              "#9c179e"
             ],
             [
              0.4444444444444444,
              "#bd3786"
             ],
             [
              0.5555555555555556,
              "#d8576b"
             ],
             [
              0.6666666666666666,
              "#ed7953"
             ],
             [
              0.7777777777777778,
              "#fb9f3a"
             ],
             [
              0.8888888888888888,
              "#fdca26"
             ],
             [
              1,
              "#f0f921"
             ]
            ],
            "type": "heatmap"
           }
          ],
          "heatmapgl": [
           {
            "colorbar": {
             "outlinewidth": 0,
             "ticks": ""
            },
            "colorscale": [
             [
              0,
              "#0d0887"
             ],
             [
              0.1111111111111111,
              "#46039f"
             ],
             [
              0.2222222222222222,
              "#7201a8"
             ],
             [
              0.3333333333333333,
              "#9c179e"
             ],
             [
              0.4444444444444444,
              "#bd3786"
             ],
             [
              0.5555555555555556,
              "#d8576b"
             ],
             [
              0.6666666666666666,
              "#ed7953"
             ],
             [
              0.7777777777777778,
              "#fb9f3a"
             ],
             [
              0.8888888888888888,
              "#fdca26"
             ],
             [
              1,
              "#f0f921"
             ]
            ],
            "type": "heatmapgl"
           }
          ],
          "histogram": [
           {
            "marker": {
             "colorbar": {
              "outlinewidth": 0,
              "ticks": ""
             }
            },
            "type": "histogram"
           }
          ],
          "histogram2d": [
           {
            "colorbar": {
             "outlinewidth": 0,
             "ticks": ""
            },
            "colorscale": [
             [
              0,
              "#0d0887"
             ],
             [
              0.1111111111111111,
              "#46039f"
             ],
             [
              0.2222222222222222,
              "#7201a8"
             ],
             [
              0.3333333333333333,
              "#9c179e"
             ],
             [
              0.4444444444444444,
              "#bd3786"
             ],
             [
              0.5555555555555556,
              "#d8576b"
             ],
             [
              0.6666666666666666,
              "#ed7953"
             ],
             [
              0.7777777777777778,
              "#fb9f3a"
             ],
             [
              0.8888888888888888,
              "#fdca26"
             ],
             [
              1,
              "#f0f921"
             ]
            ],
            "type": "histogram2d"
           }
          ],
          "histogram2dcontour": [
           {
            "colorbar": {
             "outlinewidth": 0,
             "ticks": ""
            },
            "colorscale": [
             [
              0,
              "#0d0887"
             ],
             [
              0.1111111111111111,
              "#46039f"
             ],
             [
              0.2222222222222222,
              "#7201a8"
             ],
             [
              0.3333333333333333,
              "#9c179e"
             ],
             [
              0.4444444444444444,
              "#bd3786"
             ],
             [
              0.5555555555555556,
              "#d8576b"
             ],
             [
              0.6666666666666666,
              "#ed7953"
             ],
             [
              0.7777777777777778,
              "#fb9f3a"
             ],
             [
              0.8888888888888888,
              "#fdca26"
             ],
             [
              1,
              "#f0f921"
             ]
            ],
            "type": "histogram2dcontour"
           }
          ],
          "mesh3d": [
           {
            "colorbar": {
             "outlinewidth": 0,
             "ticks": ""
            },
            "type": "mesh3d"
           }
          ],
          "parcoords": [
           {
            "line": {
             "colorbar": {
              "outlinewidth": 0,
              "ticks": ""
             }
            },
            "type": "parcoords"
           }
          ],
          "pie": [
           {
            "automargin": true,
            "type": "pie"
           }
          ],
          "scatter": [
           {
            "marker": {
             "colorbar": {
              "outlinewidth": 0,
              "ticks": ""
             }
            },
            "type": "scatter"
           }
          ],
          "scatter3d": [
           {
            "line": {
             "colorbar": {
              "outlinewidth": 0,
              "ticks": ""
             }
            },
            "marker": {
             "colorbar": {
              "outlinewidth": 0,
              "ticks": ""
             }
            },
            "type": "scatter3d"
           }
          ],
          "scattercarpet": [
           {
            "marker": {
             "colorbar": {
              "outlinewidth": 0,
              "ticks": ""
             }
            },
            "type": "scattercarpet"
           }
          ],
          "scattergeo": [
           {
            "marker": {
             "colorbar": {
              "outlinewidth": 0,
              "ticks": ""
             }
            },
            "type": "scattergeo"
           }
          ],
          "scattergl": [
           {
            "marker": {
             "colorbar": {
              "outlinewidth": 0,
              "ticks": ""
             }
            },
            "type": "scattergl"
           }
          ],
          "scattermapbox": [
           {
            "marker": {
             "colorbar": {
              "outlinewidth": 0,
              "ticks": ""
             }
            },
            "type": "scattermapbox"
           }
          ],
          "scatterpolar": [
           {
            "marker": {
             "colorbar": {
              "outlinewidth": 0,
              "ticks": ""
             }
            },
            "type": "scatterpolar"
           }
          ],
          "scatterpolargl": [
           {
            "marker": {
             "colorbar": {
              "outlinewidth": 0,
              "ticks": ""
             }
            },
            "type": "scatterpolargl"
           }
          ],
          "scatterternary": [
           {
            "marker": {
             "colorbar": {
              "outlinewidth": 0,
              "ticks": ""
             }
            },
            "type": "scatterternary"
           }
          ],
          "surface": [
           {
            "colorbar": {
             "outlinewidth": 0,
             "ticks": ""
            },
            "colorscale": [
             [
              0,
              "#0d0887"
             ],
             [
              0.1111111111111111,
              "#46039f"
             ],
             [
              0.2222222222222222,
              "#7201a8"
             ],
             [
              0.3333333333333333,
              "#9c179e"
             ],
             [
              0.4444444444444444,
              "#bd3786"
             ],
             [
              0.5555555555555556,
              "#d8576b"
             ],
             [
              0.6666666666666666,
              "#ed7953"
             ],
             [
              0.7777777777777778,
              "#fb9f3a"
             ],
             [
              0.8888888888888888,
              "#fdca26"
             ],
             [
              1,
              "#f0f921"
             ]
            ],
            "type": "surface"
           }
          ],
          "table": [
           {
            "cells": {
             "fill": {
              "color": "#EBF0F8"
             },
             "line": {
              "color": "white"
             }
            },
            "header": {
             "fill": {
              "color": "#C8D4E3"
             },
             "line": {
              "color": "white"
             }
            },
            "type": "table"
           }
          ]
         },
         "layout": {
          "annotationdefaults": {
           "arrowcolor": "#2a3f5f",
           "arrowhead": 0,
           "arrowwidth": 1
          },
          "autotypenumbers": "strict",
          "coloraxis": {
           "colorbar": {
            "outlinewidth": 0,
            "ticks": ""
           }
          },
          "colorscale": {
           "diverging": [
            [
             0,
             "#8e0152"
            ],
            [
             0.1,
             "#c51b7d"
            ],
            [
             0.2,
             "#de77ae"
            ],
            [
             0.3,
             "#f1b6da"
            ],
            [
             0.4,
             "#fde0ef"
            ],
            [
             0.5,
             "#f7f7f7"
            ],
            [
             0.6,
             "#e6f5d0"
            ],
            [
             0.7,
             "#b8e186"
            ],
            [
             0.8,
             "#7fbc41"
            ],
            [
             0.9,
             "#4d9221"
            ],
            [
             1,
             "#276419"
            ]
           ],
           "sequential": [
            [
             0,
             "#0d0887"
            ],
            [
             0.1111111111111111,
             "#46039f"
            ],
            [
             0.2222222222222222,
             "#7201a8"
            ],
            [
             0.3333333333333333,
             "#9c179e"
            ],
            [
             0.4444444444444444,
             "#bd3786"
            ],
            [
             0.5555555555555556,
             "#d8576b"
            ],
            [
             0.6666666666666666,
             "#ed7953"
            ],
            [
             0.7777777777777778,
             "#fb9f3a"
            ],
            [
             0.8888888888888888,
             "#fdca26"
            ],
            [
             1,
             "#f0f921"
            ]
           ],
           "sequentialminus": [
            [
             0,
             "#0d0887"
            ],
            [
             0.1111111111111111,
             "#46039f"
            ],
            [
             0.2222222222222222,
             "#7201a8"
            ],
            [
             0.3333333333333333,
             "#9c179e"
            ],
            [
             0.4444444444444444,
             "#bd3786"
            ],
            [
             0.5555555555555556,
             "#d8576b"
            ],
            [
             0.6666666666666666,
             "#ed7953"
            ],
            [
             0.7777777777777778,
             "#fb9f3a"
            ],
            [
             0.8888888888888888,
             "#fdca26"
            ],
            [
             1,
             "#f0f921"
            ]
           ]
          },
          "colorway": [
           "#636efa",
           "#EF553B",
           "#00cc96",
           "#ab63fa",
           "#FFA15A",
           "#19d3f3",
           "#FF6692",
           "#B6E880",
           "#FF97FF",
           "#FECB52"
          ],
          "font": {
           "color": "#2a3f5f"
          },
          "geo": {
           "bgcolor": "white",
           "lakecolor": "white",
           "landcolor": "#E5ECF6",
           "showlakes": true,
           "showland": true,
           "subunitcolor": "white"
          },
          "hoverlabel": {
           "align": "left"
          },
          "hovermode": "closest",
          "mapbox": {
           "style": "light"
          },
          "paper_bgcolor": "white",
          "plot_bgcolor": "#E5ECF6",
          "polar": {
           "angularaxis": {
            "gridcolor": "white",
            "linecolor": "white",
            "ticks": ""
           },
           "bgcolor": "#E5ECF6",
           "radialaxis": {
            "gridcolor": "white",
            "linecolor": "white",
            "ticks": ""
           }
          },
          "scene": {
           "xaxis": {
            "backgroundcolor": "#E5ECF6",
            "gridcolor": "white",
            "gridwidth": 2,
            "linecolor": "white",
            "showbackground": true,
            "ticks": "",
            "zerolinecolor": "white"
           },
           "yaxis": {
            "backgroundcolor": "#E5ECF6",
            "gridcolor": "white",
            "gridwidth": 2,
            "linecolor": "white",
            "showbackground": true,
            "ticks": "",
            "zerolinecolor": "white"
           },
           "zaxis": {
            "backgroundcolor": "#E5ECF6",
            "gridcolor": "white",
            "gridwidth": 2,
            "linecolor": "white",
            "showbackground": true,
            "ticks": "",
            "zerolinecolor": "white"
           }
          },
          "shapedefaults": {
           "line": {
            "color": "#2a3f5f"
           }
          },
          "ternary": {
           "aaxis": {
            "gridcolor": "white",
            "linecolor": "white",
            "ticks": ""
           },
           "baxis": {
            "gridcolor": "white",
            "linecolor": "white",
            "ticks": ""
           },
           "bgcolor": "#E5ECF6",
           "caxis": {
            "gridcolor": "white",
            "linecolor": "white",
            "ticks": ""
           }
          },
          "title": {
           "x": 0.05
          },
          "xaxis": {
           "automargin": true,
           "gridcolor": "white",
           "linecolor": "white",
           "ticks": "",
           "title": {
            "standoff": 15
           },
           "zerolinecolor": "white",
           "zerolinewidth": 2
          },
          "yaxis": {
           "automargin": true,
           "gridcolor": "white",
           "linecolor": "white",
           "ticks": "",
           "title": {
            "standoff": 15
           },
           "zerolinecolor": "white",
           "zerolinewidth": 2
          }
         }
        },
        "title": {
         "text": "Aggregation algorithm"
        },
        "xaxis": {
         "title": {
          "text": "result_mv"
         }
        },
        "yaxis": {
         "title": {
          "text": "result_david_skene"
         }
        }
       }
      },
      "text/html": [
       "<div>                            <div id=\"a131908a-3332-471b-85a0-47a9f6669355\" class=\"plotly-graph-div\" style=\"height:525px; width:100%;\"></div>            <script type=\"text/javascript\">                require([\"plotly\"], function(Plotly) {                    window.PLOTLYENV=window.PLOTLYENV || {};                                    if (document.getElementById(\"a131908a-3332-471b-85a0-47a9f6669355\")) {                    Plotly.newPlot(                        \"a131908a-3332-471b-85a0-47a9f6669355\",                        [{\"marker\": {\"size\": [37.4, 7.3, 17.9, 6.2, 2.8, 29.6, 26.4, 3.3, 5.9, 8.7, 144.8, 16.8, 4.2, 3.1, 27.6, 44.9]}, \"mode\": \"markers\", \"text\": [354.0, 53.0, 159.0, 42.0, 8.0, 276.0, 244.0, 13.0, 39.0, 67.0, 1428.0, 148.0, 22.0, 11.0, 256.0, 429.0], \"type\": \"scatter\", \"x\": [\"stupid\", \"stupid\", \"stupid\", \"stupid\", \"bad\", \"bad\", \"bad\", \"bad\", \"part\", \"part\", \"part\", \"part\", \"good\", \"good\", \"good\", \"good\"], \"y\": [\"stupid\", \"bad\", \"part\", \"good\", \"stupid\", \"bad\", \"part\", \"good\", \"stupid\", \"bad\", \"part\", \"good\", \"stupid\", \"bad\", \"part\", \"good\"]}],                        {\"template\": {\"data\": {\"bar\": [{\"error_x\": {\"color\": \"#2a3f5f\"}, \"error_y\": {\"color\": \"#2a3f5f\"}, \"marker\": {\"line\": {\"color\": \"#E5ECF6\", \"width\": 0.5}}, \"type\": \"bar\"}], \"barpolar\": [{\"marker\": {\"line\": {\"color\": \"#E5ECF6\", \"width\": 0.5}}, \"type\": \"barpolar\"}], \"carpet\": [{\"aaxis\": {\"endlinecolor\": \"#2a3f5f\", \"gridcolor\": \"white\", \"linecolor\": \"white\", \"minorgridcolor\": \"white\", \"startlinecolor\": \"#2a3f5f\"}, \"baxis\": {\"endlinecolor\": \"#2a3f5f\", \"gridcolor\": \"white\", \"linecolor\": \"white\", \"minorgridcolor\": \"white\", \"startlinecolor\": \"#2a3f5f\"}, \"type\": \"carpet\"}], \"choropleth\": [{\"colorbar\": {\"outlinewidth\": 0, \"ticks\": \"\"}, \"type\": \"choropleth\"}], \"contour\": [{\"colorbar\": {\"outlinewidth\": 0, \"ticks\": \"\"}, \"colorscale\": [[0.0, \"#0d0887\"], [0.1111111111111111, \"#46039f\"], [0.2222222222222222, \"#7201a8\"], [0.3333333333333333, \"#9c179e\"], [0.4444444444444444, \"#bd3786\"], [0.5555555555555556, \"#d8576b\"], [0.6666666666666666, \"#ed7953\"], [0.7777777777777778, \"#fb9f3a\"], [0.8888888888888888, \"#fdca26\"], [1.0, \"#f0f921\"]], \"type\": \"contour\"}], \"contourcarpet\": [{\"colorbar\": {\"outlinewidth\": 0, \"ticks\": \"\"}, \"type\": \"contourcarpet\"}], \"heatmap\": [{\"colorbar\": {\"outlinewidth\": 0, \"ticks\": \"\"}, \"colorscale\": [[0.0, \"#0d0887\"], [0.1111111111111111, \"#46039f\"], [0.2222222222222222, \"#7201a8\"], [0.3333333333333333, \"#9c179e\"], [0.4444444444444444, \"#bd3786\"], [0.5555555555555556, \"#d8576b\"], [0.6666666666666666, \"#ed7953\"], [0.7777777777777778, \"#fb9f3a\"], [0.8888888888888888, \"#fdca26\"], [1.0, \"#f0f921\"]], \"type\": \"heatmap\"}], \"heatmapgl\": [{\"colorbar\": {\"outlinewidth\": 0, \"ticks\": \"\"}, \"colorscale\": [[0.0, \"#0d0887\"], [0.1111111111111111, \"#46039f\"], [0.2222222222222222, \"#7201a8\"], [0.3333333333333333, \"#9c179e\"], [0.4444444444444444, \"#bd3786\"], [0.5555555555555556, \"#d8576b\"], [0.6666666666666666, \"#ed7953\"], [0.7777777777777778, \"#fb9f3a\"], [0.8888888888888888, \"#fdca26\"], [1.0, \"#f0f921\"]], \"type\": \"heatmapgl\"}], \"histogram\": [{\"marker\": {\"colorbar\": {\"outlinewidth\": 0, \"ticks\": \"\"}}, \"type\": \"histogram\"}], \"histogram2d\": [{\"colorbar\": {\"outlinewidth\": 0, \"ticks\": \"\"}, \"colorscale\": [[0.0, \"#0d0887\"], [0.1111111111111111, \"#46039f\"], [0.2222222222222222, \"#7201a8\"], [0.3333333333333333, \"#9c179e\"], [0.4444444444444444, \"#bd3786\"], [0.5555555555555556, \"#d8576b\"], [0.6666666666666666, \"#ed7953\"], [0.7777777777777778, \"#fb9f3a\"], [0.8888888888888888, \"#fdca26\"], [1.0, \"#f0f921\"]], \"type\": \"histogram2d\"}], \"histogram2dcontour\": [{\"colorbar\": {\"outlinewidth\": 0, \"ticks\": \"\"}, \"colorscale\": [[0.0, \"#0d0887\"], [0.1111111111111111, \"#46039f\"], [0.2222222222222222, \"#7201a8\"], [0.3333333333333333, \"#9c179e\"], [0.4444444444444444, \"#bd3786\"], [0.5555555555555556, \"#d8576b\"], [0.6666666666666666, \"#ed7953\"], [0.7777777777777778, \"#fb9f3a\"], [0.8888888888888888, \"#fdca26\"], [1.0, \"#f0f921\"]], \"type\": \"histogram2dcontour\"}], \"mesh3d\": [{\"colorbar\": {\"outlinewidth\": 0, \"ticks\": \"\"}, \"type\": \"mesh3d\"}], \"parcoords\": [{\"line\": {\"colorbar\": {\"outlinewidth\": 0, \"ticks\": \"\"}}, \"type\": \"parcoords\"}], \"pie\": [{\"automargin\": true, \"type\": \"pie\"}], \"scatter\": [{\"marker\": {\"colorbar\": {\"outlinewidth\": 0, \"ticks\": \"\"}}, \"type\": \"scatter\"}], \"scatter3d\": [{\"line\": {\"colorbar\": {\"outlinewidth\": 0, \"ticks\": \"\"}}, \"marker\": {\"colorbar\": {\"outlinewidth\": 0, \"ticks\": \"\"}}, \"type\": \"scatter3d\"}], \"scattercarpet\": [{\"marker\": {\"colorbar\": {\"outlinewidth\": 0, \"ticks\": \"\"}}, \"type\": \"scattercarpet\"}], \"scattergeo\": [{\"marker\": {\"colorbar\": {\"outlinewidth\": 0, \"ticks\": \"\"}}, \"type\": \"scattergeo\"}], \"scattergl\": [{\"marker\": {\"colorbar\": {\"outlinewidth\": 0, \"ticks\": \"\"}}, \"type\": \"scattergl\"}], \"scattermapbox\": [{\"marker\": {\"colorbar\": {\"outlinewidth\": 0, \"ticks\": \"\"}}, \"type\": \"scattermapbox\"}], \"scatterpolar\": [{\"marker\": {\"colorbar\": {\"outlinewidth\": 0, \"ticks\": \"\"}}, \"type\": \"scatterpolar\"}], \"scatterpolargl\": [{\"marker\": {\"colorbar\": {\"outlinewidth\": 0, \"ticks\": \"\"}}, \"type\": \"scatterpolargl\"}], \"scatterternary\": [{\"marker\": {\"colorbar\": {\"outlinewidth\": 0, \"ticks\": \"\"}}, \"type\": \"scatterternary\"}], \"surface\": [{\"colorbar\": {\"outlinewidth\": 0, \"ticks\": \"\"}, \"colorscale\": [[0.0, \"#0d0887\"], [0.1111111111111111, \"#46039f\"], [0.2222222222222222, \"#7201a8\"], [0.3333333333333333, \"#9c179e\"], [0.4444444444444444, \"#bd3786\"], [0.5555555555555556, \"#d8576b\"], [0.6666666666666666, \"#ed7953\"], [0.7777777777777778, \"#fb9f3a\"], [0.8888888888888888, \"#fdca26\"], [1.0, \"#f0f921\"]], \"type\": \"surface\"}], \"table\": [{\"cells\": {\"fill\": {\"color\": \"#EBF0F8\"}, \"line\": {\"color\": \"white\"}}, \"header\": {\"fill\": {\"color\": \"#C8D4E3\"}, \"line\": {\"color\": \"white\"}}, \"type\": \"table\"}]}, \"layout\": {\"annotationdefaults\": {\"arrowcolor\": \"#2a3f5f\", \"arrowhead\": 0, \"arrowwidth\": 1}, \"autotypenumbers\": \"strict\", \"coloraxis\": {\"colorbar\": {\"outlinewidth\": 0, \"ticks\": \"\"}}, \"colorscale\": {\"diverging\": [[0, \"#8e0152\"], [0.1, \"#c51b7d\"], [0.2, \"#de77ae\"], [0.3, \"#f1b6da\"], [0.4, \"#fde0ef\"], [0.5, \"#f7f7f7\"], [0.6, \"#e6f5d0\"], [0.7, \"#b8e186\"], [0.8, \"#7fbc41\"], [0.9, \"#4d9221\"], [1, \"#276419\"]], \"sequential\": [[0.0, \"#0d0887\"], [0.1111111111111111, \"#46039f\"], [0.2222222222222222, \"#7201a8\"], [0.3333333333333333, \"#9c179e\"], [0.4444444444444444, \"#bd3786\"], [0.5555555555555556, \"#d8576b\"], [0.6666666666666666, \"#ed7953\"], [0.7777777777777778, \"#fb9f3a\"], [0.8888888888888888, \"#fdca26\"], [1.0, \"#f0f921\"]], \"sequentialminus\": [[0.0, \"#0d0887\"], [0.1111111111111111, \"#46039f\"], [0.2222222222222222, \"#7201a8\"], [0.3333333333333333, \"#9c179e\"], [0.4444444444444444, \"#bd3786\"], [0.5555555555555556, \"#d8576b\"], [0.6666666666666666, \"#ed7953\"], [0.7777777777777778, \"#fb9f3a\"], [0.8888888888888888, \"#fdca26\"], [1.0, \"#f0f921\"]]}, \"colorway\": [\"#636efa\", \"#EF553B\", \"#00cc96\", \"#ab63fa\", \"#FFA15A\", \"#19d3f3\", \"#FF6692\", \"#B6E880\", \"#FF97FF\", \"#FECB52\"], \"font\": {\"color\": \"#2a3f5f\"}, \"geo\": {\"bgcolor\": \"white\", \"lakecolor\": \"white\", \"landcolor\": \"#E5ECF6\", \"showlakes\": true, \"showland\": true, \"subunitcolor\": \"white\"}, \"hoverlabel\": {\"align\": \"left\"}, \"hovermode\": \"closest\", \"mapbox\": {\"style\": \"light\"}, \"paper_bgcolor\": \"white\", \"plot_bgcolor\": \"#E5ECF6\", \"polar\": {\"angularaxis\": {\"gridcolor\": \"white\", \"linecolor\": \"white\", \"ticks\": \"\"}, \"bgcolor\": \"#E5ECF6\", \"radialaxis\": {\"gridcolor\": \"white\", \"linecolor\": \"white\", \"ticks\": \"\"}}, \"scene\": {\"xaxis\": {\"backgroundcolor\": \"#E5ECF6\", \"gridcolor\": \"white\", \"gridwidth\": 2, \"linecolor\": \"white\", \"showbackground\": true, \"ticks\": \"\", \"zerolinecolor\": \"white\"}, \"yaxis\": {\"backgroundcolor\": \"#E5ECF6\", \"gridcolor\": \"white\", \"gridwidth\": 2, \"linecolor\": \"white\", \"showbackground\": true, \"ticks\": \"\", \"zerolinecolor\": \"white\"}, \"zaxis\": {\"backgroundcolor\": \"#E5ECF6\", \"gridcolor\": \"white\", \"gridwidth\": 2, \"linecolor\": \"white\", \"showbackground\": true, \"ticks\": \"\", \"zerolinecolor\": \"white\"}}, \"shapedefaults\": {\"line\": {\"color\": \"#2a3f5f\"}}, \"ternary\": {\"aaxis\": {\"gridcolor\": \"white\", \"linecolor\": \"white\", \"ticks\": \"\"}, \"baxis\": {\"gridcolor\": \"white\", \"linecolor\": \"white\", \"ticks\": \"\"}, \"bgcolor\": \"#E5ECF6\", \"caxis\": {\"gridcolor\": \"white\", \"linecolor\": \"white\", \"ticks\": \"\"}}, \"title\": {\"x\": 0.05}, \"xaxis\": {\"automargin\": true, \"gridcolor\": \"white\", \"linecolor\": \"white\", \"ticks\": \"\", \"title\": {\"standoff\": 15}, \"zerolinecolor\": \"white\", \"zerolinewidth\": 2}, \"yaxis\": {\"automargin\": true, \"gridcolor\": \"white\", \"linecolor\": \"white\", \"ticks\": \"\", \"title\": {\"standoff\": 15}, \"zerolinecolor\": \"white\", \"zerolinewidth\": 2}}}, \"title\": {\"text\": \"Aggregation algorithm\"}, \"xaxis\": {\"title\": {\"text\": \"result_mv\"}}, \"yaxis\": {\"title\": {\"text\": \"result_david_skene\"}}},                        {\"responsive\": true}                    ).then(function(){\n",
       "                            \n",
       "var gd = document.getElementById('a131908a-3332-471b-85a0-47a9f6669355');\n",
       "var x = new MutationObserver(function (mutations, observer) {{\n",
       "        var display = window.getComputedStyle(gd).display;\n",
       "        if (!display || display === 'none') {{\n",
       "            console.log([gd, 'removed!']);\n",
       "            Plotly.purge(gd);\n",
       "            observer.disconnect();\n",
       "        }}\n",
       "}});\n",
       "\n",
       "// Listen for the removal of the full notebook cells\n",
       "var notebookContainer = gd.closest('#notebook-container');\n",
       "if (notebookContainer) {{\n",
       "    x.observe(notebookContainer, {childList: true});\n",
       "}}\n",
       "\n",
       "// Listen for the clearing of the current output cell\n",
       "var outputEl = gd.closest('.output');\n",
       "if (outputEl) {{\n",
       "    x.observe(outputEl, {childList: true});\n",
       "}}\n",
       "\n",
       "                        })                };                });            </script>        </div>"
      ]
     },
     "metadata": {},
     "output_type": "display_data"
    }
   ],
   "source": [
    "import plotly.graph_objects as go\n",
    "\n",
    "cnt = Counter((pair_of_answers[\"result_mv\"] + \"_\" + pair_of_answers[\"result_david_skene\"]))\n",
    "\n",
    "\n",
    "order_dict = {\n",
    "    \"stupid\": 1,\n",
    "    \"bad\": 2,\n",
    "    \"part\": 3,\n",
    "    \"good\": 4\n",
    "}\n",
    "\n",
    "x = []\n",
    "y = []\n",
    "size = []\n",
    "\n",
    "\n",
    "\n",
    "for key, val in cnt.items():\n",
    "    x.append(key.split(\"_\")[0])\n",
    "    y.append(key.split(\"_\")[1])\n",
    "    size.append(val)\n",
    "\n",
    "joined = list(zip(x, y, size))\n",
    "\n",
    "joined = sorted(joined, key = lambda x: order_dict[x[0]] * 10 + order_dict[x[1]] )\n",
    "\n",
    "x = np.array([item[0] for item in joined])\n",
    "y = np.array([item[1] for item in joined])\n",
    "size = np.array([item[2] for item in joined])\n",
    "\n",
    "\n",
    "fig = go.Figure(data=go.Scatter(\n",
    "    x=x,\n",
    "    y=y,\n",
    "    mode='markers',\n",
    "    marker=dict(size=size/10 + 2,\n",
    "                ),\n",
    "    text = size\n",
    "))\n",
    "layout = {\n",
    "        \"title\" : {\n",
    "            \"text\": \"Aggregation algorithm\",\n",
    "        },\n",
    "        \"xaxis_title\": \"result_mv\",\n",
    "        \"yaxis_title\": \"result_david_skene\",\n",
    "    }\n",
    "fig.update_layout(layout)\n",
    "fig.show()"
   ]
  },
  {
   "cell_type": "markdown",
   "metadata": {},
   "source": [
    "### Минимальная длинна 5"
   ]
  },
  {
   "cell_type": "code",
   "execution_count": 70,
   "metadata": {},
   "outputs": [
    {
     "data": {
      "text/html": [
       "<div>\n",
       "<style scoped>\n",
       "    .dataframe tbody tr th:only-of-type {\n",
       "        vertical-align: middle;\n",
       "    }\n",
       "\n",
       "    .dataframe tbody tr th {\n",
       "        vertical-align: top;\n",
       "    }\n",
       "\n",
       "    .dataframe thead th {\n",
       "        text-align: right;\n",
       "    }\n",
       "</style>\n",
       "<table border=\"1\" class=\"dataframe\">\n",
       "  <thead>\n",
       "    <tr style=\"text-align: right;\">\n",
       "      <th></th>\n",
       "      <th>metric</th>\n",
       "      <th>cntrl_value</th>\n",
       "      <th>test_value</th>\n",
       "      <th>diff</th>\n",
       "      <th>p_value</th>\n",
       "    </tr>\n",
       "  </thead>\n",
       "  <tbody>\n",
       "    <tr>\n",
       "      <th>0</th>\n",
       "      <td>Усреднеенная метрика по сессиям</td>\n",
       "      <td>0.512541</td>\n",
       "      <td>0.532351</td>\n",
       "      <td>0.019810</td>\n",
       "      <td>0.220268</td>\n",
       "    </tr>\n",
       "    <tr>\n",
       "      <th>1</th>\n",
       "      <td>Усреднеенная метрика по микро сессиям</td>\n",
       "      <td>0.524190</td>\n",
       "      <td>0.539966</td>\n",
       "      <td>0.015776</td>\n",
       "      <td>0.380570</td>\n",
       "    </tr>\n",
       "    <tr>\n",
       "      <th>2</th>\n",
       "      <td>Средняя энергия сессий</td>\n",
       "      <td>0.824601</td>\n",
       "      <td>0.848672</td>\n",
       "      <td>0.024071</td>\n",
       "      <td>0.360251</td>\n",
       "    </tr>\n",
       "    <tr>\n",
       "      <th>3</th>\n",
       "      <td>Согласованность</td>\n",
       "      <td>0.666103</td>\n",
       "      <td>NaN</td>\n",
       "      <td>NaN</td>\n",
       "      <td>NaN</td>\n",
       "    </tr>\n",
       "  </tbody>\n",
       "</table>\n",
       "</div>"
      ],
      "text/plain": [
       "                                  metric  cntrl_value  test_value      diff  \\\n",
       "0        Усреднеенная метрика по сессиям     0.512541    0.532351  0.019810   \n",
       "1  Усреднеенная метрика по микро сессиям     0.524190    0.539966  0.015776   \n",
       "2                 Средняя энергия сессий     0.824601    0.848672  0.024071   \n",
       "3                        Согласованность     0.666103         NaN       NaN   \n",
       "\n",
       "    p_value  \n",
       "0  0.220268  \n",
       "1  0.380570  \n",
       "2  0.360251  \n",
       "3       NaN  "
      ]
     },
     "execution_count": 70,
     "metadata": {},
     "output_type": "execute_result"
    }
   ],
   "source": [
    "\n",
    "\n",
    "res = make_report_table_for_exp_without_sampl('//home/voice/eliseevmax/tasks/EXPERIMENTS-73207/results_with_random_len_general_5',\n",
    "                               test_name = \"test_378112\",\n",
    "                               cntrl_name= \"cntrl_378111\"\n",
    "                               )\n",
    "res.to_csv(\"Отключение BERT\")\n",
    "res"
   ]
  },
  {
   "cell_type": "code",
   "execution_count": 71,
   "metadata": {},
   "outputs": [
    {
     "data": {
      "text/html": [
       "<div>\n",
       "<style scoped>\n",
       "    .dataframe tbody tr th:only-of-type {\n",
       "        vertical-align: middle;\n",
       "    }\n",
       "\n",
       "    .dataframe tbody tr th {\n",
       "        vertical-align: top;\n",
       "    }\n",
       "\n",
       "    .dataframe thead th {\n",
       "        text-align: right;\n",
       "    }\n",
       "</style>\n",
       "<table border=\"1\" class=\"dataframe\">\n",
       "  <thead>\n",
       "    <tr style=\"text-align: right;\">\n",
       "      <th></th>\n",
       "      <th>metric</th>\n",
       "      <th>cntrl_value</th>\n",
       "      <th>test_value</th>\n",
       "      <th>diff</th>\n",
       "      <th>p_value</th>\n",
       "    </tr>\n",
       "  </thead>\n",
       "  <tbody>\n",
       "    <tr>\n",
       "      <th>0</th>\n",
       "      <td>Усреднеенная метрика по сессиям</td>\n",
       "      <td>0.526320</td>\n",
       "      <td>0.542742</td>\n",
       "      <td>0.016423</td>\n",
       "      <td>0.207657</td>\n",
       "    </tr>\n",
       "    <tr>\n",
       "      <th>1</th>\n",
       "      <td>Усреднеенная метрика по микро сессиям</td>\n",
       "      <td>0.529969</td>\n",
       "      <td>0.541807</td>\n",
       "      <td>0.011838</td>\n",
       "      <td>0.224387</td>\n",
       "    </tr>\n",
       "    <tr>\n",
       "      <th>2</th>\n",
       "      <td>Средняя энергия сессий</td>\n",
       "      <td>0.880733</td>\n",
       "      <td>0.887579</td>\n",
       "      <td>0.006846</td>\n",
       "      <td>0.756219</td>\n",
       "    </tr>\n",
       "    <tr>\n",
       "      <th>3</th>\n",
       "      <td>Согласованность</td>\n",
       "      <td>0.737270</td>\n",
       "      <td>NaN</td>\n",
       "      <td>NaN</td>\n",
       "      <td>NaN</td>\n",
       "    </tr>\n",
       "  </tbody>\n",
       "</table>\n",
       "</div>"
      ],
      "text/plain": [
       "                                  metric  cntrl_value  test_value      diff  \\\n",
       "0        Усреднеенная метрика по сессиям     0.526320    0.542742  0.016423   \n",
       "1  Усреднеенная метрика по микро сессиям     0.529969    0.541807  0.011838   \n",
       "2                 Средняя энергия сессий     0.880733    0.887579  0.006846   \n",
       "3                        Согласованность     0.737270         NaN       NaN   \n",
       "\n",
       "    p_value  \n",
       "0  0.207657  \n",
       "1  0.224387  \n",
       "2  0.756219  \n",
       "3       NaN  "
      ]
     },
     "execution_count": 71,
     "metadata": {},
     "output_type": "execute_result"
    }
   ],
   "source": [
    "res = make_report_table_for_exp_without_sampl('//home/voice/eliseevmax/tasks/EXPERIMENTS-73207/results_with_random_len_general_5_dawid_skene',\n",
    "                               test_name = \"test_378112\",\n",
    "                               cntrl_name= \"cntrl_378111\"\n",
    "                               )\n",
    "res.to_csv(\"Отключение BERT\")\n",
    "res"
   ]
  },
  {
   "cell_type": "code",
   "execution_count": 72,
   "metadata": {},
   "outputs": [],
   "source": [
    "dawid_skene = pd.DataFrame(\n",
    "    client.read_table('//home/voice/eliseevmax/tasks/EXPERIMENTS-73207/results_with_random_len_general_5_dawid_skene', raw=False)\n",
    ")\n",
    "\n",
    "mv = pd.DataFrame(\n",
    "    client.read_table('//home/voice/eliseevmax/tasks/EXPERIMENTS-73207/results_with_random_len_general_5', raw=False)\n",
    ")\n",
    "\n",
    "pair_of_answers = dawid_skene.merge(\n",
    "    mv, on=\"session_id\", suffixes=[\"_david_skene\", \"_mv\"]\n",
    ")[[\"result_david_skene\", \"result_mv\"]]"
   ]
  },
  {
   "cell_type": "code",
   "execution_count": 73,
   "metadata": {},
   "outputs": [
    {
     "data": {
      "application/vnd.plotly.v1+json": {
       "config": {
        "plotlyServerURL": "https://plot.ly"
       },
       "data": [
        {
         "marker": {
          "size": [
           35.4,
           5.3,
           15.9,
           4.2,
           0.8,
           27.6,
           24.4,
           1.3,
           3.9,
           6.7,
           142.8,
           14.8,
           2.2,
           1.1,
           25.6,
           42.9
          ]
         },
         "mode": "markers",
         "text": [
          354,
          53,
          159,
          42,
          8,
          276,
          244,
          13,
          39,
          67,
          1428,
          148,
          22,
          11,
          256,
          429
         ],
         "type": "scatter",
         "x": [
          "stupid",
          "stupid",
          "stupid",
          "stupid",
          "bad",
          "bad",
          "bad",
          "bad",
          "part",
          "part",
          "part",
          "part",
          "good",
          "good",
          "good",
          "good"
         ],
         "y": [
          "stupid",
          "bad",
          "part",
          "good",
          "stupid",
          "bad",
          "part",
          "good",
          "stupid",
          "bad",
          "part",
          "good",
          "stupid",
          "bad",
          "part",
          "good"
         ]
        }
       ],
       "layout": {
        "template": {
         "data": {
          "bar": [
           {
            "error_x": {
             "color": "#2a3f5f"
            },
            "error_y": {
             "color": "#2a3f5f"
            },
            "marker": {
             "line": {
              "color": "#E5ECF6",
              "width": 0.5
             }
            },
            "type": "bar"
           }
          ],
          "barpolar": [
           {
            "marker": {
             "line": {
              "color": "#E5ECF6",
              "width": 0.5
             }
            },
            "type": "barpolar"
           }
          ],
          "carpet": [
           {
            "aaxis": {
             "endlinecolor": "#2a3f5f",
             "gridcolor": "white",
             "linecolor": "white",
             "minorgridcolor": "white",
             "startlinecolor": "#2a3f5f"
            },
            "baxis": {
             "endlinecolor": "#2a3f5f",
             "gridcolor": "white",
             "linecolor": "white",
             "minorgridcolor": "white",
             "startlinecolor": "#2a3f5f"
            },
            "type": "carpet"
           }
          ],
          "choropleth": [
           {
            "colorbar": {
             "outlinewidth": 0,
             "ticks": ""
            },
            "type": "choropleth"
           }
          ],
          "contour": [
           {
            "colorbar": {
             "outlinewidth": 0,
             "ticks": ""
            },
            "colorscale": [
             [
              0,
              "#0d0887"
             ],
             [
              0.1111111111111111,
              "#46039f"
             ],
             [
              0.2222222222222222,
              "#7201a8"
             ],
             [
              0.3333333333333333,
              "#9c179e"
             ],
             [
              0.4444444444444444,
              "#bd3786"
             ],
             [
              0.5555555555555556,
              "#d8576b"
             ],
             [
              0.6666666666666666,
              "#ed7953"
             ],
             [
              0.7777777777777778,
              "#fb9f3a"
             ],
             [
              0.8888888888888888,
              "#fdca26"
             ],
             [
              1,
              "#f0f921"
             ]
            ],
            "type": "contour"
           }
          ],
          "contourcarpet": [
           {
            "colorbar": {
             "outlinewidth": 0,
             "ticks": ""
            },
            "type": "contourcarpet"
           }
          ],
          "heatmap": [
           {
            "colorbar": {
             "outlinewidth": 0,
             "ticks": ""
            },
            "colorscale": [
             [
              0,
              "#0d0887"
             ],
             [
              0.1111111111111111,
              "#46039f"
             ],
             [
              0.2222222222222222,
              "#7201a8"
             ],
             [
              0.3333333333333333,
              "#9c179e"
             ],
             [
              0.4444444444444444,
              "#bd3786"
             ],
             [
              0.5555555555555556,
              "#d8576b"
             ],
             [
              0.6666666666666666,
              "#ed7953"
             ],
             [
              0.7777777777777778,
              "#fb9f3a"
             ],
             [
              0.8888888888888888,
              "#fdca26"
             ],
             [
              1,
              "#f0f921"
             ]
            ],
            "type": "heatmap"
           }
          ],
          "heatmapgl": [
           {
            "colorbar": {
             "outlinewidth": 0,
             "ticks": ""
            },
            "colorscale": [
             [
              0,
              "#0d0887"
             ],
             [
              0.1111111111111111,
              "#46039f"
             ],
             [
              0.2222222222222222,
              "#7201a8"
             ],
             [
              0.3333333333333333,
              "#9c179e"
             ],
             [
              0.4444444444444444,
              "#bd3786"
             ],
             [
              0.5555555555555556,
              "#d8576b"
             ],
             [
              0.6666666666666666,
              "#ed7953"
             ],
             [
              0.7777777777777778,
              "#fb9f3a"
             ],
             [
              0.8888888888888888,
              "#fdca26"
             ],
             [
              1,
              "#f0f921"
             ]
            ],
            "type": "heatmapgl"
           }
          ],
          "histogram": [
           {
            "marker": {
             "colorbar": {
              "outlinewidth": 0,
              "ticks": ""
             }
            },
            "type": "histogram"
           }
          ],
          "histogram2d": [
           {
            "colorbar": {
             "outlinewidth": 0,
             "ticks": ""
            },
            "colorscale": [
             [
              0,
              "#0d0887"
             ],
             [
              0.1111111111111111,
              "#46039f"
             ],
             [
              0.2222222222222222,
              "#7201a8"
             ],
             [
              0.3333333333333333,
              "#9c179e"
             ],
             [
              0.4444444444444444,
              "#bd3786"
             ],
             [
              0.5555555555555556,
              "#d8576b"
             ],
             [
              0.6666666666666666,
              "#ed7953"
             ],
             [
              0.7777777777777778,
              "#fb9f3a"
             ],
             [
              0.8888888888888888,
              "#fdca26"
             ],
             [
              1,
              "#f0f921"
             ]
            ],
            "type": "histogram2d"
           }
          ],
          "histogram2dcontour": [
           {
            "colorbar": {
             "outlinewidth": 0,
             "ticks": ""
            },
            "colorscale": [
             [
              0,
              "#0d0887"
             ],
             [
              0.1111111111111111,
              "#46039f"
             ],
             [
              0.2222222222222222,
              "#7201a8"
             ],
             [
              0.3333333333333333,
              "#9c179e"
             ],
             [
              0.4444444444444444,
              "#bd3786"
             ],
             [
              0.5555555555555556,
              "#d8576b"
             ],
             [
              0.6666666666666666,
              "#ed7953"
             ],
             [
              0.7777777777777778,
              "#fb9f3a"
             ],
             [
              0.8888888888888888,
              "#fdca26"
             ],
             [
              1,
              "#f0f921"
             ]
            ],
            "type": "histogram2dcontour"
           }
          ],
          "mesh3d": [
           {
            "colorbar": {
             "outlinewidth": 0,
             "ticks": ""
            },
            "type": "mesh3d"
           }
          ],
          "parcoords": [
           {
            "line": {
             "colorbar": {
              "outlinewidth": 0,
              "ticks": ""
             }
            },
            "type": "parcoords"
           }
          ],
          "pie": [
           {
            "automargin": true,
            "type": "pie"
           }
          ],
          "scatter": [
           {
            "marker": {
             "colorbar": {
              "outlinewidth": 0,
              "ticks": ""
             }
            },
            "type": "scatter"
           }
          ],
          "scatter3d": [
           {
            "line": {
             "colorbar": {
              "outlinewidth": 0,
              "ticks": ""
             }
            },
            "marker": {
             "colorbar": {
              "outlinewidth": 0,
              "ticks": ""
             }
            },
            "type": "scatter3d"
           }
          ],
          "scattercarpet": [
           {
            "marker": {
             "colorbar": {
              "outlinewidth": 0,
              "ticks": ""
             }
            },
            "type": "scattercarpet"
           }
          ],
          "scattergeo": [
           {
            "marker": {
             "colorbar": {
              "outlinewidth": 0,
              "ticks": ""
             }
            },
            "type": "scattergeo"
           }
          ],
          "scattergl": [
           {
            "marker": {
             "colorbar": {
              "outlinewidth": 0,
              "ticks": ""
             }
            },
            "type": "scattergl"
           }
          ],
          "scattermapbox": [
           {
            "marker": {
             "colorbar": {
              "outlinewidth": 0,
              "ticks": ""
             }
            },
            "type": "scattermapbox"
           }
          ],
          "scatterpolar": [
           {
            "marker": {
             "colorbar": {
              "outlinewidth": 0,
              "ticks": ""
             }
            },
            "type": "scatterpolar"
           }
          ],
          "scatterpolargl": [
           {
            "marker": {
             "colorbar": {
              "outlinewidth": 0,
              "ticks": ""
             }
            },
            "type": "scatterpolargl"
           }
          ],
          "scatterternary": [
           {
            "marker": {
             "colorbar": {
              "outlinewidth": 0,
              "ticks": ""
             }
            },
            "type": "scatterternary"
           }
          ],
          "surface": [
           {
            "colorbar": {
             "outlinewidth": 0,
             "ticks": ""
            },
            "colorscale": [
             [
              0,
              "#0d0887"
             ],
             [
              0.1111111111111111,
              "#46039f"
             ],
             [
              0.2222222222222222,
              "#7201a8"
             ],
             [
              0.3333333333333333,
              "#9c179e"
             ],
             [
              0.4444444444444444,
              "#bd3786"
             ],
             [
              0.5555555555555556,
              "#d8576b"
             ],
             [
              0.6666666666666666,
              "#ed7953"
             ],
             [
              0.7777777777777778,
              "#fb9f3a"
             ],
             [
              0.8888888888888888,
              "#fdca26"
             ],
             [
              1,
              "#f0f921"
             ]
            ],
            "type": "surface"
           }
          ],
          "table": [
           {
            "cells": {
             "fill": {
              "color": "#EBF0F8"
             },
             "line": {
              "color": "white"
             }
            },
            "header": {
             "fill": {
              "color": "#C8D4E3"
             },
             "line": {
              "color": "white"
             }
            },
            "type": "table"
           }
          ]
         },
         "layout": {
          "annotationdefaults": {
           "arrowcolor": "#2a3f5f",
           "arrowhead": 0,
           "arrowwidth": 1
          },
          "autotypenumbers": "strict",
          "coloraxis": {
           "colorbar": {
            "outlinewidth": 0,
            "ticks": ""
           }
          },
          "colorscale": {
           "diverging": [
            [
             0,
             "#8e0152"
            ],
            [
             0.1,
             "#c51b7d"
            ],
            [
             0.2,
             "#de77ae"
            ],
            [
             0.3,
             "#f1b6da"
            ],
            [
             0.4,
             "#fde0ef"
            ],
            [
             0.5,
             "#f7f7f7"
            ],
            [
             0.6,
             "#e6f5d0"
            ],
            [
             0.7,
             "#b8e186"
            ],
            [
             0.8,
             "#7fbc41"
            ],
            [
             0.9,
             "#4d9221"
            ],
            [
             1,
             "#276419"
            ]
           ],
           "sequential": [
            [
             0,
             "#0d0887"
            ],
            [
             0.1111111111111111,
             "#46039f"
            ],
            [
             0.2222222222222222,
             "#7201a8"
            ],
            [
             0.3333333333333333,
             "#9c179e"
            ],
            [
             0.4444444444444444,
             "#bd3786"
            ],
            [
             0.5555555555555556,
             "#d8576b"
            ],
            [
             0.6666666666666666,
             "#ed7953"
            ],
            [
             0.7777777777777778,
             "#fb9f3a"
            ],
            [
             0.8888888888888888,
             "#fdca26"
            ],
            [
             1,
             "#f0f921"
            ]
           ],
           "sequentialminus": [
            [
             0,
             "#0d0887"
            ],
            [
             0.1111111111111111,
             "#46039f"
            ],
            [
             0.2222222222222222,
             "#7201a8"
            ],
            [
             0.3333333333333333,
             "#9c179e"
            ],
            [
             0.4444444444444444,
             "#bd3786"
            ],
            [
             0.5555555555555556,
             "#d8576b"
            ],
            [
             0.6666666666666666,
             "#ed7953"
            ],
            [
             0.7777777777777778,
             "#fb9f3a"
            ],
            [
             0.8888888888888888,
             "#fdca26"
            ],
            [
             1,
             "#f0f921"
            ]
           ]
          },
          "colorway": [
           "#636efa",
           "#EF553B",
           "#00cc96",
           "#ab63fa",
           "#FFA15A",
           "#19d3f3",
           "#FF6692",
           "#B6E880",
           "#FF97FF",
           "#FECB52"
          ],
          "font": {
           "color": "#2a3f5f"
          },
          "geo": {
           "bgcolor": "white",
           "lakecolor": "white",
           "landcolor": "#E5ECF6",
           "showlakes": true,
           "showland": true,
           "subunitcolor": "white"
          },
          "hoverlabel": {
           "align": "left"
          },
          "hovermode": "closest",
          "mapbox": {
           "style": "light"
          },
          "paper_bgcolor": "white",
          "plot_bgcolor": "#E5ECF6",
          "polar": {
           "angularaxis": {
            "gridcolor": "white",
            "linecolor": "white",
            "ticks": ""
           },
           "bgcolor": "#E5ECF6",
           "radialaxis": {
            "gridcolor": "white",
            "linecolor": "white",
            "ticks": ""
           }
          },
          "scene": {
           "xaxis": {
            "backgroundcolor": "#E5ECF6",
            "gridcolor": "white",
            "gridwidth": 2,
            "linecolor": "white",
            "showbackground": true,
            "ticks": "",
            "zerolinecolor": "white"
           },
           "yaxis": {
            "backgroundcolor": "#E5ECF6",
            "gridcolor": "white",
            "gridwidth": 2,
            "linecolor": "white",
            "showbackground": true,
            "ticks": "",
            "zerolinecolor": "white"
           },
           "zaxis": {
            "backgroundcolor": "#E5ECF6",
            "gridcolor": "white",
            "gridwidth": 2,
            "linecolor": "white",
            "showbackground": true,
            "ticks": "",
            "zerolinecolor": "white"
           }
          },
          "shapedefaults": {
           "line": {
            "color": "#2a3f5f"
           }
          },
          "ternary": {
           "aaxis": {
            "gridcolor": "white",
            "linecolor": "white",
            "ticks": ""
           },
           "baxis": {
            "gridcolor": "white",
            "linecolor": "white",
            "ticks": ""
           },
           "bgcolor": "#E5ECF6",
           "caxis": {
            "gridcolor": "white",
            "linecolor": "white",
            "ticks": ""
           }
          },
          "title": {
           "x": 0.05
          },
          "xaxis": {
           "automargin": true,
           "gridcolor": "white",
           "linecolor": "white",
           "ticks": "",
           "title": {
            "standoff": 15
           },
           "zerolinecolor": "white",
           "zerolinewidth": 2
          },
          "yaxis": {
           "automargin": true,
           "gridcolor": "white",
           "linecolor": "white",
           "ticks": "",
           "title": {
            "standoff": 15
           },
           "zerolinecolor": "white",
           "zerolinewidth": 2
          }
         }
        },
        "title": {
         "text": "Aggregation algorithm"
        },
        "xaxis": {
         "title": {
          "text": "result_mv"
         }
        },
        "yaxis": {
         "title": {
          "text": "result_david_skene"
         }
        }
       }
      },
      "text/html": [
       "<div>                            <div id=\"386b0c5b-c7f1-4c36-aed5-04478ebcaf5f\" class=\"plotly-graph-div\" style=\"height:525px; width:100%;\"></div>            <script type=\"text/javascript\">                require([\"plotly\"], function(Plotly) {                    window.PLOTLYENV=window.PLOTLYENV || {};                                    if (document.getElementById(\"386b0c5b-c7f1-4c36-aed5-04478ebcaf5f\")) {                    Plotly.newPlot(                        \"386b0c5b-c7f1-4c36-aed5-04478ebcaf5f\",                        [{\"marker\": {\"size\": [35.4, 5.3, 15.9, 4.2, 0.8, 27.6, 24.4, 1.3, 3.9, 6.7, 142.8, 14.8, 2.2, 1.1, 25.6, 42.9]}, \"mode\": \"markers\", \"text\": [354.0, 53.0, 159.0, 42.0, 8.0, 276.0, 244.0, 13.0, 39.0, 67.0, 1428.0, 148.0, 22.0, 11.0, 256.0, 429.0], \"type\": \"scatter\", \"x\": [\"stupid\", \"stupid\", \"stupid\", \"stupid\", \"bad\", \"bad\", \"bad\", \"bad\", \"part\", \"part\", \"part\", \"part\", \"good\", \"good\", \"good\", \"good\"], \"y\": [\"stupid\", \"bad\", \"part\", \"good\", \"stupid\", \"bad\", \"part\", \"good\", \"stupid\", \"bad\", \"part\", \"good\", \"stupid\", \"bad\", \"part\", \"good\"]}],                        {\"template\": {\"data\": {\"bar\": [{\"error_x\": {\"color\": \"#2a3f5f\"}, \"error_y\": {\"color\": \"#2a3f5f\"}, \"marker\": {\"line\": {\"color\": \"#E5ECF6\", \"width\": 0.5}}, \"type\": \"bar\"}], \"barpolar\": [{\"marker\": {\"line\": {\"color\": \"#E5ECF6\", \"width\": 0.5}}, \"type\": \"barpolar\"}], \"carpet\": [{\"aaxis\": {\"endlinecolor\": \"#2a3f5f\", \"gridcolor\": \"white\", \"linecolor\": \"white\", \"minorgridcolor\": \"white\", \"startlinecolor\": \"#2a3f5f\"}, \"baxis\": {\"endlinecolor\": \"#2a3f5f\", \"gridcolor\": \"white\", \"linecolor\": \"white\", \"minorgridcolor\": \"white\", \"startlinecolor\": \"#2a3f5f\"}, \"type\": \"carpet\"}], \"choropleth\": [{\"colorbar\": {\"outlinewidth\": 0, \"ticks\": \"\"}, \"type\": \"choropleth\"}], \"contour\": [{\"colorbar\": {\"outlinewidth\": 0, \"ticks\": \"\"}, \"colorscale\": [[0.0, \"#0d0887\"], [0.1111111111111111, \"#46039f\"], [0.2222222222222222, \"#7201a8\"], [0.3333333333333333, \"#9c179e\"], [0.4444444444444444, \"#bd3786\"], [0.5555555555555556, \"#d8576b\"], [0.6666666666666666, \"#ed7953\"], [0.7777777777777778, \"#fb9f3a\"], [0.8888888888888888, \"#fdca26\"], [1.0, \"#f0f921\"]], \"type\": \"contour\"}], \"contourcarpet\": [{\"colorbar\": {\"outlinewidth\": 0, \"ticks\": \"\"}, \"type\": \"contourcarpet\"}], \"heatmap\": [{\"colorbar\": {\"outlinewidth\": 0, \"ticks\": \"\"}, \"colorscale\": [[0.0, \"#0d0887\"], [0.1111111111111111, \"#46039f\"], [0.2222222222222222, \"#7201a8\"], [0.3333333333333333, \"#9c179e\"], [0.4444444444444444, \"#bd3786\"], [0.5555555555555556, \"#d8576b\"], [0.6666666666666666, \"#ed7953\"], [0.7777777777777778, \"#fb9f3a\"], [0.8888888888888888, \"#fdca26\"], [1.0, \"#f0f921\"]], \"type\": \"heatmap\"}], \"heatmapgl\": [{\"colorbar\": {\"outlinewidth\": 0, \"ticks\": \"\"}, \"colorscale\": [[0.0, \"#0d0887\"], [0.1111111111111111, \"#46039f\"], [0.2222222222222222, \"#7201a8\"], [0.3333333333333333, \"#9c179e\"], [0.4444444444444444, \"#bd3786\"], [0.5555555555555556, \"#d8576b\"], [0.6666666666666666, \"#ed7953\"], [0.7777777777777778, \"#fb9f3a\"], [0.8888888888888888, \"#fdca26\"], [1.0, \"#f0f921\"]], \"type\": \"heatmapgl\"}], \"histogram\": [{\"marker\": {\"colorbar\": {\"outlinewidth\": 0, \"ticks\": \"\"}}, \"type\": \"histogram\"}], \"histogram2d\": [{\"colorbar\": {\"outlinewidth\": 0, \"ticks\": \"\"}, \"colorscale\": [[0.0, \"#0d0887\"], [0.1111111111111111, \"#46039f\"], [0.2222222222222222, \"#7201a8\"], [0.3333333333333333, \"#9c179e\"], [0.4444444444444444, \"#bd3786\"], [0.5555555555555556, \"#d8576b\"], [0.6666666666666666, \"#ed7953\"], [0.7777777777777778, \"#fb9f3a\"], [0.8888888888888888, \"#fdca26\"], [1.0, \"#f0f921\"]], \"type\": \"histogram2d\"}], \"histogram2dcontour\": [{\"colorbar\": {\"outlinewidth\": 0, \"ticks\": \"\"}, \"colorscale\": [[0.0, \"#0d0887\"], [0.1111111111111111, \"#46039f\"], [0.2222222222222222, \"#7201a8\"], [0.3333333333333333, \"#9c179e\"], [0.4444444444444444, \"#bd3786\"], [0.5555555555555556, \"#d8576b\"], [0.6666666666666666, \"#ed7953\"], [0.7777777777777778, \"#fb9f3a\"], [0.8888888888888888, \"#fdca26\"], [1.0, \"#f0f921\"]], \"type\": \"histogram2dcontour\"}], \"mesh3d\": [{\"colorbar\": {\"outlinewidth\": 0, \"ticks\": \"\"}, \"type\": \"mesh3d\"}], \"parcoords\": [{\"line\": {\"colorbar\": {\"outlinewidth\": 0, \"ticks\": \"\"}}, \"type\": \"parcoords\"}], \"pie\": [{\"automargin\": true, \"type\": \"pie\"}], \"scatter\": [{\"marker\": {\"colorbar\": {\"outlinewidth\": 0, \"ticks\": \"\"}}, \"type\": \"scatter\"}], \"scatter3d\": [{\"line\": {\"colorbar\": {\"outlinewidth\": 0, \"ticks\": \"\"}}, \"marker\": {\"colorbar\": {\"outlinewidth\": 0, \"ticks\": \"\"}}, \"type\": \"scatter3d\"}], \"scattercarpet\": [{\"marker\": {\"colorbar\": {\"outlinewidth\": 0, \"ticks\": \"\"}}, \"type\": \"scattercarpet\"}], \"scattergeo\": [{\"marker\": {\"colorbar\": {\"outlinewidth\": 0, \"ticks\": \"\"}}, \"type\": \"scattergeo\"}], \"scattergl\": [{\"marker\": {\"colorbar\": {\"outlinewidth\": 0, \"ticks\": \"\"}}, \"type\": \"scattergl\"}], \"scattermapbox\": [{\"marker\": {\"colorbar\": {\"outlinewidth\": 0, \"ticks\": \"\"}}, \"type\": \"scattermapbox\"}], \"scatterpolar\": [{\"marker\": {\"colorbar\": {\"outlinewidth\": 0, \"ticks\": \"\"}}, \"type\": \"scatterpolar\"}], \"scatterpolargl\": [{\"marker\": {\"colorbar\": {\"outlinewidth\": 0, \"ticks\": \"\"}}, \"type\": \"scatterpolargl\"}], \"scatterternary\": [{\"marker\": {\"colorbar\": {\"outlinewidth\": 0, \"ticks\": \"\"}}, \"type\": \"scatterternary\"}], \"surface\": [{\"colorbar\": {\"outlinewidth\": 0, \"ticks\": \"\"}, \"colorscale\": [[0.0, \"#0d0887\"], [0.1111111111111111, \"#46039f\"], [0.2222222222222222, \"#7201a8\"], [0.3333333333333333, \"#9c179e\"], [0.4444444444444444, \"#bd3786\"], [0.5555555555555556, \"#d8576b\"], [0.6666666666666666, \"#ed7953\"], [0.7777777777777778, \"#fb9f3a\"], [0.8888888888888888, \"#fdca26\"], [1.0, \"#f0f921\"]], \"type\": \"surface\"}], \"table\": [{\"cells\": {\"fill\": {\"color\": \"#EBF0F8\"}, \"line\": {\"color\": \"white\"}}, \"header\": {\"fill\": {\"color\": \"#C8D4E3\"}, \"line\": {\"color\": \"white\"}}, \"type\": \"table\"}]}, \"layout\": {\"annotationdefaults\": {\"arrowcolor\": \"#2a3f5f\", \"arrowhead\": 0, \"arrowwidth\": 1}, \"autotypenumbers\": \"strict\", \"coloraxis\": {\"colorbar\": {\"outlinewidth\": 0, \"ticks\": \"\"}}, \"colorscale\": {\"diverging\": [[0, \"#8e0152\"], [0.1, \"#c51b7d\"], [0.2, \"#de77ae\"], [0.3, \"#f1b6da\"], [0.4, \"#fde0ef\"], [0.5, \"#f7f7f7\"], [0.6, \"#e6f5d0\"], [0.7, \"#b8e186\"], [0.8, \"#7fbc41\"], [0.9, \"#4d9221\"], [1, \"#276419\"]], \"sequential\": [[0.0, \"#0d0887\"], [0.1111111111111111, \"#46039f\"], [0.2222222222222222, \"#7201a8\"], [0.3333333333333333, \"#9c179e\"], [0.4444444444444444, \"#bd3786\"], [0.5555555555555556, \"#d8576b\"], [0.6666666666666666, \"#ed7953\"], [0.7777777777777778, \"#fb9f3a\"], [0.8888888888888888, \"#fdca26\"], [1.0, \"#f0f921\"]], \"sequentialminus\": [[0.0, \"#0d0887\"], [0.1111111111111111, \"#46039f\"], [0.2222222222222222, \"#7201a8\"], [0.3333333333333333, \"#9c179e\"], [0.4444444444444444, \"#bd3786\"], [0.5555555555555556, \"#d8576b\"], [0.6666666666666666, \"#ed7953\"], [0.7777777777777778, \"#fb9f3a\"], [0.8888888888888888, \"#fdca26\"], [1.0, \"#f0f921\"]]}, \"colorway\": [\"#636efa\", \"#EF553B\", \"#00cc96\", \"#ab63fa\", \"#FFA15A\", \"#19d3f3\", \"#FF6692\", \"#B6E880\", \"#FF97FF\", \"#FECB52\"], \"font\": {\"color\": \"#2a3f5f\"}, \"geo\": {\"bgcolor\": \"white\", \"lakecolor\": \"white\", \"landcolor\": \"#E5ECF6\", \"showlakes\": true, \"showland\": true, \"subunitcolor\": \"white\"}, \"hoverlabel\": {\"align\": \"left\"}, \"hovermode\": \"closest\", \"mapbox\": {\"style\": \"light\"}, \"paper_bgcolor\": \"white\", \"plot_bgcolor\": \"#E5ECF6\", \"polar\": {\"angularaxis\": {\"gridcolor\": \"white\", \"linecolor\": \"white\", \"ticks\": \"\"}, \"bgcolor\": \"#E5ECF6\", \"radialaxis\": {\"gridcolor\": \"white\", \"linecolor\": \"white\", \"ticks\": \"\"}}, \"scene\": {\"xaxis\": {\"backgroundcolor\": \"#E5ECF6\", \"gridcolor\": \"white\", \"gridwidth\": 2, \"linecolor\": \"white\", \"showbackground\": true, \"ticks\": \"\", \"zerolinecolor\": \"white\"}, \"yaxis\": {\"backgroundcolor\": \"#E5ECF6\", \"gridcolor\": \"white\", \"gridwidth\": 2, \"linecolor\": \"white\", \"showbackground\": true, \"ticks\": \"\", \"zerolinecolor\": \"white\"}, \"zaxis\": {\"backgroundcolor\": \"#E5ECF6\", \"gridcolor\": \"white\", \"gridwidth\": 2, \"linecolor\": \"white\", \"showbackground\": true, \"ticks\": \"\", \"zerolinecolor\": \"white\"}}, \"shapedefaults\": {\"line\": {\"color\": \"#2a3f5f\"}}, \"ternary\": {\"aaxis\": {\"gridcolor\": \"white\", \"linecolor\": \"white\", \"ticks\": \"\"}, \"baxis\": {\"gridcolor\": \"white\", \"linecolor\": \"white\", \"ticks\": \"\"}, \"bgcolor\": \"#E5ECF6\", \"caxis\": {\"gridcolor\": \"white\", \"linecolor\": \"white\", \"ticks\": \"\"}}, \"title\": {\"x\": 0.05}, \"xaxis\": {\"automargin\": true, \"gridcolor\": \"white\", \"linecolor\": \"white\", \"ticks\": \"\", \"title\": {\"standoff\": 15}, \"zerolinecolor\": \"white\", \"zerolinewidth\": 2}, \"yaxis\": {\"automargin\": true, \"gridcolor\": \"white\", \"linecolor\": \"white\", \"ticks\": \"\", \"title\": {\"standoff\": 15}, \"zerolinecolor\": \"white\", \"zerolinewidth\": 2}}}, \"title\": {\"text\": \"Aggregation algorithm\"}, \"xaxis\": {\"title\": {\"text\": \"result_mv\"}}, \"yaxis\": {\"title\": {\"text\": \"result_david_skene\"}}},                        {\"responsive\": true}                    ).then(function(){\n",
       "                            \n",
       "var gd = document.getElementById('386b0c5b-c7f1-4c36-aed5-04478ebcaf5f');\n",
       "var x = new MutationObserver(function (mutations, observer) {{\n",
       "        var display = window.getComputedStyle(gd).display;\n",
       "        if (!display || display === 'none') {{\n",
       "            console.log([gd, 'removed!']);\n",
       "            Plotly.purge(gd);\n",
       "            observer.disconnect();\n",
       "        }}\n",
       "}});\n",
       "\n",
       "// Listen for the removal of the full notebook cells\n",
       "var notebookContainer = gd.closest('#notebook-container');\n",
       "if (notebookContainer) {{\n",
       "    x.observe(notebookContainer, {childList: true});\n",
       "}}\n",
       "\n",
       "// Listen for the clearing of the current output cell\n",
       "var outputEl = gd.closest('.output');\n",
       "if (outputEl) {{\n",
       "    x.observe(outputEl, {childList: true});\n",
       "}}\n",
       "\n",
       "                        })                };                });            </script>        </div>"
      ]
     },
     "metadata": {},
     "output_type": "display_data"
    }
   ],
   "source": [
    "import plotly.graph_objects as go\n",
    "\n",
    "cnt = Counter((pair_of_answers[\"result_mv\"] + \"_\" + pair_of_answers[\"result_david_skene\"]))\n",
    "\n",
    "\n",
    "order_dict = {\n",
    "    \"stupid\": 1,\n",
    "    \"bad\": 2,\n",
    "    \"part\": 3,\n",
    "    \"good\": 4\n",
    "}\n",
    "\n",
    "x = []\n",
    "y = []\n",
    "size = []\n",
    "\n",
    "\n",
    "\n",
    "for key, val in cnt.items():\n",
    "    x.append(key.split(\"_\")[0])\n",
    "    y.append(key.split(\"_\")[1])\n",
    "    size.append(val)\n",
    "\n",
    "joined = list(zip(x, y, size))\n",
    "\n",
    "joined = sorted(joined, key = lambda x: order_dict[x[0]] * 10 + order_dict[x[1]] )\n",
    "\n",
    "x = np.array([item[0] for item in joined])\n",
    "y = np.array([item[1] for item in joined])\n",
    "size = np.array([item[2] for item in joined])\n",
    "\n",
    "\n",
    "fig = go.Figure(data=go.Scatter(\n",
    "    x=x,\n",
    "    y=y,\n",
    "    mode='markers',\n",
    "    marker=dict(size=size/10,\n",
    "                ),\n",
    "    text = size\n",
    "))\n",
    "layout = {\n",
    "        \"title\" : {\n",
    "            \"text\": \"Aggregation algorithm\",\n",
    "        },\n",
    "        \"xaxis_title\": \"result_mv\",\n",
    "        \"yaxis_title\": \"result_david_skene\",\n",
    "    }\n",
    "fig.update_layout(layout)\n",
    "fig.show()"
   ]
  },
  {
   "cell_type": "markdown",
   "metadata": {},
   "source": [
    "# Гениальная болталка"
   ]
  },
  {
   "cell_type": "code",
   "execution_count": 228,
   "metadata": {},
   "outputs": [],
   "source": [
    "# //home/voice/ilnur/tasks/EXPERIMENTS-81406/extract_result_2_portions"
   ]
  },
  {
   "cell_type": "code",
   "execution_count": 229,
   "metadata": {},
   "outputs": [
    {
     "name": "stdout",
     "output_type": "stream",
     "text": [
      "pvalue=0.026, effect=-0.037, ctrl metric = 0.595, test_metric = 0.573, cnt = 200\n",
      "\n"
     ]
    },
    {
     "data": {
      "image/png": "[encoded data removed]",
      "text/plain": [
       "<Figure size 432x288 with 1 Axes>"
      ]
     },
     "metadata": {
      "needs_background": "light"
     },
     "output_type": "display_data"
    }
   ],
   "source": [
    "process_exp('//home/voice/ilnur/tasks/EXPERIMENTS-81406/extract_result_2_portions', portion=None, calc_metric=calc_metric_avg, alpha=0.0);"
   ]
  },
  {
   "cell_type": "code",
   "execution_count": 267,
   "metadata": {},
   "outputs": [
    {
     "name": "stdout",
     "output_type": "stream",
     "text": [
      "pvalue=0.761, effect=0.054, ctrl metric = 0.671, test_metric = 0.707, cnt = 47\n",
      "\n"
     ]
    },
    {
     "data": {
      "image/png": "[encoded data removed]",
      "text/plain": [
       "<Figure size 432x288 with 1 Axes>"
      ]
     },
     "metadata": {
      "needs_background": "light"
     },
     "output_type": "display_data"
    },
    {
     "data": {
      "text/plain": [
       "{'p_value': 0.7606924290114268,\n",
       " 'cntr_value': 0.6706349206349207,\n",
       " 'test_value': 0.7067307692307693}"
      ]
     },
     "execution_count": 267,
     "metadata": {},
     "output_type": "execute_result"
    }
   ],
   "source": [
    "process_exp('//home/voice/ilnur/tasks/EXPERIMENTS-81406/extract_result_2_portions', \n",
    "                      portion=None, calc_metric=calc_metric_avg, alpha=0, beta=1)"
   ]
  },
  {
   "cell_type": "code",
   "execution_count": 280,
   "metadata": {},
   "outputs": [
    {
     "data": {
      "application/vnd.jupyter.widget-view+json": {
       "model_id": "957910f901c94d7f8c19827fa744fa6b",
       "version_major": 2,
       "version_minor": 0
      },
      "text/plain": [
       "  0%|          | 0/20 [00:00<?, ?it/s]"
      ]
     },
     "metadata": {},
     "output_type": "display_data"
    },
    {
     "data": {
      "image/png": "[encoded data removed]",
      "text/plain": [
       "<Figure size 432x288 with 1 Axes>"
      ]
     },
     "metadata": {
      "needs_background": "light"
     },
     "output_type": "display_data"
    },
    {
     "data": {
      "image/png": "[encoded data removed]",
      "text/plain": [
       "<Figure size 432x288 with 1 Axes>"
      ]
     },
     "metadata": {
      "needs_background": "light"
     },
     "output_type": "display_data"
    }
   ],
   "source": [
    "betas = np.logspace(0, 4, 20)\n",
    "p_values = []\n",
    "cntrl_metric = []\n",
    "test_metric = []\n",
    "\n",
    "for beta in tqdm(betas):\n",
    "    res = process_exp('//home/voice/ilnur/tasks/EXPERIMENTS-81406/extract_result_2_portions', \n",
    "                      portion=None, calc_metric=calc_metric_avg, alpha=0, plot=False, beta=beta)\n",
    "    \n",
    "    p_values.append(res[\"p_value\"])\n",
    "    cntrl_metric.append(res[\"cntr_value\"])\n",
    "    test_metric.append(res[\"test_value\"])\n",
    "    \n",
    "plt.title(\"p_value\")\n",
    "plt.plot(betas, p_values)\n",
    "plt.xscale(\"log\")\n",
    "plt.show()\n",
    "\n",
    "plt.title(\"Metric\")\n",
    "plt.plot(betas, cntrl_metric, label=\"cntrl\")\n",
    "plt.plot(betas, test_metric, label=\"test\")\n",
    "plt.xscale(\"log\")\n",
    "plt.legend()\n",
    "plt.show()"
   ]
  },
  {
   "cell_type": "code",
   "execution_count": 230,
   "metadata": {},
   "outputs": [
    {
     "name": "stdout",
     "output_type": "stream",
     "text": [
      "pvalue=0.708, effect=-0.013, ctrl metric = 0.598, test_metric = 0.590, cnt = 200\n",
      "\n"
     ]
    },
    {
     "data": {
      "image/png": "[encoded data removed]",
      "text/plain": [
       "<Figure size 432x288 with 1 Axes>"
      ]
     },
     "metadata": {
      "needs_background": "light"
     },
     "output_type": "display_data"
    }
   ],
   "source": [
    "process_exp('//home/voice/ilnur/tasks/EXPERIMENTS-81406/extract_result_2_portions', portion=None, calc_metric=calc_metric_avg, alpha=1.0);"
   ]
  },
  {
   "cell_type": "code",
   "execution_count": 231,
   "metadata": {},
   "outputs": [
    {
     "data": {
      "image/png": "[encoded data removed]",
      "text/plain": [
       "<Figure size 432x288 with 1 Axes>"
      ]
     },
     "metadata": {
      "needs_background": "light"
     },
     "output_type": "display_data"
    },
    {
     "data": {
      "image/png": "[encoded data removed]",
      "text/plain": [
       "<Figure size 432x288 with 1 Axes>"
      ]
     },
     "metadata": {
      "needs_background": "light"
     },
     "output_type": "display_data"
    }
   ],
   "source": [
    "alphas = np.linspace(0, 1.0, 20)\n",
    "p_values = []\n",
    "cntrl_metric = []\n",
    "test_metric = []\n",
    "\n",
    "for alpha in alphas:\n",
    "    res = process_exp('//home/voice/ilnur/tasks/EXPERIMENTS-81406/extract_result_2_portions', portion=None, calc_metric=calc_metric_avg, alpha=alpha, plot=False)\n",
    "    \n",
    "    p_values.append(res[\"p_value\"])\n",
    "    cntrl_metric.append(res[\"cntr_value\"])\n",
    "    test_metric.append(res[\"test_value\"])\n",
    "    \n",
    "plt.plot(alphas, p_values)\n",
    "plt.show()\n",
    "\n",
    "plt.plot(alphas, cntrl_metric, label=\"cntrl\")\n",
    "plt.plot(alphas, test_metric, label=\"test\")\n",
    "plt.legend()\n",
    "plt.show()"
   ]
  },
  {
   "cell_type": "code",
   "execution_count": 232,
   "metadata": {},
   "outputs": [
    {
     "name": "stdout",
     "output_type": "stream",
     "text": [
      "pvalue=0.008, effect=-0.037, ctrl metric = 0.591, test_metric = 0.569, cnt = 200\n",
      "\n"
     ]
    },
    {
     "data": {
      "image/png": "[encoded data removed]",
      "text/plain": [
       "<Figure size 432x288 with 1 Axes>"
      ]
     },
     "metadata": {
      "needs_background": "light"
     },
     "output_type": "display_data"
    },
    {
     "data": {
      "text/plain": [
       "{'p_value': 0.007991730120954338,\n",
       " 'cntr_value': 0.5910870402217238,\n",
       " 'test_value': 0.5691503357916932}"
      ]
     },
     "execution_count": 232,
     "metadata": {},
     "output_type": "execute_result"
    }
   ],
   "source": [
    "process_exp('//home/voice/ilnur/tasks/EXPERIMENTS-81406/extract_result_2_portions', portion=None, calc_metric=calc_metric_raw_avg)"
   ]
  },
  {
   "cell_type": "code",
   "execution_count": 233,
   "metadata": {},
   "outputs": [
    {
     "name": "stdout",
     "output_type": "stream",
     "text": [
      "pvalue=0.025, effect=-0.055, ctrl metric = 0.972, test_metric = 0.919, cnt = 200\n",
      "\n"
     ]
    },
    {
     "data": {
      "image/png": "[encoded data removed]",
      "text/plain": [
       "<Figure size 432x288 with 1 Axes>"
      ]
     },
     "metadata": {
      "needs_background": "light"
     },
     "output_type": "display_data"
    },
    {
     "data": {
      "text/plain": [
       "{'p_value': 0.025198356897272303,\n",
       " 'cntr_value': 0.971890822489643,\n",
       " 'test_value': 0.9187221514421436}"
      ]
     },
     "execution_count": 233,
     "metadata": {},
     "output_type": "execute_result"
    }
   ],
   "source": [
    "process_exp('//home/voice/ilnur/tasks/EXPERIMENTS-81406/extract_result_2_portions', portion=None, calc_metric=calc_metric_energy)"
   ]
  },
  {
   "cell_type": "code",
   "execution_count": 234,
   "metadata": {},
   "outputs": [
    {
     "data": {
      "image/png": "[encoded data removed]",
      "text/plain": [
       "<Figure size 432x288 with 1 Axes>"
      ]
     },
     "metadata": {
      "needs_background": "light"
     },
     "output_type": "display_data"
    },
    {
     "data": {
      "image/png": "[encoded data removed]",
      "text/plain": [
       "<Figure size 432x288 with 1 Axes>"
      ]
     },
     "metadata": {
      "needs_background": "light"
     },
     "output_type": "display_data"
    }
   ],
   "source": [
    "alphas = np.linspace(0, 1.0, 20)\n",
    "p_values = []\n",
    "cntrl_metric = []\n",
    "test_metric = []\n",
    "\n",
    "for alpha in alphas:\n",
    "    res = process_exp('//home/voice/ilnur/tasks/EXPERIMENTS-81406/extract_result_2_portions', portion=None, calc_metric=calc_metric_energy, alpha=alpha, plot=False)\n",
    "    \n",
    "    p_values.append(res[\"p_value\"])\n",
    "    cntrl_metric.append(res[\"cntr_value\"])\n",
    "    test_metric.append(res[\"test_value\"])\n",
    "    \n",
    "plt.plot(alphas, p_values)\n",
    "plt.show()\n",
    "\n",
    "plt.plot(alphas, cntrl_metric, label=\"cntrl\")\n",
    "plt.plot(alphas, test_metric, label=\"test\")\n",
    "plt.legend()\n",
    "plt.show()"
   ]
  },
  {
   "cell_type": "code",
   "execution_count": 277,
   "metadata": {},
   "outputs": [
    {
     "data": {
      "text/html": [
       "<div>\n",
       "<style scoped>\n",
       "    .dataframe tbody tr th:only-of-type {\n",
       "        vertical-align: middle;\n",
       "    }\n",
       "\n",
       "    .dataframe tbody tr th {\n",
       "        vertical-align: top;\n",
       "    }\n",
       "\n",
       "    .dataframe thead th {\n",
       "        text-align: right;\n",
       "    }\n",
       "</style>\n",
       "<table border=\"1\" class=\"dataframe\">\n",
       "  <thead>\n",
       "    <tr style=\"text-align: right;\">\n",
       "      <th></th>\n",
       "      <th>metric</th>\n",
       "      <th>cntrl_value</th>\n",
       "      <th>test_value</th>\n",
       "      <th>diff</th>\n",
       "      <th>p_value</th>\n",
       "    </tr>\n",
       "  </thead>\n",
       "  <tbody>\n",
       "    <tr>\n",
       "      <th>0</th>\n",
       "      <td>Усреднеенная метрика по сессиям</td>\n",
       "      <td>0.595447</td>\n",
       "      <td>0.573222</td>\n",
       "      <td>-0.022224</td>\n",
       "      <td>0.026099</td>\n",
       "    </tr>\n",
       "    <tr>\n",
       "      <th>1</th>\n",
       "      <td>Усреднеенная метрика по сессиям с взвешиванием</td>\n",
       "      <td>0.598214</td>\n",
       "      <td>0.590358</td>\n",
       "      <td>-0.007857</td>\n",
       "      <td>0.707616</td>\n",
       "    </tr>\n",
       "    <tr>\n",
       "      <th>2</th>\n",
       "      <td>Усреднеенная метрика по сессиям с семплированием</td>\n",
       "      <td>0.596159</td>\n",
       "      <td>0.570129</td>\n",
       "      <td>-0.026030</td>\n",
       "      <td>0.503326</td>\n",
       "    </tr>\n",
       "    <tr>\n",
       "      <th>3</th>\n",
       "      <td>Усреднеенная метрика по микро сессиям</td>\n",
       "      <td>0.591087</td>\n",
       "      <td>0.569150</td>\n",
       "      <td>-0.021937</td>\n",
       "      <td>0.007992</td>\n",
       "    </tr>\n",
       "    <tr>\n",
       "      <th>4</th>\n",
       "      <td>Усреднеенная метрика по микро сессиям с взвеши...</td>\n",
       "      <td>0.598659</td>\n",
       "      <td>0.614480</td>\n",
       "      <td>0.015821</td>\n",
       "      <td>0.736194</td>\n",
       "    </tr>\n",
       "    <tr>\n",
       "      <th>5</th>\n",
       "      <td>Средняя энергия сессий</td>\n",
       "      <td>0.971891</td>\n",
       "      <td>0.918722</td>\n",
       "      <td>-0.053169</td>\n",
       "      <td>0.025198</td>\n",
       "    </tr>\n",
       "    <tr>\n",
       "      <th>6</th>\n",
       "      <td>Средняя энергия сессий с взвешиванием</td>\n",
       "      <td>0.899587</td>\n",
       "      <td>0.894512</td>\n",
       "      <td>-0.005075</td>\n",
       "      <td>0.919232</td>\n",
       "    </tr>\n",
       "    <tr>\n",
       "      <th>7</th>\n",
       "      <td>Средняя энергия сессий с семплированием</td>\n",
       "      <td>0.811404</td>\n",
       "      <td>1.002631</td>\n",
       "      <td>0.191227</td>\n",
       "      <td>0.006455</td>\n",
       "    </tr>\n",
       "  </tbody>\n",
       "</table>\n",
       "</div>"
      ],
      "text/plain": [
       "                                              metric  cntrl_value  test_value  \\\n",
       "0                    Усреднеенная метрика по сессиям     0.595447    0.573222   \n",
       "1     Усреднеенная метрика по сессиям с взвешиванием     0.598214    0.590358   \n",
       "2   Усреднеенная метрика по сессиям с семплированием     0.596159    0.570129   \n",
       "3              Усреднеенная метрика по микро сессиям     0.591087    0.569150   \n",
       "4  Усреднеенная метрика по микро сессиям с взвеши...     0.598659    0.614480   \n",
       "5                             Средняя энергия сессий     0.971891    0.918722   \n",
       "6              Средняя энергия сессий с взвешиванием     0.899587    0.894512   \n",
       "7            Средняя энергия сессий с семплированием     0.811404    1.002631   \n",
       "\n",
       "       diff   p_value  \n",
       "0 -0.022224  0.026099  \n",
       "1 -0.007857  0.707616  \n",
       "2 -0.026030  0.503326  \n",
       "3 -0.021937  0.007992  \n",
       "4  0.015821  0.736194  \n",
       "5 -0.053169  0.025198  \n",
       "6 -0.005075  0.919232  \n",
       "7  0.191227  0.006455  "
      ]
     },
     "execution_count": 277,
     "metadata": {},
     "output_type": "execute_result"
    }
   ],
   "source": [
    "res = make_report_table_for_exp('//home/voice/ilnur/tasks/EXPERIMENTS-81406/extract_result_2_portions')\n",
    "res.to_csv(\"Гениальная болталка\")\n",
    "res"
   ]
  },
  {
   "cell_type": "code",
   "execution_count": null,
   "metadata": {},
   "outputs": [],
   "source": []
  },
  {
   "cell_type": "code",
   "execution_count": null,
   "metadata": {},
   "outputs": [],
   "source": []
  },
  {
   "cell_type": "code",
   "execution_count": null,
   "metadata": {},
   "outputs": [],
   "source": []
  },
  {
   "cell_type": "code",
   "execution_count": null,
   "metadata": {},
   "outputs": [],
   "source": []
  },
  {
   "cell_type": "code",
   "execution_count": null,
   "metadata": {},
   "outputs": [],
   "source": []
  },
  {
   "cell_type": "code",
   "execution_count": 287,
   "metadata": {},
   "outputs": [],
   "source": [
    "table_name = '//home/voice/ilnur/tasks/EXPERIMENTS-81406/extract_result_2_portions'\n",
    "\n",
    "read_result = pd.DataFrame(client.read_table(table_name, raw=False))\n",
    "read_result[\"is_part\"] = 1 * (read_result[\"result\"] == \"part\")\n",
    "read_result[\"is_stupid\"] = 1 * (read_result[\"result\"] == \"stupid\")\n",
    "read_result[\"is_good\"] = 1 * (read_result[\"result\"] == \"good\")\n",
    "read_result[\"is_bad\"] = 1 * (read_result[\"result\"] == \"bad\")\n",
    "    \n",
    "    \n",
    "parsed_data = read_result.groupby(by=[\"session_id_old\"]).agg(\n",
    "                                                part_cnt = pd.NamedAgg(column = 'is_part', aggfunc = 'sum'),\n",
    "                                                stupid_cnt = pd.NamedAgg(column = 'is_stupid', aggfunc = 'sum'),\n",
    "                                                good_cnt = pd.NamedAgg(column = 'is_good', aggfunc = 'sum'),\n",
    "                                                bad_cnt = pd.NamedAgg(column = 'is_bad', aggfunc = 'sum'),\n",
    "                                                test_name = pd.NamedAgg(column = 'test_name', aggfunc = 'last'),\n",
    "                                                uuid = pd.NamedAgg(column = 'uuid', aggfunc = 'last'),\n",
    "                                                portion = pd.NamedAgg(column = 'portion', aggfunc = 'last'),\n",
    "                                                frequency = pd.NamedAgg(column = 'frequency', aggfunc = 'mean'),\n",
    "                                                session_len = pd.NamedAgg(column = 'session_len', aggfunc = 'last'),\n",
    "                                                ).reset_index()"
   ]
  },
  {
   "cell_type": "code",
   "execution_count": 288,
   "metadata": {},
   "outputs": [
    {
     "data": {
      "text/html": [
       "<div>\n",
       "<style scoped>\n",
       "    .dataframe tbody tr th:only-of-type {\n",
       "        vertical-align: middle;\n",
       "    }\n",
       "\n",
       "    .dataframe tbody tr th {\n",
       "        vertical-align: top;\n",
       "    }\n",
       "\n",
       "    .dataframe thead th {\n",
       "        text-align: right;\n",
       "    }\n",
       "</style>\n",
       "<table border=\"1\" class=\"dataframe\">\n",
       "  <thead>\n",
       "    <tr style=\"text-align: right;\">\n",
       "      <th></th>\n",
       "      <th>frequency</th>\n",
       "      <th>portion</th>\n",
       "      <th>result</th>\n",
       "      <th>session_id_old</th>\n",
       "      <th>session_len</th>\n",
       "      <th>target_scenario</th>\n",
       "      <th>target_scenario_rounded</th>\n",
       "      <th>test_name</th>\n",
       "      <th>uuid</th>\n",
       "      <th>is_part</th>\n",
       "      <th>is_stupid</th>\n",
       "      <th>is_good</th>\n",
       "      <th>is_bad</th>\n",
       "    </tr>\n",
       "  </thead>\n",
       "  <tbody>\n",
       "    <tr>\n",
       "      <th>0</th>\n",
       "      <td>5040</td>\n",
       "      <td>portion1</td>\n",
       "      <td>good</td>\n",
       "      <td>uu/7ea02c00a3913ef539db2e39ab3c902f_1633677712...</td>\n",
       "      <td>21</td>\n",
       "      <td>12</td>\n",
       "      <td>12</td>\n",
       "      <td>ctrl</td>\n",
       "      <td>uu/7ea02c00a3913ef539db2e39ab3c902f</td>\n",
       "      <td>0</td>\n",
       "      <td>0</td>\n",
       "      <td>1</td>\n",
       "      <td>0</td>\n",
       "    </tr>\n",
       "    <tr>\n",
       "      <th>1</th>\n",
       "      <td>5040</td>\n",
       "      <td>portion1</td>\n",
       "      <td>part</td>\n",
       "      <td>uu/7ea02c00a3913ef539db2e39ab3c902f_1633677712...</td>\n",
       "      <td>21</td>\n",
       "      <td>12</td>\n",
       "      <td>12</td>\n",
       "      <td>ctrl</td>\n",
       "      <td>uu/7ea02c00a3913ef539db2e39ab3c902f</td>\n",
       "      <td>1</td>\n",
       "      <td>0</td>\n",
       "      <td>0</td>\n",
       "      <td>0</td>\n",
       "    </tr>\n",
       "    <tr>\n",
       "      <th>2</th>\n",
       "      <td>8995</td>\n",
       "      <td>portion1</td>\n",
       "      <td>good</td>\n",
       "      <td>uu/7ea1e9ea3140521765bef60b8277ac86_1633593559...</td>\n",
       "      <td>10</td>\n",
       "      <td>9</td>\n",
       "      <td>9</td>\n",
       "      <td>ctrl</td>\n",
       "      <td>uu/7ea1e9ea3140521765bef60b8277ac86</td>\n",
       "      <td>0</td>\n",
       "      <td>0</td>\n",
       "      <td>1</td>\n",
       "      <td>0</td>\n",
       "    </tr>\n",
       "    <tr>\n",
       "      <th>3</th>\n",
       "      <td>8995</td>\n",
       "      <td>portion1</td>\n",
       "      <td>bad</td>\n",
       "      <td>uu/7eb5500f5a8d3922e38e932665659d34_1634214096...</td>\n",
       "      <td>16</td>\n",
       "      <td>9</td>\n",
       "      <td>9</td>\n",
       "      <td>ctrl</td>\n",
       "      <td>uu/7eb5500f5a8d3922e38e932665659d34</td>\n",
       "      <td>0</td>\n",
       "      <td>0</td>\n",
       "      <td>0</td>\n",
       "      <td>1</td>\n",
       "    </tr>\n",
       "    <tr>\n",
       "      <th>4</th>\n",
       "      <td>7540</td>\n",
       "      <td>portion1</td>\n",
       "      <td>part</td>\n",
       "      <td>uu/7ebbffc83da116a89337e62840e8a907_1633517078...</td>\n",
       "      <td>15</td>\n",
       "      <td>10</td>\n",
       "      <td>10</td>\n",
       "      <td>test</td>\n",
       "      <td>uu/7ebbffc83da116a89337e62840e8a907</td>\n",
       "      <td>1</td>\n",
       "      <td>0</td>\n",
       "      <td>0</td>\n",
       "      <td>0</td>\n",
       "    </tr>\n",
       "    <tr>\n",
       "      <th>...</th>\n",
       "      <td>...</td>\n",
       "      <td>...</td>\n",
       "      <td>...</td>\n",
       "      <td>...</td>\n",
       "      <td>...</td>\n",
       "      <td>...</td>\n",
       "      <td>...</td>\n",
       "      <td>...</td>\n",
       "      <td>...</td>\n",
       "      <td>...</td>\n",
       "      <td>...</td>\n",
       "      <td>...</td>\n",
       "      <td>...</td>\n",
       "    </tr>\n",
       "    <tr>\n",
       "      <th>9885</th>\n",
       "      <td>3684</td>\n",
       "      <td>portion1</td>\n",
       "      <td>part</td>\n",
       "      <td>uu/7e7d76b5e6b96d2ae47452ef62e26256_1633713075...</td>\n",
       "      <td>18</td>\n",
       "      <td>14</td>\n",
       "      <td>14</td>\n",
       "      <td>ctrl</td>\n",
       "      <td>uu/7e7d76b5e6b96d2ae47452ef62e26256</td>\n",
       "      <td>1</td>\n",
       "      <td>0</td>\n",
       "      <td>0</td>\n",
       "      <td>0</td>\n",
       "    </tr>\n",
       "    <tr>\n",
       "      <th>9886</th>\n",
       "      <td>3684</td>\n",
       "      <td>portion1</td>\n",
       "      <td>bad</td>\n",
       "      <td>uu/7e7d76b5e6b96d2ae47452ef62e26256_1633713075...</td>\n",
       "      <td>18</td>\n",
       "      <td>14</td>\n",
       "      <td>14</td>\n",
       "      <td>ctrl</td>\n",
       "      <td>uu/7e7d76b5e6b96d2ae47452ef62e26256</td>\n",
       "      <td>0</td>\n",
       "      <td>0</td>\n",
       "      <td>0</td>\n",
       "      <td>1</td>\n",
       "    </tr>\n",
       "    <tr>\n",
       "      <th>9887</th>\n",
       "      <td>27214</td>\n",
       "      <td>portion1</td>\n",
       "      <td>part</td>\n",
       "      <td>uu/7e8210b1137a688eb4e3bed05005f68e_1633199828...</td>\n",
       "      <td>12</td>\n",
       "      <td>5</td>\n",
       "      <td>5</td>\n",
       "      <td>test</td>\n",
       "      <td>uu/7e8210b1137a688eb4e3bed05005f68e</td>\n",
       "      <td>1</td>\n",
       "      <td>0</td>\n",
       "      <td>0</td>\n",
       "      <td>0</td>\n",
       "    </tr>\n",
       "    <tr>\n",
       "      <th>9888</th>\n",
       "      <td>19711</td>\n",
       "      <td>portion1</td>\n",
       "      <td>good</td>\n",
       "      <td>uu/7e896646f6d4c33bc453f29030e30958_1633865173...</td>\n",
       "      <td>13</td>\n",
       "      <td>6</td>\n",
       "      <td>6</td>\n",
       "      <td>ctrl</td>\n",
       "      <td>uu/7e896646f6d4c33bc453f29030e30958</td>\n",
       "      <td>0</td>\n",
       "      <td>0</td>\n",
       "      <td>1</td>\n",
       "      <td>0</td>\n",
       "    </tr>\n",
       "    <tr>\n",
       "      <th>9889</th>\n",
       "      <td>27208</td>\n",
       "      <td>portion1</td>\n",
       "      <td>good</td>\n",
       "      <td>uu/7e9018806ea2c49e3572331f1b6669b3_1633170274...</td>\n",
       "      <td>10</td>\n",
       "      <td>5</td>\n",
       "      <td>5</td>\n",
       "      <td>ctrl</td>\n",
       "      <td>uu/7e9018806ea2c49e3572331f1b6669b3</td>\n",
       "      <td>0</td>\n",
       "      <td>0</td>\n",
       "      <td>1</td>\n",
       "      <td>0</td>\n",
       "    </tr>\n",
       "  </tbody>\n",
       "</table>\n",
       "<p>9890 rows × 13 columns</p>\n",
       "</div>"
      ],
      "text/plain": [
       "      frequency   portion result  \\\n",
       "0          5040  portion1   good   \n",
       "1          5040  portion1   part   \n",
       "2          8995  portion1   good   \n",
       "3          8995  portion1    bad   \n",
       "4          7540  portion1   part   \n",
       "...         ...       ...    ...   \n",
       "9885       3684  portion1   part   \n",
       "9886       3684  portion1    bad   \n",
       "9887      27214  portion1   part   \n",
       "9888      19711  portion1   good   \n",
       "9889      27208  portion1   good   \n",
       "\n",
       "                                         session_id_old  session_len  \\\n",
       "0     uu/7ea02c00a3913ef539db2e39ab3c902f_1633677712...           21   \n",
       "1     uu/7ea02c00a3913ef539db2e39ab3c902f_1633677712...           21   \n",
       "2     uu/7ea1e9ea3140521765bef60b8277ac86_1633593559...           10   \n",
       "3     uu/7eb5500f5a8d3922e38e932665659d34_1634214096...           16   \n",
       "4     uu/7ebbffc83da116a89337e62840e8a907_1633517078...           15   \n",
       "...                                                 ...          ...   \n",
       "9885  uu/7e7d76b5e6b96d2ae47452ef62e26256_1633713075...           18   \n",
       "9886  uu/7e7d76b5e6b96d2ae47452ef62e26256_1633713075...           18   \n",
       "9887  uu/7e8210b1137a688eb4e3bed05005f68e_1633199828...           12   \n",
       "9888  uu/7e896646f6d4c33bc453f29030e30958_1633865173...           13   \n",
       "9889  uu/7e9018806ea2c49e3572331f1b6669b3_1633170274...           10   \n",
       "\n",
       "      target_scenario  target_scenario_rounded test_name  \\\n",
       "0                  12                       12      ctrl   \n",
       "1                  12                       12      ctrl   \n",
       "2                   9                        9      ctrl   \n",
       "3                   9                        9      ctrl   \n",
       "4                  10                       10      test   \n",
       "...               ...                      ...       ...   \n",
       "9885               14                       14      ctrl   \n",
       "9886               14                       14      ctrl   \n",
       "9887                5                        5      test   \n",
       "9888                6                        6      ctrl   \n",
       "9889                5                        5      ctrl   \n",
       "\n",
       "                                     uuid  is_part  is_stupid  is_good  is_bad  \n",
       "0     uu/7ea02c00a3913ef539db2e39ab3c902f        0          0        1       0  \n",
       "1     uu/7ea02c00a3913ef539db2e39ab3c902f        1          0        0       0  \n",
       "2     uu/7ea1e9ea3140521765bef60b8277ac86        0          0        1       0  \n",
       "3     uu/7eb5500f5a8d3922e38e932665659d34        0          0        0       1  \n",
       "4     uu/7ebbffc83da116a89337e62840e8a907        1          0        0       0  \n",
       "...                                   ...      ...        ...      ...     ...  \n",
       "9885  uu/7e7d76b5e6b96d2ae47452ef62e26256        1          0        0       0  \n",
       "9886  uu/7e7d76b5e6b96d2ae47452ef62e26256        0          0        0       1  \n",
       "9887  uu/7e8210b1137a688eb4e3bed05005f68e        1          0        0       0  \n",
       "9888  uu/7e896646f6d4c33bc453f29030e30958        0          0        1       0  \n",
       "9889  uu/7e9018806ea2c49e3572331f1b6669b3        0          0        1       0  \n",
       "\n",
       "[9890 rows x 13 columns]"
      ]
     },
     "execution_count": 288,
     "metadata": {},
     "output_type": "execute_result"
    }
   ],
   "source": [
    "read_result"
   ]
  },
  {
   "cell_type": "markdown",
   "metadata": {},
   "source": [
    "# Дроп интересности на проде"
   ]
  },
  {
   "cell_type": "code",
   "execution_count": 62,
   "metadata": {},
   "outputs": [
    {
     "name": "stdout",
     "output_type": "stream",
     "text": [
      "pvalue=0.199, effect=0.023, ctrl metric = 0.717, test_metric = 0.733, cnt = 200\n",
      "\n"
     ]
    },
    {
     "data": {
      "image/png": "[encoded data removed]",
      "text/plain": [
       "<Figure size 432x288 with 1 Axes>"
      ]
     },
     "metadata": {
      "needs_background": "light"
     },
     "output_type": "display_data"
    },
    {
     "data": {
      "text/plain": [
       "{'p_value': 0.1987059369095845,\n",
       " 'cntr_value': 0.7167270202466389,\n",
       " 'test_value': 0.7332091619853673}"
      ]
     },
     "execution_count": 62,
     "metadata": {},
     "output_type": "execute_result"
    }
   ],
   "source": [
    "process_exp('//home/voice/eliseevmax/tasks/EXPERIMENTS-97773/results_with_uniform_len',\n",
    "            portion=None, \n",
    "            plot=True,\n",
    "            calc_metric=calc_metric_avg,\n",
    "           test_name=\"test_571522\",\n",
    "           cntrl_name=\"cntrl_571519\",\n",
    "           probability_threshold=0.0)"
   ]
  },
  {
   "cell_type": "code",
   "execution_count": 76,
   "metadata": {},
   "outputs": [
    {
     "name": "stdout",
     "output_type": "stream",
     "text": [
      "pvalue=0.676, effect=0.006, ctrl metric = 0.717, test_metric = 0.721, cnt = 200\n",
      "\n"
     ]
    },
    {
     "data": {
      "image/png": "[encoded data removed]",
      "text/plain": [
       "<Figure size 432x288 with 1 Axes>"
      ]
     },
     "metadata": {
      "needs_background": "light"
     },
     "output_type": "display_data"
    },
    {
     "data": {
      "text/plain": [
       "{'p_value': 0.6760716456258578,\n",
       " 'cntr_value': 0.7167270202466389,\n",
       " 'test_value': 0.7212803880573105}"
      ]
     },
     "execution_count": 76,
     "metadata": {},
     "output_type": "execute_result"
    }
   ],
   "source": [
    "process_exp('//home/voice/eliseevmax/tasks/EXPERIMENTS-97773/results_with_uniform_len',\n",
    "            portion=None, \n",
    "            plot=True,\n",
    "            calc_metric=calc_metric_avg,\n",
    "           test_name=\"test_571520\",\n",
    "           cntrl_name=\"cntrl_571519\",\n",
    "           probability_threshold=0.0)"
   ]
  },
  {
   "cell_type": "code",
   "execution_count": 64,
   "metadata": {},
   "outputs": [
    {
     "name": "stdout",
     "output_type": "stream",
     "text": [
      "pvalue=0.774, effect=0.005, ctrl metric = 0.717, test_metric = 0.720, cnt = 200\n",
      "\n"
     ]
    },
    {
     "data": {
      "image/png": "[encoded data removed]",
      "text/plain": [
       "<Figure size 432x288 with 1 Axes>"
      ]
     },
     "metadata": {
      "needs_background": "light"
     },
     "output_type": "display_data"
    },
    {
     "data": {
      "text/plain": [
       "{'p_value': 0.7740307869948482,\n",
       " 'cntr_value': 0.7167270202466389,\n",
       " 'test_value': 0.7200774376657584}"
      ]
     },
     "execution_count": 64,
     "metadata": {},
     "output_type": "execute_result"
    }
   ],
   "source": [
    "process_exp('//home/voice/eliseevmax/tasks/EXPERIMENTS-97773/results_with_uniform_len',\n",
    "            portion=None, \n",
    "            plot=True,\n",
    "            calc_metric=calc_metric_avg,\n",
    "           test_name=\"test_571521\",\n",
    "           cntrl_name=\"cntrl_571519\",\n",
    "           probability_threshold=0.0)"
   ]
  },
  {
   "cell_type": "code",
   "execution_count": 77,
   "metadata": {},
   "outputs": [
    {
     "data": {
      "text/html": [
       "<div>\n",
       "<style scoped>\n",
       "    .dataframe tbody tr th:only-of-type {\n",
       "        vertical-align: middle;\n",
       "    }\n",
       "\n",
       "    .dataframe tbody tr th {\n",
       "        vertical-align: top;\n",
       "    }\n",
       "\n",
       "    .dataframe thead th {\n",
       "        text-align: right;\n",
       "    }\n",
       "</style>\n",
       "<table border=\"1\" class=\"dataframe\">\n",
       "  <thead>\n",
       "    <tr style=\"text-align: right;\">\n",
       "      <th></th>\n",
       "      <th>metric</th>\n",
       "      <th>cntrl_value</th>\n",
       "      <th>test_value</th>\n",
       "      <th>diff</th>\n",
       "      <th>p_value</th>\n",
       "    </tr>\n",
       "  </thead>\n",
       "  <tbody>\n",
       "    <tr>\n",
       "      <th>0</th>\n",
       "      <td>Усреднеенная метрика по сессиям</td>\n",
       "      <td>0.716727</td>\n",
       "      <td>0.721280</td>\n",
       "      <td>0.004553</td>\n",
       "      <td>0.676072</td>\n",
       "    </tr>\n",
       "    <tr>\n",
       "      <th>1</th>\n",
       "      <td>Усреднеенная метрика по сессиям с взвешиванием</td>\n",
       "      <td>0.732637</td>\n",
       "      <td>0.729355</td>\n",
       "      <td>-0.003282</td>\n",
       "      <td>0.907604</td>\n",
       "    </tr>\n",
       "    <tr>\n",
       "      <th>2</th>\n",
       "      <td>Усреднеенная метрика по сессиям с семплированием</td>\n",
       "      <td>0.711574</td>\n",
       "      <td>0.745881</td>\n",
       "      <td>0.034307</td>\n",
       "      <td>0.529935</td>\n",
       "    </tr>\n",
       "    <tr>\n",
       "      <th>3</th>\n",
       "      <td>Усреднеенная метрика по микро сессиям</td>\n",
       "      <td>0.707758</td>\n",
       "      <td>0.713938</td>\n",
       "      <td>0.006180</td>\n",
       "      <td>0.520392</td>\n",
       "    </tr>\n",
       "    <tr>\n",
       "      <th>4</th>\n",
       "      <td>Усреднеенная метрика по микро сессиям с взвеши...</td>\n",
       "      <td>0.736101</td>\n",
       "      <td>0.672631</td>\n",
       "      <td>-0.063470</td>\n",
       "      <td>0.520077</td>\n",
       "    </tr>\n",
       "    <tr>\n",
       "      <th>5</th>\n",
       "      <td>Средняя энергия сессий</td>\n",
       "      <td>1.258197</td>\n",
       "      <td>1.298258</td>\n",
       "      <td>0.040061</td>\n",
       "      <td>0.974656</td>\n",
       "    </tr>\n",
       "    <tr>\n",
       "      <th>6</th>\n",
       "      <td>Средняя энергия сессий с взвешиванием</td>\n",
       "      <td>1.345980</td>\n",
       "      <td>1.306148</td>\n",
       "      <td>-0.039832</td>\n",
       "      <td>0.419355</td>\n",
       "    </tr>\n",
       "    <tr>\n",
       "      <th>7</th>\n",
       "      <td>Средняя энергия сессий с семплированием</td>\n",
       "      <td>1.383013</td>\n",
       "      <td>1.218553</td>\n",
       "      <td>-0.164459</td>\n",
       "      <td>0.528111</td>\n",
       "    </tr>\n",
       "  </tbody>\n",
       "</table>\n",
       "</div>"
      ],
      "text/plain": [
       "                                              metric  cntrl_value  test_value  \\\n",
       "0                    Усреднеенная метрика по сессиям     0.716727    0.721280   \n",
       "1     Усреднеенная метрика по сессиям с взвешиванием     0.732637    0.729355   \n",
       "2   Усреднеенная метрика по сессиям с семплированием     0.711574    0.745881   \n",
       "3              Усреднеенная метрика по микро сессиям     0.707758    0.713938   \n",
       "4  Усреднеенная метрика по микро сессиям с взвеши...     0.736101    0.672631   \n",
       "5                             Средняя энергия сессий     1.258197    1.298258   \n",
       "6              Средняя энергия сессий с взвешиванием     1.345980    1.306148   \n",
       "7            Средняя энергия сессий с семплированием     1.383013    1.218553   \n",
       "\n",
       "       diff   p_value  \n",
       "0  0.004553  0.676072  \n",
       "1 -0.003282  0.907604  \n",
       "2  0.034307  0.529935  \n",
       "3  0.006180  0.520392  \n",
       "4 -0.063470  0.520077  \n",
       "5  0.040061  0.974656  \n",
       "6 -0.039832  0.419355  \n",
       "7 -0.164459  0.528111  "
      ]
     },
     "execution_count": 77,
     "metadata": {},
     "output_type": "execute_result"
    }
   ],
   "source": [
    "res = make_report_table_for_exp('//home/voice/eliseevmax/tasks/EXPERIMENTS-97773/results_with_uniform_len', test_name=\"test_571520\",\n",
    "           cntrl_name=\"cntrl_571519\",)\n",
    "res"
   ]
  },
  {
   "cell_type": "code",
   "execution_count": 78,
   "metadata": {},
   "outputs": [
    {
     "data": {
      "text/html": [
       "<div>\n",
       "<style scoped>\n",
       "    .dataframe tbody tr th:only-of-type {\n",
       "        vertical-align: middle;\n",
       "    }\n",
       "\n",
       "    .dataframe tbody tr th {\n",
       "        vertical-align: top;\n",
       "    }\n",
       "\n",
       "    .dataframe thead th {\n",
       "        text-align: right;\n",
       "    }\n",
       "</style>\n",
       "<table border=\"1\" class=\"dataframe\">\n",
       "  <thead>\n",
       "    <tr style=\"text-align: right;\">\n",
       "      <th></th>\n",
       "      <th>metric</th>\n",
       "      <th>cntrl_value</th>\n",
       "      <th>test_value</th>\n",
       "      <th>diff</th>\n",
       "      <th>p_value</th>\n",
       "    </tr>\n",
       "  </thead>\n",
       "  <tbody>\n",
       "    <tr>\n",
       "      <th>0</th>\n",
       "      <td>Усреднеенная метрика по сессиям</td>\n",
       "      <td>0.716727</td>\n",
       "      <td>0.720077</td>\n",
       "      <td>0.003350</td>\n",
       "      <td>0.774031</td>\n",
       "    </tr>\n",
       "    <tr>\n",
       "      <th>1</th>\n",
       "      <td>Усреднеенная метрика по сессиям с взвешиванием</td>\n",
       "      <td>0.732637</td>\n",
       "      <td>0.734007</td>\n",
       "      <td>0.001369</td>\n",
       "      <td>0.516520</td>\n",
       "    </tr>\n",
       "    <tr>\n",
       "      <th>2</th>\n",
       "      <td>Усреднеенная метрика по сессиям с семплированием</td>\n",
       "      <td>0.692978</td>\n",
       "      <td>0.725116</td>\n",
       "      <td>0.032137</td>\n",
       "      <td>0.259445</td>\n",
       "    </tr>\n",
       "    <tr>\n",
       "      <th>3</th>\n",
       "      <td>Усреднеенная метрика по микро сессиям</td>\n",
       "      <td>0.707758</td>\n",
       "      <td>0.718720</td>\n",
       "      <td>0.010962</td>\n",
       "      <td>0.281694</td>\n",
       "    </tr>\n",
       "    <tr>\n",
       "      <th>4</th>\n",
       "      <td>Усреднеенная метрика по микро сессиям с взвеши...</td>\n",
       "      <td>0.751126</td>\n",
       "      <td>0.724305</td>\n",
       "      <td>-0.026821</td>\n",
       "      <td>0.614962</td>\n",
       "    </tr>\n",
       "    <tr>\n",
       "      <th>5</th>\n",
       "      <td>Средняя энергия сессий</td>\n",
       "      <td>1.258197</td>\n",
       "      <td>1.260474</td>\n",
       "      <td>0.002277</td>\n",
       "      <td>0.867056</td>\n",
       "    </tr>\n",
       "    <tr>\n",
       "      <th>6</th>\n",
       "      <td>Средняя энергия сессий с взвешиванием</td>\n",
       "      <td>1.345980</td>\n",
       "      <td>1.253386</td>\n",
       "      <td>-0.092594</td>\n",
       "      <td>0.226949</td>\n",
       "    </tr>\n",
       "    <tr>\n",
       "      <th>7</th>\n",
       "      <td>Средняя энергия сессий с семплированием</td>\n",
       "      <td>1.220370</td>\n",
       "      <td>1.046528</td>\n",
       "      <td>-0.173843</td>\n",
       "      <td>0.101022</td>\n",
       "    </tr>\n",
       "  </tbody>\n",
       "</table>\n",
       "</div>"
      ],
      "text/plain": [
       "                                              metric  cntrl_value  test_value  \\\n",
       "0                    Усреднеенная метрика по сессиям     0.716727    0.720077   \n",
       "1     Усреднеенная метрика по сессиям с взвешиванием     0.732637    0.734007   \n",
       "2   Усреднеенная метрика по сессиям с семплированием     0.692978    0.725116   \n",
       "3              Усреднеенная метрика по микро сессиям     0.707758    0.718720   \n",
       "4  Усреднеенная метрика по микро сессиям с взвеши...     0.751126    0.724305   \n",
       "5                             Средняя энергия сессий     1.258197    1.260474   \n",
       "6              Средняя энергия сессий с взвешиванием     1.345980    1.253386   \n",
       "7            Средняя энергия сессий с семплированием     1.220370    1.046528   \n",
       "\n",
       "       diff   p_value  \n",
       "0  0.003350  0.774031  \n",
       "1  0.001369  0.516520  \n",
       "2  0.032137  0.259445  \n",
       "3  0.010962  0.281694  \n",
       "4 -0.026821  0.614962  \n",
       "5  0.002277  0.867056  \n",
       "6 -0.092594  0.226949  \n",
       "7 -0.173843  0.101022  "
      ]
     },
     "execution_count": 78,
     "metadata": {},
     "output_type": "execute_result"
    }
   ],
   "source": [
    "res = make_report_table_for_exp('//home/voice/eliseevmax/tasks/EXPERIMENTS-97773/results_with_uniform_len', test_name=\"test_571521\",\n",
    "           cntrl_name=\"cntrl_571519\",)\n",
    "res"
   ]
  },
  {
   "cell_type": "code",
   "execution_count": 79,
   "metadata": {},
   "outputs": [
    {
     "data": {
      "text/html": [
       "<div>\n",
       "<style scoped>\n",
       "    .dataframe tbody tr th:only-of-type {\n",
       "        vertical-align: middle;\n",
       "    }\n",
       "\n",
       "    .dataframe tbody tr th {\n",
       "        vertical-align: top;\n",
       "    }\n",
       "\n",
       "    .dataframe thead th {\n",
       "        text-align: right;\n",
       "    }\n",
       "</style>\n",
       "<table border=\"1\" class=\"dataframe\">\n",
       "  <thead>\n",
       "    <tr style=\"text-align: right;\">\n",
       "      <th></th>\n",
       "      <th>metric</th>\n",
       "      <th>cntrl_value</th>\n",
       "      <th>test_value</th>\n",
       "      <th>diff</th>\n",
       "      <th>p_value</th>\n",
       "    </tr>\n",
       "  </thead>\n",
       "  <tbody>\n",
       "    <tr>\n",
       "      <th>0</th>\n",
       "      <td>Усреднеенная метрика по сессиям</td>\n",
       "      <td>0.716727</td>\n",
       "      <td>0.733209</td>\n",
       "      <td>0.016482</td>\n",
       "      <td>0.198706</td>\n",
       "    </tr>\n",
       "    <tr>\n",
       "      <th>1</th>\n",
       "      <td>Усреднеенная метрика по сессиям с взвешиванием</td>\n",
       "      <td>0.732637</td>\n",
       "      <td>0.749793</td>\n",
       "      <td>0.017156</td>\n",
       "      <td>0.415147</td>\n",
       "    </tr>\n",
       "    <tr>\n",
       "      <th>2</th>\n",
       "      <td>Усреднеенная метрика по сессиям с семплированием</td>\n",
       "      <td>0.724096</td>\n",
       "      <td>0.749794</td>\n",
       "      <td>0.025698</td>\n",
       "      <td>0.665870</td>\n",
       "    </tr>\n",
       "    <tr>\n",
       "      <th>3</th>\n",
       "      <td>Усреднеенная метрика по микро сессиям</td>\n",
       "      <td>0.707758</td>\n",
       "      <td>0.725117</td>\n",
       "      <td>0.017359</td>\n",
       "      <td>0.090780</td>\n",
       "    </tr>\n",
       "    <tr>\n",
       "      <th>4</th>\n",
       "      <td>Усреднеенная метрика по микро сессиям с взвеши...</td>\n",
       "      <td>0.746247</td>\n",
       "      <td>0.754666</td>\n",
       "      <td>0.008419</td>\n",
       "      <td>0.828652</td>\n",
       "    </tr>\n",
       "    <tr>\n",
       "      <th>5</th>\n",
       "      <td>Средняя энергия сессий</td>\n",
       "      <td>1.258197</td>\n",
       "      <td>1.270145</td>\n",
       "      <td>0.011948</td>\n",
       "      <td>0.925040</td>\n",
       "    </tr>\n",
       "    <tr>\n",
       "      <th>6</th>\n",
       "      <td>Средняя энергия сессий с взвешиванием</td>\n",
       "      <td>1.345980</td>\n",
       "      <td>1.185573</td>\n",
       "      <td>-0.160407</td>\n",
       "      <td>0.051343</td>\n",
       "    </tr>\n",
       "    <tr>\n",
       "      <th>7</th>\n",
       "      <td>Средняя энергия сессий с семплированием</td>\n",
       "      <td>1.259058</td>\n",
       "      <td>1.337963</td>\n",
       "      <td>0.078905</td>\n",
       "      <td>0.560238</td>\n",
       "    </tr>\n",
       "  </tbody>\n",
       "</table>\n",
       "</div>"
      ],
      "text/plain": [
       "                                              metric  cntrl_value  test_value  \\\n",
       "0                    Усреднеенная метрика по сессиям     0.716727    0.733209   \n",
       "1     Усреднеенная метрика по сессиям с взвешиванием     0.732637    0.749793   \n",
       "2   Усреднеенная метрика по сессиям с семплированием     0.724096    0.749794   \n",
       "3              Усреднеенная метрика по микро сессиям     0.707758    0.725117   \n",
       "4  Усреднеенная метрика по микро сессиям с взвеши...     0.746247    0.754666   \n",
       "5                             Средняя энергия сессий     1.258197    1.270145   \n",
       "6              Средняя энергия сессий с взвешиванием     1.345980    1.185573   \n",
       "7            Средняя энергия сессий с семплированием     1.259058    1.337963   \n",
       "\n",
       "       diff   p_value  \n",
       "0  0.016482  0.198706  \n",
       "1  0.017156  0.415147  \n",
       "2  0.025698  0.665870  \n",
       "3  0.017359  0.090780  \n",
       "4  0.008419  0.828652  \n",
       "5  0.011948  0.925040  \n",
       "6 -0.160407  0.051343  \n",
       "7  0.078905  0.560238  "
      ]
     },
     "execution_count": 79,
     "metadata": {},
     "output_type": "execute_result"
    }
   ],
   "source": [
    "res = make_report_table_for_exp('//home/voice/eliseevmax/tasks/EXPERIMENTS-97773/results_with_uniform_len', test_name=\"test_571522\",\n",
    "           cntrl_name=\"cntrl_571519\",)\n",
    "res"
   ]
  },
  {
   "cell_type": "markdown",
   "metadata": {},
   "source": [
    "# Дроп интересности на проде с рандомным семплом"
   ]
  },
  {
   "cell_type": "code",
   "execution_count": 65,
   "metadata": {},
   "outputs": [
    {
     "name": "stdout",
     "output_type": "stream",
     "text": [
      "pvalue=0.273, effect=-0.016, ctrl metric = 0.684, test_metric = 0.673, cnt = 200\n",
      "\n"
     ]
    },
    {
     "data": {
      "image/png": "[encoded data removed]",
      "text/plain": [
       "<Figure size 432x288 with 1 Axes>"
      ]
     },
     "metadata": {
      "needs_background": "light"
     },
     "output_type": "display_data"
    },
    {
     "data": {
      "text/plain": [
       "{'p_value': 0.2731244337905946,\n",
       " 'cntr_value': 0.6840050833179173,\n",
       " 'test_value': 0.6727235906869731}"
      ]
     },
     "execution_count": 65,
     "metadata": {},
     "output_type": "execute_result"
    }
   ],
   "source": [
    "process_exp('//home/voice/eliseevmax/tasks/EXPERIMENTS-97773/results_with_random_len',\n",
    "            portion=None, \n",
    "            plot=True,\n",
    "            calc_metric=calc_metric_avg,\n",
    "           test_name=\"test_571522\",\n",
    "           cntrl_name=\"cntrl_571519\",\n",
    "           probability_threshold=0.0)"
   ]
  },
  {
   "cell_type": "code",
   "execution_count": 66,
   "metadata": {},
   "outputs": [
    {
     "name": "stdout",
     "output_type": "stream",
     "text": [
      "pvalue=0.849, effect=-0.003, ctrl metric = 0.684, test_metric = 0.682, cnt = 200\n",
      "\n"
     ]
    },
    {
     "data": {
      "image/png": "[encoded data removed]",
      "text/plain": [
       "<Figure size 432x288 with 1 Axes>"
      ]
     },
     "metadata": {
      "needs_background": "light"
     },
     "output_type": "display_data"
    },
    {
     "data": {
      "text/plain": [
       "{'p_value': 0.8488469533777628,\n",
       " 'cntr_value': 0.6840050833179173,\n",
       " 'test_value': 0.6818228867559694}"
      ]
     },
     "execution_count": 66,
     "metadata": {},
     "output_type": "execute_result"
    }
   ],
   "source": [
    "process_exp('//home/voice/eliseevmax/tasks/EXPERIMENTS-97773/results_with_random_len',\n",
    "            portion=None, \n",
    "            plot=True,\n",
    "            calc_metric=calc_metric_avg,\n",
    "           test_name=\"test_571520\",\n",
    "           cntrl_name=\"cntrl_571519\",\n",
    "           probability_threshold=0.0)"
   ]
  },
  {
   "cell_type": "code",
   "execution_count": 67,
   "metadata": {},
   "outputs": [
    {
     "name": "stdout",
     "output_type": "stream",
     "text": [
      "pvalue=0.245, effect=-0.018, ctrl metric = 0.684, test_metric = 0.671, cnt = 200\n",
      "\n"
     ]
    },
    {
     "data": {
      "image/png": "[encoded data removed]",
      "text/plain": [
       "<Figure size 432x288 with 1 Axes>"
      ]
     },
     "metadata": {
      "needs_background": "light"
     },
     "output_type": "display_data"
    },
    {
     "data": {
      "text/plain": [
       "{'p_value': 0.24529439133794184,\n",
       " 'cntr_value': 0.6840050833179173,\n",
       " 'test_value': 0.6713794057760226}"
      ]
     },
     "execution_count": 67,
     "metadata": {},
     "output_type": "execute_result"
    }
   ],
   "source": [
    "process_exp('//home/voice/eliseevmax/tasks/EXPERIMENTS-97773/results_with_random_len',\n",
    "            portion=None, \n",
    "            plot=True,\n",
    "            calc_metric=calc_metric_avg,\n",
    "           test_name=\"test_571521\",\n",
    "           cntrl_name=\"cntrl_571519\",\n",
    "           probability_threshold=0.0)"
   ]
  },
  {
   "cell_type": "code",
   "execution_count": null,
   "metadata": {},
   "outputs": [],
   "source": []
  },
  {
   "cell_type": "code",
   "execution_count": 80,
   "metadata": {},
   "outputs": [
    {
     "data": {
      "text/html": [
       "<div>\n",
       "<style scoped>\n",
       "    .dataframe tbody tr th:only-of-type {\n",
       "        vertical-align: middle;\n",
       "    }\n",
       "\n",
       "    .dataframe tbody tr th {\n",
       "        vertical-align: top;\n",
       "    }\n",
       "\n",
       "    .dataframe thead th {\n",
       "        text-align: right;\n",
       "    }\n",
       "</style>\n",
       "<table border=\"1\" class=\"dataframe\">\n",
       "  <thead>\n",
       "    <tr style=\"text-align: right;\">\n",
       "      <th></th>\n",
       "      <th>metric</th>\n",
       "      <th>cntrl_value</th>\n",
       "      <th>test_value</th>\n",
       "      <th>diff</th>\n",
       "      <th>p_value</th>\n",
       "    </tr>\n",
       "  </thead>\n",
       "  <tbody>\n",
       "    <tr>\n",
       "      <th>0</th>\n",
       "      <td>Усреднеенная метрика по сессиям</td>\n",
       "      <td>0.684005</td>\n",
       "      <td>0.681823</td>\n",
       "      <td>-0.002182</td>\n",
       "      <td>0.848847</td>\n",
       "    </tr>\n",
       "    <tr>\n",
       "      <th>1</th>\n",
       "      <td>Усреднеенная метрика по сессиям с взвешиванием</td>\n",
       "      <td>0.690125</td>\n",
       "      <td>0.694703</td>\n",
       "      <td>0.004577</td>\n",
       "      <td>0.956157</td>\n",
       "    </tr>\n",
       "    <tr>\n",
       "      <th>2</th>\n",
       "      <td>Усреднеенная метрика по сессиям с семплированием</td>\n",
       "      <td>0.717022</td>\n",
       "      <td>0.675189</td>\n",
       "      <td>-0.041833</td>\n",
       "      <td>0.243625</td>\n",
       "    </tr>\n",
       "    <tr>\n",
       "      <th>3</th>\n",
       "      <td>Усреднеенная метрика по микро сессиям</td>\n",
       "      <td>0.669590</td>\n",
       "      <td>0.668666</td>\n",
       "      <td>-0.000924</td>\n",
       "      <td>0.858414</td>\n",
       "    </tr>\n",
       "    <tr>\n",
       "      <th>4</th>\n",
       "      <td>Усреднеенная метрика по микро сессиям с взвеши...</td>\n",
       "      <td>0.668285</td>\n",
       "      <td>0.674115</td>\n",
       "      <td>0.005830</td>\n",
       "      <td>0.960567</td>\n",
       "    </tr>\n",
       "    <tr>\n",
       "      <th>5</th>\n",
       "      <td>Средняя энергия сессий</td>\n",
       "      <td>0.887266</td>\n",
       "      <td>0.903459</td>\n",
       "      <td>0.016193</td>\n",
       "      <td>0.392372</td>\n",
       "    </tr>\n",
       "    <tr>\n",
       "      <th>6</th>\n",
       "      <td>Средняя энергия сессий с взвешиванием</td>\n",
       "      <td>0.823069</td>\n",
       "      <td>0.854775</td>\n",
       "      <td>0.031706</td>\n",
       "      <td>0.087876</td>\n",
       "    </tr>\n",
       "    <tr>\n",
       "      <th>7</th>\n",
       "      <td>Средняя энергия сессий с семплированием</td>\n",
       "      <td>0.835759</td>\n",
       "      <td>0.821820</td>\n",
       "      <td>-0.013939</td>\n",
       "      <td>0.970483</td>\n",
       "    </tr>\n",
       "  </tbody>\n",
       "</table>\n",
       "</div>"
      ],
      "text/plain": [
       "                                              metric  cntrl_value  test_value  \\\n",
       "0                    Усреднеенная метрика по сессиям     0.684005    0.681823   \n",
       "1     Усреднеенная метрика по сессиям с взвешиванием     0.690125    0.694703   \n",
       "2   Усреднеенная метрика по сессиям с семплированием     0.717022    0.675189   \n",
       "3              Усреднеенная метрика по микро сессиям     0.669590    0.668666   \n",
       "4  Усреднеенная метрика по микро сессиям с взвеши...     0.668285    0.674115   \n",
       "5                             Средняя энергия сессий     0.887266    0.903459   \n",
       "6              Средняя энергия сессий с взвешиванием     0.823069    0.854775   \n",
       "7            Средняя энергия сессий с семплированием     0.835759    0.821820   \n",
       "\n",
       "       diff   p_value  \n",
       "0 -0.002182  0.848847  \n",
       "1  0.004577  0.956157  \n",
       "2 -0.041833  0.243625  \n",
       "3 -0.000924  0.858414  \n",
       "4  0.005830  0.960567  \n",
       "5  0.016193  0.392372  \n",
       "6  0.031706  0.087876  \n",
       "7 -0.013939  0.970483  "
      ]
     },
     "execution_count": 80,
     "metadata": {},
     "output_type": "execute_result"
    }
   ],
   "source": [
    "res = make_report_table_for_exp('//home/voice/eliseevmax/tasks/EXPERIMENTS-97773/results_with_random_len', test_name=\"test_571520\",\n",
    "           cntrl_name=\"cntrl_571519\",)\n",
    "res"
   ]
  },
  {
   "cell_type": "code",
   "execution_count": 81,
   "metadata": {},
   "outputs": [
    {
     "data": {
      "text/html": [
       "<div>\n",
       "<style scoped>\n",
       "    .dataframe tbody tr th:only-of-type {\n",
       "        vertical-align: middle;\n",
       "    }\n",
       "\n",
       "    .dataframe tbody tr th {\n",
       "        vertical-align: top;\n",
       "    }\n",
       "\n",
       "    .dataframe thead th {\n",
       "        text-align: right;\n",
       "    }\n",
       "</style>\n",
       "<table border=\"1\" class=\"dataframe\">\n",
       "  <thead>\n",
       "    <tr style=\"text-align: right;\">\n",
       "      <th></th>\n",
       "      <th>metric</th>\n",
       "      <th>cntrl_value</th>\n",
       "      <th>test_value</th>\n",
       "      <th>diff</th>\n",
       "      <th>p_value</th>\n",
       "    </tr>\n",
       "  </thead>\n",
       "  <tbody>\n",
       "    <tr>\n",
       "      <th>0</th>\n",
       "      <td>Усреднеенная метрика по сессиям</td>\n",
       "      <td>0.684005</td>\n",
       "      <td>0.671379</td>\n",
       "      <td>-0.012626</td>\n",
       "      <td>0.245294</td>\n",
       "    </tr>\n",
       "    <tr>\n",
       "      <th>1</th>\n",
       "      <td>Усреднеенная метрика по сессиям с взвешиванием</td>\n",
       "      <td>0.690125</td>\n",
       "      <td>0.689013</td>\n",
       "      <td>-0.001112</td>\n",
       "      <td>0.909541</td>\n",
       "    </tr>\n",
       "    <tr>\n",
       "      <th>2</th>\n",
       "      <td>Усреднеенная метрика по сессиям с семплированием</td>\n",
       "      <td>0.704426</td>\n",
       "      <td>0.649106</td>\n",
       "      <td>-0.055320</td>\n",
       "      <td>0.189638</td>\n",
       "    </tr>\n",
       "    <tr>\n",
       "      <th>3</th>\n",
       "      <td>Усреднеенная метрика по микро сессиям</td>\n",
       "      <td>0.669590</td>\n",
       "      <td>0.658558</td>\n",
       "      <td>-0.011032</td>\n",
       "      <td>0.242714</td>\n",
       "    </tr>\n",
       "    <tr>\n",
       "      <th>4</th>\n",
       "      <td>Усреднеенная метрика по микро сессиям с взвеши...</td>\n",
       "      <td>0.714572</td>\n",
       "      <td>0.714110</td>\n",
       "      <td>-0.000462</td>\n",
       "      <td>0.855406</td>\n",
       "    </tr>\n",
       "    <tr>\n",
       "      <th>5</th>\n",
       "      <td>Средняя энергия сессий</td>\n",
       "      <td>0.887266</td>\n",
       "      <td>0.866370</td>\n",
       "      <td>-0.020896</td>\n",
       "      <td>0.560006</td>\n",
       "    </tr>\n",
       "    <tr>\n",
       "      <th>6</th>\n",
       "      <td>Средняя энергия сессий с взвешиванием</td>\n",
       "      <td>0.823069</td>\n",
       "      <td>0.802537</td>\n",
       "      <td>-0.020532</td>\n",
       "      <td>0.713075</td>\n",
       "    </tr>\n",
       "    <tr>\n",
       "      <th>7</th>\n",
       "      <td>Средняя энергия сессий с семплированием</td>\n",
       "      <td>0.799691</td>\n",
       "      <td>0.734223</td>\n",
       "      <td>-0.065469</td>\n",
       "      <td>0.555850</td>\n",
       "    </tr>\n",
       "  </tbody>\n",
       "</table>\n",
       "</div>"
      ],
      "text/plain": [
       "                                              metric  cntrl_value  test_value  \\\n",
       "0                    Усреднеенная метрика по сессиям     0.684005    0.671379   \n",
       "1     Усреднеенная метрика по сессиям с взвешиванием     0.690125    0.689013   \n",
       "2   Усреднеенная метрика по сессиям с семплированием     0.704426    0.649106   \n",
       "3              Усреднеенная метрика по микро сессиям     0.669590    0.658558   \n",
       "4  Усреднеенная метрика по микро сессиям с взвеши...     0.714572    0.714110   \n",
       "5                             Средняя энергия сессий     0.887266    0.866370   \n",
       "6              Средняя энергия сессий с взвешиванием     0.823069    0.802537   \n",
       "7            Средняя энергия сессий с семплированием     0.799691    0.734223   \n",
       "\n",
       "       diff   p_value  \n",
       "0 -0.012626  0.245294  \n",
       "1 -0.001112  0.909541  \n",
       "2 -0.055320  0.189638  \n",
       "3 -0.011032  0.242714  \n",
       "4 -0.000462  0.855406  \n",
       "5 -0.020896  0.560006  \n",
       "6 -0.020532  0.713075  \n",
       "7 -0.065469  0.555850  "
      ]
     },
     "execution_count": 81,
     "metadata": {},
     "output_type": "execute_result"
    }
   ],
   "source": [
    "res = make_report_table_for_exp('//home/voice/eliseevmax/tasks/EXPERIMENTS-97773/results_with_random_len', test_name=\"test_571521\",\n",
    "           cntrl_name=\"cntrl_571519\",)\n",
    "res"
   ]
  },
  {
   "cell_type": "code",
   "execution_count": 82,
   "metadata": {},
   "outputs": [
    {
     "data": {
      "text/html": [
       "<div>\n",
       "<style scoped>\n",
       "    .dataframe tbody tr th:only-of-type {\n",
       "        vertical-align: middle;\n",
       "    }\n",
       "\n",
       "    .dataframe tbody tr th {\n",
       "        vertical-align: top;\n",
       "    }\n",
       "\n",
       "    .dataframe thead th {\n",
       "        text-align: right;\n",
       "    }\n",
       "</style>\n",
       "<table border=\"1\" class=\"dataframe\">\n",
       "  <thead>\n",
       "    <tr style=\"text-align: right;\">\n",
       "      <th></th>\n",
       "      <th>metric</th>\n",
       "      <th>cntrl_value</th>\n",
       "      <th>test_value</th>\n",
       "      <th>diff</th>\n",
       "      <th>p_value</th>\n",
       "    </tr>\n",
       "  </thead>\n",
       "  <tbody>\n",
       "    <tr>\n",
       "      <th>0</th>\n",
       "      <td>Усреднеенная метрика по сессиям</td>\n",
       "      <td>0.684005</td>\n",
       "      <td>0.672724</td>\n",
       "      <td>-0.011281</td>\n",
       "      <td>0.273124</td>\n",
       "    </tr>\n",
       "    <tr>\n",
       "      <th>1</th>\n",
       "      <td>Усреднеенная метрика по сессиям с взвешиванием</td>\n",
       "      <td>0.690125</td>\n",
       "      <td>0.690377</td>\n",
       "      <td>0.000252</td>\n",
       "      <td>0.973686</td>\n",
       "    </tr>\n",
       "    <tr>\n",
       "      <th>2</th>\n",
       "      <td>Усреднеенная метрика по сессиям с семплированием</td>\n",
       "      <td>0.656301</td>\n",
       "      <td>0.695389</td>\n",
       "      <td>0.039087</td>\n",
       "      <td>0.391741</td>\n",
       "    </tr>\n",
       "    <tr>\n",
       "      <th>3</th>\n",
       "      <td>Усреднеенная метрика по микро сессиям</td>\n",
       "      <td>0.669590</td>\n",
       "      <td>0.667772</td>\n",
       "      <td>-0.001818</td>\n",
       "      <td>0.868020</td>\n",
       "    </tr>\n",
       "    <tr>\n",
       "      <th>4</th>\n",
       "      <td>Усреднеенная метрика по микро сессиям с взвеши...</td>\n",
       "      <td>0.717944</td>\n",
       "      <td>0.731253</td>\n",
       "      <td>0.013309</td>\n",
       "      <td>0.700922</td>\n",
       "    </tr>\n",
       "    <tr>\n",
       "      <th>5</th>\n",
       "      <td>Средняя энергия сессий</td>\n",
       "      <td>0.887266</td>\n",
       "      <td>0.867457</td>\n",
       "      <td>-0.019809</td>\n",
       "      <td>0.356933</td>\n",
       "    </tr>\n",
       "    <tr>\n",
       "      <th>6</th>\n",
       "      <td>Средняя энергия сессий с взвешиванием</td>\n",
       "      <td>0.823069</td>\n",
       "      <td>0.798515</td>\n",
       "      <td>-0.024554</td>\n",
       "      <td>0.601905</td>\n",
       "    </tr>\n",
       "    <tr>\n",
       "      <th>7</th>\n",
       "      <td>Средняя энергия сессий с семплированием</td>\n",
       "      <td>0.810000</td>\n",
       "      <td>0.686809</td>\n",
       "      <td>-0.123191</td>\n",
       "      <td>0.177354</td>\n",
       "    </tr>\n",
       "  </tbody>\n",
       "</table>\n",
       "</div>"
      ],
      "text/plain": [
       "                                              metric  cntrl_value  test_value  \\\n",
       "0                    Усреднеенная метрика по сессиям     0.684005    0.672724   \n",
       "1     Усреднеенная метрика по сессиям с взвешиванием     0.690125    0.690377   \n",
       "2   Усреднеенная метрика по сессиям с семплированием     0.656301    0.695389   \n",
       "3              Усреднеенная метрика по микро сессиям     0.669590    0.667772   \n",
       "4  Усреднеенная метрика по микро сессиям с взвеши...     0.717944    0.731253   \n",
       "5                             Средняя энергия сессий     0.887266    0.867457   \n",
       "6              Средняя энергия сессий с взвешиванием     0.823069    0.798515   \n",
       "7            Средняя энергия сессий с семплированием     0.810000    0.686809   \n",
       "\n",
       "       diff   p_value  \n",
       "0 -0.011281  0.273124  \n",
       "1  0.000252  0.973686  \n",
       "2  0.039087  0.391741  \n",
       "3 -0.001818  0.868020  \n",
       "4  0.013309  0.700922  \n",
       "5 -0.019809  0.356933  \n",
       "6 -0.024554  0.601905  \n",
       "7 -0.123191  0.177354  "
      ]
     },
     "execution_count": 82,
     "metadata": {},
     "output_type": "execute_result"
    }
   ],
   "source": [
    "res = make_report_table_for_exp('//home/voice/eliseevmax/tasks/EXPERIMENTS-97773/results_with_random_len', test_name=\"test_571522\",\n",
    "           cntrl_name=\"cntrl_571519\",)\n",
    "res"
   ]
  },
  {
   "cell_type": "code",
   "execution_count": null,
   "metadata": {},
   "outputs": [],
   "source": []
  },
  {
   "cell_type": "code",
   "execution_count": 7,
   "metadata": {},
   "outputs": [
    {
     "data": {
      "text/html": [
       "<div>\n",
       "<style scoped>\n",
       "    .dataframe tbody tr th:only-of-type {\n",
       "        vertical-align: middle;\n",
       "    }\n",
       "\n",
       "    .dataframe tbody tr th {\n",
       "        vertical-align: top;\n",
       "    }\n",
       "\n",
       "    .dataframe thead th {\n",
       "        text-align: right;\n",
       "    }\n",
       "</style>\n",
       "<table border=\"1\" class=\"dataframe\">\n",
       "  <thead>\n",
       "    <tr style=\"text-align: right;\">\n",
       "      <th></th>\n",
       "      <th>metric</th>\n",
       "      <th>cntrl_value</th>\n",
       "      <th>test_value</th>\n",
       "      <th>diff</th>\n",
       "      <th>p_value</th>\n",
       "    </tr>\n",
       "  </thead>\n",
       "  <tbody>\n",
       "    <tr>\n",
       "      <th>0</th>\n",
       "      <td>Усреднеенная метрика по сессиям</td>\n",
       "      <td>0.684587</td>\n",
       "      <td>0.678365</td>\n",
       "      <td>-0.006222</td>\n",
       "      <td>0.420756</td>\n",
       "    </tr>\n",
       "    <tr>\n",
       "      <th>1</th>\n",
       "      <td>Усреднеенная метрика по сессиям с взвешиванием</td>\n",
       "      <td>0.692766</td>\n",
       "      <td>0.694559</td>\n",
       "      <td>0.001793</td>\n",
       "      <td>0.751685</td>\n",
       "    </tr>\n",
       "    <tr>\n",
       "      <th>2</th>\n",
       "      <td>Усреднеенная метрика по сессиям с семплированием</td>\n",
       "      <td>0.724537</td>\n",
       "      <td>0.736517</td>\n",
       "      <td>0.011980</td>\n",
       "      <td>0.757823</td>\n",
       "    </tr>\n",
       "    <tr>\n",
       "      <th>3</th>\n",
       "      <td>Усреднеенная метрика по микро сессиям</td>\n",
       "      <td>0.667879</td>\n",
       "      <td>0.664430</td>\n",
       "      <td>-0.003449</td>\n",
       "      <td>0.642420</td>\n",
       "    </tr>\n",
       "    <tr>\n",
       "      <th>4</th>\n",
       "      <td>Усреднеенная метрика по микро сессиям с взвеши...</td>\n",
       "      <td>0.667989</td>\n",
       "      <td>0.729311</td>\n",
       "      <td>0.061322</td>\n",
       "      <td>0.128530</td>\n",
       "    </tr>\n",
       "    <tr>\n",
       "      <th>5</th>\n",
       "      <td>Средняя энергия сессий</td>\n",
       "      <td>0.887109</td>\n",
       "      <td>0.899360</td>\n",
       "      <td>0.012252</td>\n",
       "      <td>0.948367</td>\n",
       "    </tr>\n",
       "    <tr>\n",
       "      <th>6</th>\n",
       "      <td>Средняя энергия сессий с взвешиванием</td>\n",
       "      <td>0.825889</td>\n",
       "      <td>0.854749</td>\n",
       "      <td>0.028860</td>\n",
       "      <td>0.169316</td>\n",
       "    </tr>\n",
       "    <tr>\n",
       "      <th>7</th>\n",
       "      <td>Средняя энергия сессий с семплированием</td>\n",
       "      <td>0.827814</td>\n",
       "      <td>0.824038</td>\n",
       "      <td>-0.003775</td>\n",
       "      <td>0.268836</td>\n",
       "    </tr>\n",
       "  </tbody>\n",
       "</table>\n",
       "</div>"
      ],
      "text/plain": [
       "                                              metric  cntrl_value  test_value  \\\n",
       "0                    Усреднеенная метрика по сессиям     0.684587    0.678365   \n",
       "1     Усреднеенная метрика по сессиям с взвешиванием     0.692766    0.694559   \n",
       "2   Усреднеенная метрика по сессиям с семплированием     0.724537    0.736517   \n",
       "3              Усреднеенная метрика по микро сессиям     0.667879    0.664430   \n",
       "4  Усреднеенная метрика по микро сессиям с взвеши...     0.667989    0.729311   \n",
       "5                             Средняя энергия сессий     0.887109    0.899360   \n",
       "6              Средняя энергия сессий с взвешиванием     0.825889    0.854749   \n",
       "7            Средняя энергия сессий с семплированием     0.827814    0.824038   \n",
       "\n",
       "       diff   p_value  \n",
       "0 -0.006222  0.420756  \n",
       "1  0.001793  0.751685  \n",
       "2  0.011980  0.757823  \n",
       "3 -0.003449  0.642420  \n",
       "4  0.061322  0.128530  \n",
       "5  0.012252  0.948367  \n",
       "6  0.028860  0.169316  \n",
       "7 -0.003775  0.268836  "
      ]
     },
     "execution_count": 7,
     "metadata": {},
     "output_type": "execute_result"
    }
   ],
   "source": [
    "res = make_report_table_for_exp(\n",
    "    '//home/voice/eliseevmax/tasks/EXPERIMENTS-97773/results_with_random_len', \n",
    "    test_name=\"test_571520\",\n",
    "           cntrl_name=\"cntrl_571519\",)\n",
    "res"
   ]
  },
  {
   "cell_type": "code",
   "execution_count": 6,
   "metadata": {},
   "outputs": [
    {
     "data": {
      "text/html": [
       "<div>\n",
       "<style scoped>\n",
       "    .dataframe tbody tr th:only-of-type {\n",
       "        vertical-align: middle;\n",
       "    }\n",
       "\n",
       "    .dataframe tbody tr th {\n",
       "        vertical-align: top;\n",
       "    }\n",
       "\n",
       "    .dataframe thead th {\n",
       "        text-align: right;\n",
       "    }\n",
       "</style>\n",
       "<table border=\"1\" class=\"dataframe\">\n",
       "  <thead>\n",
       "    <tr style=\"text-align: right;\">\n",
       "      <th></th>\n",
       "      <th>metric</th>\n",
       "      <th>cntrl_value</th>\n",
       "      <th>test_value</th>\n",
       "      <th>diff</th>\n",
       "      <th>p_value</th>\n",
       "    </tr>\n",
       "  </thead>\n",
       "  <tbody>\n",
       "    <tr>\n",
       "      <th>0</th>\n",
       "      <td>Усреднеенная метрика по сессиям</td>\n",
       "      <td>0.684587</td>\n",
       "      <td>0.671617</td>\n",
       "      <td>-0.012971</td>\n",
       "      <td>0.122235</td>\n",
       "    </tr>\n",
       "    <tr>\n",
       "      <th>1</th>\n",
       "      <td>Усреднеенная метрика по сессиям с взвешиванием</td>\n",
       "      <td>0.692766</td>\n",
       "      <td>0.693330</td>\n",
       "      <td>0.000564</td>\n",
       "      <td>0.845981</td>\n",
       "    </tr>\n",
       "    <tr>\n",
       "      <th>2</th>\n",
       "      <td>Усреднеенная метрика по сессиям с семплированием</td>\n",
       "      <td>0.684384</td>\n",
       "      <td>0.731352</td>\n",
       "      <td>0.046968</td>\n",
       "      <td>0.369931</td>\n",
       "    </tr>\n",
       "    <tr>\n",
       "      <th>3</th>\n",
       "      <td>Усреднеенная метрика по микро сессиям</td>\n",
       "      <td>0.667879</td>\n",
       "      <td>0.660588</td>\n",
       "      <td>-0.007291</td>\n",
       "      <td>0.344303</td>\n",
       "    </tr>\n",
       "    <tr>\n",
       "      <th>4</th>\n",
       "      <td>Усреднеенная метрика по микро сессиям с взвеши...</td>\n",
       "      <td>0.659570</td>\n",
       "      <td>0.703921</td>\n",
       "      <td>0.044352</td>\n",
       "      <td>0.177741</td>\n",
       "    </tr>\n",
       "    <tr>\n",
       "      <th>5</th>\n",
       "      <td>Средняя энергия сессий</td>\n",
       "      <td>0.887109</td>\n",
       "      <td>0.866374</td>\n",
       "      <td>-0.020735</td>\n",
       "      <td>0.261475</td>\n",
       "    </tr>\n",
       "    <tr>\n",
       "      <th>6</th>\n",
       "      <td>Средняя энергия сессий с взвешиванием</td>\n",
       "      <td>0.825889</td>\n",
       "      <td>0.807324</td>\n",
       "      <td>-0.018565</td>\n",
       "      <td>0.524449</td>\n",
       "    </tr>\n",
       "    <tr>\n",
       "      <th>7</th>\n",
       "      <td>Средняя энергия сессий с семплированием</td>\n",
       "      <td>0.728333</td>\n",
       "      <td>0.863134</td>\n",
       "      <td>0.134801</td>\n",
       "      <td>0.058534</td>\n",
       "    </tr>\n",
       "  </tbody>\n",
       "</table>\n",
       "</div>"
      ],
      "text/plain": [
       "                                              metric  cntrl_value  test_value  \\\n",
       "0                    Усреднеенная метрика по сессиям     0.684587    0.671617   \n",
       "1     Усреднеенная метрика по сессиям с взвешиванием     0.692766    0.693330   \n",
       "2   Усреднеенная метрика по сессиям с семплированием     0.684384    0.731352   \n",
       "3              Усреднеенная метрика по микро сессиям     0.667879    0.660588   \n",
       "4  Усреднеенная метрика по микро сессиям с взвеши...     0.659570    0.703921   \n",
       "5                             Средняя энергия сессий     0.887109    0.866374   \n",
       "6              Средняя энергия сессий с взвешиванием     0.825889    0.807324   \n",
       "7            Средняя энергия сессий с семплированием     0.728333    0.863134   \n",
       "\n",
       "       diff   p_value  \n",
       "0 -0.012971  0.122235  \n",
       "1  0.000564  0.845981  \n",
       "2  0.046968  0.369931  \n",
       "3 -0.007291  0.344303  \n",
       "4  0.044352  0.177741  \n",
       "5 -0.020735  0.261475  \n",
       "6 -0.018565  0.524449  \n",
       "7  0.134801  0.058534  "
      ]
     },
     "execution_count": 6,
     "metadata": {},
     "output_type": "execute_result"
    }
   ],
   "source": [
    "res = make_report_table_for_exp(\n",
    "    '//home/voice/eliseevmax/tasks/EXPERIMENTS-97773/results_with_random_len', \n",
    "    test_name=\"test_571521\",\n",
    "           cntrl_name=\"cntrl_571519\",)\n",
    "res"
   ]
  },
  {
   "cell_type": "code",
   "execution_count": 5,
   "metadata": {},
   "outputs": [
    {
     "data": {
      "text/html": [
       "<div>\n",
       "<style scoped>\n",
       "    .dataframe tbody tr th:only-of-type {\n",
       "        vertical-align: middle;\n",
       "    }\n",
       "\n",
       "    .dataframe tbody tr th {\n",
       "        vertical-align: top;\n",
       "    }\n",
       "\n",
       "    .dataframe thead th {\n",
       "        text-align: right;\n",
       "    }\n",
       "</style>\n",
       "<table border=\"1\" class=\"dataframe\">\n",
       "  <thead>\n",
       "    <tr style=\"text-align: right;\">\n",
       "      <th></th>\n",
       "      <th>metric</th>\n",
       "      <th>cntrl_value</th>\n",
       "      <th>test_value</th>\n",
       "      <th>diff</th>\n",
       "      <th>p_value</th>\n",
       "    </tr>\n",
       "  </thead>\n",
       "  <tbody>\n",
       "    <tr>\n",
       "      <th>0</th>\n",
       "      <td>Усреднеенная метрика по сессиям</td>\n",
       "      <td>0.619909</td>\n",
       "      <td>0.625116</td>\n",
       "      <td>0.005207</td>\n",
       "      <td>0.341869</td>\n",
       "    </tr>\n",
       "    <tr>\n",
       "      <th>1</th>\n",
       "      <td>Усреднеенная метрика по сессиям с взвешиванием</td>\n",
       "      <td>0.619185</td>\n",
       "      <td>0.625909</td>\n",
       "      <td>0.006724</td>\n",
       "      <td>0.861314</td>\n",
       "    </tr>\n",
       "    <tr>\n",
       "      <th>2</th>\n",
       "      <td>Усреднеенная метрика по сессиям с семплированием</td>\n",
       "      <td>0.636382</td>\n",
       "      <td>0.596400</td>\n",
       "      <td>-0.039982</td>\n",
       "      <td>0.226188</td>\n",
       "    </tr>\n",
       "    <tr>\n",
       "      <th>3</th>\n",
       "      <td>Усреднеенная метрика по микро сессиям</td>\n",
       "      <td>0.611631</td>\n",
       "      <td>0.621090</td>\n",
       "      <td>0.009459</td>\n",
       "      <td>0.077910</td>\n",
       "    </tr>\n",
       "    <tr>\n",
       "      <th>4</th>\n",
       "      <td>Усреднеенная метрика по микро сессиям с взвеши...</td>\n",
       "      <td>0.636283</td>\n",
       "      <td>0.638599</td>\n",
       "      <td>0.002316</td>\n",
       "      <td>0.931082</td>\n",
       "    </tr>\n",
       "    <tr>\n",
       "      <th>5</th>\n",
       "      <td>Средняя энергия сессий</td>\n",
       "      <td>1.008389</td>\n",
       "      <td>0.995935</td>\n",
       "      <td>-0.012454</td>\n",
       "      <td>0.553492</td>\n",
       "    </tr>\n",
       "    <tr>\n",
       "      <th>6</th>\n",
       "      <td>Средняя энергия сессий с взвешиванием</td>\n",
       "      <td>1.122390</td>\n",
       "      <td>1.079044</td>\n",
       "      <td>-0.043347</td>\n",
       "      <td>0.158228</td>\n",
       "    </tr>\n",
       "    <tr>\n",
       "      <th>7</th>\n",
       "      <td>Средняя энергия сессий с семплированием</td>\n",
       "      <td>1.283824</td>\n",
       "      <td>1.062140</td>\n",
       "      <td>-0.221684</td>\n",
       "      <td>0.131367</td>\n",
       "    </tr>\n",
       "  </tbody>\n",
       "</table>\n",
       "</div>"
      ],
      "text/plain": [
       "                                              metric  cntrl_value  test_value  \\\n",
       "0                    Усреднеенная метрика по сессиям     0.619909    0.625116   \n",
       "1     Усреднеенная метрика по сессиям с взвешиванием     0.619185    0.625909   \n",
       "2   Усреднеенная метрика по сессиям с семплированием     0.636382    0.596400   \n",
       "3              Усреднеенная метрика по микро сессиям     0.611631    0.621090   \n",
       "4  Усреднеенная метрика по микро сессиям с взвеши...     0.636283    0.638599   \n",
       "5                             Средняя энергия сессий     1.008389    0.995935   \n",
       "6              Средняя энергия сессий с взвешиванием     1.122390    1.079044   \n",
       "7            Средняя энергия сессий с семплированием     1.283824    1.062140   \n",
       "\n",
       "       diff   p_value  \n",
       "0  0.005207  0.341869  \n",
       "1  0.006724  0.861314  \n",
       "2 -0.039982  0.226188  \n",
       "3  0.009459  0.077910  \n",
       "4  0.002316  0.931082  \n",
       "5 -0.012454  0.553492  \n",
       "6 -0.043347  0.158228  \n",
       "7 -0.221684  0.131367  "
      ]
     },
     "execution_count": 5,
     "metadata": {},
     "output_type": "execute_result"
    }
   ],
   "source": [
    "res = make_report_table_for_exp(\n",
    "    '//home/voice/eliseevmax/tasks/EXPERIMENTS-97773/results_with_random_len_general_4', \n",
    "    test_name=\"test_571522\",\n",
    "           cntrl_name=\"cntrl_571519\",)\n",
    "res"
   ]
  },
  {
   "cell_type": "code",
   "execution_count": null,
   "metadata": {},
   "outputs": [],
   "source": []
  },
  {
   "cell_type": "markdown",
   "metadata": {},
   "source": [
    "# Уменьшение глубины контекста"
   ]
  },
  {
   "cell_type": "code",
   "execution_count": 76,
   "metadata": {},
   "outputs": [
    {
     "name": "stderr",
     "output_type": "stream",
     "text": [
      "2022-05-27 08:19:45,270\tWARNING\tHTTP GET request http://hahn.yt.yandex.net/api/v3/get failed with error ConnectionError(ProtocolError('Connection aborted.', OSError(65, 'No route to host'))) (request_id: df6d6ea4)\n",
      "2022-05-27 08:19:45,280\tWARNING\tSleep for 4.40 seconds before next retry (request_id: df6d6ea4)\n",
      "2022-05-27 08:19:49,680\tWARNING\tNew retry (2) for request id df6d6ea4...\n",
      "2022-05-27 08:20:09,875\tWARNING\tHTTP POST request http://hahn.yt.yandex.net/api/v3/lock failed with error ReadTimeout(ReadTimeoutError(\"HTTPConnectionPool(host='hahn.yt.yandex.net', port=80): Read timed out. (read timeout=20.0)\")) (request_id: 1090e10f)\n",
      "2022-05-27 08:20:09,876\tWARNING\tSleep for 4.65 seconds before next retry (request_id: 1090e10f)\n",
      "2022-05-27 08:20:14,532\tWARNING\tNew retry (2) for request id 1090e10f...\n"
     ]
    },
    {
     "data": {
      "text/html": [
       "<div>\n",
       "<style scoped>\n",
       "    .dataframe tbody tr th:only-of-type {\n",
       "        vertical-align: middle;\n",
       "    }\n",
       "\n",
       "    .dataframe tbody tr th {\n",
       "        vertical-align: top;\n",
       "    }\n",
       "\n",
       "    .dataframe thead th {\n",
       "        text-align: right;\n",
       "    }\n",
       "</style>\n",
       "<table border=\"1\" class=\"dataframe\">\n",
       "  <thead>\n",
       "    <tr style=\"text-align: right;\">\n",
       "      <th></th>\n",
       "      <th>metric</th>\n",
       "      <th>cntrl_value</th>\n",
       "      <th>test_value</th>\n",
       "      <th>diff</th>\n",
       "      <th>p_value</th>\n",
       "    </tr>\n",
       "  </thead>\n",
       "  <tbody>\n",
       "    <tr>\n",
       "      <th>0</th>\n",
       "      <td>Усреднеенная метрика по сессиям</td>\n",
       "      <td>0.653807</td>\n",
       "      <td>0.591576</td>\n",
       "      <td>-0.062230</td>\n",
       "      <td>0.391799</td>\n",
       "    </tr>\n",
       "    <tr>\n",
       "      <th>1</th>\n",
       "      <td>Усреднеенная метрика по микро сессиям</td>\n",
       "      <td>0.632033</td>\n",
       "      <td>0.591287</td>\n",
       "      <td>-0.040746</td>\n",
       "      <td>0.642309</td>\n",
       "    </tr>\n",
       "    <tr>\n",
       "      <th>2</th>\n",
       "      <td>Средняя энергия сессий</td>\n",
       "      <td>0.712284</td>\n",
       "      <td>0.664312</td>\n",
       "      <td>-0.047972</td>\n",
       "      <td>0.610066</td>\n",
       "    </tr>\n",
       "    <tr>\n",
       "      <th>3</th>\n",
       "      <td>Согласованность</td>\n",
       "      <td>0.700342</td>\n",
       "      <td>NaN</td>\n",
       "      <td>NaN</td>\n",
       "      <td>NaN</td>\n",
       "    </tr>\n",
       "  </tbody>\n",
       "</table>\n",
       "</div>"
      ],
      "text/plain": [
       "                                  metric  cntrl_value  test_value      diff  \\\n",
       "0        Усреднеенная метрика по сессиям     0.653807    0.591576 -0.062230   \n",
       "1  Усреднеенная метрика по микро сессиям     0.632033    0.591287 -0.040746   \n",
       "2                 Средняя энергия сессий     0.712284    0.664312 -0.047972   \n",
       "3                        Согласованность     0.700342         NaN       NaN   \n",
       "\n",
       "    p_value  \n",
       "0  0.391799  \n",
       "1  0.642309  \n",
       "2  0.610066  \n",
       "3       NaN  "
      ]
     },
     "execution_count": 76,
     "metadata": {},
     "output_type": "execute_result"
    }
   ],
   "source": [
    "# Контекст 1\n",
    "res = make_report_table_for_exp_without_sampl(\n",
    "    '//home/voice/eliseevmax/tasks/EXPERIMENTS-99465/general_conversation_3_len/small_smart_speakers-quasar/joined_results', \n",
    "    test_name=\"test_583842\",\n",
    "           cntrl_name=\"cntrl_583841\",)\n",
    "res"
   ]
  },
  {
   "cell_type": "code",
   "execution_count": 77,
   "metadata": {},
   "outputs": [
    {
     "data": {
      "text/html": [
       "<div>\n",
       "<style scoped>\n",
       "    .dataframe tbody tr th:only-of-type {\n",
       "        vertical-align: middle;\n",
       "    }\n",
       "\n",
       "    .dataframe tbody tr th {\n",
       "        vertical-align: top;\n",
       "    }\n",
       "\n",
       "    .dataframe thead th {\n",
       "        text-align: right;\n",
       "    }\n",
       "</style>\n",
       "<table border=\"1\" class=\"dataframe\">\n",
       "  <thead>\n",
       "    <tr style=\"text-align: right;\">\n",
       "      <th></th>\n",
       "      <th>metric</th>\n",
       "      <th>cntrl_value</th>\n",
       "      <th>test_value</th>\n",
       "      <th>diff</th>\n",
       "      <th>p_value</th>\n",
       "    </tr>\n",
       "  </thead>\n",
       "  <tbody>\n",
       "    <tr>\n",
       "      <th>0</th>\n",
       "      <td>Усреднеенная метрика по сессиям</td>\n",
       "      <td>0.653807</td>\n",
       "      <td>0.587056</td>\n",
       "      <td>-0.066751</td>\n",
       "      <td>0.362721</td>\n",
       "    </tr>\n",
       "    <tr>\n",
       "      <th>1</th>\n",
       "      <td>Усреднеенная метрика по микро сессиям</td>\n",
       "      <td>0.632033</td>\n",
       "      <td>0.582105</td>\n",
       "      <td>-0.049928</td>\n",
       "      <td>0.610502</td>\n",
       "    </tr>\n",
       "    <tr>\n",
       "      <th>2</th>\n",
       "      <td>Средняя энергия сессий</td>\n",
       "      <td>0.712284</td>\n",
       "      <td>0.687056</td>\n",
       "      <td>-0.025228</td>\n",
       "      <td>0.400765</td>\n",
       "    </tr>\n",
       "    <tr>\n",
       "      <th>3</th>\n",
       "      <td>Согласованность</td>\n",
       "      <td>0.700342</td>\n",
       "      <td>NaN</td>\n",
       "      <td>NaN</td>\n",
       "      <td>NaN</td>\n",
       "    </tr>\n",
       "  </tbody>\n",
       "</table>\n",
       "</div>"
      ],
      "text/plain": [
       "                                  metric  cntrl_value  test_value      diff  \\\n",
       "0        Усреднеенная метрика по сессиям     0.653807    0.587056 -0.066751   \n",
       "1  Усреднеенная метрика по микро сессиям     0.632033    0.582105 -0.049928   \n",
       "2                 Средняя энергия сессий     0.712284    0.687056 -0.025228   \n",
       "3                        Согласованность     0.700342         NaN       NaN   \n",
       "\n",
       "    p_value  \n",
       "0  0.362721  \n",
       "1  0.610502  \n",
       "2  0.400765  \n",
       "3       NaN  "
      ]
     },
     "execution_count": 77,
     "metadata": {},
     "output_type": "execute_result"
    }
   ],
   "source": [
    "# Контекст 3\n",
    "res = make_report_table_for_exp_without_sampl(\n",
    "    '//home/voice/eliseevmax/tasks/EXPERIMENTS-99465/general_conversation_3_len/small_smart_speakers-quasar/joined_results', \n",
    "    test_name=\"test_583846\",\n",
    "           cntrl_name=\"cntrl_583841\",)\n",
    "res"
   ]
  },
  {
   "cell_type": "code",
   "execution_count": 78,
   "metadata": {},
   "outputs": [
    {
     "data": {
      "text/html": [
       "<div>\n",
       "<style scoped>\n",
       "    .dataframe tbody tr th:only-of-type {\n",
       "        vertical-align: middle;\n",
       "    }\n",
       "\n",
       "    .dataframe tbody tr th {\n",
       "        vertical-align: top;\n",
       "    }\n",
       "\n",
       "    .dataframe thead th {\n",
       "        text-align: right;\n",
       "    }\n",
       "</style>\n",
       "<table border=\"1\" class=\"dataframe\">\n",
       "  <thead>\n",
       "    <tr style=\"text-align: right;\">\n",
       "      <th></th>\n",
       "      <th>metric</th>\n",
       "      <th>cntrl_value</th>\n",
       "      <th>test_value</th>\n",
       "      <th>diff</th>\n",
       "      <th>p_value</th>\n",
       "    </tr>\n",
       "  </thead>\n",
       "  <tbody>\n",
       "    <tr>\n",
       "      <th>0</th>\n",
       "      <td>Усреднеенная метрика по сессиям</td>\n",
       "      <td>0.653807</td>\n",
       "      <td>0.542262</td>\n",
       "      <td>-0.111545</td>\n",
       "      <td>0.203869</td>\n",
       "    </tr>\n",
       "    <tr>\n",
       "      <th>1</th>\n",
       "      <td>Усреднеенная метрика по микро сессиям</td>\n",
       "      <td>0.632033</td>\n",
       "      <td>0.532431</td>\n",
       "      <td>-0.099602</td>\n",
       "      <td>0.259172</td>\n",
       "    </tr>\n",
       "    <tr>\n",
       "      <th>2</th>\n",
       "      <td>Средняя энергия сессий</td>\n",
       "      <td>0.712284</td>\n",
       "      <td>0.634524</td>\n",
       "      <td>-0.077760</td>\n",
       "      <td>0.366836</td>\n",
       "    </tr>\n",
       "    <tr>\n",
       "      <th>3</th>\n",
       "      <td>Согласованность</td>\n",
       "      <td>0.700342</td>\n",
       "      <td>NaN</td>\n",
       "      <td>NaN</td>\n",
       "      <td>NaN</td>\n",
       "    </tr>\n",
       "  </tbody>\n",
       "</table>\n",
       "</div>"
      ],
      "text/plain": [
       "                                  metric  cntrl_value  test_value      diff  \\\n",
       "0        Усреднеенная метрика по сессиям     0.653807    0.542262 -0.111545   \n",
       "1  Усреднеенная метрика по микро сессиям     0.632033    0.532431 -0.099602   \n",
       "2                 Средняя энергия сессий     0.712284    0.634524 -0.077760   \n",
       "3                        Согласованность     0.700342         NaN       NaN   \n",
       "\n",
       "    p_value  \n",
       "0  0.203869  \n",
       "1  0.259172  \n",
       "2  0.366836  \n",
       "3       NaN  "
      ]
     },
     "execution_count": 78,
     "metadata": {},
     "output_type": "execute_result"
    }
   ],
   "source": [
    "# Контекст 5\n",
    "res = make_report_table_for_exp_without_sampl(\n",
    "    '//home/voice/eliseevmax/tasks/EXPERIMENTS-99465/general_conversation_3_len/small_smart_speakers-quasar/joined_results', \n",
    "    test_name=\"test_583847\",\n",
    "           cntrl_name=\"cntrl_583841\",)\n",
    "res"
   ]
  },
  {
   "cell_type": "markdown",
   "metadata": {},
   "source": [
    "### Dawid-Skene"
   ]
  },
  {
   "cell_type": "code",
   "execution_count": 80,
   "metadata": {},
   "outputs": [
    {
     "data": {
      "text/html": [
       "<div>\n",
       "<style scoped>\n",
       "    .dataframe tbody tr th:only-of-type {\n",
       "        vertical-align: middle;\n",
       "    }\n",
       "\n",
       "    .dataframe tbody tr th {\n",
       "        vertical-align: top;\n",
       "    }\n",
       "\n",
       "    .dataframe thead th {\n",
       "        text-align: right;\n",
       "    }\n",
       "</style>\n",
       "<table border=\"1\" class=\"dataframe\">\n",
       "  <thead>\n",
       "    <tr style=\"text-align: right;\">\n",
       "      <th></th>\n",
       "      <th>metric</th>\n",
       "      <th>cntrl_value</th>\n",
       "      <th>test_value</th>\n",
       "      <th>diff</th>\n",
       "      <th>p_value</th>\n",
       "    </tr>\n",
       "  </thead>\n",
       "  <tbody>\n",
       "    <tr>\n",
       "      <th>0</th>\n",
       "      <td>Усреднеенная метрика по сессиям</td>\n",
       "      <td>0.708318</td>\n",
       "      <td>0.678390</td>\n",
       "      <td>-0.029928</td>\n",
       "      <td>0.258668</td>\n",
       "    </tr>\n",
       "    <tr>\n",
       "      <th>1</th>\n",
       "      <td>Усреднеенная метрика по микро сессиям</td>\n",
       "      <td>0.693052</td>\n",
       "      <td>0.677855</td>\n",
       "      <td>-0.015197</td>\n",
       "      <td>0.465546</td>\n",
       "    </tr>\n",
       "    <tr>\n",
       "      <th>2</th>\n",
       "      <td>Средняя энергия сессий</td>\n",
       "      <td>0.896512</td>\n",
       "      <td>0.818537</td>\n",
       "      <td>-0.077975</td>\n",
       "      <td>0.544300</td>\n",
       "    </tr>\n",
       "    <tr>\n",
       "      <th>3</th>\n",
       "      <td>Согласованность</td>\n",
       "      <td>0.855360</td>\n",
       "      <td>NaN</td>\n",
       "      <td>NaN</td>\n",
       "      <td>NaN</td>\n",
       "    </tr>\n",
       "  </tbody>\n",
       "</table>\n",
       "</div>"
      ],
      "text/plain": [
       "                                  metric  cntrl_value  test_value      diff  \\\n",
       "0        Усреднеенная метрика по сессиям     0.708318    0.678390 -0.029928   \n",
       "1  Усреднеенная метрика по микро сессиям     0.693052    0.677855 -0.015197   \n",
       "2                 Средняя энергия сессий     0.896512    0.818537 -0.077975   \n",
       "3                        Согласованность     0.855360         NaN       NaN   \n",
       "\n",
       "    p_value  \n",
       "0  0.258668  \n",
       "1  0.465546  \n",
       "2  0.544300  \n",
       "3       NaN  "
      ]
     },
     "execution_count": 80,
     "metadata": {},
     "output_type": "execute_result"
    }
   ],
   "source": [
    "# Контекст 1\n",
    "res = make_report_table_for_exp_without_sampl(\n",
    "    test_name=\"test_583842\",\n",
    "           cntrl_name=\"cntrl_583841\",)\n",
    "res"
   ]
  },
  {
   "cell_type": "code",
   "execution_count": 81,
   "metadata": {},
   "outputs": [
    {
     "data": {
      "text/html": [
       "<div>\n",
       "<style scoped>\n",
       "    .dataframe tbody tr th:only-of-type {\n",
       "        vertical-align: middle;\n",
       "    }\n",
       "\n",
       "    .dataframe tbody tr th {\n",
       "        vertical-align: top;\n",
       "    }\n",
       "\n",
       "    .dataframe thead th {\n",
       "        text-align: right;\n",
       "    }\n",
       "</style>\n",
       "<table border=\"1\" class=\"dataframe\">\n",
       "  <thead>\n",
       "    <tr style=\"text-align: right;\">\n",
       "      <th></th>\n",
       "      <th>metric</th>\n",
       "      <th>cntrl_value</th>\n",
       "      <th>test_value</th>\n",
       "      <th>diff</th>\n",
       "      <th>p_value</th>\n",
       "    </tr>\n",
       "  </thead>\n",
       "  <tbody>\n",
       "    <tr>\n",
       "      <th>0</th>\n",
       "      <td>Усреднеенная метрика по сессиям</td>\n",
       "      <td>0.708318</td>\n",
       "      <td>0.630918</td>\n",
       "      <td>-0.077400</td>\n",
       "      <td>0.067942</td>\n",
       "    </tr>\n",
       "    <tr>\n",
       "      <th>1</th>\n",
       "      <td>Усреднеенная метрика по микро сессиям</td>\n",
       "      <td>0.693052</td>\n",
       "      <td>0.637889</td>\n",
       "      <td>-0.055163</td>\n",
       "      <td>0.186555</td>\n",
       "    </tr>\n",
       "    <tr>\n",
       "      <th>2</th>\n",
       "      <td>Средняя энергия сессий</td>\n",
       "      <td>0.896512</td>\n",
       "      <td>0.789812</td>\n",
       "      <td>-0.106700</td>\n",
       "      <td>0.066089</td>\n",
       "    </tr>\n",
       "    <tr>\n",
       "      <th>3</th>\n",
       "      <td>Согласованность</td>\n",
       "      <td>0.855360</td>\n",
       "      <td>NaN</td>\n",
       "      <td>NaN</td>\n",
       "      <td>NaN</td>\n",
       "    </tr>\n",
       "  </tbody>\n",
       "</table>\n",
       "</div>"
      ],
      "text/plain": [
       "                                  metric  cntrl_value  test_value      diff  \\\n",
       "0        Усреднеенная метрика по сессиям     0.708318    0.630918 -0.077400   \n",
       "1  Усреднеенная метрика по микро сессиям     0.693052    0.637889 -0.055163   \n",
       "2                 Средняя энергия сессий     0.896512    0.789812 -0.106700   \n",
       "3                        Согласованность     0.855360         NaN       NaN   \n",
       "\n",
       "    p_value  \n",
       "0  0.067942  \n",
       "1  0.186555  \n",
       "2  0.066089  \n",
       "3       NaN  "
      ]
     },
     "execution_count": 81,
     "metadata": {},
     "output_type": "execute_result"
    }
   ],
   "source": [
    "# Контекст 3\n",
    "res = make_report_table_for_exp_without_sampl(\n",
    "    '//home/voice/eliseevmax/tasks/EXPERIMENTS-99465/general_conversation_3_len/small_smart_speakers-quasar/joined_results_dawid_skene', \n",
    "    test_name=\"test_583846\",\n",
    "           cntrl_name=\"cntrl_583841\",)\n",
    "res"
   ]
  },
  {
   "cell_type": "code",
   "execution_count": 82,
   "metadata": {},
   "outputs": [
    {
     "data": {
      "text/html": [
       "<div>\n",
       "<style scoped>\n",
       "    .dataframe tbody tr th:only-of-type {\n",
       "        vertical-align: middle;\n",
       "    }\n",
       "\n",
       "    .dataframe tbody tr th {\n",
       "        vertical-align: top;\n",
       "    }\n",
       "\n",
       "    .dataframe thead th {\n",
       "        text-align: right;\n",
       "    }\n",
       "</style>\n",
       "<table border=\"1\" class=\"dataframe\">\n",
       "  <thead>\n",
       "    <tr style=\"text-align: right;\">\n",
       "      <th></th>\n",
       "      <th>metric</th>\n",
       "      <th>cntrl_value</th>\n",
       "      <th>test_value</th>\n",
       "      <th>diff</th>\n",
       "      <th>p_value</th>\n",
       "    </tr>\n",
       "  </thead>\n",
       "  <tbody>\n",
       "    <tr>\n",
       "      <th>0</th>\n",
       "      <td>Усреднеенная метрика по сессиям</td>\n",
       "      <td>0.708318</td>\n",
       "      <td>0.667696</td>\n",
       "      <td>-0.040621</td>\n",
       "      <td>0.431274</td>\n",
       "    </tr>\n",
       "    <tr>\n",
       "      <th>1</th>\n",
       "      <td>Усреднеенная метрика по микро сессиям</td>\n",
       "      <td>0.693052</td>\n",
       "      <td>0.661090</td>\n",
       "      <td>-0.031963</td>\n",
       "      <td>0.583890</td>\n",
       "    </tr>\n",
       "    <tr>\n",
       "      <th>2</th>\n",
       "      <td>Средняя энергия сессий</td>\n",
       "      <td>0.896512</td>\n",
       "      <td>0.891088</td>\n",
       "      <td>-0.005424</td>\n",
       "      <td>0.574034</td>\n",
       "    </tr>\n",
       "    <tr>\n",
       "      <th>3</th>\n",
       "      <td>Согласованность</td>\n",
       "      <td>0.855360</td>\n",
       "      <td>NaN</td>\n",
       "      <td>NaN</td>\n",
       "      <td>NaN</td>\n",
       "    </tr>\n",
       "  </tbody>\n",
       "</table>\n",
       "</div>"
      ],
      "text/plain": [
       "                                  metric  cntrl_value  test_value      diff  \\\n",
       "0        Усреднеенная метрика по сессиям     0.708318    0.667696 -0.040621   \n",
       "1  Усреднеенная метрика по микро сессиям     0.693052    0.661090 -0.031963   \n",
       "2                 Средняя энергия сессий     0.896512    0.891088 -0.005424   \n",
       "3                        Согласованность     0.855360         NaN       NaN   \n",
       "\n",
       "    p_value  \n",
       "0  0.431274  \n",
       "1  0.583890  \n",
       "2  0.574034  \n",
       "3       NaN  "
      ]
     },
     "execution_count": 82,
     "metadata": {},
     "output_type": "execute_result"
    }
   ],
   "source": [
    "# Контекст 5\n",
    "res = make_report_table_for_exp_without_sampl(\n",
    "    '//home/voice/eliseevmax/tasks/EXPERIMENTS-99465/general_conversation_3_len/small_smart_speakers-quasar/joined_results_dawid_skene', \n",
    "    test_name=\"test_583847\",\n",
    "           cntrl_name=\"cntrl_583841\",)\n",
    "res"
   ]
  },
  {
   "cell_type": "code",
   "execution_count": null,
   "metadata": {},
   "outputs": [],
   "source": []
  }
 ],
 "metadata": {
  "kernelspec": {
   "display_name": "Python 3",
   "language": "python",
   "name": "python3"
  },
  "language_info": {
   "codemirror_mode": {
    "name": "ipython",
    "version": 3
   },
   "file_extension": ".py",
   "mimetype": "text/x-python",
   "name": "python",
   "nbconvert_exporter": "python",
   "pygments_lexer": "ipython3",
   "version": "3.8.8"
  }
 },
 "nbformat": 4,
 "nbformat_minor": 4
}
