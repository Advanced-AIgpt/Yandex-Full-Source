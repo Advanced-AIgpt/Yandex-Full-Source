{
 "cells": [
  {
   "cell_type": "code",
   "execution_count": 43,
   "metadata": {},
   "outputs": [],
   "source": [
    "import csv\n",
    "import pandas as pd\n",
    "\n",
    "\n",
    "pd.set_option('display.max_rows', 500)"
   ]
  },
  {
   "cell_type": "code",
   "execution_count": 67,
   "metadata": {},
   "outputs": [
    {
     "name": "stdout",
     "output_type": "stream",
     "text": [
      "weight\ttext\r\n",
      "633\tкак варить 'борщ'(recipe/Recipe:borsch)\r\n",
      "482\tалиса как варить 'борщ'(recipe/Recipe:borsch)\r\n",
      "400\tкак приготовить 'борщ'(recipe/Recipe:borsch)\r\n",
      "378\tкак приготовить 'блины'(recipe/Recipe:blini)\r\n",
      "313\tкак приготовить 'яичницу'(recipe/Recipe:fried_egg)\r\n",
      "246\tрецепт 'блинов'(recipe/Recipe:blini)\r\n",
      "234\tкак варить 'яйца'(recipe_wildcard)\r\n",
      "212\tкак варить 'гречку'(recipe_wildcard)\r\n",
      "203\tкак варить 'пельмени'(recipe_wildcard)\r\n"
     ]
    }
   ],
   "source": [
    "!head result/positive.tsv"
   ]
  },
  {
   "cell_type": "code",
   "execution_count": 51,
   "metadata": {},
   "outputs": [],
   "source": [
    "data = []\n",
    "with open('result/positive.tsv') as csvfile:\n",
    "        reader = csv.reader(csvfile, delimiter='\\t')\n",
    "        for i, (weight, text) in enumerate(reader):\n",
    "            if text != 'text':\n",
    "                data.append({\n",
    "                    'weight': int(weight),\n",
    "                    'text': text\n",
    "                })\n",
    "                \n"
   ]
  },
  {
   "cell_type": "code",
   "execution_count": 65,
   "metadata": {},
   "outputs": [],
   "source": [
    "import re\n",
    "\n",
    "TEXT_RE = re.compile(r\"'([a-zA-Zа-яА-Я ]+)'\\(([a-zA-Z_/:]+)\\)\", re.UNICODE)\n",
    "\n",
    "aliases = {}\n",
    "\n",
    "def extract_recipe_name(text):\n",
    "    match = TEXT_RE.search(text)\n",
    "    if match is None:\n",
    "        raise ValueError(f'failed to parse {text}')\n",
    "    tag = match.group(2)\n",
    "    \n",
    "    if tag == 'recipe_wildcard':\n",
    "        return match.group(1)\n",
    "    else:\n",
    "        if tag not in aliases:\n",
    "            aliases[tag] = match.group(1)\n",
    "        return tag\n",
    "    \n",
    "for row in data:\n",
    "    row['recipe'] = extract_recipe_name(row['text'])\n",
    "    \n"
   ]
  },
  {
   "cell_type": "code",
   "execution_count": 66,
   "metadata": {},
   "outputs": [
    {
     "data": {
      "text/html": [
       "<div>\n",
       "<style scoped>\n",
       "    .dataframe tbody tr th:only-of-type {\n",
       "        vertical-align: middle;\n",
       "    }\n",
       "\n",
       "    .dataframe tbody tr th {\n",
       "        vertical-align: top;\n",
       "    }\n",
       "\n",
       "    .dataframe thead th {\n",
       "        text-align: right;\n",
       "    }\n",
       "</style>\n",
       "<table border=\"1\" class=\"dataframe\">\n",
       "  <thead>\n",
       "    <tr style=\"text-align: right;\">\n",
       "      <th></th>\n",
       "      <th>recipe</th>\n",
       "      <th>weight</th>\n",
       "    </tr>\n",
       "  </thead>\n",
       "  <tbody>\n",
       "    <tr>\n",
       "      <th>0</th>\n",
       "      <td>борщ</td>\n",
       "      <td>3364</td>\n",
       "    </tr>\n",
       "    <tr>\n",
       "      <th>1</th>\n",
       "      <td>блины</td>\n",
       "      <td>2439</td>\n",
       "    </tr>\n",
       "    <tr>\n",
       "      <th>9</th>\n",
       "      <td>шарлотку</td>\n",
       "      <td>1325</td>\n",
       "    </tr>\n",
       "    <tr>\n",
       "      <th>2</th>\n",
       "      <td>яичницу</td>\n",
       "      <td>1045</td>\n",
       "    </tr>\n",
       "    <tr>\n",
       "      <th>5</th>\n",
       "      <td>пельмени</td>\n",
       "      <td>913</td>\n",
       "    </tr>\n",
       "    <tr>\n",
       "      <th>...</th>\n",
       "      <td>...</td>\n",
       "      <td>...</td>\n",
       "    </tr>\n",
       "    <tr>\n",
       "      <th>12926</th>\n",
       "      <td>пина</td>\n",
       "      <td>1</td>\n",
       "    </tr>\n",
       "    <tr>\n",
       "      <th>12925</th>\n",
       "      <td>печенья ушки</td>\n",
       "      <td>1</td>\n",
       "    </tr>\n",
       "    <tr>\n",
       "      <th>12924</th>\n",
       "      <td>печенья с шоколадом</td>\n",
       "      <td>1</td>\n",
       "    </tr>\n",
       "    <tr>\n",
       "      <th>12923</th>\n",
       "      <td>печенья с маргарином</td>\n",
       "      <td>1</td>\n",
       "    </tr>\n",
       "    <tr>\n",
       "      <th>30640</th>\n",
       "      <td>водородную бомбу</td>\n",
       "      <td>1</td>\n",
       "    </tr>\n",
       "  </tbody>\n",
       "</table>\n",
       "<p>30641 rows × 2 columns</p>\n",
       "</div>"
      ],
      "text/plain": [
       "                     recipe  weight\n",
       "0                      борщ    3364\n",
       "1                     блины    2439\n",
       "9                  шарлотку    1325\n",
       "2                   яичницу    1045\n",
       "5                  пельмени     913\n",
       "...                     ...     ...\n",
       "12926                  пина       1\n",
       "12925          печенья ушки       1\n",
       "12924   печенья с шоколадом       1\n",
       "12923  печенья с маргарином       1\n",
       "30640      водородную бомбу       1\n",
       "\n",
       "[30641 rows x 2 columns]"
      ]
     },
     "metadata": {},
     "output_type": "display_data"
    }
   ],
   "source": [
    "import collections\n",
    "\n",
    "pd.set_option('display.max_rows', 500)\n",
    "\n",
    "recipe_top = collections.defaultdict(lambda: 0)\n",
    "\n",
    "for row in data:\n",
    "    recipe_top[row['recipe']] += row['weight']\n",
    "    \n",
    "recipe_top_df = pd.DataFrame([\n",
    "    {'recipe': aliases.get(recipe, recipe), 'weight': weight}\n",
    "    for recipe, weight in recipe_top.items()\n",
    "])\n",
    "recipe_top_df.sort_values(by=['weight'], ascending=False, inplace=True)\n",
    "with pd.option_context('display.max_rows', 100):\n",
    "    display(recipe_top_df)\n",
    "recipe_top_df.to_csv('popular_recipes.tsv', sep='\\t')"
   ]
  },
  {
   "cell_type": "code",
   "execution_count": null,
   "metadata": {},
   "outputs": [],
   "source": [
    "known_recipes = [\n",
    "    'recipe/Recipe:borsch',\n",
    "    'charlotte_apple_pie',\n",
    "    'sirniki',\n",
    "    'pizza',\n",
    "    'casserole_generic',\n",
    "    'casserole_tvorog',\n",
    "    'russian_pancakes',\n",
    "    'mannik',\n",
    "    'blini',\n",
    "    'plov',\n",
    "    'okroshka',\n",
    "    'zucchini_spread',\n",
    "    'mimosa_salad',\n",
    "    'kharcho',\n",
    "    'lecho',\n",
    "]"
   ]
  }
 ],
 "metadata": {
  "kernelspec": {
   "display_name": "Python 3",
   "language": "python",
   "name": "python3"
  },
  "language_info": {
   "codemirror_mode": {
    "name": "ipython",
    "version": 3
   },
   "file_extension": ".py",
   "mimetype": "text/x-python",
   "name": "python",
   "nbconvert_exporter": "python",
   "pygments_lexer": "ipython3",
   "version": "3.8.3"
  }
 },
 "nbformat": 4,
 "nbformat_minor": 4
}
