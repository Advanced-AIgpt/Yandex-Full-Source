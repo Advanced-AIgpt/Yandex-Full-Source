{
 "cells": [
  {
   "cell_type": "markdown",
   "metadata": {},
   "source": [
    "### Импортируем необходимые пакеты"
   ]
  },
  {
   "cell_type": "code",
   "execution_count": 1,
   "metadata": {},
   "outputs": [],
   "source": [
    "import pandas as pd\n",
    "import numpy as np\n",
    "import yt.wrapper as yt\n",
    "from tqdm import tqdm\n",
    "\n",
    "from sklearn.metrics import roc_auc_score, precision_score\n",
    "import matplotlib.pyplot as plt\n",
    "\n",
    "%matplotlib inline\n",
    "\n",
    "yt_client = yt.YtClient(proxy='hahn')"
   ]
  },
  {
   "cell_type": "markdown",
   "metadata": {},
   "source": [
    "### Здесь укажите ваше таблицу с разметкой Толоки.\n",
    "Таблица должна содеражть следующие колонки:\n",
    "<br>**dist** -- расстояние, которое вернул Пингвинарий\n",
    "<br>**answer** -- Ответ Толокеров (YES / NO)\n",
    "<br>**confidence** -- уверенность толокеров (0.6 - 1)"
   ]
  },
  {
   "cell_type": "code",
   "execution_count": 2,
   "metadata": {},
   "outputs": [],
   "source": [
    "toloka_marks_table = '//home/mlmarines/datacloud/penguin-diver/alice/d/results_irrelevant_joined'"
   ]
  },
  {
   "cell_type": "markdown",
   "metadata": {},
   "source": [
    "### Загрузим данные"
   ]
  },
  {
   "cell_type": "code",
   "execution_count": 3,
   "metadata": {},
   "outputs": [
    {
     "name": "stderr",
     "output_type": "stream",
     "text": [
      "100%|██████████| 6452/6452 [00:00<00:00, 23766.64it/s]\n"
     ]
    },
    {
     "data": {
      "text/html": [
       "<div>\n",
       "<style scoped>\n",
       "    .dataframe tbody tr th:only-of-type {\n",
       "        vertical-align: middle;\n",
       "    }\n",
       "\n",
       "    .dataframe tbody tr th {\n",
       "        vertical-align: top;\n",
       "    }\n",
       "\n",
       "    .dataframe thead th {\n",
       "        text-align: right;\n",
       "    }\n",
       "</style>\n",
       "<table border=\"1\" class=\"dataframe\">\n",
       "  <thead>\n",
       "    <tr style=\"text-align: right;\">\n",
       "      <th></th>\n",
       "      <th>answer</th>\n",
       "      <th>confidence</th>\n",
       "      <th>dist</th>\n",
       "    </tr>\n",
       "  </thead>\n",
       "  <tbody>\n",
       "    <tr>\n",
       "      <th>0</th>\n",
       "      <td>1</td>\n",
       "      <td>0.8</td>\n",
       "      <td>0.456407</td>\n",
       "    </tr>\n",
       "    <tr>\n",
       "      <th>1</th>\n",
       "      <td>1</td>\n",
       "      <td>0.8</td>\n",
       "      <td>0.456407</td>\n",
       "    </tr>\n",
       "    <tr>\n",
       "      <th>2</th>\n",
       "      <td>1</td>\n",
       "      <td>0.8</td>\n",
       "      <td>0.420760</td>\n",
       "    </tr>\n",
       "    <tr>\n",
       "      <th>3</th>\n",
       "      <td>1</td>\n",
       "      <td>1.0</td>\n",
       "      <td>0.479988</td>\n",
       "    </tr>\n",
       "    <tr>\n",
       "      <th>4</th>\n",
       "      <td>1</td>\n",
       "      <td>1.0</td>\n",
       "      <td>0.456407</td>\n",
       "    </tr>\n",
       "  </tbody>\n",
       "</table>\n",
       "</div>"
      ],
      "text/plain": [
       "   answer  confidence      dist\n",
       "0       1         0.8  0.456407\n",
       "1       1         0.8  0.456407\n",
       "2       1         0.8  0.420760\n",
       "3       1         1.0  0.479988\n",
       "4       1         1.0  0.456407"
      ]
     },
     "execution_count": 3,
     "metadata": {},
     "output_type": "execute_result"
    }
   ],
   "source": [
    "def rows():\n",
    "    recs = yt_client.read_table(toloka_marks_table, enable_read_parallel=True)\n",
    "    nrecs = yt_client.row_count(toloka_marks_table)\n",
    "    \n",
    "    for rec in tqdm(recs, total=nrecs):\n",
    "        if rec['confidence'] is not None:\n",
    "            yield {\n",
    "                'dist': rec['dist'],\n",
    "                'answer': 1 if rec['answer'] == 'YES' else 0,\n",
    "                'confidence': rec['confidence']\n",
    "            }\n",
    "        \n",
    "df = pd.DataFrame(rows())\n",
    "df.head()"
   ]
  },
  {
   "cell_type": "markdown",
   "metadata": {},
   "source": [
    "### Переберем все пороги и посчитаем precision и recall\n",
    "Значения precision положим в **ps**\n",
    "<br>Значения recall положим в **rs**"
   ]
  },
  {
   "cell_type": "code",
   "execution_count": 4,
   "metadata": {},
   "outputs": [
    {
     "name": "stderr",
     "output_type": "stream",
     "text": [
      "100%|██████████| 3325/3325 [00:04<00:00, 774.94it/s]\n"
     ]
    }
   ],
   "source": [
    "ps, rs = [], []\n",
    "n_all = df.shape[0]\n",
    "threshes = np.sort(df.dist.unique())\n",
    "for t in tqdm(threshes):\n",
    "    interesting = df.answer[df.dist <= t]\n",
    "    n_interesting = interesting.shape[0]\n",
    "    \n",
    "    ps.append(interesting.sum() / float(n_interesting))\n",
    "    rs.append(n_interesting / float(n_all))\n",
    "    \n",
    "ps = np.array(ps)\n",
    "rs = np.array(rs)"
   ]
  },
  {
   "cell_type": "markdown",
   "metadata": {},
   "source": [
    "### Нарисуем зависимость Precision от Recall"
   ]
  },
  {
   "cell_type": "code",
   "execution_count": 5,
   "metadata": {},
   "outputs": [
    {
     "data": {
      "image/png": "[encoded data removed]",
      "text/plain": [
       "<Figure size 1080x720 with 1 Axes>"
      ]
     },
     "metadata": {
      "needs_background": "light"
     },
     "output_type": "display_data"
    }
   ],
   "source": [
    "plt.figure(figsize=(15, 10))\n",
    "plt.plot(rs, ps)\n",
    "plt.xlabel('Recall')\n",
    "plt.ylabel('Precision')\n",
    "plt.show()"
   ]
  },
  {
   "cell_type": "markdown",
   "metadata": {},
   "source": [
    "### Подбор порога\n",
    "В следующем блоке кода измените min_precision для получения порога с максимальным recall при precision >= min_precision"
   ]
  },
  {
   "cell_type": "code",
   "execution_count": 6,
   "metadata": {},
   "outputs": [
    {
     "name": "stdout",
     "output_type": "stream",
     "text": [
      "With thresh: 0.508399 recall=0.338549 precision=0.870582\n"
     ]
    }
   ],
   "source": [
    "min_precision = 0.87\n",
    "\n",
    "interestings_idx = ps >= min_precision\n",
    "\n",
    "interesting_ps = ps[interestings_idx]\n",
    "interesting_rs = rs[interestings_idx]\n",
    "interestings_threshes = threshes[interestings_idx]\n",
    "\n",
    "best_recall = np.argmax(interesting_rs)\n",
    "\n",
    "print(\n",
    "    'With thresh: %f recall=%f precision=%f' % (\n",
    "        interestings_threshes[best_recall],\n",
    "        interesting_rs[best_recall],\n",
    "        interesting_ps[best_recall]\n",
    "    )\n",
    ")"
   ]
  }
 ],
 "metadata": {
  "kernelspec": {
   "display_name": "Arcadia kernel",
   "language": "python",
   "name": "datacloud"
  },
  "language_info": {
   "codemirror_mode": {
    "name": "ipython",
    "version": 2
   },
   "file_extension": ".py",
   "mimetype": "text/x-python",
   "name": "python",
   "nbconvert_exporter": "python",
   "pygments_lexer": "ipython2",
   "version": "2.7.16"
  }
 },
 "nbformat": 4,
 "nbformat_minor": 4
}